{
 "cells": [
  {
   "cell_type": "markdown",
   "metadata": {},
   "source": [
    "# 02. Reading data with R"
   ]
  },
  {
   "cell_type": "code",
   "execution_count": null,
   "metadata": {
    "scrolled": false,
    "vscode": {
     "languageId": "r"
    }
   },
   "outputs": [],
   "source": [
    "install.packages(\"tidyverse\")\n",
    "library(tidyverse)\n",
    "use_lintr()"
   ]
  },
  {
   "cell_type": "markdown",
   "metadata": {},
   "source": [
    "## `read_csv`\n",
    "- `read_csv` looks through the first 1000 rows of each column and guesses its data type\n",
    "- You have the option to specify the data type for a column manually\n",
    "by using col_types\n",
    "- read_csv assumes that fields are delineated by commas."
   ]
  },
  {
   "cell_type": "code",
   "execution_count": null,
   "metadata": {
    "scrolled": true,
    "vscode": {
     "languageId": "r"
    }
   },
   "outputs": [],
   "source": [
    "surveys <- read_csv(\"../data_raw/portal_data_joined.csv\")"
   ]
  },
  {
   "cell_type": "code",
   "execution_count": 3,
   "metadata": {
    "vscode": {
     "languageId": "r"
    }
   },
   "outputs": [
    {
     "data": {
      "text/html": [
       "<table class=\"dataframe\">\n",
       "<caption>A tibble: 6 × 13</caption>\n",
       "<thead>\n",
       "\t<tr><th scope=col>record_id</th><th scope=col>month</th><th scope=col>day</th><th scope=col>year</th><th scope=col>plot_id</th><th scope=col>species_id</th><th scope=col>sex</th><th scope=col>hindfoot_length</th><th scope=col>weight</th><th scope=col>genus</th><th scope=col>species</th><th scope=col>taxa</th><th scope=col>plot_type</th></tr>\n",
       "\t<tr><th scope=col>&lt;dbl&gt;</th><th scope=col>&lt;dbl&gt;</th><th scope=col>&lt;dbl&gt;</th><th scope=col>&lt;dbl&gt;</th><th scope=col>&lt;dbl&gt;</th><th scope=col>&lt;chr&gt;</th><th scope=col>&lt;chr&gt;</th><th scope=col>&lt;dbl&gt;</th><th scope=col>&lt;dbl&gt;</th><th scope=col>&lt;chr&gt;</th><th scope=col>&lt;chr&gt;</th><th scope=col>&lt;chr&gt;</th><th scope=col>&lt;chr&gt;</th></tr>\n",
       "</thead>\n",
       "<tbody>\n",
       "\t<tr><td>  1</td><td> 7</td><td>16</td><td>1977</td><td>2</td><td>NL</td><td>M </td><td>32</td><td>NA</td><td>Neotoma</td><td>albigula</td><td>Rodent</td><td>Control</td></tr>\n",
       "\t<tr><td> 72</td><td> 8</td><td>19</td><td>1977</td><td>2</td><td>NL</td><td>M </td><td>31</td><td>NA</td><td>Neotoma</td><td>albigula</td><td>Rodent</td><td>Control</td></tr>\n",
       "\t<tr><td>224</td><td> 9</td><td>13</td><td>1977</td><td>2</td><td>NL</td><td>NA</td><td>NA</td><td>NA</td><td>Neotoma</td><td>albigula</td><td>Rodent</td><td>Control</td></tr>\n",
       "\t<tr><td>266</td><td>10</td><td>16</td><td>1977</td><td>2</td><td>NL</td><td>NA</td><td>NA</td><td>NA</td><td>Neotoma</td><td>albigula</td><td>Rodent</td><td>Control</td></tr>\n",
       "\t<tr><td>349</td><td>11</td><td>12</td><td>1977</td><td>2</td><td>NL</td><td>NA</td><td>NA</td><td>NA</td><td>Neotoma</td><td>albigula</td><td>Rodent</td><td>Control</td></tr>\n",
       "\t<tr><td>363</td><td>11</td><td>12</td><td>1977</td><td>2</td><td>NL</td><td>NA</td><td>NA</td><td>NA</td><td>Neotoma</td><td>albigula</td><td>Rodent</td><td>Control</td></tr>\n",
       "</tbody>\n",
       "</table>\n"
      ],
      "text/latex": [
       "A tibble: 6 × 13\n",
       "\\begin{tabular}{lllllllllllll}\n",
       " record\\_id & month & day & year & plot\\_id & species\\_id & sex & hindfoot\\_length & weight & genus & species & taxa & plot\\_type\\\\\n",
       " <dbl> & <dbl> & <dbl> & <dbl> & <dbl> & <chr> & <chr> & <dbl> & <dbl> & <chr> & <chr> & <chr> & <chr>\\\\\n",
       "\\hline\n",
       "\t   1 &  7 & 16 & 1977 & 2 & NL & M  & 32 & NA & Neotoma & albigula & Rodent & Control\\\\\n",
       "\t  72 &  8 & 19 & 1977 & 2 & NL & M  & 31 & NA & Neotoma & albigula & Rodent & Control\\\\\n",
       "\t 224 &  9 & 13 & 1977 & 2 & NL & NA & NA & NA & Neotoma & albigula & Rodent & Control\\\\\n",
       "\t 266 & 10 & 16 & 1977 & 2 & NL & NA & NA & NA & Neotoma & albigula & Rodent & Control\\\\\n",
       "\t 349 & 11 & 12 & 1977 & 2 & NL & NA & NA & NA & Neotoma & albigula & Rodent & Control\\\\\n",
       "\t 363 & 11 & 12 & 1977 & 2 & NL & NA & NA & NA & Neotoma & albigula & Rodent & Control\\\\\n",
       "\\end{tabular}\n"
      ],
      "text/markdown": [
       "\n",
       "A tibble: 6 × 13\n",
       "\n",
       "| record_id &lt;dbl&gt; | month &lt;dbl&gt; | day &lt;dbl&gt; | year &lt;dbl&gt; | plot_id &lt;dbl&gt; | species_id &lt;chr&gt; | sex &lt;chr&gt; | hindfoot_length &lt;dbl&gt; | weight &lt;dbl&gt; | genus &lt;chr&gt; | species &lt;chr&gt; | taxa &lt;chr&gt; | plot_type &lt;chr&gt; |\n",
       "|---|---|---|---|---|---|---|---|---|---|---|---|---|\n",
       "|   1 |  7 | 16 | 1977 | 2 | NL | M  | 32 | NA | Neotoma | albigula | Rodent | Control |\n",
       "|  72 |  8 | 19 | 1977 | 2 | NL | M  | 31 | NA | Neotoma | albigula | Rodent | Control |\n",
       "| 224 |  9 | 13 | 1977 | 2 | NL | NA | NA | NA | Neotoma | albigula | Rodent | Control |\n",
       "| 266 | 10 | 16 | 1977 | 2 | NL | NA | NA | NA | Neotoma | albigula | Rodent | Control |\n",
       "| 349 | 11 | 12 | 1977 | 2 | NL | NA | NA | NA | Neotoma | albigula | Rodent | Control |\n",
       "| 363 | 11 | 12 | 1977 | 2 | NL | NA | NA | NA | Neotoma | albigula | Rodent | Control |\n",
       "\n"
      ],
      "text/plain": [
       "  record_id month day year plot_id species_id sex hindfoot_length weight\n",
       "1   1        7    16  1977 2       NL         M   32              NA    \n",
       "2  72        8    19  1977 2       NL         M   31              NA    \n",
       "3 224        9    13  1977 2       NL         NA  NA              NA    \n",
       "4 266       10    16  1977 2       NL         NA  NA              NA    \n",
       "5 349       11    12  1977 2       NL         NA  NA              NA    \n",
       "6 363       11    12  1977 2       NL         NA  NA              NA    \n",
       "  genus   species  taxa   plot_type\n",
       "1 Neotoma albigula Rodent Control  \n",
       "2 Neotoma albigula Rodent Control  \n",
       "3 Neotoma albigula Rodent Control  \n",
       "4 Neotoma albigula Rodent Control  \n",
       "5 Neotoma albigula Rodent Control  \n",
       "6 Neotoma albigula Rodent Control  "
      ]
     },
     "metadata": {},
     "output_type": "display_data"
    }
   ],
   "source": [
    "# shows the first 6 rows\n",
    "head(surveys)"
   ]
  },
  {
   "cell_type": "markdown",
   "metadata": {},
   "source": [
    "## What are data frames\n",
    "- Data frames are the de facto data structure for most tabular data, and what we use for statistics and plotting. \n",
    "- A data frame is the reporesentation of data in the format of a table where the columns are vectors that all have the same length. Because columns are vectors, each column must contain a single type of data (e.g., characters, integers, factors)"
   ]
  },
  {
   "cell_type": "code",
   "execution_count": null,
   "metadata": {
    "vscode": {
     "languageId": "r"
    }
   },
   "outputs": [],
   "source": [
    "# returns the structure of a dataframe\n",
    "str(surveys)"
   ]
  },
  {
   "cell_type": "markdown",
   "metadata": {},
   "source": [
    "## Inspecting data frames"
   ]
  },
  {
   "cell_type": "markdown",
   "metadata": {},
   "source": [
    "### Size:"
   ]
  },
  {
   "cell_type": "code",
   "execution_count": null,
   "metadata": {
    "vscode": {
     "languageId": "r"
    }
   },
   "outputs": [],
   "source": [
    "# dimensions of a dataframe\n",
    "dim(surveys)"
   ]
  },
  {
   "cell_type": "code",
   "execution_count": 22,
   "metadata": {
    "vscode": {
     "languageId": "r"
    }
   },
   "outputs": [
    {
     "data": {
      "text/html": [
       "34786"
      ],
      "text/latex": [
       "34786"
      ],
      "text/markdown": [
       "34786"
      ],
      "text/plain": [
       "[1] 34786"
      ]
     },
     "metadata": {},
     "output_type": "display_data"
    }
   ],
   "source": [
    "# returns the number of rows in a data frame passed as an argument\n",
    "nrow(surveys)"
   ]
  },
  {
   "cell_type": "code",
   "execution_count": 23,
   "metadata": {
    "vscode": {
     "languageId": "r"
    }
   },
   "outputs": [
    {
     "data": {
      "text/html": [
       "13"
      ],
      "text/latex": [
       "13"
      ],
      "text/markdown": [
       "13"
      ],
      "text/plain": [
       "[1] 13"
      ]
     },
     "metadata": {},
     "output_type": "display_data"
    }
   ],
   "source": [
    "# returns the number of columns in a data frame passed as an argument\n",
    "ncol(surveys)"
   ]
  },
  {
   "cell_type": "markdown",
   "metadata": {},
   "source": [
    "### Content:"
   ]
  },
  {
   "cell_type": "code",
   "execution_count": 27,
   "metadata": {
    "vscode": {
     "languageId": "r"
    }
   },
   "outputs": [
    {
     "data": {
      "text/html": [
       "<table class=\"dataframe\">\n",
       "<caption>A tibble: 6 × 13</caption>\n",
       "<thead>\n",
       "\t<tr><th scope=col>record_id</th><th scope=col>month</th><th scope=col>day</th><th scope=col>year</th><th scope=col>plot_id</th><th scope=col>species_id</th><th scope=col>sex</th><th scope=col>hindfoot_length</th><th scope=col>weight</th><th scope=col>genus</th><th scope=col>species</th><th scope=col>taxa</th><th scope=col>plot_type</th></tr>\n",
       "\t<tr><th scope=col>&lt;dbl&gt;</th><th scope=col>&lt;dbl&gt;</th><th scope=col>&lt;dbl&gt;</th><th scope=col>&lt;dbl&gt;</th><th scope=col>&lt;dbl&gt;</th><th scope=col>&lt;chr&gt;</th><th scope=col>&lt;chr&gt;</th><th scope=col>&lt;dbl&gt;</th><th scope=col>&lt;dbl&gt;</th><th scope=col>&lt;chr&gt;</th><th scope=col>&lt;chr&gt;</th><th scope=col>&lt;chr&gt;</th><th scope=col>&lt;chr&gt;</th></tr>\n",
       "</thead>\n",
       "<tbody>\n",
       "\t<tr><td>  1</td><td> 7</td><td>16</td><td>1977</td><td>2</td><td>NL</td><td>M </td><td>32</td><td>NA</td><td>Neotoma</td><td>albigula</td><td>Rodent</td><td>Control</td></tr>\n",
       "\t<tr><td> 72</td><td> 8</td><td>19</td><td>1977</td><td>2</td><td>NL</td><td>M </td><td>31</td><td>NA</td><td>Neotoma</td><td>albigula</td><td>Rodent</td><td>Control</td></tr>\n",
       "\t<tr><td>224</td><td> 9</td><td>13</td><td>1977</td><td>2</td><td>NL</td><td>NA</td><td>NA</td><td>NA</td><td>Neotoma</td><td>albigula</td><td>Rodent</td><td>Control</td></tr>\n",
       "\t<tr><td>266</td><td>10</td><td>16</td><td>1977</td><td>2</td><td>NL</td><td>NA</td><td>NA</td><td>NA</td><td>Neotoma</td><td>albigula</td><td>Rodent</td><td>Control</td></tr>\n",
       "\t<tr><td>349</td><td>11</td><td>12</td><td>1977</td><td>2</td><td>NL</td><td>NA</td><td>NA</td><td>NA</td><td>Neotoma</td><td>albigula</td><td>Rodent</td><td>Control</td></tr>\n",
       "\t<tr><td>363</td><td>11</td><td>12</td><td>1977</td><td>2</td><td>NL</td><td>NA</td><td>NA</td><td>NA</td><td>Neotoma</td><td>albigula</td><td>Rodent</td><td>Control</td></tr>\n",
       "</tbody>\n",
       "</table>\n"
      ],
      "text/latex": [
       "A tibble: 6 × 13\n",
       "\\begin{tabular}{lllllllllllll}\n",
       " record\\_id & month & day & year & plot\\_id & species\\_id & sex & hindfoot\\_length & weight & genus & species & taxa & plot\\_type\\\\\n",
       " <dbl> & <dbl> & <dbl> & <dbl> & <dbl> & <chr> & <chr> & <dbl> & <dbl> & <chr> & <chr> & <chr> & <chr>\\\\\n",
       "\\hline\n",
       "\t   1 &  7 & 16 & 1977 & 2 & NL & M  & 32 & NA & Neotoma & albigula & Rodent & Control\\\\\n",
       "\t  72 &  8 & 19 & 1977 & 2 & NL & M  & 31 & NA & Neotoma & albigula & Rodent & Control\\\\\n",
       "\t 224 &  9 & 13 & 1977 & 2 & NL & NA & NA & NA & Neotoma & albigula & Rodent & Control\\\\\n",
       "\t 266 & 10 & 16 & 1977 & 2 & NL & NA & NA & NA & Neotoma & albigula & Rodent & Control\\\\\n",
       "\t 349 & 11 & 12 & 1977 & 2 & NL & NA & NA & NA & Neotoma & albigula & Rodent & Control\\\\\n",
       "\t 363 & 11 & 12 & 1977 & 2 & NL & NA & NA & NA & Neotoma & albigula & Rodent & Control\\\\\n",
       "\\end{tabular}\n"
      ],
      "text/markdown": [
       "\n",
       "A tibble: 6 × 13\n",
       "\n",
       "| record_id &lt;dbl&gt; | month &lt;dbl&gt; | day &lt;dbl&gt; | year &lt;dbl&gt; | plot_id &lt;dbl&gt; | species_id &lt;chr&gt; | sex &lt;chr&gt; | hindfoot_length &lt;dbl&gt; | weight &lt;dbl&gt; | genus &lt;chr&gt; | species &lt;chr&gt; | taxa &lt;chr&gt; | plot_type &lt;chr&gt; |\n",
       "|---|---|---|---|---|---|---|---|---|---|---|---|---|\n",
       "|   1 |  7 | 16 | 1977 | 2 | NL | M  | 32 | NA | Neotoma | albigula | Rodent | Control |\n",
       "|  72 |  8 | 19 | 1977 | 2 | NL | M  | 31 | NA | Neotoma | albigula | Rodent | Control |\n",
       "| 224 |  9 | 13 | 1977 | 2 | NL | NA | NA | NA | Neotoma | albigula | Rodent | Control |\n",
       "| 266 | 10 | 16 | 1977 | 2 | NL | NA | NA | NA | Neotoma | albigula | Rodent | Control |\n",
       "| 349 | 11 | 12 | 1977 | 2 | NL | NA | NA | NA | Neotoma | albigula | Rodent | Control |\n",
       "| 363 | 11 | 12 | 1977 | 2 | NL | NA | NA | NA | Neotoma | albigula | Rodent | Control |\n",
       "\n"
      ],
      "text/plain": [
       "  record_id month day year plot_id species_id sex hindfoot_length weight\n",
       "1   1        7    16  1977 2       NL         M   32              NA    \n",
       "2  72        8    19  1977 2       NL         M   31              NA    \n",
       "3 224        9    13  1977 2       NL         NA  NA              NA    \n",
       "4 266       10    16  1977 2       NL         NA  NA              NA    \n",
       "5 349       11    12  1977 2       NL         NA  NA              NA    \n",
       "6 363       11    12  1977 2       NL         NA  NA              NA    \n",
       "  genus   species  taxa   plot_type\n",
       "1 Neotoma albigula Rodent Control  \n",
       "2 Neotoma albigula Rodent Control  \n",
       "3 Neotoma albigula Rodent Control  \n",
       "4 Neotoma albigula Rodent Control  \n",
       "5 Neotoma albigula Rodent Control  \n",
       "6 Neotoma albigula Rodent Control  "
      ]
     },
     "metadata": {},
     "output_type": "display_data"
    }
   ],
   "source": [
    "# shows the first 6 rows\n",
    "head(surveys)"
   ]
  },
  {
   "cell_type": "code",
   "execution_count": 28,
   "metadata": {
    "vscode": {
     "languageId": "r"
    }
   },
   "outputs": [
    {
     "data": {
      "text/html": [
       "<table class=\"dataframe\">\n",
       "<caption>A tibble: 6 × 13</caption>\n",
       "<thead>\n",
       "\t<tr><th scope=col>record_id</th><th scope=col>month</th><th scope=col>day</th><th scope=col>year</th><th scope=col>plot_id</th><th scope=col>species_id</th><th scope=col>sex</th><th scope=col>hindfoot_length</th><th scope=col>weight</th><th scope=col>genus</th><th scope=col>species</th><th scope=col>taxa</th><th scope=col>plot_type</th></tr>\n",
       "\t<tr><th scope=col>&lt;dbl&gt;</th><th scope=col>&lt;dbl&gt;</th><th scope=col>&lt;dbl&gt;</th><th scope=col>&lt;dbl&gt;</th><th scope=col>&lt;dbl&gt;</th><th scope=col>&lt;chr&gt;</th><th scope=col>&lt;chr&gt;</th><th scope=col>&lt;dbl&gt;</th><th scope=col>&lt;dbl&gt;</th><th scope=col>&lt;chr&gt;</th><th scope=col>&lt;chr&gt;</th><th scope=col>&lt;chr&gt;</th><th scope=col>&lt;chr&gt;</th></tr>\n",
       "</thead>\n",
       "<tbody>\n",
       "\t<tr><td>26787</td><td> 9</td><td>27</td><td>1997</td><td>7</td><td>PL</td><td>F </td><td>21</td><td>16</td><td>Peromyscus </td><td>leucopus</td><td>Rodent</td><td>Rodent Exclosure</td></tr>\n",
       "\t<tr><td>26966</td><td>10</td><td>25</td><td>1997</td><td>7</td><td>PL</td><td>M </td><td>20</td><td>16</td><td>Peromyscus </td><td>leucopus</td><td>Rodent</td><td>Rodent Exclosure</td></tr>\n",
       "\t<tr><td>27185</td><td>11</td><td>22</td><td>1997</td><td>7</td><td>PL</td><td>F </td><td>21</td><td>22</td><td>Peromyscus </td><td>leucopus</td><td>Rodent</td><td>Rodent Exclosure</td></tr>\n",
       "\t<tr><td>27792</td><td> 5</td><td> 2</td><td>1998</td><td>7</td><td>PL</td><td>F </td><td>20</td><td> 8</td><td>Peromyscus </td><td>leucopus</td><td>Rodent</td><td>Rodent Exclosure</td></tr>\n",
       "\t<tr><td>28806</td><td>11</td><td>21</td><td>1998</td><td>7</td><td>PX</td><td>NA</td><td>NA</td><td>NA</td><td>Chaetodipus</td><td>sp.     </td><td>Rodent</td><td>Rodent Exclosure</td></tr>\n",
       "\t<tr><td>30986</td><td> 7</td><td> 1</td><td>2000</td><td>7</td><td>PX</td><td>NA</td><td>NA</td><td>NA</td><td>Chaetodipus</td><td>sp.     </td><td>Rodent</td><td>Rodent Exclosure</td></tr>\n",
       "</tbody>\n",
       "</table>\n"
      ],
      "text/latex": [
       "A tibble: 6 × 13\n",
       "\\begin{tabular}{lllllllllllll}\n",
       " record\\_id & month & day & year & plot\\_id & species\\_id & sex & hindfoot\\_length & weight & genus & species & taxa & plot\\_type\\\\\n",
       " <dbl> & <dbl> & <dbl> & <dbl> & <dbl> & <chr> & <chr> & <dbl> & <dbl> & <chr> & <chr> & <chr> & <chr>\\\\\n",
       "\\hline\n",
       "\t 26787 &  9 & 27 & 1997 & 7 & PL & F  & 21 & 16 & Peromyscus  & leucopus & Rodent & Rodent Exclosure\\\\\n",
       "\t 26966 & 10 & 25 & 1997 & 7 & PL & M  & 20 & 16 & Peromyscus  & leucopus & Rodent & Rodent Exclosure\\\\\n",
       "\t 27185 & 11 & 22 & 1997 & 7 & PL & F  & 21 & 22 & Peromyscus  & leucopus & Rodent & Rodent Exclosure\\\\\n",
       "\t 27792 &  5 &  2 & 1998 & 7 & PL & F  & 20 &  8 & Peromyscus  & leucopus & Rodent & Rodent Exclosure\\\\\n",
       "\t 28806 & 11 & 21 & 1998 & 7 & PX & NA & NA & NA & Chaetodipus & sp.      & Rodent & Rodent Exclosure\\\\\n",
       "\t 30986 &  7 &  1 & 2000 & 7 & PX & NA & NA & NA & Chaetodipus & sp.      & Rodent & Rodent Exclosure\\\\\n",
       "\\end{tabular}\n"
      ],
      "text/markdown": [
       "\n",
       "A tibble: 6 × 13\n",
       "\n",
       "| record_id &lt;dbl&gt; | month &lt;dbl&gt; | day &lt;dbl&gt; | year &lt;dbl&gt; | plot_id &lt;dbl&gt; | species_id &lt;chr&gt; | sex &lt;chr&gt; | hindfoot_length &lt;dbl&gt; | weight &lt;dbl&gt; | genus &lt;chr&gt; | species &lt;chr&gt; | taxa &lt;chr&gt; | plot_type &lt;chr&gt; |\n",
       "|---|---|---|---|---|---|---|---|---|---|---|---|---|\n",
       "| 26787 |  9 | 27 | 1997 | 7 | PL | F  | 21 | 16 | Peromyscus  | leucopus | Rodent | Rodent Exclosure |\n",
       "| 26966 | 10 | 25 | 1997 | 7 | PL | M  | 20 | 16 | Peromyscus  | leucopus | Rodent | Rodent Exclosure |\n",
       "| 27185 | 11 | 22 | 1997 | 7 | PL | F  | 21 | 22 | Peromyscus  | leucopus | Rodent | Rodent Exclosure |\n",
       "| 27792 |  5 |  2 | 1998 | 7 | PL | F  | 20 |  8 | Peromyscus  | leucopus | Rodent | Rodent Exclosure |\n",
       "| 28806 | 11 | 21 | 1998 | 7 | PX | NA | NA | NA | Chaetodipus | sp.      | Rodent | Rodent Exclosure |\n",
       "| 30986 |  7 |  1 | 2000 | 7 | PX | NA | NA | NA | Chaetodipus | sp.      | Rodent | Rodent Exclosure |\n",
       "\n"
      ],
      "text/plain": [
       "  record_id month day year plot_id species_id sex hindfoot_length weight\n",
       "1 26787      9    27  1997 7       PL         F   21              16    \n",
       "2 26966     10    25  1997 7       PL         M   20              16    \n",
       "3 27185     11    22  1997 7       PL         F   21              22    \n",
       "4 27792      5     2  1998 7       PL         F   20               8    \n",
       "5 28806     11    21  1998 7       PX         NA  NA              NA    \n",
       "6 30986      7     1  2000 7       PX         NA  NA              NA    \n",
       "  genus       species  taxa   plot_type       \n",
       "1 Peromyscus  leucopus Rodent Rodent Exclosure\n",
       "2 Peromyscus  leucopus Rodent Rodent Exclosure\n",
       "3 Peromyscus  leucopus Rodent Rodent Exclosure\n",
       "4 Peromyscus  leucopus Rodent Rodent Exclosure\n",
       "5 Chaetodipus sp.      Rodent Rodent Exclosure\n",
       "6 Chaetodipus sp.      Rodent Rodent Exclosure"
      ]
     },
     "metadata": {},
     "output_type": "display_data"
    }
   ],
   "source": [
    "# shows the last 6 rows\n",
    "tail(surveys)"
   ]
  },
  {
   "cell_type": "code",
   "execution_count": 16,
   "metadata": {
    "vscode": {
     "languageId": "r"
    }
   },
   "outputs": [
    {
     "data": {
      "text/html": [
       "<style>\n",
       ".list-inline {list-style: none; margin:0; padding: 0}\n",
       ".list-inline>li {display: inline-block}\n",
       ".list-inline>li:not(:last-child)::after {content: \"\\00b7\"; padding: 0 .5ex}\n",
       "</style>\n",
       "<ol class=list-inline><li>'record_id'</li><li>'month'</li><li>'day'</li><li>'year'</li><li>'plot_id'</li><li>'species_id'</li><li>'sex'</li><li>'hindfoot_length'</li><li>'weight'</li><li>'genus'</li><li>'species'</li><li>'taxa'</li><li>'plot_type'</li></ol>\n"
      ],
      "text/latex": [
       "\\begin{enumerate*}\n",
       "\\item 'record\\_id'\n",
       "\\item 'month'\n",
       "\\item 'day'\n",
       "\\item 'year'\n",
       "\\item 'plot\\_id'\n",
       "\\item 'species\\_id'\n",
       "\\item 'sex'\n",
       "\\item 'hindfoot\\_length'\n",
       "\\item 'weight'\n",
       "\\item 'genus'\n",
       "\\item 'species'\n",
       "\\item 'taxa'\n",
       "\\item 'plot\\_type'\n",
       "\\end{enumerate*}\n"
      ],
      "text/markdown": [
       "1. 'record_id'\n",
       "2. 'month'\n",
       "3. 'day'\n",
       "4. 'year'\n",
       "5. 'plot_id'\n",
       "6. 'species_id'\n",
       "7. 'sex'\n",
       "8. 'hindfoot_length'\n",
       "9. 'weight'\n",
       "10. 'genus'\n",
       "11. 'species'\n",
       "12. 'taxa'\n",
       "13. 'plot_type'\n",
       "\n",
       "\n"
      ],
      "text/plain": [
       " [1] \"record_id\"       \"month\"           \"day\"             \"year\"           \n",
       " [5] \"plot_id\"         \"species_id\"      \"sex\"             \"hindfoot_length\"\n",
       " [9] \"weight\"          \"genus\"           \"species\"         \"taxa\"           \n",
       "[13] \"plot_type\"      "
      ]
     },
     "metadata": {},
     "output_type": "display_data"
    }
   ],
   "source": [
    "# returns names of columns present in a dataframe\n",
    "names(surveys)"
   ]
  },
  {
   "cell_type": "code",
   "execution_count": 17,
   "metadata": {
    "vscode": {
     "languageId": "r"
    }
   },
   "outputs": [
    {
     "data": {
      "text/html": [
       "<style>\n",
       ".list-inline {list-style: none; margin:0; padding: 0}\n",
       ".list-inline>li {display: inline-block}\n",
       ".list-inline>li:not(:last-child)::after {content: \"\\00b7\"; padding: 0 .5ex}\n",
       "</style>\n",
       "<ol class=list-inline><li>'record_id'</li><li>'month'</li><li>'day'</li><li>'year'</li><li>'plot_id'</li><li>'species_id'</li><li>'sex'</li><li>'hindfoot_length'</li><li>'weight'</li><li>'genus'</li><li>'species'</li><li>'taxa'</li><li>'plot_type'</li></ol>\n"
      ],
      "text/latex": [
       "\\begin{enumerate*}\n",
       "\\item 'record\\_id'\n",
       "\\item 'month'\n",
       "\\item 'day'\n",
       "\\item 'year'\n",
       "\\item 'plot\\_id'\n",
       "\\item 'species\\_id'\n",
       "\\item 'sex'\n",
       "\\item 'hindfoot\\_length'\n",
       "\\item 'weight'\n",
       "\\item 'genus'\n",
       "\\item 'species'\n",
       "\\item 'taxa'\n",
       "\\item 'plot\\_type'\n",
       "\\end{enumerate*}\n"
      ],
      "text/markdown": [
       "1. 'record_id'\n",
       "2. 'month'\n",
       "3. 'day'\n",
       "4. 'year'\n",
       "5. 'plot_id'\n",
       "6. 'species_id'\n",
       "7. 'sex'\n",
       "8. 'hindfoot_length'\n",
       "9. 'weight'\n",
       "10. 'genus'\n",
       "11. 'species'\n",
       "12. 'taxa'\n",
       "13. 'plot_type'\n",
       "\n",
       "\n"
      ],
      "text/plain": [
       " [1] \"record_id\"       \"month\"           \"day\"             \"year\"           \n",
       " [5] \"plot_id\"         \"species_id\"      \"sex\"             \"hindfoot_length\"\n",
       " [9] \"weight\"          \"genus\"           \"species\"         \"taxa\"           \n",
       "[13] \"plot_type\"      "
      ]
     },
     "metadata": {},
     "output_type": "display_data"
    }
   ],
   "source": [
    "# exactly the same behavior as names(surveys)\n",
    "colnames(surveys)"
   ]
  },
  {
   "cell_type": "code",
   "execution_count": null,
   "metadata": {
    "vscode": {
     "languageId": "r"
    }
   },
   "outputs": [],
   "source": [
    "# returns names of rows\n",
    "rownames(surveys)"
   ]
  },
  {
   "cell_type": "markdown",
   "metadata": {},
   "source": [
    "### Summary:"
   ]
  },
  {
   "cell_type": "code",
   "execution_count": 19,
   "metadata": {
    "vscode": {
     "languageId": "r"
    }
   },
   "outputs": [
    {
     "data": {
      "text/plain": [
       "   record_id         month             day            year         plot_id     \n",
       " Min.   :    1   Min.   : 1.000   Min.   : 1.0   Min.   :1977   Min.   : 1.00  \n",
       " 1st Qu.: 8964   1st Qu.: 4.000   1st Qu.: 9.0   1st Qu.:1984   1st Qu.: 5.00  \n",
       " Median :17762   Median : 6.000   Median :16.0   Median :1990   Median :11.00  \n",
       " Mean   :17804   Mean   : 6.474   Mean   :16.1   Mean   :1990   Mean   :11.34  \n",
       " 3rd Qu.:26655   3rd Qu.:10.000   3rd Qu.:23.0   3rd Qu.:1997   3rd Qu.:17.00  \n",
       " Max.   :35548   Max.   :12.000   Max.   :31.0   Max.   :2002   Max.   :24.00  \n",
       "                                                                               \n",
       "  species_id            sex            hindfoot_length     weight      \n",
       " Length:34786       Length:34786       Min.   : 2.00   Min.   :  4.00  \n",
       " Class :character   Class :character   1st Qu.:21.00   1st Qu.: 20.00  \n",
       " Mode  :character   Mode  :character   Median :32.00   Median : 37.00  \n",
       "                                       Mean   :29.29   Mean   : 42.67  \n",
       "                                       3rd Qu.:36.00   3rd Qu.: 48.00  \n",
       "                                       Max.   :70.00   Max.   :280.00  \n",
       "                                       NA's   :3348    NA's   :2503    \n",
       "    genus             species              taxa            plot_type        \n",
       " Length:34786       Length:34786       Length:34786       Length:34786      \n",
       " Class :character   Class :character   Class :character   Class :character  \n",
       " Mode  :character   Mode  :character   Mode  :character   Mode  :character  \n",
       "                                                                            \n",
       "                                                                            \n",
       "                                                                            \n",
       "                                                                            "
      ]
     },
     "metadata": {},
     "output_type": "display_data"
    }
   ],
   "source": [
    "# returns summary statistics for each column\n",
    "summary(surveys)"
   ]
  },
  {
   "cell_type": "markdown",
   "metadata": {},
   "source": [
    "Note: most of these functions are \"generic\", they can be used on other types of objects besides `data.frame`"
   ]
  },
  {
   "cell_type": "markdown",
   "metadata": {},
   "source": [
    "### Challenge #1\n",
    "Based on the output of str(surveys), can you answer the following questions?\n",
    "- What is the class of the object surveys?\n",
    "- How many rows and how many columns are in this object?"
   ]
  },
  {
   "cell_type": "code",
   "execution_count": 15,
   "metadata": {
    "vscode": {
     "languageId": "r"
    }
   },
   "outputs": [
    {
     "name": "stdout",
     "output_type": "stream",
     "text": [
      "spec_tbl_df [34,786 × 13] (S3: spec_tbl_df/tbl_df/tbl/data.frame)\n",
      " $ record_id      : num [1:34786] 1 72 224 266 349 363 435 506 588 661 ...\n",
      " $ month          : num [1:34786] 7 8 9 10 11 11 12 1 2 3 ...\n",
      " $ day            : num [1:34786] 16 19 13 16 12 12 10 8 18 11 ...\n",
      " $ year           : num [1:34786] 1977 1977 1977 1977 1977 ...\n",
      " $ plot_id        : num [1:34786] 2 2 2 2 2 2 2 2 2 2 ...\n",
      " $ species_id     : chr [1:34786] \"NL\" \"NL\" \"NL\" \"NL\" ...\n",
      " $ sex            : chr [1:34786] \"M\" \"M\" NA NA ...\n",
      " $ hindfoot_length: num [1:34786] 32 31 NA NA NA NA NA NA NA NA ...\n",
      " $ weight         : num [1:34786] NA NA NA NA NA NA NA NA 218 NA ...\n",
      " $ genus          : chr [1:34786] \"Neotoma\" \"Neotoma\" \"Neotoma\" \"Neotoma\" ...\n",
      " $ species        : chr [1:34786] \"albigula\" \"albigula\" \"albigula\" \"albigula\" ...\n",
      " $ taxa           : chr [1:34786] \"Rodent\" \"Rodent\" \"Rodent\" \"Rodent\" ...\n",
      " $ plot_type      : chr [1:34786] \"Control\" \"Control\" \"Control\" \"Control\" ...\n",
      " - attr(*, \"spec\")=\n",
      "  .. cols(\n",
      "  ..   record_id = \u001b[32mcol_double()\u001b[39m,\n",
      "  ..   month = \u001b[32mcol_double()\u001b[39m,\n",
      "  ..   day = \u001b[32mcol_double()\u001b[39m,\n",
      "  ..   year = \u001b[32mcol_double()\u001b[39m,\n",
      "  ..   plot_id = \u001b[32mcol_double()\u001b[39m,\n",
      "  ..   species_id = \u001b[31mcol_character()\u001b[39m,\n",
      "  ..   sex = \u001b[31mcol_character()\u001b[39m,\n",
      "  ..   hindfoot_length = \u001b[32mcol_double()\u001b[39m,\n",
      "  ..   weight = \u001b[32mcol_double()\u001b[39m,\n",
      "  ..   genus = \u001b[31mcol_character()\u001b[39m,\n",
      "  ..   species = \u001b[31mcol_character()\u001b[39m,\n",
      "  ..   taxa = \u001b[31mcol_character()\u001b[39m,\n",
      "  ..   plot_type = \u001b[31mcol_character()\u001b[39m\n",
      "  .. )\n",
      " - attr(*, \"problems\")=<externalptr> \n"
     ]
    }
   ],
   "source": [
    "str(surveys)"
   ]
  },
  {
   "cell_type": "markdown",
   "metadata": {},
   "source": [
    "Answers:\n",
    "- What is the class of the object surveys?\n",
    "    - data.frame\n",
    "- How many rows and how many columns are in this object?\n",
    "    - 34786 rows and 13 columns"
   ]
  },
  {
   "cell_type": "markdown",
   "metadata": {},
   "source": [
    "## Indexing and subsetting data\n",
    "- Our survey data frame has rows and columns (2 dimensions), if we want to extract some specific data from it, we need to specify the \"coordinates\" we want from it.\n",
    "    - Row number comes first, followed by column numbers.\n",
    "- Different ways of specifying these coordinates lead to results with different classes.\n",
    "\n",
    "### Tibbles\n",
    "- Tibbles are data frames that tweak some older behaviours to make life a little easier.\n",
    "- Tibbles can be created using `tibble()` which will also automatically recycle inputs of length 1, and allows you to refer to variables that you just created, as shown below.\n"
   ]
  },
  {
   "cell_type": "code",
   "execution_count": 13,
   "metadata": {},
   "outputs": [
    {
     "data": {
      "text/html": [
       "<table class=\"dataframe\">\n",
       "<caption>A tibble: 5 × 3</caption>\n",
       "<thead>\n",
       "\t<tr><th scope=col>x</th><th scope=col>y</th><th scope=col>z</th></tr>\n",
       "\t<tr><th scope=col>&lt;int&gt;</th><th scope=col>&lt;dbl&gt;</th><th scope=col>&lt;dbl&gt;</th></tr>\n",
       "</thead>\n",
       "<tbody>\n",
       "\t<tr><td>1</td><td>1</td><td> 2</td></tr>\n",
       "\t<tr><td>2</td><td>1</td><td> 5</td></tr>\n",
       "\t<tr><td>3</td><td>1</td><td>10</td></tr>\n",
       "\t<tr><td>4</td><td>1</td><td>17</td></tr>\n",
       "\t<tr><td>5</td><td>1</td><td>26</td></tr>\n",
       "</tbody>\n",
       "</table>\n"
      ],
      "text/latex": [
       "A tibble: 5 × 3\n",
       "\\begin{tabular}{lll}\n",
       " x & y & z\\\\\n",
       " <int> & <dbl> & <dbl>\\\\\n",
       "\\hline\n",
       "\t 1 & 1 &  2\\\\\n",
       "\t 2 & 1 &  5\\\\\n",
       "\t 3 & 1 & 10\\\\\n",
       "\t 4 & 1 & 17\\\\\n",
       "\t 5 & 1 & 26\\\\\n",
       "\\end{tabular}\n"
      ],
      "text/markdown": [
       "\n",
       "A tibble: 5 × 3\n",
       "\n",
       "| x &lt;int&gt; | y &lt;dbl&gt; | z &lt;dbl&gt; |\n",
       "|---|---|---|\n",
       "| 1 | 1 |  2 |\n",
       "| 2 | 1 |  5 |\n",
       "| 3 | 1 | 10 |\n",
       "| 4 | 1 | 17 |\n",
       "| 5 | 1 | 26 |\n",
       "\n"
      ],
      "text/plain": [
       "  x y z \n",
       "1 1 1  2\n",
       "2 2 1  5\n",
       "3 3 1 10\n",
       "4 4 1 17\n",
       "5 5 1 26"
      ]
     },
     "metadata": {},
     "output_type": "display_data"
    }
   ],
   "source": [
    "tibble(\n",
    "    x = 1:5,\n",
    "    y = 1,\n",
    "    z = x ^ 2 + y\n",
    ")"
   ]
  },
  {
   "cell_type": "markdown",
   "metadata": {},
   "source": [
    "- Another way to create a tibble is with tribble(), which is short for transponed tibble:"
   ]
  },
  {
   "cell_type": "code",
   "execution_count": 14,
   "metadata": {},
   "outputs": [
    {
     "data": {
      "text/html": [
       "<table class=\"dataframe\">\n",
       "<caption>A tibble: 2 × 3</caption>\n",
       "<thead>\n",
       "\t<tr><th scope=col>x</th><th scope=col>y</th><th scope=col>z</th></tr>\n",
       "\t<tr><th scope=col>&lt;chr&gt;</th><th scope=col>&lt;dbl&gt;</th><th scope=col>&lt;dbl&gt;</th></tr>\n",
       "</thead>\n",
       "<tbody>\n",
       "\t<tr><td>a</td><td>2</td><td>3.6</td></tr>\n",
       "\t<tr><td>b</td><td>1</td><td>8.5</td></tr>\n",
       "</tbody>\n",
       "</table>\n"
      ],
      "text/latex": [
       "A tibble: 2 × 3\n",
       "\\begin{tabular}{lll}\n",
       " x & y & z\\\\\n",
       " <chr> & <dbl> & <dbl>\\\\\n",
       "\\hline\n",
       "\t a & 2 & 3.6\\\\\n",
       "\t b & 1 & 8.5\\\\\n",
       "\\end{tabular}\n"
      ],
      "text/markdown": [
       "\n",
       "A tibble: 2 × 3\n",
       "\n",
       "| x &lt;chr&gt; | y &lt;dbl&gt; | z &lt;dbl&gt; |\n",
       "|---|---|---|\n",
       "| a | 2 | 3.6 |\n",
       "| b | 1 | 8.5 |\n",
       "\n"
      ],
      "text/plain": [
       "  x y z  \n",
       "1 a 2 3.6\n",
       "2 b 1 8.5"
      ]
     },
     "metadata": {},
     "output_type": "display_data"
    }
   ],
   "source": [
    "tribble(\n",
    "    ~x, ~y, ~z,\n",
    "    #--|--|----\n",
    "    \"a\", 2, 3.6,\n",
    "    \"b\", 1, 8.5\n",
    ")"
   ]
  },
  {
   "cell_type": "markdown",
   "metadata": {},
   "source": [
    "#### Tibbles vs data.frame\n",
    "- There are two main differences in the usage of a tibble vs. a classic data.frame: printing and subsetting.\n",
    "\n",
    "- **Printing**:\n",
    "    - Tibbles have a refined print method that shows only the first 10 rows, and all the columns that fit on screen. This makes it much easier to work with large data. In addition to its name, each column reports its type, a nice feature borrowed from str()"
   ]
  },
  {
   "cell_type": "code",
   "execution_count": 18,
   "metadata": {},
   "outputs": [
    {
     "name": "stdout",
     "output_type": "stream",
     "text": [
      "\u001b[90m# A tibble: 450 × 3\u001b[39m\n",
      "       a     b     c\n",
      "   \u001b[3m\u001b[90m<int>\u001b[39m\u001b[23m \u001b[3m\u001b[90m<dbl>\u001b[39m\u001b[23m \u001b[3m\u001b[90m<dbl>\u001b[39m\u001b[23m\n",
      "\u001b[90m 1\u001b[39m     1     7  \u001b[4m4\u001b[24m352\n",
      "\u001b[90m 2\u001b[39m     2     7  \u001b[4m4\u001b[24m608\n",
      "\u001b[90m 3\u001b[39m     3     7  \u001b[4m4\u001b[24m864\n",
      "\u001b[90m 4\u001b[39m     4     7  \u001b[4m5\u001b[24m120\n",
      "\u001b[90m 5\u001b[39m     5     7  \u001b[4m5\u001b[24m376\n",
      "\u001b[90m 6\u001b[39m     6     7  \u001b[4m5\u001b[24m632\n",
      "\u001b[90m 7\u001b[39m     7     7  \u001b[4m5\u001b[24m888\n",
      "\u001b[90m 8\u001b[39m     8     7  \u001b[4m6\u001b[24m144\n",
      "\u001b[90m 9\u001b[39m     9     7  \u001b[4m6\u001b[24m400\n",
      "\u001b[90m10\u001b[39m    10     7  \u001b[4m6\u001b[24m656\n",
      "\u001b[90m# … with 440 more rows\u001b[39m\n"
     ]
    }
   ],
   "source": [
    "print(tibble(\n",
    "    a = 1:450,\n",
    "    b = 7,\n",
    "    c = a * 256 + 4096\n",
    "))"
   ]
  },
  {
   "cell_type": "markdown",
   "metadata": {},
   "source": [
    "- in case you want to print more than the first 10 rows or certain columns, you can use the `print()` function with additional parameters.\n",
    "    - `n` is the number of rows you wish to print.\n",
    "    - `width` is the number of columns to display.\n",
    "        - Inf to display all columns.\n",
    "- Additional options: <a href=\"https://r4ds.had.co.nz/tibbles.html\">more information</a>"
   ]
  },
  {
   "cell_type": "code",
   "execution_count": 26,
   "metadata": {},
   "outputs": [
    {
     "name": "stdout",
     "output_type": "stream",
     "text": [
      "\u001b[90m# A tibble: 34,786 × 13\u001b[39m\n",
      "  record_id month   day  year plot_id species_id sex   hindfoot_length weight\n",
      "      \u001b[3m\u001b[90m<dbl>\u001b[39m\u001b[23m \u001b[3m\u001b[90m<dbl>\u001b[39m\u001b[23m \u001b[3m\u001b[90m<dbl>\u001b[39m\u001b[23m \u001b[3m\u001b[90m<dbl>\u001b[39m\u001b[23m   \u001b[3m\u001b[90m<dbl>\u001b[39m\u001b[23m \u001b[3m\u001b[90m<chr>\u001b[39m\u001b[23m      \u001b[3m\u001b[90m<chr>\u001b[39m\u001b[23m           \u001b[3m\u001b[90m<dbl>\u001b[39m\u001b[23m  \u001b[3m\u001b[90m<dbl>\u001b[39m\u001b[23m\n",
      "\u001b[90m1\u001b[39m         1     7    16  \u001b[4m1\u001b[24m977       2 NL         M                  32     \u001b[31mNA\u001b[39m\n",
      "\u001b[90m2\u001b[39m        72     8    19  \u001b[4m1\u001b[24m977       2 NL         M                  31     \u001b[31mNA\u001b[39m\n",
      "\u001b[90m3\u001b[39m       224     9    13  \u001b[4m1\u001b[24m977       2 NL         \u001b[31mNA\u001b[39m                 \u001b[31mNA\u001b[39m     \u001b[31mNA\u001b[39m\n",
      "\u001b[90m4\u001b[39m       266    10    16  \u001b[4m1\u001b[24m977       2 NL         \u001b[31mNA\u001b[39m                 \u001b[31mNA\u001b[39m     \u001b[31mNA\u001b[39m\n",
      "  genus   species  taxa   plot_type\n",
      "  \u001b[3m\u001b[90m<chr>\u001b[39m\u001b[23m   \u001b[3m\u001b[90m<chr>\u001b[39m\u001b[23m    \u001b[3m\u001b[90m<chr>\u001b[39m\u001b[23m  \u001b[3m\u001b[90m<chr>\u001b[39m\u001b[23m    \n",
      "\u001b[90m1\u001b[39m Neotoma albigula Rodent Control  \n",
      "\u001b[90m2\u001b[39m Neotoma albigula Rodent Control  \n",
      "\u001b[90m3\u001b[39m Neotoma albigula Rodent Control  \n",
      "\u001b[90m4\u001b[39m Neotoma albigula Rodent Control  \n",
      "\u001b[90m# … with 34,782 more rows\u001b[39m\n"
     ]
    }
   ],
   "source": [
    "surveys %>% print(n = 4, width = Inf)"
   ]
  },
  {
   "cell_type": "markdown",
   "metadata": {},
   "source": [
    "- **Subsetting**\n",
    "    - If you want to pull out a single variable (a vector with data from cells that are the intersection where a certain column and row meet), you need some new tools:\n",
    "        - `$`\n",
    "            - Only extracts by name but it is a little less typing.\n",
    "        - `[[`\n",
    "            - You can extract by name or position."
   ]
  },
  {
   "cell_type": "code",
   "execution_count": 33,
   "metadata": {
    "scrolled": true
   },
   "outputs": [
    {
     "data": {
      "text/html": [
       "<style>\n",
       ".list-inline {list-style: none; margin:0; padding: 0}\n",
       ".list-inline>li {display: inline-block}\n",
       ".list-inline>li:not(:last-child)::after {content: \"\\00b7\"; padding: 0 .5ex}\n",
       "</style>\n",
       "<ol class=list-inline><li>'Peromyscus'</li><li>'Peromyscus'</li><li>'Peromyscus'</li><li>'Peromyscus'</li><li>'Chaetodipus'</li><li>'Chaetodipus'</li></ol>\n"
      ],
      "text/latex": [
       "\\begin{enumerate*}\n",
       "\\item 'Peromyscus'\n",
       "\\item 'Peromyscus'\n",
       "\\item 'Peromyscus'\n",
       "\\item 'Peromyscus'\n",
       "\\item 'Chaetodipus'\n",
       "\\item 'Chaetodipus'\n",
       "\\end{enumerate*}\n"
      ],
      "text/markdown": [
       "1. 'Peromyscus'\n",
       "2. 'Peromyscus'\n",
       "3. 'Peromyscus'\n",
       "4. 'Peromyscus'\n",
       "5. 'Chaetodipus'\n",
       "6. 'Chaetodipus'\n",
       "\n",
       "\n"
      ],
      "text/plain": [
       "[1] \"Peromyscus\"  \"Peromyscus\"  \"Peromyscus\"  \"Peromyscus\"  \"Chaetodipus\"\n",
       "[6] \"Chaetodipus\""
      ]
     },
     "metadata": {},
     "output_type": "display_data"
    }
   ],
   "source": [
    "# Extracting by name using $:\n",
    "tail(surveys$genus)"
   ]
  },
  {
   "cell_type": "code",
   "execution_count": 37,
   "metadata": {},
   "outputs": [
    {
     "data": {
      "text/html": [
       "<style>\n",
       ".list-inline {list-style: none; margin:0; padding: 0}\n",
       ".list-inline>li {display: inline-block}\n",
       ".list-inline>li:not(:last-child)::after {content: \"\\00b7\"; padding: 0 .5ex}\n",
       "</style>\n",
       "<ol class=list-inline><li>'Peromyscus'</li><li>'Peromyscus'</li><li>'Peromyscus'</li><li>'Peromyscus'</li><li>'Chaetodipus'</li><li>'Chaetodipus'</li></ol>\n"
      ],
      "text/latex": [
       "\\begin{enumerate*}\n",
       "\\item 'Peromyscus'\n",
       "\\item 'Peromyscus'\n",
       "\\item 'Peromyscus'\n",
       "\\item 'Peromyscus'\n",
       "\\item 'Chaetodipus'\n",
       "\\item 'Chaetodipus'\n",
       "\\end{enumerate*}\n"
      ],
      "text/markdown": [
       "1. 'Peromyscus'\n",
       "2. 'Peromyscus'\n",
       "3. 'Peromyscus'\n",
       "4. 'Peromyscus'\n",
       "5. 'Chaetodipus'\n",
       "6. 'Chaetodipus'\n",
       "\n",
       "\n"
      ],
      "text/plain": [
       "[1] \"Peromyscus\"  \"Peromyscus\"  \"Peromyscus\"  \"Peromyscus\"  \"Chaetodipus\"\n",
       "[6] \"Chaetodipus\""
      ]
     },
     "metadata": {},
     "output_type": "display_data"
    }
   ],
   "source": [
    "# Extracting by name using [[:\n",
    "tail(surveys[[\"genus\"]])\n"
   ]
  },
  {
   "cell_type": "markdown",
   "metadata": {},
   "source": [
    "  - to use these in a pipe, you'll need to use the special placeholder `.`:"
   ]
  },
  {
   "cell_type": "code",
   "execution_count": 5,
   "metadata": {},
   "outputs": [
    {
     "data": {
      "text/html": [
       "<style>\n",
       ".list-inline {list-style: none; margin:0; padding: 0}\n",
       ".list-inline>li {display: inline-block}\n",
       ".list-inline>li:not(:last-child)::after {content: \"\\00b7\"; padding: 0 .5ex}\n",
       "</style>\n",
       "<ol class=list-inline><li>'Neotoma'</li><li>'Neotoma'</li><li>'Neotoma'</li><li>'Neotoma'</li><li>'Neotoma'</li><li>'Neotoma'</li></ol>\n"
      ],
      "text/latex": [
       "\\begin{enumerate*}\n",
       "\\item 'Neotoma'\n",
       "\\item 'Neotoma'\n",
       "\\item 'Neotoma'\n",
       "\\item 'Neotoma'\n",
       "\\item 'Neotoma'\n",
       "\\item 'Neotoma'\n",
       "\\end{enumerate*}\n"
      ],
      "text/markdown": [
       "1. 'Neotoma'\n",
       "2. 'Neotoma'\n",
       "3. 'Neotoma'\n",
       "4. 'Neotoma'\n",
       "5. 'Neotoma'\n",
       "6. 'Neotoma'\n",
       "\n",
       "\n"
      ],
      "text/plain": [
       "[1] \"Neotoma\" \"Neotoma\" \"Neotoma\" \"Neotoma\" \"Neotoma\" \"Neotoma\""
      ]
     },
     "metadata": {},
     "output_type": "display_data"
    }
   ],
   "source": [
    "# using $\n",
    "head(surveys %>% .$genus)"
   ]
  },
  {
   "cell_type": "code",
   "execution_count": 6,
   "metadata": {},
   "outputs": [
    {
     "data": {
      "text/html": [
       "<style>\n",
       ".list-inline {list-style: none; margin:0; padding: 0}\n",
       ".list-inline>li {display: inline-block}\n",
       ".list-inline>li:not(:last-child)::after {content: \"\\00b7\"; padding: 0 .5ex}\n",
       "</style>\n",
       "<ol class=list-inline><li>'Neotoma'</li><li>'Neotoma'</li><li>'Neotoma'</li><li>'Neotoma'</li><li>'Neotoma'</li><li>'Neotoma'</li></ol>\n"
      ],
      "text/latex": [
       "\\begin{enumerate*}\n",
       "\\item 'Neotoma'\n",
       "\\item 'Neotoma'\n",
       "\\item 'Neotoma'\n",
       "\\item 'Neotoma'\n",
       "\\item 'Neotoma'\n",
       "\\item 'Neotoma'\n",
       "\\end{enumerate*}\n"
      ],
      "text/markdown": [
       "1. 'Neotoma'\n",
       "2. 'Neotoma'\n",
       "3. 'Neotoma'\n",
       "4. 'Neotoma'\n",
       "5. 'Neotoma'\n",
       "6. 'Neotoma'\n",
       "\n",
       "\n"
      ],
      "text/plain": [
       "[1] \"Neotoma\" \"Neotoma\" \"Neotoma\" \"Neotoma\" \"Neotoma\" \"Neotoma\""
      ]
     },
     "metadata": {},
     "output_type": "display_data"
    }
   ],
   "source": [
    "# using [[\n",
    "head(surveys %>% .[[\"genus\"]])"
   ]
  },
  {
   "cell_type": "markdown",
   "metadata": {},
   "source": [
    "#### Interacting with older code\n",
    "- Some older function don'ty work with tibbles. If you encounter one of these functions, use `as.data.frame()` to turn a tibble back to a `data.frame`.\n",
    "    - The main reason that some older functions don't work with tibble is the `[` function. We don't use `[` much in this book because of `dplyr::filter()` and `dplyer::select()` allow you to solve the same problems with clearer code. \n",
    "    - With base R data frames, `[` sometimes returns a data frame and sometimes returns a vector. With tibble, `[` always returns another tibble."
   ]
  },
  {
   "cell_type": "markdown",
   "metadata": {},
   "source": [
    "#### Exercises:\n",
    "1. How can you tell is an object is a tibble?\n",
    "    - the function print() used on a tibble returns only the first 10 rows.\n",
    "        - Additionally print() used on a tibble shows information about the data type of a certain column.\n",
    "2. Compare and contrast the following operations on a `data.frame` and equivalent tibble. What is different? Why might the default data frame behaviour cause you frustration?"
   ]
  },
  {
   "cell_type": "code",
   "execution_count": 16,
   "metadata": {},
   "outputs": [
    {
     "name": "stdout",
     "output_type": "stream",
     "text": [
      "  abc xyz\n",
      "1   1   a\n",
      "[1] 1\n"
     ]
    }
   ],
   "source": [
    "df <- data.frame(abc = 1, xyz = \"a\")\n",
    "\n",
    "print(df)\n",
    "\n",
    "# - even though a column with the name x does not exist using print \n",
    "# in this fashion doesn't throw an error\n",
    "print(df$a)"
   ]
  },
  {
   "cell_type": "code",
   "execution_count": 15,
   "metadata": {},
   "outputs": [
    {
     "data": {
      "text/html": [
       "'a'"
      ],
      "text/latex": [
       "'a'"
      ],
      "text/markdown": [
       "'a'"
      ],
      "text/plain": [
       "[1] \"a\""
      ]
     },
     "metadata": {},
     "output_type": "display_data"
    }
   ],
   "source": [
    "# extracting data from a data frame in this way returns a single element.\n",
    "df[,\"xyz\"]"
   ]
  },
  {
   "cell_type": "code",
   "execution_count": 18,
   "metadata": {},
   "outputs": [
    {
     "data": {
      "text/html": [
       "<table class=\"dataframe\">\n",
       "<caption>A data.frame: 1 × 2</caption>\n",
       "<thead>\n",
       "\t<tr><th scope=col>abc</th><th scope=col>xyz</th></tr>\n",
       "\t<tr><th scope=col>&lt;dbl&gt;</th><th scope=col>&lt;chr&gt;</th></tr>\n",
       "</thead>\n",
       "<tbody>\n",
       "\t<tr><td>1</td><td>a</td></tr>\n",
       "</tbody>\n",
       "</table>\n"
      ],
      "text/latex": [
       "A data.frame: 1 × 2\n",
       "\\begin{tabular}{ll}\n",
       " abc & xyz\\\\\n",
       " <dbl> & <chr>\\\\\n",
       "\\hline\n",
       "\t 1 & a\\\\\n",
       "\\end{tabular}\n"
      ],
      "text/markdown": [
       "\n",
       "A data.frame: 1 × 2\n",
       "\n",
       "| abc &lt;dbl&gt; | xyz &lt;chr&gt; |\n",
       "|---|---|\n",
       "| 1 | a |\n",
       "\n"
      ],
      "text/plain": [
       "  abc xyz\n",
       "1 1   a  "
      ]
     },
     "metadata": {},
     "output_type": "display_data"
    }
   ],
   "source": [
    "# extracting data from a data frame in this way returns a data frame.\n",
    "df[,c(\"abc\", \"xyz\")]"
   ]
  },
  {
   "cell_type": "markdown",
   "metadata": {},
   "source": [
    "3. If you have the name of a variable stored in an object, e.g. `var <- \"mpg\"`, how can you extract the reference variable from a tibble?"
   ]
  },
  {
   "cell_type": "code",
   "execution_count": 20,
   "metadata": {},
   "outputs": [],
   "source": [
    "var <- \"mpg\""
   ]
  },
  {
   "cell_type": "code",
   "execution_count": 23,
   "metadata": {},
   "outputs": [],
   "source": [
    "mtcars_tibble <- as_tibble(mtcars)"
   ]
  },
  {
   "cell_type": "code",
   "execution_count": 27,
   "metadata": {},
   "outputs": [
    {
     "data": {
      "text/html": [
       "<style>\n",
       ".list-inline {list-style: none; margin:0; padding: 0}\n",
       ".list-inline>li {display: inline-block}\n",
       ".list-inline>li:not(:last-child)::after {content: \"\\00b7\"; padding: 0 .5ex}\n",
       "</style>\n",
       "<ol class=list-inline><li>21</li><li>21</li><li>22.8</li><li>21.4</li><li>18.7</li><li>18.1</li><li>14.3</li><li>24.4</li><li>22.8</li><li>19.2</li><li>17.8</li><li>16.4</li><li>17.3</li><li>15.2</li><li>10.4</li><li>10.4</li><li>14.7</li><li>32.4</li><li>30.4</li><li>33.9</li><li>21.5</li><li>15.5</li><li>15.2</li><li>13.3</li><li>19.2</li><li>27.3</li><li>26</li><li>30.4</li><li>15.8</li><li>19.7</li><li>15</li><li>21.4</li></ol>\n"
      ],
      "text/latex": [
       "\\begin{enumerate*}\n",
       "\\item 21\n",
       "\\item 21\n",
       "\\item 22.8\n",
       "\\item 21.4\n",
       "\\item 18.7\n",
       "\\item 18.1\n",
       "\\item 14.3\n",
       "\\item 24.4\n",
       "\\item 22.8\n",
       "\\item 19.2\n",
       "\\item 17.8\n",
       "\\item 16.4\n",
       "\\item 17.3\n",
       "\\item 15.2\n",
       "\\item 10.4\n",
       "\\item 10.4\n",
       "\\item 14.7\n",
       "\\item 32.4\n",
       "\\item 30.4\n",
       "\\item 33.9\n",
       "\\item 21.5\n",
       "\\item 15.5\n",
       "\\item 15.2\n",
       "\\item 13.3\n",
       "\\item 19.2\n",
       "\\item 27.3\n",
       "\\item 26\n",
       "\\item 30.4\n",
       "\\item 15.8\n",
       "\\item 19.7\n",
       "\\item 15\n",
       "\\item 21.4\n",
       "\\end{enumerate*}\n"
      ],
      "text/markdown": [
       "1. 21\n",
       "2. 21\n",
       "3. 22.8\n",
       "4. 21.4\n",
       "5. 18.7\n",
       "6. 18.1\n",
       "7. 14.3\n",
       "8. 24.4\n",
       "9. 22.8\n",
       "10. 19.2\n",
       "11. 17.8\n",
       "12. 16.4\n",
       "13. 17.3\n",
       "14. 15.2\n",
       "15. 10.4\n",
       "16. 10.4\n",
       "17. 14.7\n",
       "18. 32.4\n",
       "19. 30.4\n",
       "20. 33.9\n",
       "21. 21.5\n",
       "22. 15.5\n",
       "23. 15.2\n",
       "24. 13.3\n",
       "25. 19.2\n",
       "26. 27.3\n",
       "27. 26\n",
       "28. 30.4\n",
       "29. 15.8\n",
       "30. 19.7\n",
       "31. 15\n",
       "32. 21.4\n",
       "\n",
       "\n"
      ],
      "text/plain": [
       " [1] 21.0 21.0 22.8 21.4 18.7 18.1 14.3 24.4 22.8 19.2 17.8 16.4 17.3 15.2 10.4\n",
       "[16] 10.4 14.7 32.4 30.4 33.9 21.5 15.5 15.2 13.3 19.2 27.3 26.0 30.4 15.8 19.7\n",
       "[31] 15.0 21.4"
      ]
     },
     "metadata": {},
     "output_type": "display_data"
    }
   ],
   "source": [
    "# using [[\n",
    "mtcars_tibble %>% .[[var]]"
   ]
  },
  {
   "cell_type": "code",
   "execution_count": 46,
   "metadata": {},
   "outputs": [
    {
     "data": {
      "text/html": [
       "<style>\n",
       ".list-inline {list-style: none; margin:0; padding: 0}\n",
       ".list-inline>li {display: inline-block}\n",
       ".list-inline>li:not(:last-child)::after {content: \"\\00b7\"; padding: 0 .5ex}\n",
       "</style>\n",
       "<ol class=list-inline><li>21</li><li>21</li><li>22.8</li><li>21.4</li><li>18.7</li><li>18.1</li><li>14.3</li><li>24.4</li><li>22.8</li><li>19.2</li><li>17.8</li><li>16.4</li><li>17.3</li><li>15.2</li><li>10.4</li><li>10.4</li><li>14.7</li><li>32.4</li><li>30.4</li><li>33.9</li><li>21.5</li><li>15.5</li><li>15.2</li><li>13.3</li><li>19.2</li><li>27.3</li><li>26</li><li>30.4</li><li>15.8</li><li>19.7</li><li>15</li><li>21.4</li></ol>\n"
      ],
      "text/latex": [
       "\\begin{enumerate*}\n",
       "\\item 21\n",
       "\\item 21\n",
       "\\item 22.8\n",
       "\\item 21.4\n",
       "\\item 18.7\n",
       "\\item 18.1\n",
       "\\item 14.3\n",
       "\\item 24.4\n",
       "\\item 22.8\n",
       "\\item 19.2\n",
       "\\item 17.8\n",
       "\\item 16.4\n",
       "\\item 17.3\n",
       "\\item 15.2\n",
       "\\item 10.4\n",
       "\\item 10.4\n",
       "\\item 14.7\n",
       "\\item 32.4\n",
       "\\item 30.4\n",
       "\\item 33.9\n",
       "\\item 21.5\n",
       "\\item 15.5\n",
       "\\item 15.2\n",
       "\\item 13.3\n",
       "\\item 19.2\n",
       "\\item 27.3\n",
       "\\item 26\n",
       "\\item 30.4\n",
       "\\item 15.8\n",
       "\\item 19.7\n",
       "\\item 15\n",
       "\\item 21.4\n",
       "\\end{enumerate*}\n"
      ],
      "text/markdown": [
       "1. 21\n",
       "2. 21\n",
       "3. 22.8\n",
       "4. 21.4\n",
       "5. 18.7\n",
       "6. 18.1\n",
       "7. 14.3\n",
       "8. 24.4\n",
       "9. 22.8\n",
       "10. 19.2\n",
       "11. 17.8\n",
       "12. 16.4\n",
       "13. 17.3\n",
       "14. 15.2\n",
       "15. 10.4\n",
       "16. 10.4\n",
       "17. 14.7\n",
       "18. 32.4\n",
       "19. 30.4\n",
       "20. 33.9\n",
       "21. 21.5\n",
       "22. 15.5\n",
       "23. 15.2\n",
       "24. 13.3\n",
       "25. 19.2\n",
       "26. 27.3\n",
       "27. 26\n",
       "28. 30.4\n",
       "29. 15.8\n",
       "30. 19.7\n",
       "31. 15\n",
       "32. 21.4\n",
       "\n",
       "\n"
      ],
      "text/plain": [
       " [1] 21.0 21.0 22.8 21.4 18.7 18.1 14.3 24.4 22.8 19.2 17.8 16.4 17.3 15.2 10.4\n",
       "[16] 10.4 14.7 32.4 30.4 33.9 21.5 15.5 15.2 13.3 19.2 27.3 26.0 30.4 15.8 19.7\n",
       "[31] 15.0 21.4"
      ]
     },
     "metadata": {},
     "output_type": "display_data"
    }
   ],
   "source": [
    "# using pull() from dplyr\n",
    "# pull() extracts a column as a vector\n",
    "mtcars_tibble %>% pull(var)"
   ]
  },
  {
   "cell_type": "markdown",
   "metadata": {},
   "source": [
    "4. Practive referring to non-syntactic names in the following data frame by:\n",
    "    1. Extracting the variable called 1."
   ]
  },
  {
   "cell_type": "code",
   "execution_count": 47,
   "metadata": {},
   "outputs": [],
   "source": [
    "# Data frame required for answering the forth question\n",
    "annoying <- tibble(\n",
    "  `1` = 1:10,\n",
    "  `2` = `1` * 2 + rnorm(length(`1`))\n",
    ")"
   ]
  },
  {
   "cell_type": "code",
   "execution_count": 53,
   "metadata": {},
   "outputs": [
    {
     "data": {
      "text/html": [
       "<style>\n",
       ".list-inline {list-style: none; margin:0; padding: 0}\n",
       ".list-inline>li {display: inline-block}\n",
       ".list-inline>li:not(:last-child)::after {content: \"\\00b7\"; padding: 0 .5ex}\n",
       "</style>\n",
       "<ol class=list-inline><li>1</li><li>2</li><li>3</li><li>4</li><li>5</li><li>6</li><li>7</li><li>8</li><li>9</li><li>10</li></ol>\n"
      ],
      "text/latex": [
       "\\begin{enumerate*}\n",
       "\\item 1\n",
       "\\item 2\n",
       "\\item 3\n",
       "\\item 4\n",
       "\\item 5\n",
       "\\item 6\n",
       "\\item 7\n",
       "\\item 8\n",
       "\\item 9\n",
       "\\item 10\n",
       "\\end{enumerate*}\n"
      ],
      "text/markdown": [
       "1. 1\n",
       "2. 2\n",
       "3. 3\n",
       "4. 4\n",
       "5. 5\n",
       "6. 6\n",
       "7. 7\n",
       "8. 8\n",
       "9. 9\n",
       "10. 10\n",
       "\n",
       "\n"
      ],
      "text/plain": [
       " [1]  1  2  3  4  5  6  7  8  9 10"
      ]
     },
     "metadata": {},
     "output_type": "display_data"
    },
    {
     "data": {
      "text/html": [
       "<style>\n",
       ".list-inline {list-style: none; margin:0; padding: 0}\n",
       ".list-inline>li {display: inline-block}\n",
       ".list-inline>li:not(:last-child)::after {content: \"\\00b7\"; padding: 0 .5ex}\n",
       "</style>\n",
       "<ol class=list-inline><li>1</li><li>2</li><li>3</li><li>4</li><li>5</li><li>6</li><li>7</li><li>8</li><li>9</li><li>10</li></ol>\n"
      ],
      "text/latex": [
       "\\begin{enumerate*}\n",
       "\\item 1\n",
       "\\item 2\n",
       "\\item 3\n",
       "\\item 4\n",
       "\\item 5\n",
       "\\item 6\n",
       "\\item 7\n",
       "\\item 8\n",
       "\\item 9\n",
       "\\item 10\n",
       "\\end{enumerate*}\n"
      ],
      "text/markdown": [
       "1. 1\n",
       "2. 2\n",
       "3. 3\n",
       "4. 4\n",
       "5. 5\n",
       "6. 6\n",
       "7. 7\n",
       "8. 8\n",
       "9. 9\n",
       "10. 10\n",
       "\n",
       "\n"
      ],
      "text/plain": [
       " [1]  1  2  3  4  5  6  7  8  9 10"
      ]
     },
     "metadata": {},
     "output_type": "display_data"
    },
    {
     "data": {
      "text/html": [
       "<style>\n",
       ".list-inline {list-style: none; margin:0; padding: 0}\n",
       ".list-inline>li {display: inline-block}\n",
       ".list-inline>li:not(:last-child)::after {content: \"\\00b7\"; padding: 0 .5ex}\n",
       "</style>\n",
       "<ol class=list-inline><li>1</li><li>2</li><li>3</li><li>4</li><li>5</li><li>6</li><li>7</li><li>8</li><li>9</li><li>10</li></ol>\n"
      ],
      "text/latex": [
       "\\begin{enumerate*}\n",
       "\\item 1\n",
       "\\item 2\n",
       "\\item 3\n",
       "\\item 4\n",
       "\\item 5\n",
       "\\item 6\n",
       "\\item 7\n",
       "\\item 8\n",
       "\\item 9\n",
       "\\item 10\n",
       "\\end{enumerate*}\n"
      ],
      "text/markdown": [
       "1. 1\n",
       "2. 2\n",
       "3. 3\n",
       "4. 4\n",
       "5. 5\n",
       "6. 6\n",
       "7. 7\n",
       "8. 8\n",
       "9. 9\n",
       "10. 10\n",
       "\n",
       "\n"
      ],
      "text/plain": [
       " [1]  1  2  3  4  5  6  7  8  9 10"
      ]
     },
     "metadata": {},
     "output_type": "display_data"
    }
   ],
   "source": [
    "# Three ways of extracting the variable called `1`\n",
    "annoying %>% pull(\"1\")\n",
    "annoying[[\"1\"]]\n",
    "annoying$\"1\""
   ]
  },
  {
   "cell_type": "markdown",
   "metadata": {},
   "source": [
    "    B. Plotting a scatterplot of 1 vs 2."
   ]
  },
  {
   "cell_type": "code",
   "execution_count": 64,
   "metadata": {},
   "outputs": [
    {
     "data": {
      "image/png": "[encoded data removed]",
      "text/plain": [
       "Plot with title \"Scatterplot of variables 1 and 2\""
      ]
     },
     "metadata": {
      "image/png": {
       "height": 420,
       "width": 420
      }
     },
     "output_type": "display_data"
    }
   ],
   "source": [
    "plot(annoying, \"1\", \"2\", main = \"Scatterplot of variables 1 and 2\")"
   ]
  },
  {
   "cell_type": "markdown",
   "metadata": {},
   "source": [
    "    C. Creating a new column called 3 which is 2 divided by 1."
   ]
  },
  {
   "cell_type": "code",
   "execution_count": 68,
   "metadata": {},
   "outputs": [],
   "source": [
    "annoying$\"3\" <- annoying$\"2\" / annoying$\"1\""
   ]
  },
  {
   "cell_type": "code",
   "execution_count": 69,
   "metadata": {},
   "outputs": [
    {
     "data": {
      "text/html": [
       "<style>\n",
       ".list-inline {list-style: none; margin:0; padding: 0}\n",
       ".list-inline>li {display: inline-block}\n",
       ".list-inline>li:not(:last-child)::after {content: \"\\00b7\"; padding: 0 .5ex}\n",
       "</style>\n",
       "<ol class=list-inline><li>1.02671154582927</li><li>2.5964840666539</li><li>1.46374655608573</li><li>2.30612684014898</li><li>1.89494379432619</li><li>2.10583111961388</li><li>2.2037802576648</li><li>2.30770769461496</li><li>1.87941729357183</li><li>2.05849873515505</li></ol>\n"
      ],
      "text/latex": [
       "\\begin{enumerate*}\n",
       "\\item 1.02671154582927\n",
       "\\item 2.5964840666539\n",
       "\\item 1.46374655608573\n",
       "\\item 2.30612684014898\n",
       "\\item 1.89494379432619\n",
       "\\item 2.10583111961388\n",
       "\\item 2.2037802576648\n",
       "\\item 2.30770769461496\n",
       "\\item 1.87941729357183\n",
       "\\item 2.05849873515505\n",
       "\\end{enumerate*}\n"
      ],
      "text/markdown": [
       "1. 1.02671154582927\n",
       "2. 2.5964840666539\n",
       "3. 1.46374655608573\n",
       "4. 2.30612684014898\n",
       "5. 1.89494379432619\n",
       "6. 2.10583111961388\n",
       "7. 2.2037802576648\n",
       "8. 2.30770769461496\n",
       "9. 1.87941729357183\n",
       "10. 2.05849873515505\n",
       "\n",
       "\n"
      ],
      "text/plain": [
       " [1] 1.026712 2.596484 1.463747 2.306127 1.894944 2.105831 2.203780 2.307708\n",
       " [9] 1.879417 2.058499"
      ]
     },
     "metadata": {},
     "output_type": "display_data"
    }
   ],
   "source": [
    "annoying %>% pull(\"3\")"
   ]
  },
  {
   "cell_type": "code",
   "execution_count": 70,
   "metadata": {},
   "outputs": [
    {
     "data": {
      "text/html": [
       "<table class=\"dataframe\">\n",
       "<caption>A tibble: 10 × 3</caption>\n",
       "<thead>\n",
       "\t<tr><th scope=col>1</th><th scope=col>2</th><th scope=col>3</th></tr>\n",
       "\t<tr><th scope=col>&lt;int&gt;</th><th scope=col>&lt;dbl&gt;</th><th scope=col>&lt;dbl&gt;</th></tr>\n",
       "</thead>\n",
       "<tbody>\n",
       "\t<tr><td> 1</td><td> 1.026712</td><td>1.026712</td></tr>\n",
       "\t<tr><td> 2</td><td> 5.192968</td><td>2.596484</td></tr>\n",
       "\t<tr><td> 3</td><td> 4.391240</td><td>1.463747</td></tr>\n",
       "\t<tr><td> 4</td><td> 9.224507</td><td>2.306127</td></tr>\n",
       "\t<tr><td> 5</td><td> 9.474719</td><td>1.894944</td></tr>\n",
       "\t<tr><td> 6</td><td>12.634987</td><td>2.105831</td></tr>\n",
       "\t<tr><td> 7</td><td>15.426462</td><td>2.203780</td></tr>\n",
       "\t<tr><td> 8</td><td>18.461662</td><td>2.307708</td></tr>\n",
       "\t<tr><td> 9</td><td>16.914756</td><td>1.879417</td></tr>\n",
       "\t<tr><td>10</td><td>20.584987</td><td>2.058499</td></tr>\n",
       "</tbody>\n",
       "</table>\n"
      ],
      "text/latex": [
       "A tibble: 10 × 3\n",
       "\\begin{tabular}{lll}\n",
       " 1 & 2 & 3\\\\\n",
       " <int> & <dbl> & <dbl>\\\\\n",
       "\\hline\n",
       "\t  1 &  1.026712 & 1.026712\\\\\n",
       "\t  2 &  5.192968 & 2.596484\\\\\n",
       "\t  3 &  4.391240 & 1.463747\\\\\n",
       "\t  4 &  9.224507 & 2.306127\\\\\n",
       "\t  5 &  9.474719 & 1.894944\\\\\n",
       "\t  6 & 12.634987 & 2.105831\\\\\n",
       "\t  7 & 15.426462 & 2.203780\\\\\n",
       "\t  8 & 18.461662 & 2.307708\\\\\n",
       "\t  9 & 16.914756 & 1.879417\\\\\n",
       "\t 10 & 20.584987 & 2.058499\\\\\n",
       "\\end{tabular}\n"
      ],
      "text/markdown": [
       "\n",
       "A tibble: 10 × 3\n",
       "\n",
       "| 1 &lt;int&gt; | 2 &lt;dbl&gt; | 3 &lt;dbl&gt; |\n",
       "|---|---|---|\n",
       "|  1 |  1.026712 | 1.026712 |\n",
       "|  2 |  5.192968 | 2.596484 |\n",
       "|  3 |  4.391240 | 1.463747 |\n",
       "|  4 |  9.224507 | 2.306127 |\n",
       "|  5 |  9.474719 | 1.894944 |\n",
       "|  6 | 12.634987 | 2.105831 |\n",
       "|  7 | 15.426462 | 2.203780 |\n",
       "|  8 | 18.461662 | 2.307708 |\n",
       "|  9 | 16.914756 | 1.879417 |\n",
       "| 10 | 20.584987 | 2.058499 |\n",
       "\n"
      ],
      "text/plain": [
       "   1  2         3       \n",
       "1   1  1.026712 1.026712\n",
       "2   2  5.192968 2.596484\n",
       "3   3  4.391240 1.463747\n",
       "4   4  9.224507 2.306127\n",
       "5   5  9.474719 1.894944\n",
       "6   6 12.634987 2.105831\n",
       "7   7 15.426462 2.203780\n",
       "8   8 18.461662 2.307708\n",
       "9   9 16.914756 1.879417\n",
       "10 10 20.584987 2.058499"
      ]
     },
     "metadata": {},
     "output_type": "display_data"
    }
   ],
   "source": [
    "annoying"
   ]
  },
  {
   "cell_type": "markdown",
   "metadata": {},
   "source": [
    "    D. Renaming the colums to one, two and three."
   ]
  },
  {
   "cell_type": "code",
   "execution_count": null,
   "metadata": {},
   "outputs": [],
   "source": [
    "setnames(annoying, \n",
    "        old = c(\"1\", \"2\", \"3\"),\n",
    "        new = c(\"one\", \"two\", \"three\"))\n",
    "\n",
    "# alternative method\n",
    "\n",
    "# rename (data.frame, newColName = oldColName ...)\n",
    "\n",
    "# rename(annoying, \n",
    "#    \"one\" = \"1\",\n",
    "#    \"two\" = \"2\", \n",
    "#    \"three\" = \"3\"\n",
    "# )"
   ]
  },
  {
   "cell_type": "code",
   "execution_count": 99,
   "metadata": {},
   "outputs": [
    {
     "data": {
      "text/html": [
       "<table class=\"dataframe\">\n",
       "<caption>A tibble: 10 × 3</caption>\n",
       "<thead>\n",
       "\t<tr><th scope=col>one</th><th scope=col>two</th><th scope=col>three</th></tr>\n",
       "\t<tr><th scope=col>&lt;int&gt;</th><th scope=col>&lt;dbl&gt;</th><th scope=col>&lt;dbl&gt;</th></tr>\n",
       "</thead>\n",
       "<tbody>\n",
       "\t<tr><td> 1</td><td> 1.026712</td><td>1.026712</td></tr>\n",
       "\t<tr><td> 2</td><td> 5.192968</td><td>2.596484</td></tr>\n",
       "\t<tr><td> 3</td><td> 4.391240</td><td>1.463747</td></tr>\n",
       "\t<tr><td> 4</td><td> 9.224507</td><td>2.306127</td></tr>\n",
       "\t<tr><td> 5</td><td> 9.474719</td><td>1.894944</td></tr>\n",
       "\t<tr><td> 6</td><td>12.634987</td><td>2.105831</td></tr>\n",
       "\t<tr><td> 7</td><td>15.426462</td><td>2.203780</td></tr>\n",
       "\t<tr><td> 8</td><td>18.461662</td><td>2.307708</td></tr>\n",
       "\t<tr><td> 9</td><td>16.914756</td><td>1.879417</td></tr>\n",
       "\t<tr><td>10</td><td>20.584987</td><td>2.058499</td></tr>\n",
       "</tbody>\n",
       "</table>\n"
      ],
      "text/latex": [
       "A tibble: 10 × 3\n",
       "\\begin{tabular}{lll}\n",
       " one & two & three\\\\\n",
       " <int> & <dbl> & <dbl>\\\\\n",
       "\\hline\n",
       "\t  1 &  1.026712 & 1.026712\\\\\n",
       "\t  2 &  5.192968 & 2.596484\\\\\n",
       "\t  3 &  4.391240 & 1.463747\\\\\n",
       "\t  4 &  9.224507 & 2.306127\\\\\n",
       "\t  5 &  9.474719 & 1.894944\\\\\n",
       "\t  6 & 12.634987 & 2.105831\\\\\n",
       "\t  7 & 15.426462 & 2.203780\\\\\n",
       "\t  8 & 18.461662 & 2.307708\\\\\n",
       "\t  9 & 16.914756 & 1.879417\\\\\n",
       "\t 10 & 20.584987 & 2.058499\\\\\n",
       "\\end{tabular}\n"
      ],
      "text/markdown": [
       "\n",
       "A tibble: 10 × 3\n",
       "\n",
       "| one &lt;int&gt; | two &lt;dbl&gt; | three &lt;dbl&gt; |\n",
       "|---|---|---|\n",
       "|  1 |  1.026712 | 1.026712 |\n",
       "|  2 |  5.192968 | 2.596484 |\n",
       "|  3 |  4.391240 | 1.463747 |\n",
       "|  4 |  9.224507 | 2.306127 |\n",
       "|  5 |  9.474719 | 1.894944 |\n",
       "|  6 | 12.634987 | 2.105831 |\n",
       "|  7 | 15.426462 | 2.203780 |\n",
       "|  8 | 18.461662 | 2.307708 |\n",
       "|  9 | 16.914756 | 1.879417 |\n",
       "| 10 | 20.584987 | 2.058499 |\n",
       "\n"
      ],
      "text/plain": [
       "   one two       three   \n",
       "1   1   1.026712 1.026712\n",
       "2   2   5.192968 2.596484\n",
       "3   3   4.391240 1.463747\n",
       "4   4   9.224507 2.306127\n",
       "5   5   9.474719 1.894944\n",
       "6   6  12.634987 2.105831\n",
       "7   7  15.426462 2.203780\n",
       "8   8  18.461662 2.307708\n",
       "9   9  16.914756 1.879417\n",
       "10 10  20.584987 2.058499"
      ]
     },
     "metadata": {},
     "output_type": "display_data"
    }
   ],
   "source": [
    "annoying"
   ]
  },
  {
   "cell_type": "markdown",
   "metadata": {},
   "source": [
    "5. What does `tibble::enframe()` do? When might you use it?\n",
    "    - `enframe()` converts name atomic (logical, integer, real, complex, string(or character) and raw) vectors or list to one or two-column data frames.\n",
    "        - For a list the result will be a nested tibble with a column of type list.\n",
    "        - For unnamed vectors, the natural sequence is used as name column.\n",
    "        - Syntax:\n",
    "            - `enframe(x, name = \"name\", value = \"value\")`\n",
    "                - `x` is a vector\n",
    "                - `name` is the name of the first column (used for enumerating observations)\n",
    "                    - if `name` is NULL, a one column tibble is returned.\n",
    "                - `value` is the name of the second column (used as a variable for holding values).\n",
    "                    - `value` cannot be empty.\n",
    "                    - if omited, the name of the column that holds the values will be named \"value\".\n",
    "    - <a href=\"https://tibble.tidyverse.org/reference/enframe.html\">Link to reference</a>\n",
    "                    \n",
    "Examples for enframe():"
   ]
  },
  {
   "cell_type": "code",
   "execution_count": 104,
   "metadata": {},
   "outputs": [],
   "source": [
    "temp_vector <- c(1:5)"
   ]
  },
  {
   "cell_type": "code",
   "execution_count": 109,
   "metadata": {},
   "outputs": [
    {
     "data": {
      "text/html": [
       "<table class=\"dataframe\">\n",
       "<caption>A tibble: 5 × 2</caption>\n",
       "<thead>\n",
       "\t<tr><th scope=col>first column</th><th scope=col>second column</th></tr>\n",
       "\t<tr><th scope=col>&lt;int&gt;</th><th scope=col>&lt;int&gt;</th></tr>\n",
       "</thead>\n",
       "<tbody>\n",
       "\t<tr><td>1</td><td>1</td></tr>\n",
       "\t<tr><td>2</td><td>2</td></tr>\n",
       "\t<tr><td>3</td><td>3</td></tr>\n",
       "\t<tr><td>4</td><td>4</td></tr>\n",
       "\t<tr><td>5</td><td>5</td></tr>\n",
       "</tbody>\n",
       "</table>\n"
      ],
      "text/latex": [
       "A tibble: 5 × 2\n",
       "\\begin{tabular}{ll}\n",
       " first column & second column\\\\\n",
       " <int> & <int>\\\\\n",
       "\\hline\n",
       "\t 1 & 1\\\\\n",
       "\t 2 & 2\\\\\n",
       "\t 3 & 3\\\\\n",
       "\t 4 & 4\\\\\n",
       "\t 5 & 5\\\\\n",
       "\\end{tabular}\n"
      ],
      "text/markdown": [
       "\n",
       "A tibble: 5 × 2\n",
       "\n",
       "| first column &lt;int&gt; | second column &lt;int&gt; |\n",
       "|---|---|\n",
       "| 1 | 1 |\n",
       "| 2 | 2 |\n",
       "| 3 | 3 |\n",
       "| 4 | 4 |\n",
       "| 5 | 5 |\n",
       "\n"
      ],
      "text/plain": [
       "  first column second column\n",
       "1 1            1            \n",
       "2 2            2            \n",
       "3 3            3            \n",
       "4 4            4            \n",
       "5 5            5            "
      ]
     },
     "metadata": {},
     "output_type": "display_data"
    }
   ],
   "source": [
    "# with all arguments present and not NULL\n",
    "enframe(temp_vector, name = \"first column\", value = \"second column\")"
   ]
  },
  {
   "cell_type": "code",
   "execution_count": 112,
   "metadata": {},
   "outputs": [
    {
     "data": {
      "text/html": [
       "<table class=\"dataframe\">\n",
       "<caption>A tibble: 5 × 2</caption>\n",
       "<thead>\n",
       "\t<tr><th scope=col>name</th><th scope=col>column_x</th></tr>\n",
       "\t<tr><th scope=col>&lt;int&gt;</th><th scope=col>&lt;int&gt;</th></tr>\n",
       "</thead>\n",
       "<tbody>\n",
       "\t<tr><td>1</td><td>1</td></tr>\n",
       "\t<tr><td>2</td><td>2</td></tr>\n",
       "\t<tr><td>3</td><td>3</td></tr>\n",
       "\t<tr><td>4</td><td>4</td></tr>\n",
       "\t<tr><td>5</td><td>5</td></tr>\n",
       "</tbody>\n",
       "</table>\n"
      ],
      "text/latex": [
       "A tibble: 5 × 2\n",
       "\\begin{tabular}{ll}\n",
       " name & column\\_x\\\\\n",
       " <int> & <int>\\\\\n",
       "\\hline\n",
       "\t 1 & 1\\\\\n",
       "\t 2 & 2\\\\\n",
       "\t 3 & 3\\\\\n",
       "\t 4 & 4\\\\\n",
       "\t 5 & 5\\\\\n",
       "\\end{tabular}\n"
      ],
      "text/markdown": [
       "\n",
       "A tibble: 5 × 2\n",
       "\n",
       "| name &lt;int&gt; | column_x &lt;int&gt; |\n",
       "|---|---|\n",
       "| 1 | 1 |\n",
       "| 2 | 2 |\n",
       "| 3 | 3 |\n",
       "| 4 | 4 |\n",
       "| 5 | 5 |\n",
       "\n"
      ],
      "text/plain": [
       "  name column_x\n",
       "1 1    1       \n",
       "2 2    2       \n",
       "3 3    3       \n",
       "4 4    4       \n",
       "5 5    5       "
      ]
     },
     "metadata": {},
     "output_type": "display_data"
    }
   ],
   "source": [
    "# with name = NULL\n",
    "# - name is set to \"name\"\n",
    "enframe(temp_vector, value=\"column_x\")"
   ]
  },
  {
   "cell_type": "code",
   "execution_count": 113,
   "metadata": {},
   "outputs": [
    {
     "data": {
      "text/html": [
       "<table class=\"dataframe\">\n",
       "<caption>A tibble: 5 × 2</caption>\n",
       "<thead>\n",
       "\t<tr><th scope=col>name</th><th scope=col>value</th></tr>\n",
       "\t<tr><th scope=col>&lt;int&gt;</th><th scope=col>&lt;int&gt;</th></tr>\n",
       "</thead>\n",
       "<tbody>\n",
       "\t<tr><td>1</td><td>1</td></tr>\n",
       "\t<tr><td>2</td><td>2</td></tr>\n",
       "\t<tr><td>3</td><td>3</td></tr>\n",
       "\t<tr><td>4</td><td>4</td></tr>\n",
       "\t<tr><td>5</td><td>5</td></tr>\n",
       "</tbody>\n",
       "</table>\n"
      ],
      "text/latex": [
       "A tibble: 5 × 2\n",
       "\\begin{tabular}{ll}\n",
       " name & value\\\\\n",
       " <int> & <int>\\\\\n",
       "\\hline\n",
       "\t 1 & 1\\\\\n",
       "\t 2 & 2\\\\\n",
       "\t 3 & 3\\\\\n",
       "\t 4 & 4\\\\\n",
       "\t 5 & 5\\\\\n",
       "\\end{tabular}\n"
      ],
      "text/markdown": [
       "\n",
       "A tibble: 5 × 2\n",
       "\n",
       "| name &lt;int&gt; | value &lt;int&gt; |\n",
       "|---|---|\n",
       "| 1 | 1 |\n",
       "| 2 | 2 |\n",
       "| 3 | 3 |\n",
       "| 4 | 4 |\n",
       "| 5 | 5 |\n",
       "\n"
      ],
      "text/plain": [
       "  name value\n",
       "1 1    1    \n",
       "2 2    2    \n",
       "3 3    3    \n",
       "4 4    4    \n",
       "5 5    5    "
      ]
     },
     "metadata": {},
     "output_type": "display_data"
    }
   ],
   "source": [
    "# only vector present\n",
    "# - name is set to \"name\" and value is set to \"value\"\n",
    "enframe(temp_vector)"
   ]
  },
  {
   "cell_type": "markdown",
   "metadata": {},
   "source": [
    "- `deframe(x)`\n",
    "    - Converts two-column data frames to a named vector or list, using the first column as name and the second column as value.\n",
    "        - If the input has only one column, an unnamed vector is returned.\n",
    "        - Syntax:\n",
    "            - `deframe(x)`\n",
    "                - `x` is a data frame with one or two columns.\n",
    "        - Returns a <a href=\"https://rpubs.com/sowmya21jan/338762\">named vector</a> of length equal with the number of rows present in the original data frame where every element is a pair (name, value) for each row if there are two columns in original data frame, if not returns an unnamed vector.\n",
    "                \n",
    "Examples for `deframe()`:"
   ]
  },
  {
   "cell_type": "code",
   "execution_count": 144,
   "metadata": {},
   "outputs": [],
   "source": [
    "temp_tibble_for_deframe <- tibble(\n",
    "    first_column = \"f\",\n",
    "    second_column = c(1:5)\n",
    ")"
   ]
  },
  {
   "cell_type": "code",
   "execution_count": 171,
   "metadata": {},
   "outputs": [
    {
     "name": "stdout",
     "output_type": "stream",
     "text": [
      "f f f f f \n",
      "1 2 3 4 5 \n"
     ]
    }
   ],
   "source": [
    "deframed_tibble <- deframe(temp_tibble_for_deframe)\n",
    "print(deframed_tibble)"
   ]
  },
  {
   "cell_type": "code",
   "execution_count": 152,
   "metadata": {},
   "outputs": [
    {
     "data": {
      "text/html": [
       "<style>\n",
       ".list-inline {list-style: none; margin:0; padding: 0}\n",
       ".list-inline>li {display: inline-block}\n",
       ".list-inline>li:not(:last-child)::after {content: \"\\00b7\"; padding: 0 .5ex}\n",
       "</style>\n",
       "<ol class=list-inline><li>'f'</li><li>'f'</li><li>'f'</li><li>'f'</li><li>'f'</li></ol>\n"
      ],
      "text/latex": [
       "\\begin{enumerate*}\n",
       "\\item 'f'\n",
       "\\item 'f'\n",
       "\\item 'f'\n",
       "\\item 'f'\n",
       "\\item 'f'\n",
       "\\end{enumerate*}\n"
      ],
      "text/markdown": [
       "1. 'f'\n",
       "2. 'f'\n",
       "3. 'f'\n",
       "4. 'f'\n",
       "5. 'f'\n",
       "\n",
       "\n"
      ],
      "text/plain": [
       "[1] \"f\" \"f\" \"f\" \"f\" \"f\""
      ]
     },
     "metadata": {},
     "output_type": "display_data"
    }
   ],
   "source": [
    "# to access the names of each element in a named vector:\n",
    "names(deframed_tibble)"
   ]
  },
  {
   "cell_type": "code",
   "execution_count": 155,
   "metadata": {},
   "outputs": [
    {
     "data": {
      "text/html": [
       "<style>\n",
       ".list-inline {list-style: none; margin:0; padding: 0}\n",
       ".list-inline>li {display: inline-block}\n",
       ".list-inline>li:not(:last-child)::after {content: \"\\00b7\"; padding: 0 .5ex}\n",
       "</style>\n",
       "<ol class=list-inline><li>1</li><li>2</li><li>3</li><li>4</li><li>5</li></ol>\n"
      ],
      "text/latex": [
       "\\begin{enumerate*}\n",
       "\\item 1\n",
       "\\item 2\n",
       "\\item 3\n",
       "\\item 4\n",
       "\\item 5\n",
       "\\end{enumerate*}\n"
      ],
      "text/markdown": [
       "1. 1\n",
       "2. 2\n",
       "3. 3\n",
       "4. 4\n",
       "5. 5\n",
       "\n",
       "\n"
      ],
      "text/plain": [
       "[1] 1 2 3 4 5"
      ]
     },
     "metadata": {},
     "output_type": "display_data"
    }
   ],
   "source": [
    "# to access the values of each element in a named vector:\n",
    "unname(deframed_tibble)"
   ]
  },
  {
   "cell_type": "code",
   "execution_count": 172,
   "metadata": {},
   "outputs": [
    {
     "name": "stdout",
     "output_type": "stream",
     "text": [
      "[1] \"Before:\"\n",
      "f f f f f \n",
      "1 2 3 4 5 \n",
      "[1] \"After:\"\n",
      "   f    f    f    f    f \n",
      "1000 2000 3000    4    5 \n"
     ]
    }
   ],
   "source": [
    "# replacing values of elements in a named vector\n",
    "print(\"Before:\")\n",
    "print(deframed_tibble)\n",
    "deframed_tibble[c(1:3)] = c(1000, 2000, 3000)\n",
    "print(\"After:\")\n",
    "print(deframed_tibble)"
   ]
  },
  {
   "cell_type": "code",
   "execution_count": 173,
   "metadata": {},
   "outputs": [
    {
     "name": "stdout",
     "output_type": "stream",
     "text": [
      "[1] \"Before:\"\n",
      "   f    f    f    f    f \n",
      "1000 2000 3000    4    5 \n",
      "[1] \"After:\"\n",
      "Alpha  Beta Gamma     f     f \n",
      " 1000  2000  3000     4     5 \n"
     ]
    }
   ],
   "source": [
    "# replacing names of elements present in a named vector\n",
    "print(\"Before:\")\n",
    "print(deframed_tibble)\n",
    "names(deframed_tibble)[c(1:3)] <- c(\"Alpha\", \"Beta\", \"Gamma\")\n",
    "print(\"After:\")\n",
    "print(deframed_tibble)"
   ]
  },
  {
   "cell_type": "code",
   "execution_count": 178,
   "metadata": {},
   "outputs": [
    {
     "name": "stdout",
     "output_type": "stream",
     "text": [
      " Beta Gamma Alpha     f     f \n",
      " 2000  3000  1000     5     4 \n"
     ]
    }
   ],
   "source": [
    "# arranging elements in specific order based on indexes/positions\n",
    "print(deframed_tibble[c(2,3,1,5,4)])"
   ]
  },
  {
   "cell_type": "code",
   "execution_count": 179,
   "metadata": {},
   "outputs": [
    {
     "name": "stdout",
     "output_type": "stream",
     "text": [
      "    f Alpha  Beta Gamma     f \n",
      "    4  1000  2000  3000     4 \n"
     ]
    }
   ],
   "source": [
    "# arranging elements in specific order based on names of elements\n",
    "print(deframed_tibble[c(\"f\", \"Alpha\", \"Beta\", \"Gamma\", \"f\")])"
   ]
  },
  {
   "cell_type": "code",
   "execution_count": 181,
   "metadata": {},
   "outputs": [
    {
     "name": "stdout",
     "output_type": "stream",
     "text": [
      "    f     f Gamma  Beta Alpha \n",
      "    5     4  3000  2000  1000 \n"
     ]
    }
   ],
   "source": [
    "# reversing order named vector\n",
    "print(rev(deframed_tibble))"
   ]
  },
  {
   "cell_type": "code",
   "execution_count": 191,
   "metadata": {},
   "outputs": [
    {
     "name": "stdout",
     "output_type": "stream",
     "text": [
      "Alpha  Beta     f     f Gamma \n",
      " 1000  2000     4     4  3000 \n"
     ]
    }
   ],
   "source": [
    "# arrange elements in alphabetical order of names\n",
    "print(deframed_tibble[sort(names(deframed_tibble))])"
   ]
  },
  {
   "cell_type": "code",
   "execution_count": 192,
   "metadata": {},
   "outputs": [
    {
     "name": "stdout",
     "output_type": "stream",
     "text": [
      "    f     f Alpha  Beta Gamma \n",
      "    4     5  1000  2000  3000 \n"
     ]
    }
   ],
   "source": [
    "# arranging elements in ascending order of values\n",
    "print(deframed_tibble[order(deframed_tibble, decreasing = FALSE)])"
   ]
  },
  {
   "cell_type": "code",
   "execution_count": 194,
   "metadata": {},
   "outputs": [
    {
     "name": "stdout",
     "output_type": "stream",
     "text": [
      "Gamma  Beta Alpha     f     f \n",
      " 3000  2000  1000     5     4 \n"
     ]
    }
   ],
   "source": [
    "# arranging elements in descending order of values\n",
    "print(deframed_tibble[order(deframed_tibble, decreasing = TRUE)])"
   ]
  },
  {
   "cell_type": "code",
   "execution_count": 202,
   "metadata": {},
   "outputs": [
    {
     "name": "stdout",
     "output_type": "stream",
     "text": [
      "[1] \"Missing values:\"\n",
      "\n",
      "FALSE  TRUE \n",
      "    3     2 \n",
      "[1] \"Named vector with missing values set to 0:\"\n",
      "Alpha  Beta Gamma     f     f \n",
      "    0     0  3000     4     5 \n"
     ]
    }
   ],
   "source": [
    "# setting missing values:\n",
    "deframed_tibble[c(1,2)] <- NA\n",
    "\n",
    "# printing a table of missing values:\n",
    "print(\"Missing values:\")\n",
    "print(table(is.na(deframed_tibble)))\n",
    "\n",
    "# replacing missing values\n",
    "deframed_tibble[is.na(deframed_tibble)] <- 0\n",
    "\n",
    "# printing deframed tibble\n",
    "print(\"Named vector with missing values set to 0:\")\n",
    "print(deframed_tibble)"
   ]
  },
  {
   "cell_type": "markdown",
   "metadata": {},
   "source": [
    "An example where deframe() returns an unnamed vector:"
   ]
  },
  {
   "cell_type": "code",
   "execution_count": 208,
   "metadata": {},
   "outputs": [],
   "source": [
    "# creating a data frame with only one column (value)\n",
    "temp_tibble_for_deframe <- tibble (\n",
    "    value = 1:5\n",
    ")"
   ]
  },
  {
   "cell_type": "code",
   "execution_count": 209,
   "metadata": {},
   "outputs": [
    {
     "name": "stdout",
     "output_type": "stream",
     "text": [
      "\u001b[90m# A tibble: 5 × 1\u001b[39m\n",
      "  value\n",
      "  \u001b[3m\u001b[90m<int>\u001b[39m\u001b[23m\n",
      "\u001b[90m1\u001b[39m     1\n",
      "\u001b[90m2\u001b[39m     2\n",
      "\u001b[90m3\u001b[39m     3\n",
      "\u001b[90m4\u001b[39m     4\n",
      "\u001b[90m5\u001b[39m     5\n"
     ]
    }
   ],
   "source": [
    "print(temp_tibble_for_deframe)"
   ]
  },
  {
   "cell_type": "code",
   "execution_count": 211,
   "metadata": {},
   "outputs": [
    {
     "name": "stdout",
     "output_type": "stream",
     "text": [
      "[1] 1 2 3 4 5\n"
     ]
    }
   ],
   "source": [
    "# deframe(temp_tibble_for_deframe) returns an unnamed numerical vector.\n",
    "print(deframe(temp_tibble_for_deframe))"
   ]
  },
  {
   "cell_type": "markdown",
   "metadata": {},
   "source": [
    "6. What option controls how many additional column names are printed at the footer of a tibble?\n",
    "    - The width parameter present in the print() function."
   ]
  },
  {
   "cell_type": "code",
   "execution_count": null,
   "metadata": {},
   "outputs": [],
   "source": []
  }
 ],
 "metadata": {
  "kernelspec": {
   "display_name": "R",
   "language": "R",
   "name": "ir"
  },
  "language_info": {
   "codemirror_mode": "r",
   "file_extension": ".r",
   "mimetype": "text/x-r-source",
   "name": "R",
   "pygments_lexer": "r",
   "version": "4.2.1"
  },
  "vscode": {
   "interpreter": {
    "hash": "e1a1742cee150d6bc6dc333beb0112920bf46a54197eddbeddb0439d4e623b52"
   }
  }
 },
 "nbformat": 4,
 "nbformat_minor": 2
}
