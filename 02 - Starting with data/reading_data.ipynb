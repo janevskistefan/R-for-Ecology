{
 "cells": [
  {
   "cell_type": "markdown",
   "metadata": {},
   "source": [
    "## Reading data with R"
   ]
  },
  {
   "cell_type": "code",
   "execution_count": null,
   "metadata": {
    "vscode": {
     "languageId": "r"
    }
   },
   "outputs": [],
   "source": [
    "install.packages(\"tidyverse\")\n",
    "library(tidyverse)"
   ]
  },
  {
   "cell_type": "markdown",
   "metadata": {},
   "source": [
    "### `read_csv`\n",
    "- `read_csv` looks through the first 1000 rows of each column and guesses its data type\n",
    "- You have the option to specify the data type for a column manually\n",
    "by using col_types\n",
    "- read_csv assumes that fields are delineated by commas."
   ]
  },
  {
   "cell_type": "code",
   "execution_count": null,
   "metadata": {
    "vscode": {
     "languageId": "r"
    }
   },
   "outputs": [],
   "source": [
    "surveys <- read_csv(\"../data_raw/portal_data_joined.csv\")"
   ]
  },
  {
   "cell_type": "code",
   "execution_count": 5,
   "metadata": {
    "vscode": {
     "languageId": "r"
    }
   },
   "outputs": [
    {
     "data": {
      "text/html": [
       "<table class=\"dataframe\">\n",
       "<caption>A tibble: 6 × 13</caption>\n",
       "<thead>\n",
       "\t<tr><th scope=col>record_id</th><th scope=col>month</th><th scope=col>day</th><th scope=col>year</th><th scope=col>plot_id</th><th scope=col>species_id</th><th scope=col>sex</th><th scope=col>hindfoot_length</th><th scope=col>weight</th><th scope=col>genus</th><th scope=col>species</th><th scope=col>taxa</th><th scope=col>plot_type</th></tr>\n",
       "\t<tr><th scope=col>&lt;dbl&gt;</th><th scope=col>&lt;dbl&gt;</th><th scope=col>&lt;dbl&gt;</th><th scope=col>&lt;dbl&gt;</th><th scope=col>&lt;dbl&gt;</th><th scope=col>&lt;chr&gt;</th><th scope=col>&lt;chr&gt;</th><th scope=col>&lt;dbl&gt;</th><th scope=col>&lt;dbl&gt;</th><th scope=col>&lt;chr&gt;</th><th scope=col>&lt;chr&gt;</th><th scope=col>&lt;chr&gt;</th><th scope=col>&lt;chr&gt;</th></tr>\n",
       "</thead>\n",
       "<tbody>\n",
       "\t<tr><td>  1</td><td> 7</td><td>16</td><td>1977</td><td>2</td><td>NL</td><td>M </td><td>32</td><td>NA</td><td>Neotoma</td><td>albigula</td><td>Rodent</td><td>Control</td></tr>\n",
       "\t<tr><td> 72</td><td> 8</td><td>19</td><td>1977</td><td>2</td><td>NL</td><td>M </td><td>31</td><td>NA</td><td>Neotoma</td><td>albigula</td><td>Rodent</td><td>Control</td></tr>\n",
       "\t<tr><td>224</td><td> 9</td><td>13</td><td>1977</td><td>2</td><td>NL</td><td>NA</td><td>NA</td><td>NA</td><td>Neotoma</td><td>albigula</td><td>Rodent</td><td>Control</td></tr>\n",
       "\t<tr><td>266</td><td>10</td><td>16</td><td>1977</td><td>2</td><td>NL</td><td>NA</td><td>NA</td><td>NA</td><td>Neotoma</td><td>albigula</td><td>Rodent</td><td>Control</td></tr>\n",
       "\t<tr><td>349</td><td>11</td><td>12</td><td>1977</td><td>2</td><td>NL</td><td>NA</td><td>NA</td><td>NA</td><td>Neotoma</td><td>albigula</td><td>Rodent</td><td>Control</td></tr>\n",
       "\t<tr><td>363</td><td>11</td><td>12</td><td>1977</td><td>2</td><td>NL</td><td>NA</td><td>NA</td><td>NA</td><td>Neotoma</td><td>albigula</td><td>Rodent</td><td>Control</td></tr>\n",
       "</tbody>\n",
       "</table>\n"
      ],
      "text/latex": [
       "A tibble: 6 × 13\n",
       "\\begin{tabular}{lllllllllllll}\n",
       " record\\_id & month & day & year & plot\\_id & species\\_id & sex & hindfoot\\_length & weight & genus & species & taxa & plot\\_type\\\\\n",
       " <dbl> & <dbl> & <dbl> & <dbl> & <dbl> & <chr> & <chr> & <dbl> & <dbl> & <chr> & <chr> & <chr> & <chr>\\\\\n",
       "\\hline\n",
       "\t   1 &  7 & 16 & 1977 & 2 & NL & M  & 32 & NA & Neotoma & albigula & Rodent & Control\\\\\n",
       "\t  72 &  8 & 19 & 1977 & 2 & NL & M  & 31 & NA & Neotoma & albigula & Rodent & Control\\\\\n",
       "\t 224 &  9 & 13 & 1977 & 2 & NL & NA & NA & NA & Neotoma & albigula & Rodent & Control\\\\\n",
       "\t 266 & 10 & 16 & 1977 & 2 & NL & NA & NA & NA & Neotoma & albigula & Rodent & Control\\\\\n",
       "\t 349 & 11 & 12 & 1977 & 2 & NL & NA & NA & NA & Neotoma & albigula & Rodent & Control\\\\\n",
       "\t 363 & 11 & 12 & 1977 & 2 & NL & NA & NA & NA & Neotoma & albigula & Rodent & Control\\\\\n",
       "\\end{tabular}\n"
      ],
      "text/markdown": [
       "\n",
       "A tibble: 6 × 13\n",
       "\n",
       "| record_id &lt;dbl&gt; | month &lt;dbl&gt; | day &lt;dbl&gt; | year &lt;dbl&gt; | plot_id &lt;dbl&gt; | species_id &lt;chr&gt; | sex &lt;chr&gt; | hindfoot_length &lt;dbl&gt; | weight &lt;dbl&gt; | genus &lt;chr&gt; | species &lt;chr&gt; | taxa &lt;chr&gt; | plot_type &lt;chr&gt; |\n",
       "|---|---|---|---|---|---|---|---|---|---|---|---|---|\n",
       "|   1 |  7 | 16 | 1977 | 2 | NL | M  | 32 | NA | Neotoma | albigula | Rodent | Control |\n",
       "|  72 |  8 | 19 | 1977 | 2 | NL | M  | 31 | NA | Neotoma | albigula | Rodent | Control |\n",
       "| 224 |  9 | 13 | 1977 | 2 | NL | NA | NA | NA | Neotoma | albigula | Rodent | Control |\n",
       "| 266 | 10 | 16 | 1977 | 2 | NL | NA | NA | NA | Neotoma | albigula | Rodent | Control |\n",
       "| 349 | 11 | 12 | 1977 | 2 | NL | NA | NA | NA | Neotoma | albigula | Rodent | Control |\n",
       "| 363 | 11 | 12 | 1977 | 2 | NL | NA | NA | NA | Neotoma | albigula | Rodent | Control |\n",
       "\n"
      ],
      "text/plain": [
       "  record_id month day year plot_id species_id sex hindfoot_length weight\n",
       "1   1        7    16  1977 2       NL         M   32              NA    \n",
       "2  72        8    19  1977 2       NL         M   31              NA    \n",
       "3 224        9    13  1977 2       NL         NA  NA              NA    \n",
       "4 266       10    16  1977 2       NL         NA  NA              NA    \n",
       "5 349       11    12  1977 2       NL         NA  NA              NA    \n",
       "6 363       11    12  1977 2       NL         NA  NA              NA    \n",
       "  genus   species  taxa   plot_type\n",
       "1 Neotoma albigula Rodent Control  \n",
       "2 Neotoma albigula Rodent Control  \n",
       "3 Neotoma albigula Rodent Control  \n",
       "4 Neotoma albigula Rodent Control  \n",
       "5 Neotoma albigula Rodent Control  \n",
       "6 Neotoma albigula Rodent Control  "
      ]
     },
     "metadata": {},
     "output_type": "display_data"
    }
   ],
   "source": [
    "head(surveys)"
   ]
  },
  {
   "cell_type": "code",
   "execution_count": 4,
   "metadata": {
    "vscode": {
     "languageId": "r"
    }
   },
   "outputs": [
    {
     "name": "stdout",
     "output_type": "stream",
     "text": [
      "\u001b[90m# A tibble: 34,786 × 13\u001b[39m\n",
      "   record…¹ month   day  year plot_id speci…² sex   hindf…³ weight genus species\n",
      "      \u001b[3m\u001b[90m<dbl>\u001b[39m\u001b[23m \u001b[3m\u001b[90m<dbl>\u001b[39m\u001b[23m \u001b[3m\u001b[90m<dbl>\u001b[39m\u001b[23m \u001b[3m\u001b[90m<dbl>\u001b[39m\u001b[23m   \u001b[3m\u001b[90m<dbl>\u001b[39m\u001b[23m \u001b[3m\u001b[90m<chr>\u001b[39m\u001b[23m   \u001b[3m\u001b[90m<chr>\u001b[39m\u001b[23m   \u001b[3m\u001b[90m<dbl>\u001b[39m\u001b[23m  \u001b[3m\u001b[90m<dbl>\u001b[39m\u001b[23m \u001b[3m\u001b[90m<chr>\u001b[39m\u001b[23m \u001b[3m\u001b[90m<chr>\u001b[39m\u001b[23m  \n",
      "\u001b[90m 1\u001b[39m        1     7    16  \u001b[4m1\u001b[24m977       2 NL      M          32     \u001b[31mNA\u001b[39m Neot… albigu…\n",
      "\u001b[90m 2\u001b[39m       72     8    19  \u001b[4m1\u001b[24m977       2 NL      M          31     \u001b[31mNA\u001b[39m Neot… albigu…\n",
      "\u001b[90m 3\u001b[39m      224     9    13  \u001b[4m1\u001b[24m977       2 NL      \u001b[31mNA\u001b[39m         \u001b[31mNA\u001b[39m     \u001b[31mNA\u001b[39m Neot… albigu…\n",
      "\u001b[90m 4\u001b[39m      266    10    16  \u001b[4m1\u001b[24m977       2 NL      \u001b[31mNA\u001b[39m         \u001b[31mNA\u001b[39m     \u001b[31mNA\u001b[39m Neot… albigu…\n",
      "\u001b[90m 5\u001b[39m      349    11    12  \u001b[4m1\u001b[24m977       2 NL      \u001b[31mNA\u001b[39m         \u001b[31mNA\u001b[39m     \u001b[31mNA\u001b[39m Neot… albigu…\n",
      "\u001b[90m 6\u001b[39m      363    11    12  \u001b[4m1\u001b[24m977       2 NL      \u001b[31mNA\u001b[39m         \u001b[31mNA\u001b[39m     \u001b[31mNA\u001b[39m Neot… albigu…\n",
      "\u001b[90m 7\u001b[39m      435    12    10  \u001b[4m1\u001b[24m977       2 NL      \u001b[31mNA\u001b[39m         \u001b[31mNA\u001b[39m     \u001b[31mNA\u001b[39m Neot… albigu…\n",
      "\u001b[90m 8\u001b[39m      506     1     8  \u001b[4m1\u001b[24m978       2 NL      \u001b[31mNA\u001b[39m         \u001b[31mNA\u001b[39m     \u001b[31mNA\u001b[39m Neot… albigu…\n",
      "\u001b[90m 9\u001b[39m      588     2    18  \u001b[4m1\u001b[24m978       2 NL      M          \u001b[31mNA\u001b[39m    218 Neot… albigu…\n",
      "\u001b[90m10\u001b[39m      661     3    11  \u001b[4m1\u001b[24m978       2 NL      \u001b[31mNA\u001b[39m         \u001b[31mNA\u001b[39m     \u001b[31mNA\u001b[39m Neot… albigu…\n",
      "\u001b[90m# … with 34,776 more rows, 2 more variables: taxa <chr>, plot_type <chr>, and\u001b[39m\n",
      "\u001b[90m#   abbreviated variable names ¹​record_id, ²​species_id, ³​hindfoot_length\u001b[39m\n"
     ]
    }
   ],
   "source": [
    "print(surveys)"
   ]
  },
  {
   "cell_type": "code",
   "execution_count": 6,
   "metadata": {
    "vscode": {
     "languageId": "r"
    }
   },
   "outputs": [],
   "source": []
  }
 ],
 "metadata": {
  "kernelspec": {
   "display_name": "R",
   "language": "R",
   "name": "ir"
  },
  "language_info": {
   "codemirror_mode": "r",
   "file_extension": ".r",
   "mimetype": "text/x-r-source",
   "name": "R",
   "pygments_lexer": "r",
   "version": "4.2.1"
  },
  "orig_nbformat": 4,
  "vscode": {
   "interpreter": {
    "hash": "e1a1742cee150d6bc6dc333beb0112920bf46a54197eddbeddb0439d4e623b52"
   }
  }
 },
 "nbformat": 4,
 "nbformat_minor": 2
}
