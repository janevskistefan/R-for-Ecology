{
 "cells": [
  {
   "cell_type": "markdown",
   "metadata": {},
   "source": [
    "# 02. Reading data with R"
   ]
  },
  {
   "cell_type": "code",
   "execution_count": null,
   "metadata": {
    "scrolled": false,
    "vscode": {
     "languageId": "r"
    }
   },
   "outputs": [],
   "source": [
    "install.packages(\"tidyverse\")\n",
    "library(tidyverse)\n",
    "use_lintr()"
   ]
  },
  {
   "cell_type": "markdown",
   "metadata": {},
   "source": [
    "## `read_csv`\n",
    "- `read_csv` looks through the first 1000 rows of each column and guesses its data type\n",
    "- You have the option to specify the data type for a column manually\n",
    "by using col_types\n",
    "- read_csv assumes that fields are delineated by commas."
   ]
  },
  {
   "cell_type": "code",
   "execution_count": null,
   "metadata": {
    "scrolled": true,
    "vscode": {
     "languageId": "r"
    }
   },
   "outputs": [],
   "source": [
    "surveys <- read_csv(\"../data_raw/portal_data_joined.csv\")"
   ]
  },
  {
   "cell_type": "code",
   "execution_count": 3,
   "metadata": {
    "vscode": {
     "languageId": "r"
    }
   },
   "outputs": [
    {
     "data": {
      "text/html": [
       "<table class=\"dataframe\">\n",
       "<caption>A tibble: 6 × 13</caption>\n",
       "<thead>\n",
       "\t<tr><th scope=col>record_id</th><th scope=col>month</th><th scope=col>day</th><th scope=col>year</th><th scope=col>plot_id</th><th scope=col>species_id</th><th scope=col>sex</th><th scope=col>hindfoot_length</th><th scope=col>weight</th><th scope=col>genus</th><th scope=col>species</th><th scope=col>taxa</th><th scope=col>plot_type</th></tr>\n",
       "\t<tr><th scope=col>&lt;dbl&gt;</th><th scope=col>&lt;dbl&gt;</th><th scope=col>&lt;dbl&gt;</th><th scope=col>&lt;dbl&gt;</th><th scope=col>&lt;dbl&gt;</th><th scope=col>&lt;chr&gt;</th><th scope=col>&lt;chr&gt;</th><th scope=col>&lt;dbl&gt;</th><th scope=col>&lt;dbl&gt;</th><th scope=col>&lt;chr&gt;</th><th scope=col>&lt;chr&gt;</th><th scope=col>&lt;chr&gt;</th><th scope=col>&lt;chr&gt;</th></tr>\n",
       "</thead>\n",
       "<tbody>\n",
       "\t<tr><td>  1</td><td> 7</td><td>16</td><td>1977</td><td>2</td><td>NL</td><td>M </td><td>32</td><td>NA</td><td>Neotoma</td><td>albigula</td><td>Rodent</td><td>Control</td></tr>\n",
       "\t<tr><td> 72</td><td> 8</td><td>19</td><td>1977</td><td>2</td><td>NL</td><td>M </td><td>31</td><td>NA</td><td>Neotoma</td><td>albigula</td><td>Rodent</td><td>Control</td></tr>\n",
       "\t<tr><td>224</td><td> 9</td><td>13</td><td>1977</td><td>2</td><td>NL</td><td>NA</td><td>NA</td><td>NA</td><td>Neotoma</td><td>albigula</td><td>Rodent</td><td>Control</td></tr>\n",
       "\t<tr><td>266</td><td>10</td><td>16</td><td>1977</td><td>2</td><td>NL</td><td>NA</td><td>NA</td><td>NA</td><td>Neotoma</td><td>albigula</td><td>Rodent</td><td>Control</td></tr>\n",
       "\t<tr><td>349</td><td>11</td><td>12</td><td>1977</td><td>2</td><td>NL</td><td>NA</td><td>NA</td><td>NA</td><td>Neotoma</td><td>albigula</td><td>Rodent</td><td>Control</td></tr>\n",
       "\t<tr><td>363</td><td>11</td><td>12</td><td>1977</td><td>2</td><td>NL</td><td>NA</td><td>NA</td><td>NA</td><td>Neotoma</td><td>albigula</td><td>Rodent</td><td>Control</td></tr>\n",
       "</tbody>\n",
       "</table>\n"
      ],
      "text/latex": [
       "A tibble: 6 × 13\n",
       "\\begin{tabular}{lllllllllllll}\n",
       " record\\_id & month & day & year & plot\\_id & species\\_id & sex & hindfoot\\_length & weight & genus & species & taxa & plot\\_type\\\\\n",
       " <dbl> & <dbl> & <dbl> & <dbl> & <dbl> & <chr> & <chr> & <dbl> & <dbl> & <chr> & <chr> & <chr> & <chr>\\\\\n",
       "\\hline\n",
       "\t   1 &  7 & 16 & 1977 & 2 & NL & M  & 32 & NA & Neotoma & albigula & Rodent & Control\\\\\n",
       "\t  72 &  8 & 19 & 1977 & 2 & NL & M  & 31 & NA & Neotoma & albigula & Rodent & Control\\\\\n",
       "\t 224 &  9 & 13 & 1977 & 2 & NL & NA & NA & NA & Neotoma & albigula & Rodent & Control\\\\\n",
       "\t 266 & 10 & 16 & 1977 & 2 & NL & NA & NA & NA & Neotoma & albigula & Rodent & Control\\\\\n",
       "\t 349 & 11 & 12 & 1977 & 2 & NL & NA & NA & NA & Neotoma & albigula & Rodent & Control\\\\\n",
       "\t 363 & 11 & 12 & 1977 & 2 & NL & NA & NA & NA & Neotoma & albigula & Rodent & Control\\\\\n",
       "\\end{tabular}\n"
      ],
      "text/markdown": [
       "\n",
       "A tibble: 6 × 13\n",
       "\n",
       "| record_id &lt;dbl&gt; | month &lt;dbl&gt; | day &lt;dbl&gt; | year &lt;dbl&gt; | plot_id &lt;dbl&gt; | species_id &lt;chr&gt; | sex &lt;chr&gt; | hindfoot_length &lt;dbl&gt; | weight &lt;dbl&gt; | genus &lt;chr&gt; | species &lt;chr&gt; | taxa &lt;chr&gt; | plot_type &lt;chr&gt; |\n",
       "|---|---|---|---|---|---|---|---|---|---|---|---|---|\n",
       "|   1 |  7 | 16 | 1977 | 2 | NL | M  | 32 | NA | Neotoma | albigula | Rodent | Control |\n",
       "|  72 |  8 | 19 | 1977 | 2 | NL | M  | 31 | NA | Neotoma | albigula | Rodent | Control |\n",
       "| 224 |  9 | 13 | 1977 | 2 | NL | NA | NA | NA | Neotoma | albigula | Rodent | Control |\n",
       "| 266 | 10 | 16 | 1977 | 2 | NL | NA | NA | NA | Neotoma | albigula | Rodent | Control |\n",
       "| 349 | 11 | 12 | 1977 | 2 | NL | NA | NA | NA | Neotoma | albigula | Rodent | Control |\n",
       "| 363 | 11 | 12 | 1977 | 2 | NL | NA | NA | NA | Neotoma | albigula | Rodent | Control |\n",
       "\n"
      ],
      "text/plain": [
       "  record_id month day year plot_id species_id sex hindfoot_length weight\n",
       "1   1        7    16  1977 2       NL         M   32              NA    \n",
       "2  72        8    19  1977 2       NL         M   31              NA    \n",
       "3 224        9    13  1977 2       NL         NA  NA              NA    \n",
       "4 266       10    16  1977 2       NL         NA  NA              NA    \n",
       "5 349       11    12  1977 2       NL         NA  NA              NA    \n",
       "6 363       11    12  1977 2       NL         NA  NA              NA    \n",
       "  genus   species  taxa   plot_type\n",
       "1 Neotoma albigula Rodent Control  \n",
       "2 Neotoma albigula Rodent Control  \n",
       "3 Neotoma albigula Rodent Control  \n",
       "4 Neotoma albigula Rodent Control  \n",
       "5 Neotoma albigula Rodent Control  \n",
       "6 Neotoma albigula Rodent Control  "
      ]
     },
     "metadata": {},
     "output_type": "display_data"
    }
   ],
   "source": [
    "# shows the first 6 rows\n",
    "head(surveys)"
   ]
  },
  {
   "cell_type": "markdown",
   "metadata": {},
   "source": [
    "## What are data frames\n",
    "- Data frames are the de facto data structure for most tabular data, and what we use for statistics and plotting. \n",
    "- A data frame is the reporesentation of data in the format of a table where the columns are vectors that all have the same length. Because columns are vectors, each column must contain a single type of data (e.g., characters, integers, factors)"
   ]
  },
  {
   "cell_type": "code",
   "execution_count": null,
   "metadata": {
    "vscode": {
     "languageId": "r"
    }
   },
   "outputs": [],
   "source": [
    "# returns the structure of a dataframe\n",
    "str(surveys)"
   ]
  },
  {
   "cell_type": "markdown",
   "metadata": {},
   "source": [
    "## Inspecting data frames"
   ]
  },
  {
   "cell_type": "markdown",
   "metadata": {},
   "source": [
    "### Size:"
   ]
  },
  {
   "cell_type": "code",
   "execution_count": null,
   "metadata": {
    "vscode": {
     "languageId": "r"
    }
   },
   "outputs": [],
   "source": [
    "# dimensions of a dataframe\n",
    "dim(surveys)"
   ]
  },
  {
   "cell_type": "code",
   "execution_count": 22,
   "metadata": {
    "vscode": {
     "languageId": "r"
    }
   },
   "outputs": [
    {
     "data": {
      "text/html": [
       "34786"
      ],
      "text/latex": [
       "34786"
      ],
      "text/markdown": [
       "34786"
      ],
      "text/plain": [
       "[1] 34786"
      ]
     },
     "metadata": {},
     "output_type": "display_data"
    }
   ],
   "source": [
    "# returns the number of rows in a data frame passed as an argument\n",
    "nrow(surveys)"
   ]
  },
  {
   "cell_type": "code",
   "execution_count": 23,
   "metadata": {
    "vscode": {
     "languageId": "r"
    }
   },
   "outputs": [
    {
     "data": {
      "text/html": [
       "13"
      ],
      "text/latex": [
       "13"
      ],
      "text/markdown": [
       "13"
      ],
      "text/plain": [
       "[1] 13"
      ]
     },
     "metadata": {},
     "output_type": "display_data"
    }
   ],
   "source": [
    "# returns the number of columns in a data frame passed as an argument\n",
    "ncol(surveys)"
   ]
  },
  {
   "cell_type": "markdown",
   "metadata": {},
   "source": [
    "### Content:"
   ]
  },
  {
   "cell_type": "code",
   "execution_count": 27,
   "metadata": {
    "vscode": {
     "languageId": "r"
    }
   },
   "outputs": [
    {
     "data": {
      "text/html": [
       "<table class=\"dataframe\">\n",
       "<caption>A tibble: 6 × 13</caption>\n",
       "<thead>\n",
       "\t<tr><th scope=col>record_id</th><th scope=col>month</th><th scope=col>day</th><th scope=col>year</th><th scope=col>plot_id</th><th scope=col>species_id</th><th scope=col>sex</th><th scope=col>hindfoot_length</th><th scope=col>weight</th><th scope=col>genus</th><th scope=col>species</th><th scope=col>taxa</th><th scope=col>plot_type</th></tr>\n",
       "\t<tr><th scope=col>&lt;dbl&gt;</th><th scope=col>&lt;dbl&gt;</th><th scope=col>&lt;dbl&gt;</th><th scope=col>&lt;dbl&gt;</th><th scope=col>&lt;dbl&gt;</th><th scope=col>&lt;chr&gt;</th><th scope=col>&lt;chr&gt;</th><th scope=col>&lt;dbl&gt;</th><th scope=col>&lt;dbl&gt;</th><th scope=col>&lt;chr&gt;</th><th scope=col>&lt;chr&gt;</th><th scope=col>&lt;chr&gt;</th><th scope=col>&lt;chr&gt;</th></tr>\n",
       "</thead>\n",
       "<tbody>\n",
       "\t<tr><td>  1</td><td> 7</td><td>16</td><td>1977</td><td>2</td><td>NL</td><td>M </td><td>32</td><td>NA</td><td>Neotoma</td><td>albigula</td><td>Rodent</td><td>Control</td></tr>\n",
       "\t<tr><td> 72</td><td> 8</td><td>19</td><td>1977</td><td>2</td><td>NL</td><td>M </td><td>31</td><td>NA</td><td>Neotoma</td><td>albigula</td><td>Rodent</td><td>Control</td></tr>\n",
       "\t<tr><td>224</td><td> 9</td><td>13</td><td>1977</td><td>2</td><td>NL</td><td>NA</td><td>NA</td><td>NA</td><td>Neotoma</td><td>albigula</td><td>Rodent</td><td>Control</td></tr>\n",
       "\t<tr><td>266</td><td>10</td><td>16</td><td>1977</td><td>2</td><td>NL</td><td>NA</td><td>NA</td><td>NA</td><td>Neotoma</td><td>albigula</td><td>Rodent</td><td>Control</td></tr>\n",
       "\t<tr><td>349</td><td>11</td><td>12</td><td>1977</td><td>2</td><td>NL</td><td>NA</td><td>NA</td><td>NA</td><td>Neotoma</td><td>albigula</td><td>Rodent</td><td>Control</td></tr>\n",
       "\t<tr><td>363</td><td>11</td><td>12</td><td>1977</td><td>2</td><td>NL</td><td>NA</td><td>NA</td><td>NA</td><td>Neotoma</td><td>albigula</td><td>Rodent</td><td>Control</td></tr>\n",
       "</tbody>\n",
       "</table>\n"
      ],
      "text/latex": [
       "A tibble: 6 × 13\n",
       "\\begin{tabular}{lllllllllllll}\n",
       " record\\_id & month & day & year & plot\\_id & species\\_id & sex & hindfoot\\_length & weight & genus & species & taxa & plot\\_type\\\\\n",
       " <dbl> & <dbl> & <dbl> & <dbl> & <dbl> & <chr> & <chr> & <dbl> & <dbl> & <chr> & <chr> & <chr> & <chr>\\\\\n",
       "\\hline\n",
       "\t   1 &  7 & 16 & 1977 & 2 & NL & M  & 32 & NA & Neotoma & albigula & Rodent & Control\\\\\n",
       "\t  72 &  8 & 19 & 1977 & 2 & NL & M  & 31 & NA & Neotoma & albigula & Rodent & Control\\\\\n",
       "\t 224 &  9 & 13 & 1977 & 2 & NL & NA & NA & NA & Neotoma & albigula & Rodent & Control\\\\\n",
       "\t 266 & 10 & 16 & 1977 & 2 & NL & NA & NA & NA & Neotoma & albigula & Rodent & Control\\\\\n",
       "\t 349 & 11 & 12 & 1977 & 2 & NL & NA & NA & NA & Neotoma & albigula & Rodent & Control\\\\\n",
       "\t 363 & 11 & 12 & 1977 & 2 & NL & NA & NA & NA & Neotoma & albigula & Rodent & Control\\\\\n",
       "\\end{tabular}\n"
      ],
      "text/markdown": [
       "\n",
       "A tibble: 6 × 13\n",
       "\n",
       "| record_id &lt;dbl&gt; | month &lt;dbl&gt; | day &lt;dbl&gt; | year &lt;dbl&gt; | plot_id &lt;dbl&gt; | species_id &lt;chr&gt; | sex &lt;chr&gt; | hindfoot_length &lt;dbl&gt; | weight &lt;dbl&gt; | genus &lt;chr&gt; | species &lt;chr&gt; | taxa &lt;chr&gt; | plot_type &lt;chr&gt; |\n",
       "|---|---|---|---|---|---|---|---|---|---|---|---|---|\n",
       "|   1 |  7 | 16 | 1977 | 2 | NL | M  | 32 | NA | Neotoma | albigula | Rodent | Control |\n",
       "|  72 |  8 | 19 | 1977 | 2 | NL | M  | 31 | NA | Neotoma | albigula | Rodent | Control |\n",
       "| 224 |  9 | 13 | 1977 | 2 | NL | NA | NA | NA | Neotoma | albigula | Rodent | Control |\n",
       "| 266 | 10 | 16 | 1977 | 2 | NL | NA | NA | NA | Neotoma | albigula | Rodent | Control |\n",
       "| 349 | 11 | 12 | 1977 | 2 | NL | NA | NA | NA | Neotoma | albigula | Rodent | Control |\n",
       "| 363 | 11 | 12 | 1977 | 2 | NL | NA | NA | NA | Neotoma | albigula | Rodent | Control |\n",
       "\n"
      ],
      "text/plain": [
       "  record_id month day year plot_id species_id sex hindfoot_length weight\n",
       "1   1        7    16  1977 2       NL         M   32              NA    \n",
       "2  72        8    19  1977 2       NL         M   31              NA    \n",
       "3 224        9    13  1977 2       NL         NA  NA              NA    \n",
       "4 266       10    16  1977 2       NL         NA  NA              NA    \n",
       "5 349       11    12  1977 2       NL         NA  NA              NA    \n",
       "6 363       11    12  1977 2       NL         NA  NA              NA    \n",
       "  genus   species  taxa   plot_type\n",
       "1 Neotoma albigula Rodent Control  \n",
       "2 Neotoma albigula Rodent Control  \n",
       "3 Neotoma albigula Rodent Control  \n",
       "4 Neotoma albigula Rodent Control  \n",
       "5 Neotoma albigula Rodent Control  \n",
       "6 Neotoma albigula Rodent Control  "
      ]
     },
     "metadata": {},
     "output_type": "display_data"
    }
   ],
   "source": [
    "# shows the first 6 rows\n",
    "head(surveys)"
   ]
  },
  {
   "cell_type": "code",
   "execution_count": 28,
   "metadata": {
    "vscode": {
     "languageId": "r"
    }
   },
   "outputs": [
    {
     "data": {
      "text/html": [
       "<table class=\"dataframe\">\n",
       "<caption>A tibble: 6 × 13</caption>\n",
       "<thead>\n",
       "\t<tr><th scope=col>record_id</th><th scope=col>month</th><th scope=col>day</th><th scope=col>year</th><th scope=col>plot_id</th><th scope=col>species_id</th><th scope=col>sex</th><th scope=col>hindfoot_length</th><th scope=col>weight</th><th scope=col>genus</th><th scope=col>species</th><th scope=col>taxa</th><th scope=col>plot_type</th></tr>\n",
       "\t<tr><th scope=col>&lt;dbl&gt;</th><th scope=col>&lt;dbl&gt;</th><th scope=col>&lt;dbl&gt;</th><th scope=col>&lt;dbl&gt;</th><th scope=col>&lt;dbl&gt;</th><th scope=col>&lt;chr&gt;</th><th scope=col>&lt;chr&gt;</th><th scope=col>&lt;dbl&gt;</th><th scope=col>&lt;dbl&gt;</th><th scope=col>&lt;chr&gt;</th><th scope=col>&lt;chr&gt;</th><th scope=col>&lt;chr&gt;</th><th scope=col>&lt;chr&gt;</th></tr>\n",
       "</thead>\n",
       "<tbody>\n",
       "\t<tr><td>26787</td><td> 9</td><td>27</td><td>1997</td><td>7</td><td>PL</td><td>F </td><td>21</td><td>16</td><td>Peromyscus </td><td>leucopus</td><td>Rodent</td><td>Rodent Exclosure</td></tr>\n",
       "\t<tr><td>26966</td><td>10</td><td>25</td><td>1997</td><td>7</td><td>PL</td><td>M </td><td>20</td><td>16</td><td>Peromyscus </td><td>leucopus</td><td>Rodent</td><td>Rodent Exclosure</td></tr>\n",
       "\t<tr><td>27185</td><td>11</td><td>22</td><td>1997</td><td>7</td><td>PL</td><td>F </td><td>21</td><td>22</td><td>Peromyscus </td><td>leucopus</td><td>Rodent</td><td>Rodent Exclosure</td></tr>\n",
       "\t<tr><td>27792</td><td> 5</td><td> 2</td><td>1998</td><td>7</td><td>PL</td><td>F </td><td>20</td><td> 8</td><td>Peromyscus </td><td>leucopus</td><td>Rodent</td><td>Rodent Exclosure</td></tr>\n",
       "\t<tr><td>28806</td><td>11</td><td>21</td><td>1998</td><td>7</td><td>PX</td><td>NA</td><td>NA</td><td>NA</td><td>Chaetodipus</td><td>sp.     </td><td>Rodent</td><td>Rodent Exclosure</td></tr>\n",
       "\t<tr><td>30986</td><td> 7</td><td> 1</td><td>2000</td><td>7</td><td>PX</td><td>NA</td><td>NA</td><td>NA</td><td>Chaetodipus</td><td>sp.     </td><td>Rodent</td><td>Rodent Exclosure</td></tr>\n",
       "</tbody>\n",
       "</table>\n"
      ],
      "text/latex": [
       "A tibble: 6 × 13\n",
       "\\begin{tabular}{lllllllllllll}\n",
       " record\\_id & month & day & year & plot\\_id & species\\_id & sex & hindfoot\\_length & weight & genus & species & taxa & plot\\_type\\\\\n",
       " <dbl> & <dbl> & <dbl> & <dbl> & <dbl> & <chr> & <chr> & <dbl> & <dbl> & <chr> & <chr> & <chr> & <chr>\\\\\n",
       "\\hline\n",
       "\t 26787 &  9 & 27 & 1997 & 7 & PL & F  & 21 & 16 & Peromyscus  & leucopus & Rodent & Rodent Exclosure\\\\\n",
       "\t 26966 & 10 & 25 & 1997 & 7 & PL & M  & 20 & 16 & Peromyscus  & leucopus & Rodent & Rodent Exclosure\\\\\n",
       "\t 27185 & 11 & 22 & 1997 & 7 & PL & F  & 21 & 22 & Peromyscus  & leucopus & Rodent & Rodent Exclosure\\\\\n",
       "\t 27792 &  5 &  2 & 1998 & 7 & PL & F  & 20 &  8 & Peromyscus  & leucopus & Rodent & Rodent Exclosure\\\\\n",
       "\t 28806 & 11 & 21 & 1998 & 7 & PX & NA & NA & NA & Chaetodipus & sp.      & Rodent & Rodent Exclosure\\\\\n",
       "\t 30986 &  7 &  1 & 2000 & 7 & PX & NA & NA & NA & Chaetodipus & sp.      & Rodent & Rodent Exclosure\\\\\n",
       "\\end{tabular}\n"
      ],
      "text/markdown": [
       "\n",
       "A tibble: 6 × 13\n",
       "\n",
       "| record_id &lt;dbl&gt; | month &lt;dbl&gt; | day &lt;dbl&gt; | year &lt;dbl&gt; | plot_id &lt;dbl&gt; | species_id &lt;chr&gt; | sex &lt;chr&gt; | hindfoot_length &lt;dbl&gt; | weight &lt;dbl&gt; | genus &lt;chr&gt; | species &lt;chr&gt; | taxa &lt;chr&gt; | plot_type &lt;chr&gt; |\n",
       "|---|---|---|---|---|---|---|---|---|---|---|---|---|\n",
       "| 26787 |  9 | 27 | 1997 | 7 | PL | F  | 21 | 16 | Peromyscus  | leucopus | Rodent | Rodent Exclosure |\n",
       "| 26966 | 10 | 25 | 1997 | 7 | PL | M  | 20 | 16 | Peromyscus  | leucopus | Rodent | Rodent Exclosure |\n",
       "| 27185 | 11 | 22 | 1997 | 7 | PL | F  | 21 | 22 | Peromyscus  | leucopus | Rodent | Rodent Exclosure |\n",
       "| 27792 |  5 |  2 | 1998 | 7 | PL | F  | 20 |  8 | Peromyscus  | leucopus | Rodent | Rodent Exclosure |\n",
       "| 28806 | 11 | 21 | 1998 | 7 | PX | NA | NA | NA | Chaetodipus | sp.      | Rodent | Rodent Exclosure |\n",
       "| 30986 |  7 |  1 | 2000 | 7 | PX | NA | NA | NA | Chaetodipus | sp.      | Rodent | Rodent Exclosure |\n",
       "\n"
      ],
      "text/plain": [
       "  record_id month day year plot_id species_id sex hindfoot_length weight\n",
       "1 26787      9    27  1997 7       PL         F   21              16    \n",
       "2 26966     10    25  1997 7       PL         M   20              16    \n",
       "3 27185     11    22  1997 7       PL         F   21              22    \n",
       "4 27792      5     2  1998 7       PL         F   20               8    \n",
       "5 28806     11    21  1998 7       PX         NA  NA              NA    \n",
       "6 30986      7     1  2000 7       PX         NA  NA              NA    \n",
       "  genus       species  taxa   plot_type       \n",
       "1 Peromyscus  leucopus Rodent Rodent Exclosure\n",
       "2 Peromyscus  leucopus Rodent Rodent Exclosure\n",
       "3 Peromyscus  leucopus Rodent Rodent Exclosure\n",
       "4 Peromyscus  leucopus Rodent Rodent Exclosure\n",
       "5 Chaetodipus sp.      Rodent Rodent Exclosure\n",
       "6 Chaetodipus sp.      Rodent Rodent Exclosure"
      ]
     },
     "metadata": {},
     "output_type": "display_data"
    }
   ],
   "source": [
    "# shows the last 6 rows\n",
    "tail(surveys)"
   ]
  },
  {
   "cell_type": "code",
   "execution_count": 16,
   "metadata": {
    "vscode": {
     "languageId": "r"
    }
   },
   "outputs": [
    {
     "data": {
      "text/html": [
       "<style>\n",
       ".list-inline {list-style: none; margin:0; padding: 0}\n",
       ".list-inline>li {display: inline-block}\n",
       ".list-inline>li:not(:last-child)::after {content: \"\\00b7\"; padding: 0 .5ex}\n",
       "</style>\n",
       "<ol class=list-inline><li>'record_id'</li><li>'month'</li><li>'day'</li><li>'year'</li><li>'plot_id'</li><li>'species_id'</li><li>'sex'</li><li>'hindfoot_length'</li><li>'weight'</li><li>'genus'</li><li>'species'</li><li>'taxa'</li><li>'plot_type'</li></ol>\n"
      ],
      "text/latex": [
       "\\begin{enumerate*}\n",
       "\\item 'record\\_id'\n",
       "\\item 'month'\n",
       "\\item 'day'\n",
       "\\item 'year'\n",
       "\\item 'plot\\_id'\n",
       "\\item 'species\\_id'\n",
       "\\item 'sex'\n",
       "\\item 'hindfoot\\_length'\n",
       "\\item 'weight'\n",
       "\\item 'genus'\n",
       "\\item 'species'\n",
       "\\item 'taxa'\n",
       "\\item 'plot\\_type'\n",
       "\\end{enumerate*}\n"
      ],
      "text/markdown": [
       "1. 'record_id'\n",
       "2. 'month'\n",
       "3. 'day'\n",
       "4. 'year'\n",
       "5. 'plot_id'\n",
       "6. 'species_id'\n",
       "7. 'sex'\n",
       "8. 'hindfoot_length'\n",
       "9. 'weight'\n",
       "10. 'genus'\n",
       "11. 'species'\n",
       "12. 'taxa'\n",
       "13. 'plot_type'\n",
       "\n",
       "\n"
      ],
      "text/plain": [
       " [1] \"record_id\"       \"month\"           \"day\"             \"year\"           \n",
       " [5] \"plot_id\"         \"species_id\"      \"sex\"             \"hindfoot_length\"\n",
       " [9] \"weight\"          \"genus\"           \"species\"         \"taxa\"           \n",
       "[13] \"plot_type\"      "
      ]
     },
     "metadata": {},
     "output_type": "display_data"
    }
   ],
   "source": [
    "# returns names of columns present in a dataframe\n",
    "names(surveys)"
   ]
  },
  {
   "cell_type": "code",
   "execution_count": 17,
   "metadata": {
    "vscode": {
     "languageId": "r"
    }
   },
   "outputs": [
    {
     "data": {
      "text/html": [
       "<style>\n",
       ".list-inline {list-style: none; margin:0; padding: 0}\n",
       ".list-inline>li {display: inline-block}\n",
       ".list-inline>li:not(:last-child)::after {content: \"\\00b7\"; padding: 0 .5ex}\n",
       "</style>\n",
       "<ol class=list-inline><li>'record_id'</li><li>'month'</li><li>'day'</li><li>'year'</li><li>'plot_id'</li><li>'species_id'</li><li>'sex'</li><li>'hindfoot_length'</li><li>'weight'</li><li>'genus'</li><li>'species'</li><li>'taxa'</li><li>'plot_type'</li></ol>\n"
      ],
      "text/latex": [
       "\\begin{enumerate*}\n",
       "\\item 'record\\_id'\n",
       "\\item 'month'\n",
       "\\item 'day'\n",
       "\\item 'year'\n",
       "\\item 'plot\\_id'\n",
       "\\item 'species\\_id'\n",
       "\\item 'sex'\n",
       "\\item 'hindfoot\\_length'\n",
       "\\item 'weight'\n",
       "\\item 'genus'\n",
       "\\item 'species'\n",
       "\\item 'taxa'\n",
       "\\item 'plot\\_type'\n",
       "\\end{enumerate*}\n"
      ],
      "text/markdown": [
       "1. 'record_id'\n",
       "2. 'month'\n",
       "3. 'day'\n",
       "4. 'year'\n",
       "5. 'plot_id'\n",
       "6. 'species_id'\n",
       "7. 'sex'\n",
       "8. 'hindfoot_length'\n",
       "9. 'weight'\n",
       "10. 'genus'\n",
       "11. 'species'\n",
       "12. 'taxa'\n",
       "13. 'plot_type'\n",
       "\n",
       "\n"
      ],
      "text/plain": [
       " [1] \"record_id\"       \"month\"           \"day\"             \"year\"           \n",
       " [5] \"plot_id\"         \"species_id\"      \"sex\"             \"hindfoot_length\"\n",
       " [9] \"weight\"          \"genus\"           \"species\"         \"taxa\"           \n",
       "[13] \"plot_type\"      "
      ]
     },
     "metadata": {},
     "output_type": "display_data"
    }
   ],
   "source": [
    "# exactly the same behavior as names(surveys)\n",
    "colnames(surveys)"
   ]
  },
  {
   "cell_type": "code",
   "execution_count": null,
   "metadata": {
    "vscode": {
     "languageId": "r"
    }
   },
   "outputs": [],
   "source": [
    "# returns names of rows\n",
    "rownames(surveys)"
   ]
  },
  {
   "cell_type": "markdown",
   "metadata": {},
   "source": [
    "### Summary:"
   ]
  },
  {
   "cell_type": "code",
   "execution_count": 19,
   "metadata": {
    "vscode": {
     "languageId": "r"
    }
   },
   "outputs": [
    {
     "data": {
      "text/plain": [
       "   record_id         month             day            year         plot_id     \n",
       " Min.   :    1   Min.   : 1.000   Min.   : 1.0   Min.   :1977   Min.   : 1.00  \n",
       " 1st Qu.: 8964   1st Qu.: 4.000   1st Qu.: 9.0   1st Qu.:1984   1st Qu.: 5.00  \n",
       " Median :17762   Median : 6.000   Median :16.0   Median :1990   Median :11.00  \n",
       " Mean   :17804   Mean   : 6.474   Mean   :16.1   Mean   :1990   Mean   :11.34  \n",
       " 3rd Qu.:26655   3rd Qu.:10.000   3rd Qu.:23.0   3rd Qu.:1997   3rd Qu.:17.00  \n",
       " Max.   :35548   Max.   :12.000   Max.   :31.0   Max.   :2002   Max.   :24.00  \n",
       "                                                                               \n",
       "  species_id            sex            hindfoot_length     weight      \n",
       " Length:34786       Length:34786       Min.   : 2.00   Min.   :  4.00  \n",
       " Class :character   Class :character   1st Qu.:21.00   1st Qu.: 20.00  \n",
       " Mode  :character   Mode  :character   Median :32.00   Median : 37.00  \n",
       "                                       Mean   :29.29   Mean   : 42.67  \n",
       "                                       3rd Qu.:36.00   3rd Qu.: 48.00  \n",
       "                                       Max.   :70.00   Max.   :280.00  \n",
       "                                       NA's   :3348    NA's   :2503    \n",
       "    genus             species              taxa            plot_type        \n",
       " Length:34786       Length:34786       Length:34786       Length:34786      \n",
       " Class :character   Class :character   Class :character   Class :character  \n",
       " Mode  :character   Mode  :character   Mode  :character   Mode  :character  \n",
       "                                                                            \n",
       "                                                                            \n",
       "                                                                            \n",
       "                                                                            "
      ]
     },
     "metadata": {},
     "output_type": "display_data"
    }
   ],
   "source": [
    "# returns summary statistics for each column\n",
    "summary(surveys)"
   ]
  },
  {
   "cell_type": "markdown",
   "metadata": {},
   "source": [
    "Note: most of these functions are \"generic\", they can be used on other types of objects besides `data.frame`"
   ]
  },
  {
   "cell_type": "markdown",
   "metadata": {},
   "source": [
    "### Challenge #1\n",
    "Based on the output of str(surveys), can you answer the following questions?\n",
    "- What is the class of the object surveys?\n",
    "- How many rows and how many columns are in this object?"
   ]
  },
  {
   "cell_type": "code",
   "execution_count": 15,
   "metadata": {
    "vscode": {
     "languageId": "r"
    }
   },
   "outputs": [
    {
     "name": "stdout",
     "output_type": "stream",
     "text": [
      "spec_tbl_df [34,786 × 13] (S3: spec_tbl_df/tbl_df/tbl/data.frame)\n",
      " $ record_id      : num [1:34786] 1 72 224 266 349 363 435 506 588 661 ...\n",
      " $ month          : num [1:34786] 7 8 9 10 11 11 12 1 2 3 ...\n",
      " $ day            : num [1:34786] 16 19 13 16 12 12 10 8 18 11 ...\n",
      " $ year           : num [1:34786] 1977 1977 1977 1977 1977 ...\n",
      " $ plot_id        : num [1:34786] 2 2 2 2 2 2 2 2 2 2 ...\n",
      " $ species_id     : chr [1:34786] \"NL\" \"NL\" \"NL\" \"NL\" ...\n",
      " $ sex            : chr [1:34786] \"M\" \"M\" NA NA ...\n",
      " $ hindfoot_length: num [1:34786] 32 31 NA NA NA NA NA NA NA NA ...\n",
      " $ weight         : num [1:34786] NA NA NA NA NA NA NA NA 218 NA ...\n",
      " $ genus          : chr [1:34786] \"Neotoma\" \"Neotoma\" \"Neotoma\" \"Neotoma\" ...\n",
      " $ species        : chr [1:34786] \"albigula\" \"albigula\" \"albigula\" \"albigula\" ...\n",
      " $ taxa           : chr [1:34786] \"Rodent\" \"Rodent\" \"Rodent\" \"Rodent\" ...\n",
      " $ plot_type      : chr [1:34786] \"Control\" \"Control\" \"Control\" \"Control\" ...\n",
      " - attr(*, \"spec\")=\n",
      "  .. cols(\n",
      "  ..   record_id = \u001b[32mcol_double()\u001b[39m,\n",
      "  ..   month = \u001b[32mcol_double()\u001b[39m,\n",
      "  ..   day = \u001b[32mcol_double()\u001b[39m,\n",
      "  ..   year = \u001b[32mcol_double()\u001b[39m,\n",
      "  ..   plot_id = \u001b[32mcol_double()\u001b[39m,\n",
      "  ..   species_id = \u001b[31mcol_character()\u001b[39m,\n",
      "  ..   sex = \u001b[31mcol_character()\u001b[39m,\n",
      "  ..   hindfoot_length = \u001b[32mcol_double()\u001b[39m,\n",
      "  ..   weight = \u001b[32mcol_double()\u001b[39m,\n",
      "  ..   genus = \u001b[31mcol_character()\u001b[39m,\n",
      "  ..   species = \u001b[31mcol_character()\u001b[39m,\n",
      "  ..   taxa = \u001b[31mcol_character()\u001b[39m,\n",
      "  ..   plot_type = \u001b[31mcol_character()\u001b[39m\n",
      "  .. )\n",
      " - attr(*, \"problems\")=<externalptr> \n"
     ]
    }
   ],
   "source": [
    "str(surveys)"
   ]
  },
  {
   "cell_type": "markdown",
   "metadata": {},
   "source": [
    "Answers:\n",
    "- What is the class of the object surveys?\n",
    "    - data.frame\n",
    "- How many rows and how many columns are in this object?\n",
    "    - 34786 rows and 13 columns"
   ]
  },
  {
   "cell_type": "markdown",
   "metadata": {},
   "source": [
    "## Indexing and subsetting data\n",
    "- Our survey data frame has rows and columns (2 dimensions), if we want to extract some specific data from it, we need to specify the \"coordinates\" we want from it.\n",
    "    - Row number comes first, followed by column numbers.\n",
    "- Different ways of specifying these coordinates lead to results with different classes.\n",
    "\n",
    "### Tibbles\n",
    "- Tibbles are data frames that tweak some older behaviours to make life a little easier.\n",
    "- Tibbles can be created using `tibble()` which will also automatically recycle inputs of length 1, and allows you to refer to variables that you just created, as shown below.\n"
   ]
  },
  {
   "cell_type": "code",
   "execution_count": 13,
   "metadata": {},
   "outputs": [
    {
     "data": {
      "text/html": [
       "<table class=\"dataframe\">\n",
       "<caption>A tibble: 5 × 3</caption>\n",
       "<thead>\n",
       "\t<tr><th scope=col>x</th><th scope=col>y</th><th scope=col>z</th></tr>\n",
       "\t<tr><th scope=col>&lt;int&gt;</th><th scope=col>&lt;dbl&gt;</th><th scope=col>&lt;dbl&gt;</th></tr>\n",
       "</thead>\n",
       "<tbody>\n",
       "\t<tr><td>1</td><td>1</td><td> 2</td></tr>\n",
       "\t<tr><td>2</td><td>1</td><td> 5</td></tr>\n",
       "\t<tr><td>3</td><td>1</td><td>10</td></tr>\n",
       "\t<tr><td>4</td><td>1</td><td>17</td></tr>\n",
       "\t<tr><td>5</td><td>1</td><td>26</td></tr>\n",
       "</tbody>\n",
       "</table>\n"
      ],
      "text/latex": [
       "A tibble: 5 × 3\n",
       "\\begin{tabular}{lll}\n",
       " x & y & z\\\\\n",
       " <int> & <dbl> & <dbl>\\\\\n",
       "\\hline\n",
       "\t 1 & 1 &  2\\\\\n",
       "\t 2 & 1 &  5\\\\\n",
       "\t 3 & 1 & 10\\\\\n",
       "\t 4 & 1 & 17\\\\\n",
       "\t 5 & 1 & 26\\\\\n",
       "\\end{tabular}\n"
      ],
      "text/markdown": [
       "\n",
       "A tibble: 5 × 3\n",
       "\n",
       "| x &lt;int&gt; | y &lt;dbl&gt; | z &lt;dbl&gt; |\n",
       "|---|---|---|\n",
       "| 1 | 1 |  2 |\n",
       "| 2 | 1 |  5 |\n",
       "| 3 | 1 | 10 |\n",
       "| 4 | 1 | 17 |\n",
       "| 5 | 1 | 26 |\n",
       "\n"
      ],
      "text/plain": [
       "  x y z \n",
       "1 1 1  2\n",
       "2 2 1  5\n",
       "3 3 1 10\n",
       "4 4 1 17\n",
       "5 5 1 26"
      ]
     },
     "metadata": {},
     "output_type": "display_data"
    }
   ],
   "source": [
    "tibble(\n",
    "    x = 1:5,\n",
    "    y = 1,\n",
    "    z = x ^ 2 + y\n",
    ")"
   ]
  },
  {
   "cell_type": "markdown",
   "metadata": {},
   "source": [
    "- Another way to create a tibble is with tribble(), which is short for transponed tibble:"
   ]
  },
  {
   "cell_type": "code",
   "execution_count": 14,
   "metadata": {},
   "outputs": [
    {
     "data": {
      "text/html": [
       "<table class=\"dataframe\">\n",
       "<caption>A tibble: 2 × 3</caption>\n",
       "<thead>\n",
       "\t<tr><th scope=col>x</th><th scope=col>y</th><th scope=col>z</th></tr>\n",
       "\t<tr><th scope=col>&lt;chr&gt;</th><th scope=col>&lt;dbl&gt;</th><th scope=col>&lt;dbl&gt;</th></tr>\n",
       "</thead>\n",
       "<tbody>\n",
       "\t<tr><td>a</td><td>2</td><td>3.6</td></tr>\n",
       "\t<tr><td>b</td><td>1</td><td>8.5</td></tr>\n",
       "</tbody>\n",
       "</table>\n"
      ],
      "text/latex": [
       "A tibble: 2 × 3\n",
       "\\begin{tabular}{lll}\n",
       " x & y & z\\\\\n",
       " <chr> & <dbl> & <dbl>\\\\\n",
       "\\hline\n",
       "\t a & 2 & 3.6\\\\\n",
       "\t b & 1 & 8.5\\\\\n",
       "\\end{tabular}\n"
      ],
      "text/markdown": [
       "\n",
       "A tibble: 2 × 3\n",
       "\n",
       "| x &lt;chr&gt; | y &lt;dbl&gt; | z &lt;dbl&gt; |\n",
       "|---|---|---|\n",
       "| a | 2 | 3.6 |\n",
       "| b | 1 | 8.5 |\n",
       "\n"
      ],
      "text/plain": [
       "  x y z  \n",
       "1 a 2 3.6\n",
       "2 b 1 8.5"
      ]
     },
     "metadata": {},
     "output_type": "display_data"
    }
   ],
   "source": [
    "tribble(\n",
    "    ~x, ~y, ~z,\n",
    "    #--|--|----\n",
    "    \"a\", 2, 3.6,\n",
    "    \"b\", 1, 8.5\n",
    ")"
   ]
  },
  {
   "cell_type": "markdown",
   "metadata": {},
   "source": [
    "#### Tibbles vs data.frame\n",
    "- There are two main differences in the usage of a tibble vs. a classic data.frame: printing and subsetting.\n",
    "\n",
    "- **Printing**:\n",
    "    - Tibbles have a refined print method that shows only the first 10 rows, and all the columns that fit on screen. This makes it much easier to work with large data. In addition to its name, each column reports its type, a nice feature borrowed from str()"
   ]
  },
  {
   "cell_type": "code",
   "execution_count": 18,
   "metadata": {},
   "outputs": [
    {
     "name": "stdout",
     "output_type": "stream",
     "text": [
      "\u001b[90m# A tibble: 450 × 3\u001b[39m\n",
      "       a     b     c\n",
      "   \u001b[3m\u001b[90m<int>\u001b[39m\u001b[23m \u001b[3m\u001b[90m<dbl>\u001b[39m\u001b[23m \u001b[3m\u001b[90m<dbl>\u001b[39m\u001b[23m\n",
      "\u001b[90m 1\u001b[39m     1     7  \u001b[4m4\u001b[24m352\n",
      "\u001b[90m 2\u001b[39m     2     7  \u001b[4m4\u001b[24m608\n",
      "\u001b[90m 3\u001b[39m     3     7  \u001b[4m4\u001b[24m864\n",
      "\u001b[90m 4\u001b[39m     4     7  \u001b[4m5\u001b[24m120\n",
      "\u001b[90m 5\u001b[39m     5     7  \u001b[4m5\u001b[24m376\n",
      "\u001b[90m 6\u001b[39m     6     7  \u001b[4m5\u001b[24m632\n",
      "\u001b[90m 7\u001b[39m     7     7  \u001b[4m5\u001b[24m888\n",
      "\u001b[90m 8\u001b[39m     8     7  \u001b[4m6\u001b[24m144\n",
      "\u001b[90m 9\u001b[39m     9     7  \u001b[4m6\u001b[24m400\n",
      "\u001b[90m10\u001b[39m    10     7  \u001b[4m6\u001b[24m656\n",
      "\u001b[90m# … with 440 more rows\u001b[39m\n"
     ]
    }
   ],
   "source": [
    "print(tibble(\n",
    "    a = 1:450,\n",
    "    b = 7,\n",
    "    c = a * 256 + 4096\n",
    "))"
   ]
  },
  {
   "cell_type": "markdown",
   "metadata": {},
   "source": [
    "- in case you want to print more than the first 10 rows or certain columns, you can use the `print()` function with additional parameters.\n",
    "    - `n` is the number of rows you wish to print.\n",
    "    - `width` is the number of columns to display.\n",
    "        - Inf to display all columns.\n",
    "- Additional options: <a href=\"https://r4ds.had.co.nz/tibbles.html\">more information</a>"
   ]
  },
  {
   "cell_type": "code",
   "execution_count": 26,
   "metadata": {},
   "outputs": [
    {
     "name": "stdout",
     "output_type": "stream",
     "text": [
      "\u001b[90m# A tibble: 34,786 × 13\u001b[39m\n",
      "  record_id month   day  year plot_id species_id sex   hindfoot_length weight\n",
      "      \u001b[3m\u001b[90m<dbl>\u001b[39m\u001b[23m \u001b[3m\u001b[90m<dbl>\u001b[39m\u001b[23m \u001b[3m\u001b[90m<dbl>\u001b[39m\u001b[23m \u001b[3m\u001b[90m<dbl>\u001b[39m\u001b[23m   \u001b[3m\u001b[90m<dbl>\u001b[39m\u001b[23m \u001b[3m\u001b[90m<chr>\u001b[39m\u001b[23m      \u001b[3m\u001b[90m<chr>\u001b[39m\u001b[23m           \u001b[3m\u001b[90m<dbl>\u001b[39m\u001b[23m  \u001b[3m\u001b[90m<dbl>\u001b[39m\u001b[23m\n",
      "\u001b[90m1\u001b[39m         1     7    16  \u001b[4m1\u001b[24m977       2 NL         M                  32     \u001b[31mNA\u001b[39m\n",
      "\u001b[90m2\u001b[39m        72     8    19  \u001b[4m1\u001b[24m977       2 NL         M                  31     \u001b[31mNA\u001b[39m\n",
      "\u001b[90m3\u001b[39m       224     9    13  \u001b[4m1\u001b[24m977       2 NL         \u001b[31mNA\u001b[39m                 \u001b[31mNA\u001b[39m     \u001b[31mNA\u001b[39m\n",
      "\u001b[90m4\u001b[39m       266    10    16  \u001b[4m1\u001b[24m977       2 NL         \u001b[31mNA\u001b[39m                 \u001b[31mNA\u001b[39m     \u001b[31mNA\u001b[39m\n",
      "  genus   species  taxa   plot_type\n",
      "  \u001b[3m\u001b[90m<chr>\u001b[39m\u001b[23m   \u001b[3m\u001b[90m<chr>\u001b[39m\u001b[23m    \u001b[3m\u001b[90m<chr>\u001b[39m\u001b[23m  \u001b[3m\u001b[90m<chr>\u001b[39m\u001b[23m    \n",
      "\u001b[90m1\u001b[39m Neotoma albigula Rodent Control  \n",
      "\u001b[90m2\u001b[39m Neotoma albigula Rodent Control  \n",
      "\u001b[90m3\u001b[39m Neotoma albigula Rodent Control  \n",
      "\u001b[90m4\u001b[39m Neotoma albigula Rodent Control  \n",
      "\u001b[90m# … with 34,782 more rows\u001b[39m\n"
     ]
    }
   ],
   "source": [
    "surveys %>% print(n = 4, width = Inf)"
   ]
  },
  {
   "cell_type": "markdown",
   "metadata": {},
   "source": [
    "- **Subsetting**\n",
    "    - If you want to pull out a single variable, you need some new tools:\n",
    "        - `$`\n",
    "            - Only extracts by name but it is a little less typing.\n",
    "        - `[[`\n",
    "            - You can extract by name or position."
   ]
  },
  {
   "cell_type": "code",
   "execution_count": 10,
   "metadata": {
    "scrolled": false,
    "vscode": {
     "languageId": "r"
    }
   },
   "outputs": [
    {
     "data": {
      "text/html": [
       "<table class=\"dataframe\">\n",
       "<caption>A tibble: 1 × 1</caption>\n",
       "<thead>\n",
       "\t<tr><th scope=col>month</th></tr>\n",
       "\t<tr><th scope=col>&lt;dbl&gt;</th></tr>\n",
       "</thead>\n",
       "<tbody>\n",
       "\t<tr><td>7</td></tr>\n",
       "</tbody>\n",
       "</table>\n"
      ],
      "text/latex": [
       "A tibble: 1 × 1\n",
       "\\begin{tabular}{l}\n",
       " month\\\\\n",
       " <dbl>\\\\\n",
       "\\hline\n",
       "\t 7\\\\\n",
       "\\end{tabular}\n"
      ],
      "text/markdown": [
       "\n",
       "A tibble: 1 × 1\n",
       "\n",
       "| month &lt;dbl&gt; |\n",
       "|---|\n",
       "| 7 |\n",
       "\n"
      ],
      "text/plain": [
       "  month\n",
       "1 7    "
      ]
     },
     "metadata": {},
     "output_type": "display_data"
    }
   ],
   "source": [
    "# - returns a tibble as a result\n",
    "# - tibbles are data frames that tweak some older behaviours to make \n",
    "# life a little easier\n",
    "surveys[1,2]"
   ]
  },
  {
   "cell_type": "code",
   "execution_count": null,
   "metadata": {},
   "outputs": [],
   "source": []
  },
  {
   "cell_type": "markdown",
   "metadata": {},
   "source": [
    "## Здраво"
   ]
  },
  {
   "cell_type": "code",
   "execution_count": null,
   "metadata": {},
   "outputs": [],
   "source": []
  }
 ],
 "metadata": {
  "kernelspec": {
   "display_name": "R",
   "language": "R",
   "name": "ir"
  },
  "language_info": {
   "codemirror_mode": "r",
   "file_extension": ".r",
   "mimetype": "text/x-r-source",
   "name": "R",
   "pygments_lexer": "r",
   "version": "4.2.1"
  },
  "vscode": {
   "interpreter": {
    "hash": "e1a1742cee150d6bc6dc333beb0112920bf46a54197eddbeddb0439d4e623b52"
   }
  }
 },
 "nbformat": 4,
 "nbformat_minor": 2
}
