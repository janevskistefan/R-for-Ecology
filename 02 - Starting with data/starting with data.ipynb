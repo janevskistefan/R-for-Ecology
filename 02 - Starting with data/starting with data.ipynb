{
 "cells": [
  {
   "cell_type": "markdown",
   "metadata": {},
   "source": [
    "# 02. Reading data with R"
   ]
  },
  {
   "cell_type": "code",
   "execution_count": null,
   "metadata": {
    "scrolled": false,
    "vscode": {
     "languageId": "r"
    }
   },
   "outputs": [],
   "source": [
    "install.packages(\"tidyverse\")\n",
    "library(tidyverse)\n",
    "use_lintr()"
   ]
  },
  {
   "cell_type": "markdown",
   "metadata": {},
   "source": [
    "## `read_csv`\n",
    "- `read_csv` looks through the first 1000 rows of each column and guesses its data type\n",
    "- You have the option to specify the data type for a column manually\n",
    "by using col_types\n",
    "- read_csv assumes that fields are delineated by commas."
   ]
  },
  {
   "cell_type": "code",
   "execution_count": 418,
   "metadata": {
    "scrolled": true,
    "vscode": {
     "languageId": "r"
    }
   },
   "outputs": [
    {
     "name": "stderr",
     "output_type": "stream",
     "text": [
      "\u001b[1mRows: \u001b[22m\u001b[34m34786\u001b[39m \u001b[1mColumns: \u001b[22m\u001b[34m13\u001b[39m\n",
      "\u001b[36m──\u001b[39m \u001b[1mColumn specification\u001b[22m \u001b[36m────────────────────────────────────────────────────────────────────────────────────────────────\u001b[39m\n",
      "\u001b[1mDelimiter:\u001b[22m \",\"\n",
      "\u001b[31mchr\u001b[39m (6): species_id, sex, genus, species, taxa, plot_type\n",
      "\u001b[32mdbl\u001b[39m (7): record_id, month, day, year, plot_id, hindfoot_length, weight\n",
      "\n",
      "\u001b[36mℹ\u001b[39m Use `spec()` to retrieve the full column specification for this data.\n",
      "\u001b[36mℹ\u001b[39m Specify the column types or set `show_col_types = FALSE` to quiet this message.\n"
     ]
    }
   ],
   "source": [
    "surveys <- read_csv(\"../data_raw/portal_data_joined.csv\")"
   ]
  },
  {
   "cell_type": "code",
   "execution_count": 3,
   "metadata": {
    "vscode": {
     "languageId": "r"
    }
   },
   "outputs": [
    {
     "data": {
      "text/html": [
       "<table class=\"dataframe\">\n",
       "<caption>A tibble: 6 × 13</caption>\n",
       "<thead>\n",
       "\t<tr><th scope=col>record_id</th><th scope=col>month</th><th scope=col>day</th><th scope=col>year</th><th scope=col>plot_id</th><th scope=col>species_id</th><th scope=col>sex</th><th scope=col>hindfoot_length</th><th scope=col>weight</th><th scope=col>genus</th><th scope=col>species</th><th scope=col>taxa</th><th scope=col>plot_type</th></tr>\n",
       "\t<tr><th scope=col>&lt;dbl&gt;</th><th scope=col>&lt;dbl&gt;</th><th scope=col>&lt;dbl&gt;</th><th scope=col>&lt;dbl&gt;</th><th scope=col>&lt;dbl&gt;</th><th scope=col>&lt;chr&gt;</th><th scope=col>&lt;chr&gt;</th><th scope=col>&lt;dbl&gt;</th><th scope=col>&lt;dbl&gt;</th><th scope=col>&lt;chr&gt;</th><th scope=col>&lt;chr&gt;</th><th scope=col>&lt;chr&gt;</th><th scope=col>&lt;chr&gt;</th></tr>\n",
       "</thead>\n",
       "<tbody>\n",
       "\t<tr><td>  1</td><td> 7</td><td>16</td><td>1977</td><td>2</td><td>NL</td><td>M </td><td>32</td><td>NA</td><td>Neotoma</td><td>albigula</td><td>Rodent</td><td>Control</td></tr>\n",
       "\t<tr><td> 72</td><td> 8</td><td>19</td><td>1977</td><td>2</td><td>NL</td><td>M </td><td>31</td><td>NA</td><td>Neotoma</td><td>albigula</td><td>Rodent</td><td>Control</td></tr>\n",
       "\t<tr><td>224</td><td> 9</td><td>13</td><td>1977</td><td>2</td><td>NL</td><td>NA</td><td>NA</td><td>NA</td><td>Neotoma</td><td>albigula</td><td>Rodent</td><td>Control</td></tr>\n",
       "\t<tr><td>266</td><td>10</td><td>16</td><td>1977</td><td>2</td><td>NL</td><td>NA</td><td>NA</td><td>NA</td><td>Neotoma</td><td>albigula</td><td>Rodent</td><td>Control</td></tr>\n",
       "\t<tr><td>349</td><td>11</td><td>12</td><td>1977</td><td>2</td><td>NL</td><td>NA</td><td>NA</td><td>NA</td><td>Neotoma</td><td>albigula</td><td>Rodent</td><td>Control</td></tr>\n",
       "\t<tr><td>363</td><td>11</td><td>12</td><td>1977</td><td>2</td><td>NL</td><td>NA</td><td>NA</td><td>NA</td><td>Neotoma</td><td>albigula</td><td>Rodent</td><td>Control</td></tr>\n",
       "</tbody>\n",
       "</table>\n"
      ],
      "text/latex": [
       "A tibble: 6 × 13\n",
       "\\begin{tabular}{lllllllllllll}\n",
       " record\\_id & month & day & year & plot\\_id & species\\_id & sex & hindfoot\\_length & weight & genus & species & taxa & plot\\_type\\\\\n",
       " <dbl> & <dbl> & <dbl> & <dbl> & <dbl> & <chr> & <chr> & <dbl> & <dbl> & <chr> & <chr> & <chr> & <chr>\\\\\n",
       "\\hline\n",
       "\t   1 &  7 & 16 & 1977 & 2 & NL & M  & 32 & NA & Neotoma & albigula & Rodent & Control\\\\\n",
       "\t  72 &  8 & 19 & 1977 & 2 & NL & M  & 31 & NA & Neotoma & albigula & Rodent & Control\\\\\n",
       "\t 224 &  9 & 13 & 1977 & 2 & NL & NA & NA & NA & Neotoma & albigula & Rodent & Control\\\\\n",
       "\t 266 & 10 & 16 & 1977 & 2 & NL & NA & NA & NA & Neotoma & albigula & Rodent & Control\\\\\n",
       "\t 349 & 11 & 12 & 1977 & 2 & NL & NA & NA & NA & Neotoma & albigula & Rodent & Control\\\\\n",
       "\t 363 & 11 & 12 & 1977 & 2 & NL & NA & NA & NA & Neotoma & albigula & Rodent & Control\\\\\n",
       "\\end{tabular}\n"
      ],
      "text/markdown": [
       "\n",
       "A tibble: 6 × 13\n",
       "\n",
       "| record_id &lt;dbl&gt; | month &lt;dbl&gt; | day &lt;dbl&gt; | year &lt;dbl&gt; | plot_id &lt;dbl&gt; | species_id &lt;chr&gt; | sex &lt;chr&gt; | hindfoot_length &lt;dbl&gt; | weight &lt;dbl&gt; | genus &lt;chr&gt; | species &lt;chr&gt; | taxa &lt;chr&gt; | plot_type &lt;chr&gt; |\n",
       "|---|---|---|---|---|---|---|---|---|---|---|---|---|\n",
       "|   1 |  7 | 16 | 1977 | 2 | NL | M  | 32 | NA | Neotoma | albigula | Rodent | Control |\n",
       "|  72 |  8 | 19 | 1977 | 2 | NL | M  | 31 | NA | Neotoma | albigula | Rodent | Control |\n",
       "| 224 |  9 | 13 | 1977 | 2 | NL | NA | NA | NA | Neotoma | albigula | Rodent | Control |\n",
       "| 266 | 10 | 16 | 1977 | 2 | NL | NA | NA | NA | Neotoma | albigula | Rodent | Control |\n",
       "| 349 | 11 | 12 | 1977 | 2 | NL | NA | NA | NA | Neotoma | albigula | Rodent | Control |\n",
       "| 363 | 11 | 12 | 1977 | 2 | NL | NA | NA | NA | Neotoma | albigula | Rodent | Control |\n",
       "\n"
      ],
      "text/plain": [
       "  record_id month day year plot_id species_id sex hindfoot_length weight\n",
       "1   1        7    16  1977 2       NL         M   32              NA    \n",
       "2  72        8    19  1977 2       NL         M   31              NA    \n",
       "3 224        9    13  1977 2       NL         NA  NA              NA    \n",
       "4 266       10    16  1977 2       NL         NA  NA              NA    \n",
       "5 349       11    12  1977 2       NL         NA  NA              NA    \n",
       "6 363       11    12  1977 2       NL         NA  NA              NA    \n",
       "  genus   species  taxa   plot_type\n",
       "1 Neotoma albigula Rodent Control  \n",
       "2 Neotoma albigula Rodent Control  \n",
       "3 Neotoma albigula Rodent Control  \n",
       "4 Neotoma albigula Rodent Control  \n",
       "5 Neotoma albigula Rodent Control  \n",
       "6 Neotoma albigula Rodent Control  "
      ]
     },
     "metadata": {},
     "output_type": "display_data"
    }
   ],
   "source": [
    "# shows the first 6 rows\n",
    "head(surveys)"
   ]
  },
  {
   "cell_type": "markdown",
   "metadata": {},
   "source": [
    "## What are data frames\n",
    "- Data frames are the de facto data structure for most tabular data, and what we use for statistics and plotting. \n",
    "- A data frame is the reporesentation of data in the format of a table where the columns are vectors that all have the same length. Because columns are vectors, each column must contain a single type of data (e.g., characters, integers, factors)"
   ]
  },
  {
   "cell_type": "code",
   "execution_count": null,
   "metadata": {
    "vscode": {
     "languageId": "r"
    }
   },
   "outputs": [],
   "source": [
    "# returns the structure of a dataframe\n",
    "str(surveys)"
   ]
  },
  {
   "cell_type": "markdown",
   "metadata": {},
   "source": [
    "## Inspecting data frames"
   ]
  },
  {
   "cell_type": "markdown",
   "metadata": {},
   "source": [
    "### Size:"
   ]
  },
  {
   "cell_type": "code",
   "execution_count": null,
   "metadata": {
    "vscode": {
     "languageId": "r"
    }
   },
   "outputs": [],
   "source": [
    "# dimensions of a dataframe\n",
    "dim(surveys)"
   ]
  },
  {
   "cell_type": "code",
   "execution_count": 22,
   "metadata": {
    "vscode": {
     "languageId": "r"
    }
   },
   "outputs": [
    {
     "data": {
      "text/html": [
       "34786"
      ],
      "text/latex": [
       "34786"
      ],
      "text/markdown": [
       "34786"
      ],
      "text/plain": [
       "[1] 34786"
      ]
     },
     "metadata": {},
     "output_type": "display_data"
    }
   ],
   "source": [
    "# returns the number of rows in a data frame passed as an argument\n",
    "nrow(surveys)"
   ]
  },
  {
   "cell_type": "code",
   "execution_count": 23,
   "metadata": {
    "vscode": {
     "languageId": "r"
    }
   },
   "outputs": [
    {
     "data": {
      "text/html": [
       "13"
      ],
      "text/latex": [
       "13"
      ],
      "text/markdown": [
       "13"
      ],
      "text/plain": [
       "[1] 13"
      ]
     },
     "metadata": {},
     "output_type": "display_data"
    }
   ],
   "source": [
    "# returns the number of columns in a data frame passed as an argument\n",
    "ncol(surveys)"
   ]
  },
  {
   "cell_type": "markdown",
   "metadata": {},
   "source": [
    "### Content:"
   ]
  },
  {
   "cell_type": "code",
   "execution_count": 27,
   "metadata": {
    "vscode": {
     "languageId": "r"
    }
   },
   "outputs": [
    {
     "data": {
      "text/html": [
       "<table class=\"dataframe\">\n",
       "<caption>A tibble: 6 × 13</caption>\n",
       "<thead>\n",
       "\t<tr><th scope=col>record_id</th><th scope=col>month</th><th scope=col>day</th><th scope=col>year</th><th scope=col>plot_id</th><th scope=col>species_id</th><th scope=col>sex</th><th scope=col>hindfoot_length</th><th scope=col>weight</th><th scope=col>genus</th><th scope=col>species</th><th scope=col>taxa</th><th scope=col>plot_type</th></tr>\n",
       "\t<tr><th scope=col>&lt;dbl&gt;</th><th scope=col>&lt;dbl&gt;</th><th scope=col>&lt;dbl&gt;</th><th scope=col>&lt;dbl&gt;</th><th scope=col>&lt;dbl&gt;</th><th scope=col>&lt;chr&gt;</th><th scope=col>&lt;chr&gt;</th><th scope=col>&lt;dbl&gt;</th><th scope=col>&lt;dbl&gt;</th><th scope=col>&lt;chr&gt;</th><th scope=col>&lt;chr&gt;</th><th scope=col>&lt;chr&gt;</th><th scope=col>&lt;chr&gt;</th></tr>\n",
       "</thead>\n",
       "<tbody>\n",
       "\t<tr><td>  1</td><td> 7</td><td>16</td><td>1977</td><td>2</td><td>NL</td><td>M </td><td>32</td><td>NA</td><td>Neotoma</td><td>albigula</td><td>Rodent</td><td>Control</td></tr>\n",
       "\t<tr><td> 72</td><td> 8</td><td>19</td><td>1977</td><td>2</td><td>NL</td><td>M </td><td>31</td><td>NA</td><td>Neotoma</td><td>albigula</td><td>Rodent</td><td>Control</td></tr>\n",
       "\t<tr><td>224</td><td> 9</td><td>13</td><td>1977</td><td>2</td><td>NL</td><td>NA</td><td>NA</td><td>NA</td><td>Neotoma</td><td>albigula</td><td>Rodent</td><td>Control</td></tr>\n",
       "\t<tr><td>266</td><td>10</td><td>16</td><td>1977</td><td>2</td><td>NL</td><td>NA</td><td>NA</td><td>NA</td><td>Neotoma</td><td>albigula</td><td>Rodent</td><td>Control</td></tr>\n",
       "\t<tr><td>349</td><td>11</td><td>12</td><td>1977</td><td>2</td><td>NL</td><td>NA</td><td>NA</td><td>NA</td><td>Neotoma</td><td>albigula</td><td>Rodent</td><td>Control</td></tr>\n",
       "\t<tr><td>363</td><td>11</td><td>12</td><td>1977</td><td>2</td><td>NL</td><td>NA</td><td>NA</td><td>NA</td><td>Neotoma</td><td>albigula</td><td>Rodent</td><td>Control</td></tr>\n",
       "</tbody>\n",
       "</table>\n"
      ],
      "text/latex": [
       "A tibble: 6 × 13\n",
       "\\begin{tabular}{lllllllllllll}\n",
       " record\\_id & month & day & year & plot\\_id & species\\_id & sex & hindfoot\\_length & weight & genus & species & taxa & plot\\_type\\\\\n",
       " <dbl> & <dbl> & <dbl> & <dbl> & <dbl> & <chr> & <chr> & <dbl> & <dbl> & <chr> & <chr> & <chr> & <chr>\\\\\n",
       "\\hline\n",
       "\t   1 &  7 & 16 & 1977 & 2 & NL & M  & 32 & NA & Neotoma & albigula & Rodent & Control\\\\\n",
       "\t  72 &  8 & 19 & 1977 & 2 & NL & M  & 31 & NA & Neotoma & albigula & Rodent & Control\\\\\n",
       "\t 224 &  9 & 13 & 1977 & 2 & NL & NA & NA & NA & Neotoma & albigula & Rodent & Control\\\\\n",
       "\t 266 & 10 & 16 & 1977 & 2 & NL & NA & NA & NA & Neotoma & albigula & Rodent & Control\\\\\n",
       "\t 349 & 11 & 12 & 1977 & 2 & NL & NA & NA & NA & Neotoma & albigula & Rodent & Control\\\\\n",
       "\t 363 & 11 & 12 & 1977 & 2 & NL & NA & NA & NA & Neotoma & albigula & Rodent & Control\\\\\n",
       "\\end{tabular}\n"
      ],
      "text/markdown": [
       "\n",
       "A tibble: 6 × 13\n",
       "\n",
       "| record_id &lt;dbl&gt; | month &lt;dbl&gt; | day &lt;dbl&gt; | year &lt;dbl&gt; | plot_id &lt;dbl&gt; | species_id &lt;chr&gt; | sex &lt;chr&gt; | hindfoot_length &lt;dbl&gt; | weight &lt;dbl&gt; | genus &lt;chr&gt; | species &lt;chr&gt; | taxa &lt;chr&gt; | plot_type &lt;chr&gt; |\n",
       "|---|---|---|---|---|---|---|---|---|---|---|---|---|\n",
       "|   1 |  7 | 16 | 1977 | 2 | NL | M  | 32 | NA | Neotoma | albigula | Rodent | Control |\n",
       "|  72 |  8 | 19 | 1977 | 2 | NL | M  | 31 | NA | Neotoma | albigula | Rodent | Control |\n",
       "| 224 |  9 | 13 | 1977 | 2 | NL | NA | NA | NA | Neotoma | albigula | Rodent | Control |\n",
       "| 266 | 10 | 16 | 1977 | 2 | NL | NA | NA | NA | Neotoma | albigula | Rodent | Control |\n",
       "| 349 | 11 | 12 | 1977 | 2 | NL | NA | NA | NA | Neotoma | albigula | Rodent | Control |\n",
       "| 363 | 11 | 12 | 1977 | 2 | NL | NA | NA | NA | Neotoma | albigula | Rodent | Control |\n",
       "\n"
      ],
      "text/plain": [
       "  record_id month day year plot_id species_id sex hindfoot_length weight\n",
       "1   1        7    16  1977 2       NL         M   32              NA    \n",
       "2  72        8    19  1977 2       NL         M   31              NA    \n",
       "3 224        9    13  1977 2       NL         NA  NA              NA    \n",
       "4 266       10    16  1977 2       NL         NA  NA              NA    \n",
       "5 349       11    12  1977 2       NL         NA  NA              NA    \n",
       "6 363       11    12  1977 2       NL         NA  NA              NA    \n",
       "  genus   species  taxa   plot_type\n",
       "1 Neotoma albigula Rodent Control  \n",
       "2 Neotoma albigula Rodent Control  \n",
       "3 Neotoma albigula Rodent Control  \n",
       "4 Neotoma albigula Rodent Control  \n",
       "5 Neotoma albigula Rodent Control  \n",
       "6 Neotoma albigula Rodent Control  "
      ]
     },
     "metadata": {},
     "output_type": "display_data"
    }
   ],
   "source": [
    "# shows the first 6 rows\n",
    "head(surveys)"
   ]
  },
  {
   "cell_type": "code",
   "execution_count": 28,
   "metadata": {
    "vscode": {
     "languageId": "r"
    }
   },
   "outputs": [
    {
     "data": {
      "text/html": [
       "<table class=\"dataframe\">\n",
       "<caption>A tibble: 6 × 13</caption>\n",
       "<thead>\n",
       "\t<tr><th scope=col>record_id</th><th scope=col>month</th><th scope=col>day</th><th scope=col>year</th><th scope=col>plot_id</th><th scope=col>species_id</th><th scope=col>sex</th><th scope=col>hindfoot_length</th><th scope=col>weight</th><th scope=col>genus</th><th scope=col>species</th><th scope=col>taxa</th><th scope=col>plot_type</th></tr>\n",
       "\t<tr><th scope=col>&lt;dbl&gt;</th><th scope=col>&lt;dbl&gt;</th><th scope=col>&lt;dbl&gt;</th><th scope=col>&lt;dbl&gt;</th><th scope=col>&lt;dbl&gt;</th><th scope=col>&lt;chr&gt;</th><th scope=col>&lt;chr&gt;</th><th scope=col>&lt;dbl&gt;</th><th scope=col>&lt;dbl&gt;</th><th scope=col>&lt;chr&gt;</th><th scope=col>&lt;chr&gt;</th><th scope=col>&lt;chr&gt;</th><th scope=col>&lt;chr&gt;</th></tr>\n",
       "</thead>\n",
       "<tbody>\n",
       "\t<tr><td>26787</td><td> 9</td><td>27</td><td>1997</td><td>7</td><td>PL</td><td>F </td><td>21</td><td>16</td><td>Peromyscus </td><td>leucopus</td><td>Rodent</td><td>Rodent Exclosure</td></tr>\n",
       "\t<tr><td>26966</td><td>10</td><td>25</td><td>1997</td><td>7</td><td>PL</td><td>M </td><td>20</td><td>16</td><td>Peromyscus </td><td>leucopus</td><td>Rodent</td><td>Rodent Exclosure</td></tr>\n",
       "\t<tr><td>27185</td><td>11</td><td>22</td><td>1997</td><td>7</td><td>PL</td><td>F </td><td>21</td><td>22</td><td>Peromyscus </td><td>leucopus</td><td>Rodent</td><td>Rodent Exclosure</td></tr>\n",
       "\t<tr><td>27792</td><td> 5</td><td> 2</td><td>1998</td><td>7</td><td>PL</td><td>F </td><td>20</td><td> 8</td><td>Peromyscus </td><td>leucopus</td><td>Rodent</td><td>Rodent Exclosure</td></tr>\n",
       "\t<tr><td>28806</td><td>11</td><td>21</td><td>1998</td><td>7</td><td>PX</td><td>NA</td><td>NA</td><td>NA</td><td>Chaetodipus</td><td>sp.     </td><td>Rodent</td><td>Rodent Exclosure</td></tr>\n",
       "\t<tr><td>30986</td><td> 7</td><td> 1</td><td>2000</td><td>7</td><td>PX</td><td>NA</td><td>NA</td><td>NA</td><td>Chaetodipus</td><td>sp.     </td><td>Rodent</td><td>Rodent Exclosure</td></tr>\n",
       "</tbody>\n",
       "</table>\n"
      ],
      "text/latex": [
       "A tibble: 6 × 13\n",
       "\\begin{tabular}{lllllllllllll}\n",
       " record\\_id & month & day & year & plot\\_id & species\\_id & sex & hindfoot\\_length & weight & genus & species & taxa & plot\\_type\\\\\n",
       " <dbl> & <dbl> & <dbl> & <dbl> & <dbl> & <chr> & <chr> & <dbl> & <dbl> & <chr> & <chr> & <chr> & <chr>\\\\\n",
       "\\hline\n",
       "\t 26787 &  9 & 27 & 1997 & 7 & PL & F  & 21 & 16 & Peromyscus  & leucopus & Rodent & Rodent Exclosure\\\\\n",
       "\t 26966 & 10 & 25 & 1997 & 7 & PL & M  & 20 & 16 & Peromyscus  & leucopus & Rodent & Rodent Exclosure\\\\\n",
       "\t 27185 & 11 & 22 & 1997 & 7 & PL & F  & 21 & 22 & Peromyscus  & leucopus & Rodent & Rodent Exclosure\\\\\n",
       "\t 27792 &  5 &  2 & 1998 & 7 & PL & F  & 20 &  8 & Peromyscus  & leucopus & Rodent & Rodent Exclosure\\\\\n",
       "\t 28806 & 11 & 21 & 1998 & 7 & PX & NA & NA & NA & Chaetodipus & sp.      & Rodent & Rodent Exclosure\\\\\n",
       "\t 30986 &  7 &  1 & 2000 & 7 & PX & NA & NA & NA & Chaetodipus & sp.      & Rodent & Rodent Exclosure\\\\\n",
       "\\end{tabular}\n"
      ],
      "text/markdown": [
       "\n",
       "A tibble: 6 × 13\n",
       "\n",
       "| record_id &lt;dbl&gt; | month &lt;dbl&gt; | day &lt;dbl&gt; | year &lt;dbl&gt; | plot_id &lt;dbl&gt; | species_id &lt;chr&gt; | sex &lt;chr&gt; | hindfoot_length &lt;dbl&gt; | weight &lt;dbl&gt; | genus &lt;chr&gt; | species &lt;chr&gt; | taxa &lt;chr&gt; | plot_type &lt;chr&gt; |\n",
       "|---|---|---|---|---|---|---|---|---|---|---|---|---|\n",
       "| 26787 |  9 | 27 | 1997 | 7 | PL | F  | 21 | 16 | Peromyscus  | leucopus | Rodent | Rodent Exclosure |\n",
       "| 26966 | 10 | 25 | 1997 | 7 | PL | M  | 20 | 16 | Peromyscus  | leucopus | Rodent | Rodent Exclosure |\n",
       "| 27185 | 11 | 22 | 1997 | 7 | PL | F  | 21 | 22 | Peromyscus  | leucopus | Rodent | Rodent Exclosure |\n",
       "| 27792 |  5 |  2 | 1998 | 7 | PL | F  | 20 |  8 | Peromyscus  | leucopus | Rodent | Rodent Exclosure |\n",
       "| 28806 | 11 | 21 | 1998 | 7 | PX | NA | NA | NA | Chaetodipus | sp.      | Rodent | Rodent Exclosure |\n",
       "| 30986 |  7 |  1 | 2000 | 7 | PX | NA | NA | NA | Chaetodipus | sp.      | Rodent | Rodent Exclosure |\n",
       "\n"
      ],
      "text/plain": [
       "  record_id month day year plot_id species_id sex hindfoot_length weight\n",
       "1 26787      9    27  1997 7       PL         F   21              16    \n",
       "2 26966     10    25  1997 7       PL         M   20              16    \n",
       "3 27185     11    22  1997 7       PL         F   21              22    \n",
       "4 27792      5     2  1998 7       PL         F   20               8    \n",
       "5 28806     11    21  1998 7       PX         NA  NA              NA    \n",
       "6 30986      7     1  2000 7       PX         NA  NA              NA    \n",
       "  genus       species  taxa   plot_type       \n",
       "1 Peromyscus  leucopus Rodent Rodent Exclosure\n",
       "2 Peromyscus  leucopus Rodent Rodent Exclosure\n",
       "3 Peromyscus  leucopus Rodent Rodent Exclosure\n",
       "4 Peromyscus  leucopus Rodent Rodent Exclosure\n",
       "5 Chaetodipus sp.      Rodent Rodent Exclosure\n",
       "6 Chaetodipus sp.      Rodent Rodent Exclosure"
      ]
     },
     "metadata": {},
     "output_type": "display_data"
    }
   ],
   "source": [
    "# shows the last 6 rows\n",
    "tail(surveys)"
   ]
  },
  {
   "cell_type": "code",
   "execution_count": 16,
   "metadata": {
    "vscode": {
     "languageId": "r"
    }
   },
   "outputs": [
    {
     "data": {
      "text/html": [
       "<style>\n",
       ".list-inline {list-style: none; margin:0; padding: 0}\n",
       ".list-inline>li {display: inline-block}\n",
       ".list-inline>li:not(:last-child)::after {content: \"\\00b7\"; padding: 0 .5ex}\n",
       "</style>\n",
       "<ol class=list-inline><li>'record_id'</li><li>'month'</li><li>'day'</li><li>'year'</li><li>'plot_id'</li><li>'species_id'</li><li>'sex'</li><li>'hindfoot_length'</li><li>'weight'</li><li>'genus'</li><li>'species'</li><li>'taxa'</li><li>'plot_type'</li></ol>\n"
      ],
      "text/latex": [
       "\\begin{enumerate*}\n",
       "\\item 'record\\_id'\n",
       "\\item 'month'\n",
       "\\item 'day'\n",
       "\\item 'year'\n",
       "\\item 'plot\\_id'\n",
       "\\item 'species\\_id'\n",
       "\\item 'sex'\n",
       "\\item 'hindfoot\\_length'\n",
       "\\item 'weight'\n",
       "\\item 'genus'\n",
       "\\item 'species'\n",
       "\\item 'taxa'\n",
       "\\item 'plot\\_type'\n",
       "\\end{enumerate*}\n"
      ],
      "text/markdown": [
       "1. 'record_id'\n",
       "2. 'month'\n",
       "3. 'day'\n",
       "4. 'year'\n",
       "5. 'plot_id'\n",
       "6. 'species_id'\n",
       "7. 'sex'\n",
       "8. 'hindfoot_length'\n",
       "9. 'weight'\n",
       "10. 'genus'\n",
       "11. 'species'\n",
       "12. 'taxa'\n",
       "13. 'plot_type'\n",
       "\n",
       "\n"
      ],
      "text/plain": [
       " [1] \"record_id\"       \"month\"           \"day\"             \"year\"           \n",
       " [5] \"plot_id\"         \"species_id\"      \"sex\"             \"hindfoot_length\"\n",
       " [9] \"weight\"          \"genus\"           \"species\"         \"taxa\"           \n",
       "[13] \"plot_type\"      "
      ]
     },
     "metadata": {},
     "output_type": "display_data"
    }
   ],
   "source": [
    "# returns names of columns present in a dataframe\n",
    "names(surveys)"
   ]
  },
  {
   "cell_type": "code",
   "execution_count": 17,
   "metadata": {
    "vscode": {
     "languageId": "r"
    }
   },
   "outputs": [
    {
     "data": {
      "text/html": [
       "<style>\n",
       ".list-inline {list-style: none; margin:0; padding: 0}\n",
       ".list-inline>li {display: inline-block}\n",
       ".list-inline>li:not(:last-child)::after {content: \"\\00b7\"; padding: 0 .5ex}\n",
       "</style>\n",
       "<ol class=list-inline><li>'record_id'</li><li>'month'</li><li>'day'</li><li>'year'</li><li>'plot_id'</li><li>'species_id'</li><li>'sex'</li><li>'hindfoot_length'</li><li>'weight'</li><li>'genus'</li><li>'species'</li><li>'taxa'</li><li>'plot_type'</li></ol>\n"
      ],
      "text/latex": [
       "\\begin{enumerate*}\n",
       "\\item 'record\\_id'\n",
       "\\item 'month'\n",
       "\\item 'day'\n",
       "\\item 'year'\n",
       "\\item 'plot\\_id'\n",
       "\\item 'species\\_id'\n",
       "\\item 'sex'\n",
       "\\item 'hindfoot\\_length'\n",
       "\\item 'weight'\n",
       "\\item 'genus'\n",
       "\\item 'species'\n",
       "\\item 'taxa'\n",
       "\\item 'plot\\_type'\n",
       "\\end{enumerate*}\n"
      ],
      "text/markdown": [
       "1. 'record_id'\n",
       "2. 'month'\n",
       "3. 'day'\n",
       "4. 'year'\n",
       "5. 'plot_id'\n",
       "6. 'species_id'\n",
       "7. 'sex'\n",
       "8. 'hindfoot_length'\n",
       "9. 'weight'\n",
       "10. 'genus'\n",
       "11. 'species'\n",
       "12. 'taxa'\n",
       "13. 'plot_type'\n",
       "\n",
       "\n"
      ],
      "text/plain": [
       " [1] \"record_id\"       \"month\"           \"day\"             \"year\"           \n",
       " [5] \"plot_id\"         \"species_id\"      \"sex\"             \"hindfoot_length\"\n",
       " [9] \"weight\"          \"genus\"           \"species\"         \"taxa\"           \n",
       "[13] \"plot_type\"      "
      ]
     },
     "metadata": {},
     "output_type": "display_data"
    }
   ],
   "source": [
    "# exactly the same behavior as names(surveys)\n",
    "colnames(surveys)"
   ]
  },
  {
   "cell_type": "code",
   "execution_count": null,
   "metadata": {
    "vscode": {
     "languageId": "r"
    }
   },
   "outputs": [],
   "source": [
    "# returns names of rows\n",
    "rownames(surveys)"
   ]
  },
  {
   "cell_type": "markdown",
   "metadata": {},
   "source": [
    "### Summary:"
   ]
  },
  {
   "cell_type": "code",
   "execution_count": 19,
   "metadata": {
    "vscode": {
     "languageId": "r"
    }
   },
   "outputs": [
    {
     "data": {
      "text/plain": [
       "   record_id         month             day            year         plot_id     \n",
       " Min.   :    1   Min.   : 1.000   Min.   : 1.0   Min.   :1977   Min.   : 1.00  \n",
       " 1st Qu.: 8964   1st Qu.: 4.000   1st Qu.: 9.0   1st Qu.:1984   1st Qu.: 5.00  \n",
       " Median :17762   Median : 6.000   Median :16.0   Median :1990   Median :11.00  \n",
       " Mean   :17804   Mean   : 6.474   Mean   :16.1   Mean   :1990   Mean   :11.34  \n",
       " 3rd Qu.:26655   3rd Qu.:10.000   3rd Qu.:23.0   3rd Qu.:1997   3rd Qu.:17.00  \n",
       " Max.   :35548   Max.   :12.000   Max.   :31.0   Max.   :2002   Max.   :24.00  \n",
       "                                                                               \n",
       "  species_id            sex            hindfoot_length     weight      \n",
       " Length:34786       Length:34786       Min.   : 2.00   Min.   :  4.00  \n",
       " Class :character   Class :character   1st Qu.:21.00   1st Qu.: 20.00  \n",
       " Mode  :character   Mode  :character   Median :32.00   Median : 37.00  \n",
       "                                       Mean   :29.29   Mean   : 42.67  \n",
       "                                       3rd Qu.:36.00   3rd Qu.: 48.00  \n",
       "                                       Max.   :70.00   Max.   :280.00  \n",
       "                                       NA's   :3348    NA's   :2503    \n",
       "    genus             species              taxa            plot_type        \n",
       " Length:34786       Length:34786       Length:34786       Length:34786      \n",
       " Class :character   Class :character   Class :character   Class :character  \n",
       " Mode  :character   Mode  :character   Mode  :character   Mode  :character  \n",
       "                                                                            \n",
       "                                                                            \n",
       "                                                                            \n",
       "                                                                            "
      ]
     },
     "metadata": {},
     "output_type": "display_data"
    }
   ],
   "source": [
    "# returns summary statistics for each column\n",
    "summary(surveys)"
   ]
  },
  {
   "cell_type": "markdown",
   "metadata": {},
   "source": [
    "Note: most of these functions are \"generic\", they can be used on other types of objects besides `data.frame`"
   ]
  },
  {
   "cell_type": "markdown",
   "metadata": {},
   "source": [
    "### Challenge #1\n",
    "Based on the output of str(surveys), can you answer the following questions?\n",
    "- What is the class of the object surveys?\n",
    "- How many rows and how many columns are in this object?"
   ]
  },
  {
   "cell_type": "code",
   "execution_count": 15,
   "metadata": {
    "vscode": {
     "languageId": "r"
    }
   },
   "outputs": [
    {
     "name": "stdout",
     "output_type": "stream",
     "text": [
      "spec_tbl_df [34,786 × 13] (S3: spec_tbl_df/tbl_df/tbl/data.frame)\n",
      " $ record_id      : num [1:34786] 1 72 224 266 349 363 435 506 588 661 ...\n",
      " $ month          : num [1:34786] 7 8 9 10 11 11 12 1 2 3 ...\n",
      " $ day            : num [1:34786] 16 19 13 16 12 12 10 8 18 11 ...\n",
      " $ year           : num [1:34786] 1977 1977 1977 1977 1977 ...\n",
      " $ plot_id        : num [1:34786] 2 2 2 2 2 2 2 2 2 2 ...\n",
      " $ species_id     : chr [1:34786] \"NL\" \"NL\" \"NL\" \"NL\" ...\n",
      " $ sex            : chr [1:34786] \"M\" \"M\" NA NA ...\n",
      " $ hindfoot_length: num [1:34786] 32 31 NA NA NA NA NA NA NA NA ...\n",
      " $ weight         : num [1:34786] NA NA NA NA NA NA NA NA 218 NA ...\n",
      " $ genus          : chr [1:34786] \"Neotoma\" \"Neotoma\" \"Neotoma\" \"Neotoma\" ...\n",
      " $ species        : chr [1:34786] \"albigula\" \"albigula\" \"albigula\" \"albigula\" ...\n",
      " $ taxa           : chr [1:34786] \"Rodent\" \"Rodent\" \"Rodent\" \"Rodent\" ...\n",
      " $ plot_type      : chr [1:34786] \"Control\" \"Control\" \"Control\" \"Control\" ...\n",
      " - attr(*, \"spec\")=\n",
      "  .. cols(\n",
      "  ..   record_id = \u001b[32mcol_double()\u001b[39m,\n",
      "  ..   month = \u001b[32mcol_double()\u001b[39m,\n",
      "  ..   day = \u001b[32mcol_double()\u001b[39m,\n",
      "  ..   year = \u001b[32mcol_double()\u001b[39m,\n",
      "  ..   plot_id = \u001b[32mcol_double()\u001b[39m,\n",
      "  ..   species_id = \u001b[31mcol_character()\u001b[39m,\n",
      "  ..   sex = \u001b[31mcol_character()\u001b[39m,\n",
      "  ..   hindfoot_length = \u001b[32mcol_double()\u001b[39m,\n",
      "  ..   weight = \u001b[32mcol_double()\u001b[39m,\n",
      "  ..   genus = \u001b[31mcol_character()\u001b[39m,\n",
      "  ..   species = \u001b[31mcol_character()\u001b[39m,\n",
      "  ..   taxa = \u001b[31mcol_character()\u001b[39m,\n",
      "  ..   plot_type = \u001b[31mcol_character()\u001b[39m\n",
      "  .. )\n",
      " - attr(*, \"problems\")=<externalptr> \n"
     ]
    }
   ],
   "source": [
    "str(surveys)"
   ]
  },
  {
   "cell_type": "markdown",
   "metadata": {},
   "source": [
    "Answers:\n",
    "- What is the class of the object surveys?\n",
    "    - data.frame\n",
    "- How many rows and how many columns are in this object?\n",
    "    - 34786 rows and 13 columns"
   ]
  },
  {
   "cell_type": "markdown",
   "metadata": {},
   "source": [
    "## Indexing and subsetting data\n",
    "- Our survey data frame has rows and columns (2 dimensions), if we want to extract some specific data from it, we need to specify the \"coordinates\" we want from it.\n",
    "    - Row number comes first, followed by column numbers.\n",
    "- Different ways of specifying these coordinates lead to results with different classes.\n",
    "\n",
    "### Tibbles\n",
    "- Tibbles are data frames that tweak some older behaviours to make life a little easier.\n",
    "- Tibbles can be created using `tibble()` which will also automatically recycle inputs of length 1, and allows you to refer to variables that you just created, as shown below.\n"
   ]
  },
  {
   "cell_type": "code",
   "execution_count": 13,
   "metadata": {},
   "outputs": [
    {
     "data": {
      "text/html": [
       "<table class=\"dataframe\">\n",
       "<caption>A tibble: 5 × 3</caption>\n",
       "<thead>\n",
       "\t<tr><th scope=col>x</th><th scope=col>y</th><th scope=col>z</th></tr>\n",
       "\t<tr><th scope=col>&lt;int&gt;</th><th scope=col>&lt;dbl&gt;</th><th scope=col>&lt;dbl&gt;</th></tr>\n",
       "</thead>\n",
       "<tbody>\n",
       "\t<tr><td>1</td><td>1</td><td> 2</td></tr>\n",
       "\t<tr><td>2</td><td>1</td><td> 5</td></tr>\n",
       "\t<tr><td>3</td><td>1</td><td>10</td></tr>\n",
       "\t<tr><td>4</td><td>1</td><td>17</td></tr>\n",
       "\t<tr><td>5</td><td>1</td><td>26</td></tr>\n",
       "</tbody>\n",
       "</table>\n"
      ],
      "text/latex": [
       "A tibble: 5 × 3\n",
       "\\begin{tabular}{lll}\n",
       " x & y & z\\\\\n",
       " <int> & <dbl> & <dbl>\\\\\n",
       "\\hline\n",
       "\t 1 & 1 &  2\\\\\n",
       "\t 2 & 1 &  5\\\\\n",
       "\t 3 & 1 & 10\\\\\n",
       "\t 4 & 1 & 17\\\\\n",
       "\t 5 & 1 & 26\\\\\n",
       "\\end{tabular}\n"
      ],
      "text/markdown": [
       "\n",
       "A tibble: 5 × 3\n",
       "\n",
       "| x &lt;int&gt; | y &lt;dbl&gt; | z &lt;dbl&gt; |\n",
       "|---|---|---|\n",
       "| 1 | 1 |  2 |\n",
       "| 2 | 1 |  5 |\n",
       "| 3 | 1 | 10 |\n",
       "| 4 | 1 | 17 |\n",
       "| 5 | 1 | 26 |\n",
       "\n"
      ],
      "text/plain": [
       "  x y z \n",
       "1 1 1  2\n",
       "2 2 1  5\n",
       "3 3 1 10\n",
       "4 4 1 17\n",
       "5 5 1 26"
      ]
     },
     "metadata": {},
     "output_type": "display_data"
    }
   ],
   "source": [
    "tibble(\n",
    "    x = 1:5,\n",
    "    y = 1,\n",
    "    z = x ^ 2 + y\n",
    ")"
   ]
  },
  {
   "cell_type": "markdown",
   "metadata": {},
   "source": [
    "- Another way to create a tibble is with tribble(), which is short for transponed tibble:"
   ]
  },
  {
   "cell_type": "code",
   "execution_count": 14,
   "metadata": {},
   "outputs": [
    {
     "data": {
      "text/html": [
       "<table class=\"dataframe\">\n",
       "<caption>A tibble: 2 × 3</caption>\n",
       "<thead>\n",
       "\t<tr><th scope=col>x</th><th scope=col>y</th><th scope=col>z</th></tr>\n",
       "\t<tr><th scope=col>&lt;chr&gt;</th><th scope=col>&lt;dbl&gt;</th><th scope=col>&lt;dbl&gt;</th></tr>\n",
       "</thead>\n",
       "<tbody>\n",
       "\t<tr><td>a</td><td>2</td><td>3.6</td></tr>\n",
       "\t<tr><td>b</td><td>1</td><td>8.5</td></tr>\n",
       "</tbody>\n",
       "</table>\n"
      ],
      "text/latex": [
       "A tibble: 2 × 3\n",
       "\\begin{tabular}{lll}\n",
       " x & y & z\\\\\n",
       " <chr> & <dbl> & <dbl>\\\\\n",
       "\\hline\n",
       "\t a & 2 & 3.6\\\\\n",
       "\t b & 1 & 8.5\\\\\n",
       "\\end{tabular}\n"
      ],
      "text/markdown": [
       "\n",
       "A tibble: 2 × 3\n",
       "\n",
       "| x &lt;chr&gt; | y &lt;dbl&gt; | z &lt;dbl&gt; |\n",
       "|---|---|---|\n",
       "| a | 2 | 3.6 |\n",
       "| b | 1 | 8.5 |\n",
       "\n"
      ],
      "text/plain": [
       "  x y z  \n",
       "1 a 2 3.6\n",
       "2 b 1 8.5"
      ]
     },
     "metadata": {},
     "output_type": "display_data"
    }
   ],
   "source": [
    "tribble(\n",
    "    ~x, ~y, ~z,\n",
    "    #--|--|----\n",
    "    \"a\", 2, 3.6,\n",
    "    \"b\", 1, 8.5\n",
    ")"
   ]
  },
  {
   "cell_type": "markdown",
   "metadata": {},
   "source": [
    "#### Tibbles vs data.frame\n",
    "- There are two main differences in the usage of a tibble vs. a classic data.frame: printing and subsetting.\n",
    "\n",
    "- **Printing**:\n",
    "    - Tibbles have a refined print method that shows only the first 10 rows, and all the columns that fit on screen. This makes it much easier to work with large data. In addition to its name, each column reports its type, a nice feature borrowed from str()"
   ]
  },
  {
   "cell_type": "code",
   "execution_count": 18,
   "metadata": {},
   "outputs": [
    {
     "name": "stdout",
     "output_type": "stream",
     "text": [
      "\u001b[90m# A tibble: 450 × 3\u001b[39m\n",
      "       a     b     c\n",
      "   \u001b[3m\u001b[90m<int>\u001b[39m\u001b[23m \u001b[3m\u001b[90m<dbl>\u001b[39m\u001b[23m \u001b[3m\u001b[90m<dbl>\u001b[39m\u001b[23m\n",
      "\u001b[90m 1\u001b[39m     1     7  \u001b[4m4\u001b[24m352\n",
      "\u001b[90m 2\u001b[39m     2     7  \u001b[4m4\u001b[24m608\n",
      "\u001b[90m 3\u001b[39m     3     7  \u001b[4m4\u001b[24m864\n",
      "\u001b[90m 4\u001b[39m     4     7  \u001b[4m5\u001b[24m120\n",
      "\u001b[90m 5\u001b[39m     5     7  \u001b[4m5\u001b[24m376\n",
      "\u001b[90m 6\u001b[39m     6     7  \u001b[4m5\u001b[24m632\n",
      "\u001b[90m 7\u001b[39m     7     7  \u001b[4m5\u001b[24m888\n",
      "\u001b[90m 8\u001b[39m     8     7  \u001b[4m6\u001b[24m144\n",
      "\u001b[90m 9\u001b[39m     9     7  \u001b[4m6\u001b[24m400\n",
      "\u001b[90m10\u001b[39m    10     7  \u001b[4m6\u001b[24m656\n",
      "\u001b[90m# … with 440 more rows\u001b[39m\n"
     ]
    }
   ],
   "source": [
    "print(tibble(\n",
    "    a = 1:450,\n",
    "    b = 7,\n",
    "    c = a * 256 + 4096\n",
    "))"
   ]
  },
  {
   "cell_type": "markdown",
   "metadata": {},
   "source": [
    "- in case you want to print more than the first 10 rows or certain columns, you can use the `print()` function with additional parameters.\n",
    "    - `n` is the number of rows you wish to print.\n",
    "    - `width` is the number of columns to display.\n",
    "        - Inf to display all columns.\n",
    "- Additional options: <a href=\"https://r4ds.had.co.nz/tibbles.html\">more information</a>"
   ]
  },
  {
   "cell_type": "code",
   "execution_count": 26,
   "metadata": {},
   "outputs": [
    {
     "name": "stdout",
     "output_type": "stream",
     "text": [
      "\u001b[90m# A tibble: 34,786 × 13\u001b[39m\n",
      "  record_id month   day  year plot_id species_id sex   hindfoot_length weight\n",
      "      \u001b[3m\u001b[90m<dbl>\u001b[39m\u001b[23m \u001b[3m\u001b[90m<dbl>\u001b[39m\u001b[23m \u001b[3m\u001b[90m<dbl>\u001b[39m\u001b[23m \u001b[3m\u001b[90m<dbl>\u001b[39m\u001b[23m   \u001b[3m\u001b[90m<dbl>\u001b[39m\u001b[23m \u001b[3m\u001b[90m<chr>\u001b[39m\u001b[23m      \u001b[3m\u001b[90m<chr>\u001b[39m\u001b[23m           \u001b[3m\u001b[90m<dbl>\u001b[39m\u001b[23m  \u001b[3m\u001b[90m<dbl>\u001b[39m\u001b[23m\n",
      "\u001b[90m1\u001b[39m         1     7    16  \u001b[4m1\u001b[24m977       2 NL         M                  32     \u001b[31mNA\u001b[39m\n",
      "\u001b[90m2\u001b[39m        72     8    19  \u001b[4m1\u001b[24m977       2 NL         M                  31     \u001b[31mNA\u001b[39m\n",
      "\u001b[90m3\u001b[39m       224     9    13  \u001b[4m1\u001b[24m977       2 NL         \u001b[31mNA\u001b[39m                 \u001b[31mNA\u001b[39m     \u001b[31mNA\u001b[39m\n",
      "\u001b[90m4\u001b[39m       266    10    16  \u001b[4m1\u001b[24m977       2 NL         \u001b[31mNA\u001b[39m                 \u001b[31mNA\u001b[39m     \u001b[31mNA\u001b[39m\n",
      "  genus   species  taxa   plot_type\n",
      "  \u001b[3m\u001b[90m<chr>\u001b[39m\u001b[23m   \u001b[3m\u001b[90m<chr>\u001b[39m\u001b[23m    \u001b[3m\u001b[90m<chr>\u001b[39m\u001b[23m  \u001b[3m\u001b[90m<chr>\u001b[39m\u001b[23m    \n",
      "\u001b[90m1\u001b[39m Neotoma albigula Rodent Control  \n",
      "\u001b[90m2\u001b[39m Neotoma albigula Rodent Control  \n",
      "\u001b[90m3\u001b[39m Neotoma albigula Rodent Control  \n",
      "\u001b[90m4\u001b[39m Neotoma albigula Rodent Control  \n",
      "\u001b[90m# … with 34,782 more rows\u001b[39m\n"
     ]
    }
   ],
   "source": [
    "surveys %>% print(n = 4, width = Inf)"
   ]
  },
  {
   "cell_type": "markdown",
   "metadata": {},
   "source": [
    "- **Subsetting**\n",
    "    - If you want to pull out a single variable (a vector with data from cells that are the intersection where a certain column and row meet), you need some new tools:\n",
    "        - `$`\n",
    "            - Only extracts by name but it is a little less typing.\n",
    "        - `[[`\n",
    "            - You can extract by name or position."
   ]
  },
  {
   "cell_type": "code",
   "execution_count": 33,
   "metadata": {
    "scrolled": true
   },
   "outputs": [
    {
     "data": {
      "text/html": [
       "<style>\n",
       ".list-inline {list-style: none; margin:0; padding: 0}\n",
       ".list-inline>li {display: inline-block}\n",
       ".list-inline>li:not(:last-child)::after {content: \"\\00b7\"; padding: 0 .5ex}\n",
       "</style>\n",
       "<ol class=list-inline><li>'Peromyscus'</li><li>'Peromyscus'</li><li>'Peromyscus'</li><li>'Peromyscus'</li><li>'Chaetodipus'</li><li>'Chaetodipus'</li></ol>\n"
      ],
      "text/latex": [
       "\\begin{enumerate*}\n",
       "\\item 'Peromyscus'\n",
       "\\item 'Peromyscus'\n",
       "\\item 'Peromyscus'\n",
       "\\item 'Peromyscus'\n",
       "\\item 'Chaetodipus'\n",
       "\\item 'Chaetodipus'\n",
       "\\end{enumerate*}\n"
      ],
      "text/markdown": [
       "1. 'Peromyscus'\n",
       "2. 'Peromyscus'\n",
       "3. 'Peromyscus'\n",
       "4. 'Peromyscus'\n",
       "5. 'Chaetodipus'\n",
       "6. 'Chaetodipus'\n",
       "\n",
       "\n"
      ],
      "text/plain": [
       "[1] \"Peromyscus\"  \"Peromyscus\"  \"Peromyscus\"  \"Peromyscus\"  \"Chaetodipus\"\n",
       "[6] \"Chaetodipus\""
      ]
     },
     "metadata": {},
     "output_type": "display_data"
    }
   ],
   "source": [
    "# Extracting by name using $:\n",
    "tail(surveys$genus)"
   ]
  },
  {
   "cell_type": "code",
   "execution_count": 37,
   "metadata": {},
   "outputs": [
    {
     "data": {
      "text/html": [
       "<style>\n",
       ".list-inline {list-style: none; margin:0; padding: 0}\n",
       ".list-inline>li {display: inline-block}\n",
       ".list-inline>li:not(:last-child)::after {content: \"\\00b7\"; padding: 0 .5ex}\n",
       "</style>\n",
       "<ol class=list-inline><li>'Peromyscus'</li><li>'Peromyscus'</li><li>'Peromyscus'</li><li>'Peromyscus'</li><li>'Chaetodipus'</li><li>'Chaetodipus'</li></ol>\n"
      ],
      "text/latex": [
       "\\begin{enumerate*}\n",
       "\\item 'Peromyscus'\n",
       "\\item 'Peromyscus'\n",
       "\\item 'Peromyscus'\n",
       "\\item 'Peromyscus'\n",
       "\\item 'Chaetodipus'\n",
       "\\item 'Chaetodipus'\n",
       "\\end{enumerate*}\n"
      ],
      "text/markdown": [
       "1. 'Peromyscus'\n",
       "2. 'Peromyscus'\n",
       "3. 'Peromyscus'\n",
       "4. 'Peromyscus'\n",
       "5. 'Chaetodipus'\n",
       "6. 'Chaetodipus'\n",
       "\n",
       "\n"
      ],
      "text/plain": [
       "[1] \"Peromyscus\"  \"Peromyscus\"  \"Peromyscus\"  \"Peromyscus\"  \"Chaetodipus\"\n",
       "[6] \"Chaetodipus\""
      ]
     },
     "metadata": {},
     "output_type": "display_data"
    }
   ],
   "source": [
    "# Extracting by name using [[:\n",
    "tail(surveys[[\"genus\"]])\n"
   ]
  },
  {
   "cell_type": "markdown",
   "metadata": {},
   "source": [
    "  - to use these in a pipe, you'll need to use the special placeholder `.`:"
   ]
  },
  {
   "cell_type": "code",
   "execution_count": 5,
   "metadata": {},
   "outputs": [
    {
     "data": {
      "text/html": [
       "<style>\n",
       ".list-inline {list-style: none; margin:0; padding: 0}\n",
       ".list-inline>li {display: inline-block}\n",
       ".list-inline>li:not(:last-child)::after {content: \"\\00b7\"; padding: 0 .5ex}\n",
       "</style>\n",
       "<ol class=list-inline><li>'Neotoma'</li><li>'Neotoma'</li><li>'Neotoma'</li><li>'Neotoma'</li><li>'Neotoma'</li><li>'Neotoma'</li></ol>\n"
      ],
      "text/latex": [
       "\\begin{enumerate*}\n",
       "\\item 'Neotoma'\n",
       "\\item 'Neotoma'\n",
       "\\item 'Neotoma'\n",
       "\\item 'Neotoma'\n",
       "\\item 'Neotoma'\n",
       "\\item 'Neotoma'\n",
       "\\end{enumerate*}\n"
      ],
      "text/markdown": [
       "1. 'Neotoma'\n",
       "2. 'Neotoma'\n",
       "3. 'Neotoma'\n",
       "4. 'Neotoma'\n",
       "5. 'Neotoma'\n",
       "6. 'Neotoma'\n",
       "\n",
       "\n"
      ],
      "text/plain": [
       "[1] \"Neotoma\" \"Neotoma\" \"Neotoma\" \"Neotoma\" \"Neotoma\" \"Neotoma\""
      ]
     },
     "metadata": {},
     "output_type": "display_data"
    }
   ],
   "source": [
    "# using $\n",
    "head(surveys %>% .$genus)"
   ]
  },
  {
   "cell_type": "code",
   "execution_count": 6,
   "metadata": {},
   "outputs": [
    {
     "data": {
      "text/html": [
       "<style>\n",
       ".list-inline {list-style: none; margin:0; padding: 0}\n",
       ".list-inline>li {display: inline-block}\n",
       ".list-inline>li:not(:last-child)::after {content: \"\\00b7\"; padding: 0 .5ex}\n",
       "</style>\n",
       "<ol class=list-inline><li>'Neotoma'</li><li>'Neotoma'</li><li>'Neotoma'</li><li>'Neotoma'</li><li>'Neotoma'</li><li>'Neotoma'</li></ol>\n"
      ],
      "text/latex": [
       "\\begin{enumerate*}\n",
       "\\item 'Neotoma'\n",
       "\\item 'Neotoma'\n",
       "\\item 'Neotoma'\n",
       "\\item 'Neotoma'\n",
       "\\item 'Neotoma'\n",
       "\\item 'Neotoma'\n",
       "\\end{enumerate*}\n"
      ],
      "text/markdown": [
       "1. 'Neotoma'\n",
       "2. 'Neotoma'\n",
       "3. 'Neotoma'\n",
       "4. 'Neotoma'\n",
       "5. 'Neotoma'\n",
       "6. 'Neotoma'\n",
       "\n",
       "\n"
      ],
      "text/plain": [
       "[1] \"Neotoma\" \"Neotoma\" \"Neotoma\" \"Neotoma\" \"Neotoma\" \"Neotoma\""
      ]
     },
     "metadata": {},
     "output_type": "display_data"
    }
   ],
   "source": [
    "# using [[\n",
    "head(surveys %>% .[[\"genus\"]])"
   ]
  },
  {
   "cell_type": "markdown",
   "metadata": {},
   "source": [
    "#### Interacting with older code\n",
    "- Some older function don'ty work with tibbles. If you encounter one of these functions, use `as.data.frame()` to turn a tibble back to a `data.frame`.\n",
    "    - The main reason that some older functions don't work with tibble is the `[` function. We don't use `[` much in this book because of `dplyr::filter()` and `dplyer::select()` allow you to solve the same problems with clearer code. \n",
    "    - With base R data frames, `[` sometimes returns a data frame and sometimes returns a vector. With tibble, `[` always returns another tibble."
   ]
  },
  {
   "cell_type": "markdown",
   "metadata": {},
   "source": [
    "#### Exercises:\n",
    "1. How can you tell is an object is a tibble?\n",
    "    - the function print() used on a tibble returns only the first 10 rows.\n",
    "        - Additionally print() used on a tibble shows information about the data type of a certain column.\n",
    "2. Compare and contrast the following operations on a `data.frame` and equivalent tibble. What is different? Why might the default data frame behaviour cause you frustration?"
   ]
  },
  {
   "cell_type": "code",
   "execution_count": 16,
   "metadata": {},
   "outputs": [
    {
     "name": "stdout",
     "output_type": "stream",
     "text": [
      "  abc xyz\n",
      "1   1   a\n",
      "[1] 1\n"
     ]
    }
   ],
   "source": [
    "df <- data.frame(abc = 1, xyz = \"a\")\n",
    "\n",
    "print(df)\n",
    "\n",
    "# - even though a column with the name x does not exist using print \n",
    "# in this fashion doesn't throw an error\n",
    "print(df$a)"
   ]
  },
  {
   "cell_type": "code",
   "execution_count": 15,
   "metadata": {},
   "outputs": [
    {
     "data": {
      "text/html": [
       "'a'"
      ],
      "text/latex": [
       "'a'"
      ],
      "text/markdown": [
       "'a'"
      ],
      "text/plain": [
       "[1] \"a\""
      ]
     },
     "metadata": {},
     "output_type": "display_data"
    }
   ],
   "source": [
    "# extracting data from a data frame in this way returns a single element.\n",
    "df[,\"xyz\"]"
   ]
  },
  {
   "cell_type": "code",
   "execution_count": 18,
   "metadata": {},
   "outputs": [
    {
     "data": {
      "text/html": [
       "<table class=\"dataframe\">\n",
       "<caption>A data.frame: 1 × 2</caption>\n",
       "<thead>\n",
       "\t<tr><th scope=col>abc</th><th scope=col>xyz</th></tr>\n",
       "\t<tr><th scope=col>&lt;dbl&gt;</th><th scope=col>&lt;chr&gt;</th></tr>\n",
       "</thead>\n",
       "<tbody>\n",
       "\t<tr><td>1</td><td>a</td></tr>\n",
       "</tbody>\n",
       "</table>\n"
      ],
      "text/latex": [
       "A data.frame: 1 × 2\n",
       "\\begin{tabular}{ll}\n",
       " abc & xyz\\\\\n",
       " <dbl> & <chr>\\\\\n",
       "\\hline\n",
       "\t 1 & a\\\\\n",
       "\\end{tabular}\n"
      ],
      "text/markdown": [
       "\n",
       "A data.frame: 1 × 2\n",
       "\n",
       "| abc &lt;dbl&gt; | xyz &lt;chr&gt; |\n",
       "|---|---|\n",
       "| 1 | a |\n",
       "\n"
      ],
      "text/plain": [
       "  abc xyz\n",
       "1 1   a  "
      ]
     },
     "metadata": {},
     "output_type": "display_data"
    }
   ],
   "source": [
    "# extracting data from a data frame in this way returns a data frame.\n",
    "df[,c(\"abc\", \"xyz\")]"
   ]
  },
  {
   "cell_type": "markdown",
   "metadata": {},
   "source": [
    "3. If you have the name of a variable stored in an object, e.g. `var <- \"mpg\"`, how can you extract the reference variable from a tibble?"
   ]
  },
  {
   "cell_type": "code",
   "execution_count": 20,
   "metadata": {},
   "outputs": [],
   "source": [
    "var <- \"mpg\""
   ]
  },
  {
   "cell_type": "code",
   "execution_count": 23,
   "metadata": {},
   "outputs": [],
   "source": [
    "mtcars_tibble <- as_tibble(mtcars)"
   ]
  },
  {
   "cell_type": "code",
   "execution_count": 27,
   "metadata": {},
   "outputs": [
    {
     "data": {
      "text/html": [
       "<style>\n",
       ".list-inline {list-style: none; margin:0; padding: 0}\n",
       ".list-inline>li {display: inline-block}\n",
       ".list-inline>li:not(:last-child)::after {content: \"\\00b7\"; padding: 0 .5ex}\n",
       "</style>\n",
       "<ol class=list-inline><li>21</li><li>21</li><li>22.8</li><li>21.4</li><li>18.7</li><li>18.1</li><li>14.3</li><li>24.4</li><li>22.8</li><li>19.2</li><li>17.8</li><li>16.4</li><li>17.3</li><li>15.2</li><li>10.4</li><li>10.4</li><li>14.7</li><li>32.4</li><li>30.4</li><li>33.9</li><li>21.5</li><li>15.5</li><li>15.2</li><li>13.3</li><li>19.2</li><li>27.3</li><li>26</li><li>30.4</li><li>15.8</li><li>19.7</li><li>15</li><li>21.4</li></ol>\n"
      ],
      "text/latex": [
       "\\begin{enumerate*}\n",
       "\\item 21\n",
       "\\item 21\n",
       "\\item 22.8\n",
       "\\item 21.4\n",
       "\\item 18.7\n",
       "\\item 18.1\n",
       "\\item 14.3\n",
       "\\item 24.4\n",
       "\\item 22.8\n",
       "\\item 19.2\n",
       "\\item 17.8\n",
       "\\item 16.4\n",
       "\\item 17.3\n",
       "\\item 15.2\n",
       "\\item 10.4\n",
       "\\item 10.4\n",
       "\\item 14.7\n",
       "\\item 32.4\n",
       "\\item 30.4\n",
       "\\item 33.9\n",
       "\\item 21.5\n",
       "\\item 15.5\n",
       "\\item 15.2\n",
       "\\item 13.3\n",
       "\\item 19.2\n",
       "\\item 27.3\n",
       "\\item 26\n",
       "\\item 30.4\n",
       "\\item 15.8\n",
       "\\item 19.7\n",
       "\\item 15\n",
       "\\item 21.4\n",
       "\\end{enumerate*}\n"
      ],
      "text/markdown": [
       "1. 21\n",
       "2. 21\n",
       "3. 22.8\n",
       "4. 21.4\n",
       "5. 18.7\n",
       "6. 18.1\n",
       "7. 14.3\n",
       "8. 24.4\n",
       "9. 22.8\n",
       "10. 19.2\n",
       "11. 17.8\n",
       "12. 16.4\n",
       "13. 17.3\n",
       "14. 15.2\n",
       "15. 10.4\n",
       "16. 10.4\n",
       "17. 14.7\n",
       "18. 32.4\n",
       "19. 30.4\n",
       "20. 33.9\n",
       "21. 21.5\n",
       "22. 15.5\n",
       "23. 15.2\n",
       "24. 13.3\n",
       "25. 19.2\n",
       "26. 27.3\n",
       "27. 26\n",
       "28. 30.4\n",
       "29. 15.8\n",
       "30. 19.7\n",
       "31. 15\n",
       "32. 21.4\n",
       "\n",
       "\n"
      ],
      "text/plain": [
       " [1] 21.0 21.0 22.8 21.4 18.7 18.1 14.3 24.4 22.8 19.2 17.8 16.4 17.3 15.2 10.4\n",
       "[16] 10.4 14.7 32.4 30.4 33.9 21.5 15.5 15.2 13.3 19.2 27.3 26.0 30.4 15.8 19.7\n",
       "[31] 15.0 21.4"
      ]
     },
     "metadata": {},
     "output_type": "display_data"
    }
   ],
   "source": [
    "# using [[\n",
    "mtcars_tibble %>% .[[var]]"
   ]
  },
  {
   "cell_type": "code",
   "execution_count": 46,
   "metadata": {},
   "outputs": [
    {
     "data": {
      "text/html": [
       "<style>\n",
       ".list-inline {list-style: none; margin:0; padding: 0}\n",
       ".list-inline>li {display: inline-block}\n",
       ".list-inline>li:not(:last-child)::after {content: \"\\00b7\"; padding: 0 .5ex}\n",
       "</style>\n",
       "<ol class=list-inline><li>21</li><li>21</li><li>22.8</li><li>21.4</li><li>18.7</li><li>18.1</li><li>14.3</li><li>24.4</li><li>22.8</li><li>19.2</li><li>17.8</li><li>16.4</li><li>17.3</li><li>15.2</li><li>10.4</li><li>10.4</li><li>14.7</li><li>32.4</li><li>30.4</li><li>33.9</li><li>21.5</li><li>15.5</li><li>15.2</li><li>13.3</li><li>19.2</li><li>27.3</li><li>26</li><li>30.4</li><li>15.8</li><li>19.7</li><li>15</li><li>21.4</li></ol>\n"
      ],
      "text/latex": [
       "\\begin{enumerate*}\n",
       "\\item 21\n",
       "\\item 21\n",
       "\\item 22.8\n",
       "\\item 21.4\n",
       "\\item 18.7\n",
       "\\item 18.1\n",
       "\\item 14.3\n",
       "\\item 24.4\n",
       "\\item 22.8\n",
       "\\item 19.2\n",
       "\\item 17.8\n",
       "\\item 16.4\n",
       "\\item 17.3\n",
       "\\item 15.2\n",
       "\\item 10.4\n",
       "\\item 10.4\n",
       "\\item 14.7\n",
       "\\item 32.4\n",
       "\\item 30.4\n",
       "\\item 33.9\n",
       "\\item 21.5\n",
       "\\item 15.5\n",
       "\\item 15.2\n",
       "\\item 13.3\n",
       "\\item 19.2\n",
       "\\item 27.3\n",
       "\\item 26\n",
       "\\item 30.4\n",
       "\\item 15.8\n",
       "\\item 19.7\n",
       "\\item 15\n",
       "\\item 21.4\n",
       "\\end{enumerate*}\n"
      ],
      "text/markdown": [
       "1. 21\n",
       "2. 21\n",
       "3. 22.8\n",
       "4. 21.4\n",
       "5. 18.7\n",
       "6. 18.1\n",
       "7. 14.3\n",
       "8. 24.4\n",
       "9. 22.8\n",
       "10. 19.2\n",
       "11. 17.8\n",
       "12. 16.4\n",
       "13. 17.3\n",
       "14. 15.2\n",
       "15. 10.4\n",
       "16. 10.4\n",
       "17. 14.7\n",
       "18. 32.4\n",
       "19. 30.4\n",
       "20. 33.9\n",
       "21. 21.5\n",
       "22. 15.5\n",
       "23. 15.2\n",
       "24. 13.3\n",
       "25. 19.2\n",
       "26. 27.3\n",
       "27. 26\n",
       "28. 30.4\n",
       "29. 15.8\n",
       "30. 19.7\n",
       "31. 15\n",
       "32. 21.4\n",
       "\n",
       "\n"
      ],
      "text/plain": [
       " [1] 21.0 21.0 22.8 21.4 18.7 18.1 14.3 24.4 22.8 19.2 17.8 16.4 17.3 15.2 10.4\n",
       "[16] 10.4 14.7 32.4 30.4 33.9 21.5 15.5 15.2 13.3 19.2 27.3 26.0 30.4 15.8 19.7\n",
       "[31] 15.0 21.4"
      ]
     },
     "metadata": {},
     "output_type": "display_data"
    }
   ],
   "source": [
    "# using pull() from dplyr\n",
    "# pull() extracts a column as a vector\n",
    "mtcars_tibble %>% pull(var)"
   ]
  },
  {
   "cell_type": "markdown",
   "metadata": {},
   "source": [
    "4. Practive referring to non-syntactic names in the following data frame by:\n",
    "    1. Extracting the variable called 1."
   ]
  },
  {
   "cell_type": "code",
   "execution_count": 47,
   "metadata": {},
   "outputs": [],
   "source": [
    "# Data frame required for answering the forth question\n",
    "annoying <- tibble(\n",
    "  `1` = 1:10,\n",
    "  `2` = `1` * 2 + rnorm(length(`1`))\n",
    ")"
   ]
  },
  {
   "cell_type": "code",
   "execution_count": 53,
   "metadata": {},
   "outputs": [
    {
     "data": {
      "text/html": [
       "<style>\n",
       ".list-inline {list-style: none; margin:0; padding: 0}\n",
       ".list-inline>li {display: inline-block}\n",
       ".list-inline>li:not(:last-child)::after {content: \"\\00b7\"; padding: 0 .5ex}\n",
       "</style>\n",
       "<ol class=list-inline><li>1</li><li>2</li><li>3</li><li>4</li><li>5</li><li>6</li><li>7</li><li>8</li><li>9</li><li>10</li></ol>\n"
      ],
      "text/latex": [
       "\\begin{enumerate*}\n",
       "\\item 1\n",
       "\\item 2\n",
       "\\item 3\n",
       "\\item 4\n",
       "\\item 5\n",
       "\\item 6\n",
       "\\item 7\n",
       "\\item 8\n",
       "\\item 9\n",
       "\\item 10\n",
       "\\end{enumerate*}\n"
      ],
      "text/markdown": [
       "1. 1\n",
       "2. 2\n",
       "3. 3\n",
       "4. 4\n",
       "5. 5\n",
       "6. 6\n",
       "7. 7\n",
       "8. 8\n",
       "9. 9\n",
       "10. 10\n",
       "\n",
       "\n"
      ],
      "text/plain": [
       " [1]  1  2  3  4  5  6  7  8  9 10"
      ]
     },
     "metadata": {},
     "output_type": "display_data"
    },
    {
     "data": {
      "text/html": [
       "<style>\n",
       ".list-inline {list-style: none; margin:0; padding: 0}\n",
       ".list-inline>li {display: inline-block}\n",
       ".list-inline>li:not(:last-child)::after {content: \"\\00b7\"; padding: 0 .5ex}\n",
       "</style>\n",
       "<ol class=list-inline><li>1</li><li>2</li><li>3</li><li>4</li><li>5</li><li>6</li><li>7</li><li>8</li><li>9</li><li>10</li></ol>\n"
      ],
      "text/latex": [
       "\\begin{enumerate*}\n",
       "\\item 1\n",
       "\\item 2\n",
       "\\item 3\n",
       "\\item 4\n",
       "\\item 5\n",
       "\\item 6\n",
       "\\item 7\n",
       "\\item 8\n",
       "\\item 9\n",
       "\\item 10\n",
       "\\end{enumerate*}\n"
      ],
      "text/markdown": [
       "1. 1\n",
       "2. 2\n",
       "3. 3\n",
       "4. 4\n",
       "5. 5\n",
       "6. 6\n",
       "7. 7\n",
       "8. 8\n",
       "9. 9\n",
       "10. 10\n",
       "\n",
       "\n"
      ],
      "text/plain": [
       " [1]  1  2  3  4  5  6  7  8  9 10"
      ]
     },
     "metadata": {},
     "output_type": "display_data"
    },
    {
     "data": {
      "text/html": [
       "<style>\n",
       ".list-inline {list-style: none; margin:0; padding: 0}\n",
       ".list-inline>li {display: inline-block}\n",
       ".list-inline>li:not(:last-child)::after {content: \"\\00b7\"; padding: 0 .5ex}\n",
       "</style>\n",
       "<ol class=list-inline><li>1</li><li>2</li><li>3</li><li>4</li><li>5</li><li>6</li><li>7</li><li>8</li><li>9</li><li>10</li></ol>\n"
      ],
      "text/latex": [
       "\\begin{enumerate*}\n",
       "\\item 1\n",
       "\\item 2\n",
       "\\item 3\n",
       "\\item 4\n",
       "\\item 5\n",
       "\\item 6\n",
       "\\item 7\n",
       "\\item 8\n",
       "\\item 9\n",
       "\\item 10\n",
       "\\end{enumerate*}\n"
      ],
      "text/markdown": [
       "1. 1\n",
       "2. 2\n",
       "3. 3\n",
       "4. 4\n",
       "5. 5\n",
       "6. 6\n",
       "7. 7\n",
       "8. 8\n",
       "9. 9\n",
       "10. 10\n",
       "\n",
       "\n"
      ],
      "text/plain": [
       " [1]  1  2  3  4  5  6  7  8  9 10"
      ]
     },
     "metadata": {},
     "output_type": "display_data"
    }
   ],
   "source": [
    "# Three ways of extracting the variable called `1`\n",
    "annoying %>% pull(\"1\")\n",
    "annoying[[\"1\"]]\n",
    "annoying$\"1\""
   ]
  },
  {
   "cell_type": "markdown",
   "metadata": {},
   "source": [
    "    B. Plotting a scatterplot of 1 vs 2."
   ]
  },
  {
   "cell_type": "code",
   "execution_count": 64,
   "metadata": {},
   "outputs": [
    {
     "data": {
      "image/png": "[encoded data removed]",
      "text/plain": [
       "Plot with title \"Scatterplot of variables 1 and 2\""
      ]
     },
     "metadata": {
      "image/png": {
       "height": 420,
       "width": 420
      }
     },
     "output_type": "display_data"
    }
   ],
   "source": [
    "plot(annoying, \"1\", \"2\", main = \"Scatterplot of variables 1 and 2\")"
   ]
  },
  {
   "cell_type": "markdown",
   "metadata": {},
   "source": [
    "    C. Creating a new column called 3 which is 2 divided by 1."
   ]
  },
  {
   "cell_type": "code",
   "execution_count": 68,
   "metadata": {},
   "outputs": [],
   "source": [
    "annoying$\"3\" <- annoying$\"2\" / annoying$\"1\""
   ]
  },
  {
   "cell_type": "code",
   "execution_count": 69,
   "metadata": {},
   "outputs": [
    {
     "data": {
      "text/html": [
       "<style>\n",
       ".list-inline {list-style: none; margin:0; padding: 0}\n",
       ".list-inline>li {display: inline-block}\n",
       ".list-inline>li:not(:last-child)::after {content: \"\\00b7\"; padding: 0 .5ex}\n",
       "</style>\n",
       "<ol class=list-inline><li>1.02671154582927</li><li>2.5964840666539</li><li>1.46374655608573</li><li>2.30612684014898</li><li>1.89494379432619</li><li>2.10583111961388</li><li>2.2037802576648</li><li>2.30770769461496</li><li>1.87941729357183</li><li>2.05849873515505</li></ol>\n"
      ],
      "text/latex": [
       "\\begin{enumerate*}\n",
       "\\item 1.02671154582927\n",
       "\\item 2.5964840666539\n",
       "\\item 1.46374655608573\n",
       "\\item 2.30612684014898\n",
       "\\item 1.89494379432619\n",
       "\\item 2.10583111961388\n",
       "\\item 2.2037802576648\n",
       "\\item 2.30770769461496\n",
       "\\item 1.87941729357183\n",
       "\\item 2.05849873515505\n",
       "\\end{enumerate*}\n"
      ],
      "text/markdown": [
       "1. 1.02671154582927\n",
       "2. 2.5964840666539\n",
       "3. 1.46374655608573\n",
       "4. 2.30612684014898\n",
       "5. 1.89494379432619\n",
       "6. 2.10583111961388\n",
       "7. 2.2037802576648\n",
       "8. 2.30770769461496\n",
       "9. 1.87941729357183\n",
       "10. 2.05849873515505\n",
       "\n",
       "\n"
      ],
      "text/plain": [
       " [1] 1.026712 2.596484 1.463747 2.306127 1.894944 2.105831 2.203780 2.307708\n",
       " [9] 1.879417 2.058499"
      ]
     },
     "metadata": {},
     "output_type": "display_data"
    }
   ],
   "source": [
    "annoying %>% pull(\"3\")"
   ]
  },
  {
   "cell_type": "code",
   "execution_count": 70,
   "metadata": {},
   "outputs": [
    {
     "data": {
      "text/html": [
       "<table class=\"dataframe\">\n",
       "<caption>A tibble: 10 × 3</caption>\n",
       "<thead>\n",
       "\t<tr><th scope=col>1</th><th scope=col>2</th><th scope=col>3</th></tr>\n",
       "\t<tr><th scope=col>&lt;int&gt;</th><th scope=col>&lt;dbl&gt;</th><th scope=col>&lt;dbl&gt;</th></tr>\n",
       "</thead>\n",
       "<tbody>\n",
       "\t<tr><td> 1</td><td> 1.026712</td><td>1.026712</td></tr>\n",
       "\t<tr><td> 2</td><td> 5.192968</td><td>2.596484</td></tr>\n",
       "\t<tr><td> 3</td><td> 4.391240</td><td>1.463747</td></tr>\n",
       "\t<tr><td> 4</td><td> 9.224507</td><td>2.306127</td></tr>\n",
       "\t<tr><td> 5</td><td> 9.474719</td><td>1.894944</td></tr>\n",
       "\t<tr><td> 6</td><td>12.634987</td><td>2.105831</td></tr>\n",
       "\t<tr><td> 7</td><td>15.426462</td><td>2.203780</td></tr>\n",
       "\t<tr><td> 8</td><td>18.461662</td><td>2.307708</td></tr>\n",
       "\t<tr><td> 9</td><td>16.914756</td><td>1.879417</td></tr>\n",
       "\t<tr><td>10</td><td>20.584987</td><td>2.058499</td></tr>\n",
       "</tbody>\n",
       "</table>\n"
      ],
      "text/latex": [
       "A tibble: 10 × 3\n",
       "\\begin{tabular}{lll}\n",
       " 1 & 2 & 3\\\\\n",
       " <int> & <dbl> & <dbl>\\\\\n",
       "\\hline\n",
       "\t  1 &  1.026712 & 1.026712\\\\\n",
       "\t  2 &  5.192968 & 2.596484\\\\\n",
       "\t  3 &  4.391240 & 1.463747\\\\\n",
       "\t  4 &  9.224507 & 2.306127\\\\\n",
       "\t  5 &  9.474719 & 1.894944\\\\\n",
       "\t  6 & 12.634987 & 2.105831\\\\\n",
       "\t  7 & 15.426462 & 2.203780\\\\\n",
       "\t  8 & 18.461662 & 2.307708\\\\\n",
       "\t  9 & 16.914756 & 1.879417\\\\\n",
       "\t 10 & 20.584987 & 2.058499\\\\\n",
       "\\end{tabular}\n"
      ],
      "text/markdown": [
       "\n",
       "A tibble: 10 × 3\n",
       "\n",
       "| 1 &lt;int&gt; | 2 &lt;dbl&gt; | 3 &lt;dbl&gt; |\n",
       "|---|---|---|\n",
       "|  1 |  1.026712 | 1.026712 |\n",
       "|  2 |  5.192968 | 2.596484 |\n",
       "|  3 |  4.391240 | 1.463747 |\n",
       "|  4 |  9.224507 | 2.306127 |\n",
       "|  5 |  9.474719 | 1.894944 |\n",
       "|  6 | 12.634987 | 2.105831 |\n",
       "|  7 | 15.426462 | 2.203780 |\n",
       "|  8 | 18.461662 | 2.307708 |\n",
       "|  9 | 16.914756 | 1.879417 |\n",
       "| 10 | 20.584987 | 2.058499 |\n",
       "\n"
      ],
      "text/plain": [
       "   1  2         3       \n",
       "1   1  1.026712 1.026712\n",
       "2   2  5.192968 2.596484\n",
       "3   3  4.391240 1.463747\n",
       "4   4  9.224507 2.306127\n",
       "5   5  9.474719 1.894944\n",
       "6   6 12.634987 2.105831\n",
       "7   7 15.426462 2.203780\n",
       "8   8 18.461662 2.307708\n",
       "9   9 16.914756 1.879417\n",
       "10 10 20.584987 2.058499"
      ]
     },
     "metadata": {},
     "output_type": "display_data"
    }
   ],
   "source": [
    "annoying"
   ]
  },
  {
   "cell_type": "markdown",
   "metadata": {},
   "source": [
    "    D. Renaming the colums to one, two and three."
   ]
  },
  {
   "cell_type": "code",
   "execution_count": null,
   "metadata": {},
   "outputs": [],
   "source": [
    "setnames(annoying, \n",
    "        old = c(\"1\", \"2\", \"3\"),\n",
    "        new = c(\"one\", \"two\", \"three\"))\n",
    "\n",
    "# alternative method\n",
    "\n",
    "# rename (data.frame, newColName = oldColName ...)\n",
    "\n",
    "# rename(annoying, \n",
    "#    \"one\" = \"1\",\n",
    "#    \"two\" = \"2\", \n",
    "#    \"three\" = \"3\"\n",
    "# )"
   ]
  },
  {
   "cell_type": "code",
   "execution_count": 99,
   "metadata": {},
   "outputs": [
    {
     "data": {
      "text/html": [
       "<table class=\"dataframe\">\n",
       "<caption>A tibble: 10 × 3</caption>\n",
       "<thead>\n",
       "\t<tr><th scope=col>one</th><th scope=col>two</th><th scope=col>three</th></tr>\n",
       "\t<tr><th scope=col>&lt;int&gt;</th><th scope=col>&lt;dbl&gt;</th><th scope=col>&lt;dbl&gt;</th></tr>\n",
       "</thead>\n",
       "<tbody>\n",
       "\t<tr><td> 1</td><td> 1.026712</td><td>1.026712</td></tr>\n",
       "\t<tr><td> 2</td><td> 5.192968</td><td>2.596484</td></tr>\n",
       "\t<tr><td> 3</td><td> 4.391240</td><td>1.463747</td></tr>\n",
       "\t<tr><td> 4</td><td> 9.224507</td><td>2.306127</td></tr>\n",
       "\t<tr><td> 5</td><td> 9.474719</td><td>1.894944</td></tr>\n",
       "\t<tr><td> 6</td><td>12.634987</td><td>2.105831</td></tr>\n",
       "\t<tr><td> 7</td><td>15.426462</td><td>2.203780</td></tr>\n",
       "\t<tr><td> 8</td><td>18.461662</td><td>2.307708</td></tr>\n",
       "\t<tr><td> 9</td><td>16.914756</td><td>1.879417</td></tr>\n",
       "\t<tr><td>10</td><td>20.584987</td><td>2.058499</td></tr>\n",
       "</tbody>\n",
       "</table>\n"
      ],
      "text/latex": [
       "A tibble: 10 × 3\n",
       "\\begin{tabular}{lll}\n",
       " one & two & three\\\\\n",
       " <int> & <dbl> & <dbl>\\\\\n",
       "\\hline\n",
       "\t  1 &  1.026712 & 1.026712\\\\\n",
       "\t  2 &  5.192968 & 2.596484\\\\\n",
       "\t  3 &  4.391240 & 1.463747\\\\\n",
       "\t  4 &  9.224507 & 2.306127\\\\\n",
       "\t  5 &  9.474719 & 1.894944\\\\\n",
       "\t  6 & 12.634987 & 2.105831\\\\\n",
       "\t  7 & 15.426462 & 2.203780\\\\\n",
       "\t  8 & 18.461662 & 2.307708\\\\\n",
       "\t  9 & 16.914756 & 1.879417\\\\\n",
       "\t 10 & 20.584987 & 2.058499\\\\\n",
       "\\end{tabular}\n"
      ],
      "text/markdown": [
       "\n",
       "A tibble: 10 × 3\n",
       "\n",
       "| one &lt;int&gt; | two &lt;dbl&gt; | three &lt;dbl&gt; |\n",
       "|---|---|---|\n",
       "|  1 |  1.026712 | 1.026712 |\n",
       "|  2 |  5.192968 | 2.596484 |\n",
       "|  3 |  4.391240 | 1.463747 |\n",
       "|  4 |  9.224507 | 2.306127 |\n",
       "|  5 |  9.474719 | 1.894944 |\n",
       "|  6 | 12.634987 | 2.105831 |\n",
       "|  7 | 15.426462 | 2.203780 |\n",
       "|  8 | 18.461662 | 2.307708 |\n",
       "|  9 | 16.914756 | 1.879417 |\n",
       "| 10 | 20.584987 | 2.058499 |\n",
       "\n"
      ],
      "text/plain": [
       "   one two       three   \n",
       "1   1   1.026712 1.026712\n",
       "2   2   5.192968 2.596484\n",
       "3   3   4.391240 1.463747\n",
       "4   4   9.224507 2.306127\n",
       "5   5   9.474719 1.894944\n",
       "6   6  12.634987 2.105831\n",
       "7   7  15.426462 2.203780\n",
       "8   8  18.461662 2.307708\n",
       "9   9  16.914756 1.879417\n",
       "10 10  20.584987 2.058499"
      ]
     },
     "metadata": {},
     "output_type": "display_data"
    }
   ],
   "source": [
    "annoying"
   ]
  },
  {
   "cell_type": "markdown",
   "metadata": {},
   "source": [
    "5. What does `tibble::enframe()` do? When might you use it?\n",
    "    - `enframe()` converts name atomic (logical, integer, real, complex, string(or character) and raw) vectors or list to one or two-column data frames.\n",
    "        - For a list the result will be a nested tibble with a column of type list.\n",
    "        - For unnamed vectors, the natural sequence is used as name column.\n",
    "        - Syntax:\n",
    "            - `enframe(x, name = \"name\", value = \"value\")`\n",
    "                - `x` is a vector\n",
    "                - `name` is the name of the first column (used for enumerating observations)\n",
    "                    - if `name` is NULL, a one column tibble is returned.\n",
    "                - `value` is the name of the second column (used as a variable for holding values).\n",
    "                    - `value` cannot be empty.\n",
    "                    - if omited, the name of the column that holds the values will be named \"value\".\n",
    "    - <a href=\"https://tibble.tidyverse.org/reference/enframe.html\">Link to reference</a>\n",
    "                    \n",
    "Examples for enframe():"
   ]
  },
  {
   "cell_type": "code",
   "execution_count": 104,
   "metadata": {},
   "outputs": [],
   "source": [
    "temp_vector <- c(1:5)"
   ]
  },
  {
   "cell_type": "code",
   "execution_count": 109,
   "metadata": {},
   "outputs": [
    {
     "data": {
      "text/html": [
       "<table class=\"dataframe\">\n",
       "<caption>A tibble: 5 × 2</caption>\n",
       "<thead>\n",
       "\t<tr><th scope=col>first column</th><th scope=col>second column</th></tr>\n",
       "\t<tr><th scope=col>&lt;int&gt;</th><th scope=col>&lt;int&gt;</th></tr>\n",
       "</thead>\n",
       "<tbody>\n",
       "\t<tr><td>1</td><td>1</td></tr>\n",
       "\t<tr><td>2</td><td>2</td></tr>\n",
       "\t<tr><td>3</td><td>3</td></tr>\n",
       "\t<tr><td>4</td><td>4</td></tr>\n",
       "\t<tr><td>5</td><td>5</td></tr>\n",
       "</tbody>\n",
       "</table>\n"
      ],
      "text/latex": [
       "A tibble: 5 × 2\n",
       "\\begin{tabular}{ll}\n",
       " first column & second column\\\\\n",
       " <int> & <int>\\\\\n",
       "\\hline\n",
       "\t 1 & 1\\\\\n",
       "\t 2 & 2\\\\\n",
       "\t 3 & 3\\\\\n",
       "\t 4 & 4\\\\\n",
       "\t 5 & 5\\\\\n",
       "\\end{tabular}\n"
      ],
      "text/markdown": [
       "\n",
       "A tibble: 5 × 2\n",
       "\n",
       "| first column &lt;int&gt; | second column &lt;int&gt; |\n",
       "|---|---|\n",
       "| 1 | 1 |\n",
       "| 2 | 2 |\n",
       "| 3 | 3 |\n",
       "| 4 | 4 |\n",
       "| 5 | 5 |\n",
       "\n"
      ],
      "text/plain": [
       "  first column second column\n",
       "1 1            1            \n",
       "2 2            2            \n",
       "3 3            3            \n",
       "4 4            4            \n",
       "5 5            5            "
      ]
     },
     "metadata": {},
     "output_type": "display_data"
    }
   ],
   "source": [
    "# with all arguments present and not NULL\n",
    "enframe(temp_vector, name = \"first column\", value = \"second column\")"
   ]
  },
  {
   "cell_type": "code",
   "execution_count": 112,
   "metadata": {},
   "outputs": [
    {
     "data": {
      "text/html": [
       "<table class=\"dataframe\">\n",
       "<caption>A tibble: 5 × 2</caption>\n",
       "<thead>\n",
       "\t<tr><th scope=col>name</th><th scope=col>column_x</th></tr>\n",
       "\t<tr><th scope=col>&lt;int&gt;</th><th scope=col>&lt;int&gt;</th></tr>\n",
       "</thead>\n",
       "<tbody>\n",
       "\t<tr><td>1</td><td>1</td></tr>\n",
       "\t<tr><td>2</td><td>2</td></tr>\n",
       "\t<tr><td>3</td><td>3</td></tr>\n",
       "\t<tr><td>4</td><td>4</td></tr>\n",
       "\t<tr><td>5</td><td>5</td></tr>\n",
       "</tbody>\n",
       "</table>\n"
      ],
      "text/latex": [
       "A tibble: 5 × 2\n",
       "\\begin{tabular}{ll}\n",
       " name & column\\_x\\\\\n",
       " <int> & <int>\\\\\n",
       "\\hline\n",
       "\t 1 & 1\\\\\n",
       "\t 2 & 2\\\\\n",
       "\t 3 & 3\\\\\n",
       "\t 4 & 4\\\\\n",
       "\t 5 & 5\\\\\n",
       "\\end{tabular}\n"
      ],
      "text/markdown": [
       "\n",
       "A tibble: 5 × 2\n",
       "\n",
       "| name &lt;int&gt; | column_x &lt;int&gt; |\n",
       "|---|---|\n",
       "| 1 | 1 |\n",
       "| 2 | 2 |\n",
       "| 3 | 3 |\n",
       "| 4 | 4 |\n",
       "| 5 | 5 |\n",
       "\n"
      ],
      "text/plain": [
       "  name column_x\n",
       "1 1    1       \n",
       "2 2    2       \n",
       "3 3    3       \n",
       "4 4    4       \n",
       "5 5    5       "
      ]
     },
     "metadata": {},
     "output_type": "display_data"
    }
   ],
   "source": [
    "# with name = NULL\n",
    "# - name is set to \"name\"\n",
    "enframe(temp_vector, value=\"column_x\")"
   ]
  },
  {
   "cell_type": "code",
   "execution_count": 113,
   "metadata": {},
   "outputs": [
    {
     "data": {
      "text/html": [
       "<table class=\"dataframe\">\n",
       "<caption>A tibble: 5 × 2</caption>\n",
       "<thead>\n",
       "\t<tr><th scope=col>name</th><th scope=col>value</th></tr>\n",
       "\t<tr><th scope=col>&lt;int&gt;</th><th scope=col>&lt;int&gt;</th></tr>\n",
       "</thead>\n",
       "<tbody>\n",
       "\t<tr><td>1</td><td>1</td></tr>\n",
       "\t<tr><td>2</td><td>2</td></tr>\n",
       "\t<tr><td>3</td><td>3</td></tr>\n",
       "\t<tr><td>4</td><td>4</td></tr>\n",
       "\t<tr><td>5</td><td>5</td></tr>\n",
       "</tbody>\n",
       "</table>\n"
      ],
      "text/latex": [
       "A tibble: 5 × 2\n",
       "\\begin{tabular}{ll}\n",
       " name & value\\\\\n",
       " <int> & <int>\\\\\n",
       "\\hline\n",
       "\t 1 & 1\\\\\n",
       "\t 2 & 2\\\\\n",
       "\t 3 & 3\\\\\n",
       "\t 4 & 4\\\\\n",
       "\t 5 & 5\\\\\n",
       "\\end{tabular}\n"
      ],
      "text/markdown": [
       "\n",
       "A tibble: 5 × 2\n",
       "\n",
       "| name &lt;int&gt; | value &lt;int&gt; |\n",
       "|---|---|\n",
       "| 1 | 1 |\n",
       "| 2 | 2 |\n",
       "| 3 | 3 |\n",
       "| 4 | 4 |\n",
       "| 5 | 5 |\n",
       "\n"
      ],
      "text/plain": [
       "  name value\n",
       "1 1    1    \n",
       "2 2    2    \n",
       "3 3    3    \n",
       "4 4    4    \n",
       "5 5    5    "
      ]
     },
     "metadata": {},
     "output_type": "display_data"
    }
   ],
   "source": [
    "# only vector present\n",
    "# - name is set to \"name\" and value is set to \"value\"\n",
    "enframe(temp_vector)"
   ]
  },
  {
   "cell_type": "markdown",
   "metadata": {},
   "source": [
    "- `deframe(x)`\n",
    "    - Converts two-column data frames to a named vector or list, using the first column as name and the second column as value.\n",
    "        - If the input has only one column, an unnamed vector is returned.\n",
    "        - Syntax:\n",
    "            - `deframe(x)`\n",
    "                - `x` is a data frame with one or two columns.\n",
    "        - Returns a <a href=\"https://rpubs.com/sowmya21jan/338762\">named vector</a> of length equal with the number of rows present in the original data frame where every element is a pair (name, value) for each row if there are two columns in original data frame, if not returns an unnamed vector.\n",
    "                \n",
    "Examples for `deframe()`:"
   ]
  },
  {
   "cell_type": "code",
   "execution_count": 144,
   "metadata": {},
   "outputs": [],
   "source": [
    "temp_tibble_for_deframe <- tibble(\n",
    "    first_column = \"f\",\n",
    "    second_column = c(1:5)\n",
    ")"
   ]
  },
  {
   "cell_type": "code",
   "execution_count": 171,
   "metadata": {},
   "outputs": [
    {
     "name": "stdout",
     "output_type": "stream",
     "text": [
      "f f f f f \n",
      "1 2 3 4 5 \n"
     ]
    }
   ],
   "source": [
    "deframed_tibble <- deframe(temp_tibble_for_deframe)\n",
    "print(deframed_tibble)"
   ]
  },
  {
   "cell_type": "code",
   "execution_count": 152,
   "metadata": {},
   "outputs": [
    {
     "data": {
      "text/html": [
       "<style>\n",
       ".list-inline {list-style: none; margin:0; padding: 0}\n",
       ".list-inline>li {display: inline-block}\n",
       ".list-inline>li:not(:last-child)::after {content: \"\\00b7\"; padding: 0 .5ex}\n",
       "</style>\n",
       "<ol class=list-inline><li>'f'</li><li>'f'</li><li>'f'</li><li>'f'</li><li>'f'</li></ol>\n"
      ],
      "text/latex": [
       "\\begin{enumerate*}\n",
       "\\item 'f'\n",
       "\\item 'f'\n",
       "\\item 'f'\n",
       "\\item 'f'\n",
       "\\item 'f'\n",
       "\\end{enumerate*}\n"
      ],
      "text/markdown": [
       "1. 'f'\n",
       "2. 'f'\n",
       "3. 'f'\n",
       "4. 'f'\n",
       "5. 'f'\n",
       "\n",
       "\n"
      ],
      "text/plain": [
       "[1] \"f\" \"f\" \"f\" \"f\" \"f\""
      ]
     },
     "metadata": {},
     "output_type": "display_data"
    }
   ],
   "source": [
    "# to access the names of each element in a named vector:\n",
    "names(deframed_tibble)"
   ]
  },
  {
   "cell_type": "code",
   "execution_count": 155,
   "metadata": {},
   "outputs": [
    {
     "data": {
      "text/html": [
       "<style>\n",
       ".list-inline {list-style: none; margin:0; padding: 0}\n",
       ".list-inline>li {display: inline-block}\n",
       ".list-inline>li:not(:last-child)::after {content: \"\\00b7\"; padding: 0 .5ex}\n",
       "</style>\n",
       "<ol class=list-inline><li>1</li><li>2</li><li>3</li><li>4</li><li>5</li></ol>\n"
      ],
      "text/latex": [
       "\\begin{enumerate*}\n",
       "\\item 1\n",
       "\\item 2\n",
       "\\item 3\n",
       "\\item 4\n",
       "\\item 5\n",
       "\\end{enumerate*}\n"
      ],
      "text/markdown": [
       "1. 1\n",
       "2. 2\n",
       "3. 3\n",
       "4. 4\n",
       "5. 5\n",
       "\n",
       "\n"
      ],
      "text/plain": [
       "[1] 1 2 3 4 5"
      ]
     },
     "metadata": {},
     "output_type": "display_data"
    }
   ],
   "source": [
    "# to access the values of each element in a named vector:\n",
    "unname(deframed_tibble)"
   ]
  },
  {
   "cell_type": "code",
   "execution_count": 172,
   "metadata": {},
   "outputs": [
    {
     "name": "stdout",
     "output_type": "stream",
     "text": [
      "[1] \"Before:\"\n",
      "f f f f f \n",
      "1 2 3 4 5 \n",
      "[1] \"After:\"\n",
      "   f    f    f    f    f \n",
      "1000 2000 3000    4    5 \n"
     ]
    }
   ],
   "source": [
    "# replacing values of elements in a named vector\n",
    "print(\"Before:\")\n",
    "print(deframed_tibble)\n",
    "deframed_tibble[c(1:3)] = c(1000, 2000, 3000)\n",
    "print(\"After:\")\n",
    "print(deframed_tibble)"
   ]
  },
  {
   "cell_type": "code",
   "execution_count": 173,
   "metadata": {},
   "outputs": [
    {
     "name": "stdout",
     "output_type": "stream",
     "text": [
      "[1] \"Before:\"\n",
      "   f    f    f    f    f \n",
      "1000 2000 3000    4    5 \n",
      "[1] \"After:\"\n",
      "Alpha  Beta Gamma     f     f \n",
      " 1000  2000  3000     4     5 \n"
     ]
    }
   ],
   "source": [
    "# replacing names of elements present in a named vector\n",
    "print(\"Before:\")\n",
    "print(deframed_tibble)\n",
    "names(deframed_tibble)[c(1:3)] <- c(\"Alpha\", \"Beta\", \"Gamma\")\n",
    "print(\"After:\")\n",
    "print(deframed_tibble)"
   ]
  },
  {
   "cell_type": "code",
   "execution_count": 178,
   "metadata": {},
   "outputs": [
    {
     "name": "stdout",
     "output_type": "stream",
     "text": [
      " Beta Gamma Alpha     f     f \n",
      " 2000  3000  1000     5     4 \n"
     ]
    }
   ],
   "source": [
    "# arranging elements in specific order based on indexes/positions\n",
    "print(deframed_tibble[c(2,3,1,5,4)])"
   ]
  },
  {
   "cell_type": "code",
   "execution_count": 179,
   "metadata": {},
   "outputs": [
    {
     "name": "stdout",
     "output_type": "stream",
     "text": [
      "    f Alpha  Beta Gamma     f \n",
      "    4  1000  2000  3000     4 \n"
     ]
    }
   ],
   "source": [
    "# arranging elements in specific order based on names of elements\n",
    "print(deframed_tibble[c(\"f\", \"Alpha\", \"Beta\", \"Gamma\", \"f\")])"
   ]
  },
  {
   "cell_type": "code",
   "execution_count": 181,
   "metadata": {},
   "outputs": [
    {
     "name": "stdout",
     "output_type": "stream",
     "text": [
      "    f     f Gamma  Beta Alpha \n",
      "    5     4  3000  2000  1000 \n"
     ]
    }
   ],
   "source": [
    "# reversing order named vector\n",
    "print(rev(deframed_tibble))"
   ]
  },
  {
   "cell_type": "code",
   "execution_count": 191,
   "metadata": {},
   "outputs": [
    {
     "name": "stdout",
     "output_type": "stream",
     "text": [
      "Alpha  Beta     f     f Gamma \n",
      " 1000  2000     4     4  3000 \n"
     ]
    }
   ],
   "source": [
    "# arrange elements in alphabetical order of names\n",
    "print(deframed_tibble[sort(names(deframed_tibble))])"
   ]
  },
  {
   "cell_type": "code",
   "execution_count": 192,
   "metadata": {},
   "outputs": [
    {
     "name": "stdout",
     "output_type": "stream",
     "text": [
      "    f     f Alpha  Beta Gamma \n",
      "    4     5  1000  2000  3000 \n"
     ]
    }
   ],
   "source": [
    "# arranging elements in ascending order of values\n",
    "print(deframed_tibble[order(deframed_tibble, decreasing = FALSE)])"
   ]
  },
  {
   "cell_type": "code",
   "execution_count": 194,
   "metadata": {},
   "outputs": [
    {
     "name": "stdout",
     "output_type": "stream",
     "text": [
      "Gamma  Beta Alpha     f     f \n",
      " 3000  2000  1000     5     4 \n"
     ]
    }
   ],
   "source": [
    "# arranging elements in descending order of values\n",
    "print(deframed_tibble[order(deframed_tibble, decreasing = TRUE)])"
   ]
  },
  {
   "cell_type": "code",
   "execution_count": 202,
   "metadata": {},
   "outputs": [
    {
     "name": "stdout",
     "output_type": "stream",
     "text": [
      "[1] \"Missing values:\"\n",
      "\n",
      "FALSE  TRUE \n",
      "    3     2 \n",
      "[1] \"Named vector with missing values set to 0:\"\n",
      "Alpha  Beta Gamma     f     f \n",
      "    0     0  3000     4     5 \n"
     ]
    }
   ],
   "source": [
    "# setting missing values:\n",
    "deframed_tibble[c(1,2)] <- NA\n",
    "\n",
    "# printing a table of missing values:\n",
    "print(\"Missing values:\")\n",
    "print(table(is.na(deframed_tibble)))\n",
    "\n",
    "# replacing missing values\n",
    "deframed_tibble[is.na(deframed_tibble)] <- 0\n",
    "\n",
    "# printing deframed tibble\n",
    "print(\"Named vector with missing values set to 0:\")\n",
    "print(deframed_tibble)"
   ]
  },
  {
   "cell_type": "markdown",
   "metadata": {},
   "source": [
    "An example where deframe() returns an unnamed vector:"
   ]
  },
  {
   "cell_type": "code",
   "execution_count": 208,
   "metadata": {},
   "outputs": [],
   "source": [
    "# creating a data frame with only one column (value)\n",
    "temp_tibble_for_deframe <- tibble (\n",
    "    value = 1:5\n",
    ")"
   ]
  },
  {
   "cell_type": "code",
   "execution_count": 209,
   "metadata": {},
   "outputs": [
    {
     "name": "stdout",
     "output_type": "stream",
     "text": [
      "\u001b[90m# A tibble: 5 × 1\u001b[39m\n",
      "  value\n",
      "  \u001b[3m\u001b[90m<int>\u001b[39m\u001b[23m\n",
      "\u001b[90m1\u001b[39m     1\n",
      "\u001b[90m2\u001b[39m     2\n",
      "\u001b[90m3\u001b[39m     3\n",
      "\u001b[90m4\u001b[39m     4\n",
      "\u001b[90m5\u001b[39m     5\n"
     ]
    }
   ],
   "source": [
    "print(temp_tibble_for_deframe)"
   ]
  },
  {
   "cell_type": "code",
   "execution_count": 211,
   "metadata": {},
   "outputs": [
    {
     "name": "stdout",
     "output_type": "stream",
     "text": [
      "[1] 1 2 3 4 5\n"
     ]
    }
   ],
   "source": [
    "# deframe(temp_tibble_for_deframe) returns an unnamed numerical vector.\n",
    "print(deframe(temp_tibble_for_deframe))"
   ]
  },
  {
   "cell_type": "markdown",
   "metadata": {},
   "source": [
    "6. What option controls how many additional column names are printed at the footer of a tibble?\n",
    "    - The width parameter present in the print() function."
   ]
  },
  {
   "cell_type": "markdown",
   "metadata": {},
   "source": [
    "### Indexing and subsetting data Challenge:\n",
    "- Create a data.frame (surveys_200) containing only the data in row 200 of the surveys dataset."
   ]
  },
  {
   "cell_type": "code",
   "execution_count": 212,
   "metadata": {},
   "outputs": [],
   "source": [
    "surveys_200 = surveys[200,]"
   ]
  },
  {
   "cell_type": "code",
   "execution_count": 214,
   "metadata": {},
   "outputs": [
    {
     "name": "stdout",
     "output_type": "stream",
     "text": [
      "\u001b[90m# A tibble: 1 × 13\u001b[39m\n",
      "  record_id month   day  year plot_id speci…¹ sex   hindf…² weight genus species\n",
      "      \u001b[3m\u001b[90m<dbl>\u001b[39m\u001b[23m \u001b[3m\u001b[90m<dbl>\u001b[39m\u001b[23m \u001b[3m\u001b[90m<dbl>\u001b[39m\u001b[23m \u001b[3m\u001b[90m<dbl>\u001b[39m\u001b[23m   \u001b[3m\u001b[90m<dbl>\u001b[39m\u001b[23m \u001b[3m\u001b[90m<chr>\u001b[39m\u001b[23m   \u001b[3m\u001b[90m<chr>\u001b[39m\u001b[23m   \u001b[3m\u001b[90m<dbl>\u001b[39m\u001b[23m  \u001b[3m\u001b[90m<dbl>\u001b[39m\u001b[23m \u001b[3m\u001b[90m<chr>\u001b[39m\u001b[23m \u001b[3m\u001b[90m<chr>\u001b[39m\u001b[23m  \n",
      "\u001b[90m1\u001b[39m     \u001b[4m3\u001b[24m\u001b[4m5\u001b[24m212    12     7  \u001b[4m2\u001b[24m002       2 NL      M          33    248 Neot… albigu…\n",
      "\u001b[90m# … with 2 more variables: taxa <chr>, plot_type <chr>, and abbreviated\u001b[39m\n",
      "\u001b[90m#   variable names ¹​species_id, ²​hindfoot_length\u001b[39m\n"
     ]
    }
   ],
   "source": [
    "print(surveys_200)"
   ]
  },
  {
   "cell_type": "markdown",
   "metadata": {},
   "source": [
    "- User nrow() to pull out just the last row from the surveys dataset."
   ]
  },
  {
   "cell_type": "code",
   "execution_count": 215,
   "metadata": {},
   "outputs": [
    {
     "data": {
      "text/html": [
       "<table class=\"dataframe\">\n",
       "<caption>A tibble: 1 × 13</caption>\n",
       "<thead>\n",
       "\t<tr><th scope=col>record_id</th><th scope=col>month</th><th scope=col>day</th><th scope=col>year</th><th scope=col>plot_id</th><th scope=col>species_id</th><th scope=col>sex</th><th scope=col>hindfoot_length</th><th scope=col>weight</th><th scope=col>genus</th><th scope=col>species</th><th scope=col>taxa</th><th scope=col>plot_type</th></tr>\n",
       "\t<tr><th scope=col>&lt;dbl&gt;</th><th scope=col>&lt;dbl&gt;</th><th scope=col>&lt;dbl&gt;</th><th scope=col>&lt;dbl&gt;</th><th scope=col>&lt;dbl&gt;</th><th scope=col>&lt;chr&gt;</th><th scope=col>&lt;chr&gt;</th><th scope=col>&lt;dbl&gt;</th><th scope=col>&lt;dbl&gt;</th><th scope=col>&lt;chr&gt;</th><th scope=col>&lt;chr&gt;</th><th scope=col>&lt;chr&gt;</th><th scope=col>&lt;chr&gt;</th></tr>\n",
       "</thead>\n",
       "<tbody>\n",
       "\t<tr><td>30986</td><td>7</td><td>1</td><td>2000</td><td>7</td><td>PX</td><td>NA</td><td>NA</td><td>NA</td><td>Chaetodipus</td><td>sp.</td><td>Rodent</td><td>Rodent Exclosure</td></tr>\n",
       "</tbody>\n",
       "</table>\n"
      ],
      "text/latex": [
       "A tibble: 1 × 13\n",
       "\\begin{tabular}{lllllllllllll}\n",
       " record\\_id & month & day & year & plot\\_id & species\\_id & sex & hindfoot\\_length & weight & genus & species & taxa & plot\\_type\\\\\n",
       " <dbl> & <dbl> & <dbl> & <dbl> & <dbl> & <chr> & <chr> & <dbl> & <dbl> & <chr> & <chr> & <chr> & <chr>\\\\\n",
       "\\hline\n",
       "\t 30986 & 7 & 1 & 2000 & 7 & PX & NA & NA & NA & Chaetodipus & sp. & Rodent & Rodent Exclosure\\\\\n",
       "\\end{tabular}\n"
      ],
      "text/markdown": [
       "\n",
       "A tibble: 1 × 13\n",
       "\n",
       "| record_id &lt;dbl&gt; | month &lt;dbl&gt; | day &lt;dbl&gt; | year &lt;dbl&gt; | plot_id &lt;dbl&gt; | species_id &lt;chr&gt; | sex &lt;chr&gt; | hindfoot_length &lt;dbl&gt; | weight &lt;dbl&gt; | genus &lt;chr&gt; | species &lt;chr&gt; | taxa &lt;chr&gt; | plot_type &lt;chr&gt; |\n",
       "|---|---|---|---|---|---|---|---|---|---|---|---|---|\n",
       "| 30986 | 7 | 1 | 2000 | 7 | PX | NA | NA | NA | Chaetodipus | sp. | Rodent | Rodent Exclosure |\n",
       "\n"
      ],
      "text/plain": [
       "  record_id month day year plot_id species_id sex hindfoot_length weight\n",
       "1 30986     7     1   2000 7       PX         NA  NA              NA    \n",
       "  genus       species taxa   plot_type       \n",
       "1 Chaetodipus sp.     Rodent Rodent Exclosure"
      ]
     },
     "metadata": {},
     "output_type": "display_data"
    }
   ],
   "source": [
    "surveys[nrow(surveys),]"
   ]
  },
  {
   "cell_type": "code",
   "execution_count": 217,
   "metadata": {},
   "outputs": [
    {
     "data": {
      "text/html": [
       "<table class=\"dataframe\">\n",
       "<caption>A tibble: 6 × 13</caption>\n",
       "<thead>\n",
       "\t<tr><th scope=col>record_id</th><th scope=col>month</th><th scope=col>day</th><th scope=col>year</th><th scope=col>plot_id</th><th scope=col>species_id</th><th scope=col>sex</th><th scope=col>hindfoot_length</th><th scope=col>weight</th><th scope=col>genus</th><th scope=col>species</th><th scope=col>taxa</th><th scope=col>plot_type</th></tr>\n",
       "\t<tr><th scope=col>&lt;dbl&gt;</th><th scope=col>&lt;dbl&gt;</th><th scope=col>&lt;dbl&gt;</th><th scope=col>&lt;dbl&gt;</th><th scope=col>&lt;dbl&gt;</th><th scope=col>&lt;chr&gt;</th><th scope=col>&lt;chr&gt;</th><th scope=col>&lt;dbl&gt;</th><th scope=col>&lt;dbl&gt;</th><th scope=col>&lt;chr&gt;</th><th scope=col>&lt;chr&gt;</th><th scope=col>&lt;chr&gt;</th><th scope=col>&lt;chr&gt;</th></tr>\n",
       "</thead>\n",
       "<tbody>\n",
       "\t<tr><td>26787</td><td> 9</td><td>27</td><td>1997</td><td>7</td><td>PL</td><td>F </td><td>21</td><td>16</td><td>Peromyscus </td><td>leucopus</td><td>Rodent</td><td>Rodent Exclosure</td></tr>\n",
       "\t<tr><td>26966</td><td>10</td><td>25</td><td>1997</td><td>7</td><td>PL</td><td>M </td><td>20</td><td>16</td><td>Peromyscus </td><td>leucopus</td><td>Rodent</td><td>Rodent Exclosure</td></tr>\n",
       "\t<tr><td>27185</td><td>11</td><td>22</td><td>1997</td><td>7</td><td>PL</td><td>F </td><td>21</td><td>22</td><td>Peromyscus </td><td>leucopus</td><td>Rodent</td><td>Rodent Exclosure</td></tr>\n",
       "\t<tr><td>27792</td><td> 5</td><td> 2</td><td>1998</td><td>7</td><td>PL</td><td>F </td><td>20</td><td> 8</td><td>Peromyscus </td><td>leucopus</td><td>Rodent</td><td>Rodent Exclosure</td></tr>\n",
       "\t<tr><td>28806</td><td>11</td><td>21</td><td>1998</td><td>7</td><td>PX</td><td>NA</td><td>NA</td><td>NA</td><td>Chaetodipus</td><td>sp.     </td><td>Rodent</td><td>Rodent Exclosure</td></tr>\n",
       "\t<tr><td>30986</td><td> 7</td><td> 1</td><td>2000</td><td>7</td><td>PX</td><td>NA</td><td>NA</td><td>NA</td><td>Chaetodipus</td><td>sp.     </td><td>Rodent</td><td>Rodent Exclosure</td></tr>\n",
       "</tbody>\n",
       "</table>\n"
      ],
      "text/latex": [
       "A tibble: 6 × 13\n",
       "\\begin{tabular}{lllllllllllll}\n",
       " record\\_id & month & day & year & plot\\_id & species\\_id & sex & hindfoot\\_length & weight & genus & species & taxa & plot\\_type\\\\\n",
       " <dbl> & <dbl> & <dbl> & <dbl> & <dbl> & <chr> & <chr> & <dbl> & <dbl> & <chr> & <chr> & <chr> & <chr>\\\\\n",
       "\\hline\n",
       "\t 26787 &  9 & 27 & 1997 & 7 & PL & F  & 21 & 16 & Peromyscus  & leucopus & Rodent & Rodent Exclosure\\\\\n",
       "\t 26966 & 10 & 25 & 1997 & 7 & PL & M  & 20 & 16 & Peromyscus  & leucopus & Rodent & Rodent Exclosure\\\\\n",
       "\t 27185 & 11 & 22 & 1997 & 7 & PL & F  & 21 & 22 & Peromyscus  & leucopus & Rodent & Rodent Exclosure\\\\\n",
       "\t 27792 &  5 &  2 & 1998 & 7 & PL & F  & 20 &  8 & Peromyscus  & leucopus & Rodent & Rodent Exclosure\\\\\n",
       "\t 28806 & 11 & 21 & 1998 & 7 & PX & NA & NA & NA & Chaetodipus & sp.      & Rodent & Rodent Exclosure\\\\\n",
       "\t 30986 &  7 &  1 & 2000 & 7 & PX & NA & NA & NA & Chaetodipus & sp.      & Rodent & Rodent Exclosure\\\\\n",
       "\\end{tabular}\n"
      ],
      "text/markdown": [
       "\n",
       "A tibble: 6 × 13\n",
       "\n",
       "| record_id &lt;dbl&gt; | month &lt;dbl&gt; | day &lt;dbl&gt; | year &lt;dbl&gt; | plot_id &lt;dbl&gt; | species_id &lt;chr&gt; | sex &lt;chr&gt; | hindfoot_length &lt;dbl&gt; | weight &lt;dbl&gt; | genus &lt;chr&gt; | species &lt;chr&gt; | taxa &lt;chr&gt; | plot_type &lt;chr&gt; |\n",
       "|---|---|---|---|---|---|---|---|---|---|---|---|---|\n",
       "| 26787 |  9 | 27 | 1997 | 7 | PL | F  | 21 | 16 | Peromyscus  | leucopus | Rodent | Rodent Exclosure |\n",
       "| 26966 | 10 | 25 | 1997 | 7 | PL | M  | 20 | 16 | Peromyscus  | leucopus | Rodent | Rodent Exclosure |\n",
       "| 27185 | 11 | 22 | 1997 | 7 | PL | F  | 21 | 22 | Peromyscus  | leucopus | Rodent | Rodent Exclosure |\n",
       "| 27792 |  5 |  2 | 1998 | 7 | PL | F  | 20 |  8 | Peromyscus  | leucopus | Rodent | Rodent Exclosure |\n",
       "| 28806 | 11 | 21 | 1998 | 7 | PX | NA | NA | NA | Chaetodipus | sp.      | Rodent | Rodent Exclosure |\n",
       "| 30986 |  7 |  1 | 2000 | 7 | PX | NA | NA | NA | Chaetodipus | sp.      | Rodent | Rodent Exclosure |\n",
       "\n"
      ],
      "text/plain": [
       "  record_id month day year plot_id species_id sex hindfoot_length weight\n",
       "1 26787      9    27  1997 7       PL         F   21              16    \n",
       "2 26966     10    25  1997 7       PL         M   20              16    \n",
       "3 27185     11    22  1997 7       PL         F   21              22    \n",
       "4 27792      5     2  1998 7       PL         F   20               8    \n",
       "5 28806     11    21  1998 7       PX         NA  NA              NA    \n",
       "6 30986      7     1  2000 7       PX         NA  NA              NA    \n",
       "  genus       species  taxa   plot_type       \n",
       "1 Peromyscus  leucopus Rodent Rodent Exclosure\n",
       "2 Peromyscus  leucopus Rodent Rodent Exclosure\n",
       "3 Peromyscus  leucopus Rodent Rodent Exclosure\n",
       "4 Peromyscus  leucopus Rodent Rodent Exclosure\n",
       "5 Chaetodipus sp.      Rodent Rodent Exclosure\n",
       "6 Chaetodipus sp.      Rodent Rodent Exclosure"
      ]
     },
     "metadata": {},
     "output_type": "display_data"
    }
   ],
   "source": [
    "# making sure surveys[nrow(surveys),] is meeting expectations.\n",
    "tail(surveys)"
   ]
  },
  {
   "cell_type": "markdown",
   "metadata": {},
   "source": [
    "- Create a new data frame (`surveys_last`) from that last row."
   ]
  },
  {
   "cell_type": "code",
   "execution_count": 219,
   "metadata": {},
   "outputs": [],
   "source": [
    "surveys_last <- surveys[nrow(surveys),]"
   ]
  },
  {
   "cell_type": "code",
   "execution_count": 221,
   "metadata": {
    "scrolled": true
   },
   "outputs": [
    {
     "data": {
      "text/html": [
       "<table class=\"dataframe\">\n",
       "<caption>A tibble: 1 × 13</caption>\n",
       "<thead>\n",
       "\t<tr><th scope=col>record_id</th><th scope=col>month</th><th scope=col>day</th><th scope=col>year</th><th scope=col>plot_id</th><th scope=col>species_id</th><th scope=col>sex</th><th scope=col>hindfoot_length</th><th scope=col>weight</th><th scope=col>genus</th><th scope=col>species</th><th scope=col>taxa</th><th scope=col>plot_type</th></tr>\n",
       "\t<tr><th scope=col>&lt;dbl&gt;</th><th scope=col>&lt;dbl&gt;</th><th scope=col>&lt;dbl&gt;</th><th scope=col>&lt;dbl&gt;</th><th scope=col>&lt;dbl&gt;</th><th scope=col>&lt;chr&gt;</th><th scope=col>&lt;chr&gt;</th><th scope=col>&lt;dbl&gt;</th><th scope=col>&lt;dbl&gt;</th><th scope=col>&lt;chr&gt;</th><th scope=col>&lt;chr&gt;</th><th scope=col>&lt;chr&gt;</th><th scope=col>&lt;chr&gt;</th></tr>\n",
       "</thead>\n",
       "<tbody>\n",
       "\t<tr><td>30986</td><td>7</td><td>1</td><td>2000</td><td>7</td><td>PX</td><td>NA</td><td>NA</td><td>NA</td><td>Chaetodipus</td><td>sp.</td><td>Rodent</td><td>Rodent Exclosure</td></tr>\n",
       "</tbody>\n",
       "</table>\n"
      ],
      "text/latex": [
       "A tibble: 1 × 13\n",
       "\\begin{tabular}{lllllllllllll}\n",
       " record\\_id & month & day & year & plot\\_id & species\\_id & sex & hindfoot\\_length & weight & genus & species & taxa & plot\\_type\\\\\n",
       " <dbl> & <dbl> & <dbl> & <dbl> & <dbl> & <chr> & <chr> & <dbl> & <dbl> & <chr> & <chr> & <chr> & <chr>\\\\\n",
       "\\hline\n",
       "\t 30986 & 7 & 1 & 2000 & 7 & PX & NA & NA & NA & Chaetodipus & sp. & Rodent & Rodent Exclosure\\\\\n",
       "\\end{tabular}\n"
      ],
      "text/markdown": [
       "\n",
       "A tibble: 1 × 13\n",
       "\n",
       "| record_id &lt;dbl&gt; | month &lt;dbl&gt; | day &lt;dbl&gt; | year &lt;dbl&gt; | plot_id &lt;dbl&gt; | species_id &lt;chr&gt; | sex &lt;chr&gt; | hindfoot_length &lt;dbl&gt; | weight &lt;dbl&gt; | genus &lt;chr&gt; | species &lt;chr&gt; | taxa &lt;chr&gt; | plot_type &lt;chr&gt; |\n",
       "|---|---|---|---|---|---|---|---|---|---|---|---|---|\n",
       "| 30986 | 7 | 1 | 2000 | 7 | PX | NA | NA | NA | Chaetodipus | sp. | Rodent | Rodent Exclosure |\n",
       "\n"
      ],
      "text/plain": [
       "  record_id month day year plot_id species_id sex hindfoot_length weight\n",
       "1 30986     7     1   2000 7       PX         NA  NA              NA    \n",
       "  genus       species taxa   plot_type       \n",
       "1 Chaetodipus sp.     Rodent Rodent Exclosure"
      ]
     },
     "metadata": {},
     "output_type": "display_data"
    }
   ],
   "source": [
    "View(surveys_last)"
   ]
  },
  {
   "cell_type": "markdown",
   "metadata": {},
   "source": [
    "- Use `nrow()` to extract the row that is in the middle of the data frame. Store the content of this row in an object named `surveys_middle`."
   ]
  },
  {
   "cell_type": "code",
   "execution_count": 231,
   "metadata": {},
   "outputs": [],
   "source": [
    "surveys_middle_index <- nrow(surveys) / 2.0"
   ]
  },
  {
   "cell_type": "code",
   "execution_count": 232,
   "metadata": {},
   "outputs": [],
   "source": [
    "surveys_middle <- surveys[surveys_middle_index,]"
   ]
  },
  {
   "cell_type": "code",
   "execution_count": 233,
   "metadata": {},
   "outputs": [
    {
     "data": {
      "text/html": [
       "<table class=\"dataframe\">\n",
       "<caption>A tibble: 1 × 13</caption>\n",
       "<thead>\n",
       "\t<tr><th scope=col>record_id</th><th scope=col>month</th><th scope=col>day</th><th scope=col>year</th><th scope=col>plot_id</th><th scope=col>species_id</th><th scope=col>sex</th><th scope=col>hindfoot_length</th><th scope=col>weight</th><th scope=col>genus</th><th scope=col>species</th><th scope=col>taxa</th><th scope=col>plot_type</th></tr>\n",
       "\t<tr><th scope=col>&lt;dbl&gt;</th><th scope=col>&lt;dbl&gt;</th><th scope=col>&lt;dbl&gt;</th><th scope=col>&lt;dbl&gt;</th><th scope=col>&lt;dbl&gt;</th><th scope=col>&lt;chr&gt;</th><th scope=col>&lt;chr&gt;</th><th scope=col>&lt;dbl&gt;</th><th scope=col>&lt;dbl&gt;</th><th scope=col>&lt;chr&gt;</th><th scope=col>&lt;chr&gt;</th><th scope=col>&lt;chr&gt;</th><th scope=col>&lt;chr&gt;</th></tr>\n",
       "</thead>\n",
       "<tbody>\n",
       "\t<tr><td>9828</td><td>1</td><td>19</td><td>1985</td><td>14</td><td>AB</td><td>NA</td><td>NA</td><td>NA</td><td>Amphispiza</td><td>bilineata</td><td>Bird</td><td>Control</td></tr>\n",
       "</tbody>\n",
       "</table>\n"
      ],
      "text/latex": [
       "A tibble: 1 × 13\n",
       "\\begin{tabular}{lllllllllllll}\n",
       " record\\_id & month & day & year & plot\\_id & species\\_id & sex & hindfoot\\_length & weight & genus & species & taxa & plot\\_type\\\\\n",
       " <dbl> & <dbl> & <dbl> & <dbl> & <dbl> & <chr> & <chr> & <dbl> & <dbl> & <chr> & <chr> & <chr> & <chr>\\\\\n",
       "\\hline\n",
       "\t 9828 & 1 & 19 & 1985 & 14 & AB & NA & NA & NA & Amphispiza & bilineata & Bird & Control\\\\\n",
       "\\end{tabular}\n"
      ],
      "text/markdown": [
       "\n",
       "A tibble: 1 × 13\n",
       "\n",
       "| record_id &lt;dbl&gt; | month &lt;dbl&gt; | day &lt;dbl&gt; | year &lt;dbl&gt; | plot_id &lt;dbl&gt; | species_id &lt;chr&gt; | sex &lt;chr&gt; | hindfoot_length &lt;dbl&gt; | weight &lt;dbl&gt; | genus &lt;chr&gt; | species &lt;chr&gt; | taxa &lt;chr&gt; | plot_type &lt;chr&gt; |\n",
       "|---|---|---|---|---|---|---|---|---|---|---|---|---|\n",
       "| 9828 | 1 | 19 | 1985 | 14 | AB | NA | NA | NA | Amphispiza | bilineata | Bird | Control |\n",
       "\n"
      ],
      "text/plain": [
       "  record_id month day year plot_id species_id sex hindfoot_length weight\n",
       "1 9828      1     19  1985 14      AB         NA  NA              NA    \n",
       "  genus      species   taxa plot_type\n",
       "1 Amphispiza bilineata Bird Control  "
      ]
     },
     "metadata": {},
     "output_type": "display_data"
    }
   ],
   "source": [
    "View(surveys_middle)"
   ]
  },
  {
   "cell_type": "markdown",
   "metadata": {},
   "source": [
    "- Combine `nrow()` with the `-` notation above to reproduce the behavior of `head(surveys)`, keeping just the first through 6th row of the surveys dataset."
   ]
  },
  {
   "cell_type": "code",
   "execution_count": 239,
   "metadata": {
    "scrolled": true
   },
   "outputs": [
    {
     "data": {
      "text/html": [
       "<table class=\"dataframe\">\n",
       "<caption>A tibble: 6 × 13</caption>\n",
       "<thead>\n",
       "\t<tr><th scope=col>record_id</th><th scope=col>month</th><th scope=col>day</th><th scope=col>year</th><th scope=col>plot_id</th><th scope=col>species_id</th><th scope=col>sex</th><th scope=col>hindfoot_length</th><th scope=col>weight</th><th scope=col>genus</th><th scope=col>species</th><th scope=col>taxa</th><th scope=col>plot_type</th></tr>\n",
       "\t<tr><th scope=col>&lt;dbl&gt;</th><th scope=col>&lt;dbl&gt;</th><th scope=col>&lt;dbl&gt;</th><th scope=col>&lt;dbl&gt;</th><th scope=col>&lt;dbl&gt;</th><th scope=col>&lt;chr&gt;</th><th scope=col>&lt;chr&gt;</th><th scope=col>&lt;dbl&gt;</th><th scope=col>&lt;dbl&gt;</th><th scope=col>&lt;chr&gt;</th><th scope=col>&lt;chr&gt;</th><th scope=col>&lt;chr&gt;</th><th scope=col>&lt;chr&gt;</th></tr>\n",
       "</thead>\n",
       "<tbody>\n",
       "\t<tr><td>  1</td><td> 7</td><td>16</td><td>1977</td><td>2</td><td>NL</td><td>M </td><td>32</td><td>NA</td><td>Neotoma</td><td>albigula</td><td>Rodent</td><td>Control</td></tr>\n",
       "\t<tr><td> 72</td><td> 8</td><td>19</td><td>1977</td><td>2</td><td>NL</td><td>M </td><td>31</td><td>NA</td><td>Neotoma</td><td>albigula</td><td>Rodent</td><td>Control</td></tr>\n",
       "\t<tr><td>224</td><td> 9</td><td>13</td><td>1977</td><td>2</td><td>NL</td><td>NA</td><td>NA</td><td>NA</td><td>Neotoma</td><td>albigula</td><td>Rodent</td><td>Control</td></tr>\n",
       "\t<tr><td>266</td><td>10</td><td>16</td><td>1977</td><td>2</td><td>NL</td><td>NA</td><td>NA</td><td>NA</td><td>Neotoma</td><td>albigula</td><td>Rodent</td><td>Control</td></tr>\n",
       "\t<tr><td>349</td><td>11</td><td>12</td><td>1977</td><td>2</td><td>NL</td><td>NA</td><td>NA</td><td>NA</td><td>Neotoma</td><td>albigula</td><td>Rodent</td><td>Control</td></tr>\n",
       "\t<tr><td>363</td><td>11</td><td>12</td><td>1977</td><td>2</td><td>NL</td><td>NA</td><td>NA</td><td>NA</td><td>Neotoma</td><td>albigula</td><td>Rodent</td><td>Control</td></tr>\n",
       "</tbody>\n",
       "</table>\n"
      ],
      "text/latex": [
       "A tibble: 6 × 13\n",
       "\\begin{tabular}{lllllllllllll}\n",
       " record\\_id & month & day & year & plot\\_id & species\\_id & sex & hindfoot\\_length & weight & genus & species & taxa & plot\\_type\\\\\n",
       " <dbl> & <dbl> & <dbl> & <dbl> & <dbl> & <chr> & <chr> & <dbl> & <dbl> & <chr> & <chr> & <chr> & <chr>\\\\\n",
       "\\hline\n",
       "\t   1 &  7 & 16 & 1977 & 2 & NL & M  & 32 & NA & Neotoma & albigula & Rodent & Control\\\\\n",
       "\t  72 &  8 & 19 & 1977 & 2 & NL & M  & 31 & NA & Neotoma & albigula & Rodent & Control\\\\\n",
       "\t 224 &  9 & 13 & 1977 & 2 & NL & NA & NA & NA & Neotoma & albigula & Rodent & Control\\\\\n",
       "\t 266 & 10 & 16 & 1977 & 2 & NL & NA & NA & NA & Neotoma & albigula & Rodent & Control\\\\\n",
       "\t 349 & 11 & 12 & 1977 & 2 & NL & NA & NA & NA & Neotoma & albigula & Rodent & Control\\\\\n",
       "\t 363 & 11 & 12 & 1977 & 2 & NL & NA & NA & NA & Neotoma & albigula & Rodent & Control\\\\\n",
       "\\end{tabular}\n"
      ],
      "text/markdown": [
       "\n",
       "A tibble: 6 × 13\n",
       "\n",
       "| record_id &lt;dbl&gt; | month &lt;dbl&gt; | day &lt;dbl&gt; | year &lt;dbl&gt; | plot_id &lt;dbl&gt; | species_id &lt;chr&gt; | sex &lt;chr&gt; | hindfoot_length &lt;dbl&gt; | weight &lt;dbl&gt; | genus &lt;chr&gt; | species &lt;chr&gt; | taxa &lt;chr&gt; | plot_type &lt;chr&gt; |\n",
       "|---|---|---|---|---|---|---|---|---|---|---|---|---|\n",
       "|   1 |  7 | 16 | 1977 | 2 | NL | M  | 32 | NA | Neotoma | albigula | Rodent | Control |\n",
       "|  72 |  8 | 19 | 1977 | 2 | NL | M  | 31 | NA | Neotoma | albigula | Rodent | Control |\n",
       "| 224 |  9 | 13 | 1977 | 2 | NL | NA | NA | NA | Neotoma | albigula | Rodent | Control |\n",
       "| 266 | 10 | 16 | 1977 | 2 | NL | NA | NA | NA | Neotoma | albigula | Rodent | Control |\n",
       "| 349 | 11 | 12 | 1977 | 2 | NL | NA | NA | NA | Neotoma | albigula | Rodent | Control |\n",
       "| 363 | 11 | 12 | 1977 | 2 | NL | NA | NA | NA | Neotoma | albigula | Rodent | Control |\n",
       "\n"
      ],
      "text/plain": [
       "  record_id month day year plot_id species_id sex hindfoot_length weight\n",
       "1   1        7    16  1977 2       NL         M   32              NA    \n",
       "2  72        8    19  1977 2       NL         M   31              NA    \n",
       "3 224        9    13  1977 2       NL         NA  NA              NA    \n",
       "4 266       10    16  1977 2       NL         NA  NA              NA    \n",
       "5 349       11    12  1977 2       NL         NA  NA              NA    \n",
       "6 363       11    12  1977 2       NL         NA  NA              NA    \n",
       "  genus   species  taxa   plot_type\n",
       "1 Neotoma albigula Rodent Control  \n",
       "2 Neotoma albigula Rodent Control  \n",
       "3 Neotoma albigula Rodent Control  \n",
       "4 Neotoma albigula Rodent Control  \n",
       "5 Neotoma albigula Rodent Control  \n",
       "6 Neotoma albigula Rodent Control  "
      ]
     },
     "metadata": {},
     "output_type": "display_data"
    }
   ],
   "source": [
    "View(surveys[-(7:nrow(surveys)),])"
   ]
  },
  {
   "cell_type": "markdown",
   "metadata": {},
   "source": [
    "## Factors\n",
    "- R has a special class for working with categorical data, called `factor`. Factors are very useful and actually contribute to making R particularly well suited to working with data.\n",
    "- Factors are the data object which are used to categorize the data and store it as levels.\n",
    "    - They can store both strings and integers.\n",
    "    - They are useful in columns which have a limited number of unique values.\n",
    "- Once created, factors can only contain pre-defined set of values, known as `levels`.\n",
    "- Factors are stored as integers associated with labels and they can be ordered or unordered.\n",
    "    - While factors look (and often behave) like character vectors, they are actually treated as integer vectors by R.\n",
    "    \n",
    "- When importing a data frame with `read_csv()`, the columns that contain text are not automatically coerced (=converted) into the factor data type, but once we have loaded the data we can do the conversion using the `factor()` function:"
   ]
  },
  {
   "cell_type": "code",
   "execution_count": 419,
   "metadata": {},
   "outputs": [],
   "source": [
    "# creating a factor\n",
    "surveys$sex <- factor(surveys$sex)"
   ]
  },
  {
   "cell_type": "code",
   "execution_count": 420,
   "metadata": {},
   "outputs": [
    {
     "name": "stdout",
     "output_type": "stream",
     "text": [
      "    [1] M    M    <NA> <NA> <NA> <NA> <NA> <NA> M    <NA> <NA> M    M    M   \n",
      "   [15] M    <NA> M    M    M    M    F    F    F    F    F    F    F    M   \n",
      "   [29] M    M    F    M    M    M    F    M    F    F    M    F    F    F   \n",
      "   [43] F    F    F    M    F    F    F    F    F    F    M    M    M    F   \n",
      "   [57] F    M    F    M    F    F    F    F    F    M    F    F    F    M   \n",
      "   [71] F    M    F    M    M    M    M    M    M    F    M    F    M    F   \n",
      "   [85] M    M    M    F    M    F    F    M    F    M    F    F    F    M   \n",
      "   [99] M    M    M    M    M    F    M    F    F    F    F    F    F    F   \n",
      "  [113] F    M    M    M    F    F    F    F    F    M    M    M    M    M   \n",
      "  [127] M    M    M    M    M    F    F    F    M    F    M    M    F    M   \n",
      "  [141] F    F    F    F    F    F    <NA> F    M    F    F    M    F    M   \n",
      "  [155] M    M    F    F    F    M    F    F    F    F    F    <NA> F    F   \n",
      "  [169] M    F    F    <NA> M    F    F    M    F    M    F    F    F    M   \n",
      "  [183] F    F    F    F    F    F    F    <NA> M    M    F    F    F    F   \n",
      "  [197] F    M    M    M    F    F    M    M    M    M    M    M    F    F   \n",
      "  [211] M    M    F    F    M    F    M    M    M    M    M    M    M    F   \n",
      "  [225] M    F    M    M    M    F    M    M    M    M    M    F    M    M   \n",
      "  [239] F    M    F    M    M    M    F    F    F    F    F    F    F    F   \n",
      "  [253] F    F    F    M    M    F    F    M    F    F    F    F    M    M   \n",
      "  [267] F    M    M    F    M    M    F    M    F    F    M    F    F    F   \n",
      "  [281] F    F    F    F    F    F    M    F    F    M    M    F    M    M   \n",
      "  [295] M    F    M    M    F    F    F    F    F    F    M    M    M    F   \n",
      "  [309] F    M    M    F    M    M    M    M    F    F    M    M    F    M   \n",
      "  [323] M    M    M    M    M    M    M    M    M    M    M    M    M    M   \n",
      "  [337] M    F    F    M    M    M    F    F    F    F    M    M    M    F   \n",
      "  [351] M    F    M    M    M    M    M    M    M    F    F    M    M    M   \n",
      "  [365] M    F    M    M    M    <NA> M    F    M    F    M    M    M    F   \n",
      "  [379] M    F    M    M    F    M    F    M    F    M    F    M    F    M   \n",
      "  [393] F    M    F    M    M    M    M    M    F    M    M    M    F    F   \n",
      "  [407] F    M    F    M    F    M    M    F    M    F    F    F    F    F   \n",
      "  [421] F    M    F    M    F    F    M    F    F    F    M    F    F    F   \n",
      "  [435] F    M    F    F    F    F    F    M    M    F    F    F    F    F   \n",
      "  [449] F    F    F    F    F    F    F    F    F    F    F    F    F    F   \n",
      "  [463] F    M    F    F    M    M    F    M    F    M    M    F    M    M   \n",
      "  [477] F    F    M    F    M    F    F    M    M    F    M    F    M    M   \n",
      "  [491] M    F    M    M    M    M    F    M    F    M    M    M    M    M   \n",
      "  [505] M    M    M    F    M    M    F    M    F    M    F    M    F    F   \n",
      "  [519] M    M    M    F    M    M    F    M    M    F    <NA> F    F    F   \n",
      "  [533] M    M    M    M    M    M    F    M    F    M    M    F    M    M   \n",
      "  [547] F    M    F    F    M    F    F    M    M    F    M    M    M    F   \n",
      "  [561] F    M    M    M    F    F    F    F    M    F    F    F    M    F   \n",
      "  [575] M    M    M    F    M    M    M    M    M    M    M    M    M    M   \n",
      "  [589] M    M    M    M    M    M    M    M    M    M    M    F    M    F   \n",
      "  [603] M    M    F    M    F    F    F    F    F    F    F    M    M    M   \n",
      "  [617] M    M    F    M    M    F    M    M    M    F    M    F    F    M   \n",
      "  [631] F    M    M    M    F    M    F    F    M    M    F    F    F    M   \n",
      "  [645] M    F    F    M    F    M    M    F    F    M    F    M    M    F   \n",
      "  [659] F    F    M    F    M    F    M    M    M    M    F    M    M    M   \n",
      "  [673] M    M    M    M    M    M    M    M    F    M    F    M    M    M   \n",
      "  [687] M    F    M    M    M    M    M    M    M    F    M    F    M    M   \n",
      "  [701] F    M    M    M    M    M    M    F    M    M    M    M    F    M   \n",
      "  [715] M    M    M    M    F    M    M    M    M    M    M    M    F    M   \n",
      "  [729] F    M    M    M    M    M    M    F    M    F    F    F    F    F   \n",
      "  [743] F    F    M    F    M    M    F    M    F    M    M    M    F    M   \n",
      "  [757] F    F    M    M    F    F    M    M    F    F    F    M    M    F   \n",
      "  [771] F    F    F    F    F    M    M    M    F    M    <NA> F    F    F   \n",
      "  [785] M    M    M    M    F    F    F    M    M    M    F    F    M    M   \n",
      "  [799] <NA> M    F    M    F    M    M    M    F    F    M    M    M    M   \n",
      "  [813] F    M    M    F    F    F    M    M    M    <NA> M    F    M    F   \n",
      "  [827] M    F    M    M    M    M    M    M    F    M    F    M    M    F   \n",
      "  [841] M    F    M    F    M    M    F    M    F    F    M    M    F    F   \n",
      "  [855] M    M    F    M    M    M    M    M    F    M    M    F    M    F   \n",
      "  [869] F    M    F    F    M    M    M    F    M    M    F    M    F    M   \n",
      "  [883] M    M    F    M    M    M    F    F    F    F    F    M    F    M   \n",
      "  [897] F    M    F    M    F    M    F    M    F    F    M    M    M    F   \n",
      "  [911] F    M    F    F    M    F    F    M    M    F    F    F    M    M   \n",
      "  [925] F    M    M    M    F    M    M    M    M    M    F    M    F    M   \n",
      "  [939] F    M    F    M    F    F    F    M    M    M    M    M    F    M   \n",
      "  [953] M    M    F    M    M    M    M    F    F    F    F    M    M    F   \n",
      "  [967] F    M    F    F    F    F    M    M    F    M    M    M    F    M   \n",
      "  [981] M    M    M    F    M    M    <NA> M    M    F    F    M    F    F   \n",
      "  [995] F    M    F    F    M    F    M    F    M    F    M    F    M    M   \n",
      " [1009] F    M    F    M    F    M    M    M    F    <NA> M    F    M    M   \n",
      " [1023] F    M    M    M    M    M    M    M    M    M    M    M    F    M   \n",
      " [1037] F    M    M    F    F    M    F    F    M    F    F    F    M    M   \n",
      " [1051] M    M    M    M    M    M    M    M    M    M    M    M    F    F   \n",
      " [1065] F    F    F    F    F    M    F    F    F    M    F    F    F    F   \n",
      " [1079] F    M    F    M    M    M    F    M    M    F    F    M    F    F   \n",
      " [1093] M    M    M    M    F    F    F    F    F    M    <NA> F    M    M   \n",
      " [1107] M    F    F    F    M    F    F    M    F    F    F    F    M    F   \n",
      " [1121] F    F    F    F    M    F    F    F    F    F    F    F    F    F   \n",
      " [1135] F    F    F    M    F    F    F    F    F    M    F    M    F    M   \n",
      " [1149] F    F    F    F    M    M    F    M    M    M    F    M    F    M   \n",
      " [1163] F    M    <NA> M    F    M    M    F    M    M    F    M    M    M   \n",
      " [1177] F    M    M    <NA> M    F    M    M    M    M    M    M    M    M   \n",
      " [1191] M    F    M    F    M    F    F    M    F    M    M    F    M    M   \n",
      " [1205] M    F    M    M    M    M    M    M    F    M    M    M    M    F   \n",
      " [1219] M    M    F    M    M    M    M    F    M    M    M    M    M    F   \n",
      " [1233] M    M    M    M    M    M    M    M    M    M    M    M    M    M   \n",
      " [1247] M    F    M    F    M    F    F    F    M    M    F    F    F    F   \n",
      " [1261] M    <NA> F    F    F    M    F    M    M    M    M    F    M    M   \n",
      " [1275] F    F    M    <NA> M    M    F    M    F    M    M    <NA> <NA> <NA>\n",
      " [1289] <NA> <NA> F    M    M    F    <NA> F    F    M    M    M    F    F   \n",
      " [1303] M    F    F    F    M    F    F    F    M    F    M    F    M    F   \n",
      " [1317] M    F    M    M    M    M    M    F    F    F    F    M    M    F   \n",
      " [1331] <NA> M    M    M    F    F    M    M    F    F    F    F    F    M   \n",
      " [1345] M    F    M    M    M    F    M    F    F    F    M    F    F    M   \n",
      " [1359] M    F    M    F    M    M    F    F    F    M    M    F    F    M   \n",
      " [1373] F    F    M    M    M    M    M    M    F    M    M    M    M    M   \n",
      " [1387] M    M    M    M    F    M    F    M    F    F    M    F    F    M   \n",
      " [1401] F    F    M    M    F    M    M    F    M    F    M    F    M    F   \n",
      " [1415] M    M    M    F    M    F    M    M    F    F    M    M    M    M   \n",
      " [1429] M    M    M    F    M    F    F    M    F    M    M    F    M    F   \n",
      " [1443] M    F    M    F    M    M    F    M    M    M    F    M    F    M   \n",
      " [1457] M    M    M    M    M    M    M    M    M    M    F    M    F    F   \n",
      " [1471] M    F    F    F    M    F    F    M    M    F    F    M    M    M   \n",
      " [1485] M    M    F    M    F    M    F    F    M    F    M    F    F    F   \n",
      " [1499] M    M    M    M    M    M    M    F    F    F    F    F    F    F   \n",
      " [1513] M    F    M    F    F    M    F    M    F    M    F    M    F    M   \n",
      " [1527] F    F    M    M    M    M    F    M    F    M    F    F    F    F   \n",
      " [1541] F    F    F    M    M    M    M    M    M    F    M    M    F    F   \n",
      " [1555] M    F    M    F    M    M    F    F    M    M    F    M    F    M   \n",
      " [1569] F    F    M    M    M    F    M    F    M    F    M    M    F    F   \n",
      " [1583] M    F    M    F    M    F    M    M    F    F    M    M    F    F   \n",
      " [1597] M    M    M    F    M    F    M    F    M    F    M    F    F    M   \n",
      " [1611] F    M    F    M    F    M    M    F    F    F    M    F    M    F   \n",
      " [1625] M    M    F    M    F    M    F    M    F    F    F    F    F    F   \n",
      " [1639] M    F    F    F    M    M    F    F    M    M    M    F    M    F   \n",
      " [1653] F    F    F    F    F    F    F    F    M    F    F    F    F    F   \n",
      " [1667] F    F    F    M    F    M    F    F    M    F    F    M    F    M   \n",
      " [1681] F    F    F    M    F    F    M    F    F    F    F    F    F    F   \n",
      " [1695] M    M    M    F    F    F    F    M    M    F    F    F    F    F   \n",
      " [1709] F    M    M    M    M    M    M    M    M    M    M    M    M    M   \n",
      " [1723] M    M    M    F    M    F    M    M    M    F    M    M    F    F   \n",
      " [1737] F    M    M    M    M    M    F    M    F    M    M    M    M    M   \n",
      " [1751] M    M    M    M    F    M    M    M    M    M    M    F    M    F   \n",
      " [1765] F    F    F    M    F    M    M    M    F    F    M    F    F    M   \n",
      " [1779] F    M    M    M    F    F    M    M    F    F    F    M    F    M   \n",
      " [1793] M    <NA> <NA> <NA> <NA> <NA> <NA> <NA> <NA> F    <NA> <NA> <NA> F   \n",
      " [1807] M    F    F    F    F    F    M    M    F    F    F    M    M    F   \n",
      " [1821] M    M    M    F    F    F    F    M    F    F    F    F    F    M   \n",
      " [1835] F    F    M    M    M    M    M    M    F    M    F    M    F    M   \n",
      " [1849] M    F    F    M    M    M    F    M    M    M    F    M    F    F   \n",
      " [1863] M    F    F    M    M    M    M    F    M    F    F    M    M    M   \n",
      " [1877] F    M    F    F    F    F    F    F    M    F    M    F    F    M   \n",
      " [1891] F    M    F    M    M    F    M    M    M    F    M    M    M    M   \n",
      " [1905] F    F    M    M    F    M    M    M    F    M    M    M    F    M   \n",
      " [1919] F    F    M    M    M    F    F    M    M    F    F    F    M    F   \n",
      " [1933] M    M    F    M    F    M    M    M    <NA> <NA> <NA> F    M    M   \n",
      " [1947] M    F    F    M    M    M    M    M    F    M    F    F    F    F   \n",
      " [1961] M    M    M    M    F    F    M    F    F    M    F    F    M    F   \n",
      " [1975] M    F    M    F    F    <NA> <NA> <NA> <NA> <NA> <NA> <NA> <NA> <NA>\n",
      " [1989] <NA> <NA> <NA> <NA> <NA> <NA> <NA> <NA> <NA> <NA> <NA> <NA> <NA> <NA>\n",
      " [2003] <NA> <NA> <NA> <NA> F    <NA> <NA> <NA> M    F    F    F    F    F   \n",
      " [2017] M    F    F    F    M    M    F    M    F    M    M    M    M    M   \n",
      " [2031] M    M    F    M    M    M    F    M    M    M    M    <NA> M    M   \n",
      " [2045] F    M    M    F    M    F    F    F    F    F    M    F    F    F   \n",
      " [2059] M    F    F    M    F    M    F    M    M    M    F    M    F    F   \n",
      " [2073] F    M    F    F    F    F    F    F    F    M    M    M    F    M   \n",
      " [2087] M    M    F    F    F    M    M    F    F    F    M    F    M    M   \n",
      " [2101] M    M    M    F    F    M    M    F    M    M    M    F    F    M   \n",
      " [2115] M    F    M    M    M    M    M    M    M    M    M    M    M    M   \n",
      " [2129] M    M    M    M    M    M    M    M    M    F    M    F    M    F   \n",
      " [2143] F    M    F    F    M    F    M    F    M    M    M    F    F    F   \n",
      " [2157] M    M    F    F    F    F    M    F    F    F    M    F    F    M   \n",
      " [2171] F    M    M    F    M    F    F    F    F    M    M    M    M    M   \n",
      " [2185] F    F    M    M    F    M    M    M    <NA> <NA> M    F    F    F   \n",
      " [2199] M    F    <NA> F    F    M    F    F    F    M    F    M    M    M   \n",
      " [2213] M    F    F    M    F    M    M    M    M    M    M    F    F    M   \n",
      " [2227] M    <NA> F    F    M    F    F    <NA> M    F    M    F    F    F   \n",
      " [2241] F    F    F    M    F    M    M    M    F    M    M    M    M    M   \n",
      " [2255] M    M    M    M    M    F    M    M    <NA> F    F    F    F    F   \n",
      " [2269] M    F    M    F    F    F    M    M    M    M    M    M    M    M   \n",
      " [2283] M    M    M    M    M    F    M    M    M    <NA> M    M    M    F   \n",
      " [2297] M    F    M    M    F    F    F    M    M    F    M    F    F    M   \n",
      " [2311] M    M    F    F    F    F    F    M    F    F    M    M    M    M   \n",
      " [2325] F    M    F    F    M    F    F    F    F    F    <NA> M    F    F   \n",
      " [2339] F    F    F    M    M    F    M    F    M    M    M    M    F    M   \n",
      " [2353] F    F    M    F    M    F    F    M    F    <NA> <NA> M    M    M   \n",
      " [2367] F    M    M    F    M    M    M    M    F    M    M    F    M    M   \n",
      " [2381] M    F    M    M    F    M    M    F    F    M    F    M    F    M   \n",
      " [2395] M    M    M    M    F    F    F    F    M    M    F    F    M    F   \n",
      " [2409] M    F    M    M    M    M    M    M    F    M    F    M    F    M   \n",
      " [2423] M    F    M    F    F    M    F    F    M    M    F    M    M    F   \n",
      " [2437] M    F    F    F    M    M    F    F    M    M    M    M    M    M   \n",
      " [2451] F    F    F    F    M    M    M    M    M    F    F    M    M    M   \n",
      " [2465] M    F    M    F    M    M    F    M    M    F    F    M    M    M   \n",
      " [2479] F    F    M    F    M    F    M    M    M    F    M    F    F    F   \n",
      " [2493] F    F    F    F    M    F    M    M    M    F    F    M    M    M   \n",
      " [2507] F    M    M    M    M    M    M    M    M    M    M    M    M    M   \n",
      " [2521] M    M    M    F    F    M    M    F    F    M    F    F    M    M   \n",
      " [2535] M    M    M    F    F    M    F    F    M    M    F    M    M    F   \n",
      " [2549] M    M    F    F    M    M    F    F    M    F    M    F    F    M   \n",
      " [2563] F    F    M    M    M    M    F    F    F    M    F    M    F    M   \n",
      " [2577] M    F    M    F    M    M    F    F    M    M    F    F    F    F   \n",
      " [2591] F    F    <NA> M    M    M    F    F    F    M    F    M    F    M   \n",
      " [2605] M    F    F    M    F    F    F    F    M    F    M    F    F    F   \n",
      " [2619] F    F    M    F    M    M    F    F    M    F    M    F    M    F   \n",
      " [2633] M    F    F    M    F    M    M    F    F    F    F    <NA> F    M   \n",
      " [2647] F    F    F    M    F    F    F    F    F    F    F    F    F    F   \n",
      " [2661] F    M    F    M    F    F    M    M    F    F    M    F    F    F   \n",
      " [2675] F    M    F    M    M    M    M    M    M    F    M    F    M    F   \n",
      " [2689] F    M    F    F    F    M    <NA> M    M    M    M    M    M    M   \n",
      " [2703] M    M    F    F    M    M    M    M    F    F    F    M    M    M   \n",
      " [2717] F    M    M    F    F    <NA> M    F    F    <NA> F    F    F    F   \n",
      " [2731] F    F    F    F    F    M    M    F    M    F    F    F    F    F   \n",
      " [2745] M    F    F    M    <NA> F    M    M    <NA> <NA> F    M    M    F   \n",
      " [2759] M    F    M    F    F    M    F    F    F    F    F    F    M    F   \n",
      " [2773] M    M    M    F    M    F    M    F    F    M    F    F    F    M   \n",
      " [2787] M    F    F    F    F    M    F    F    M    M    F    F    F    M   \n",
      " [2801] F    <NA> F    F    F    M    F    M    F    F    M    F    M    F   \n",
      " [2815] F    F    F    M    M    M    F    F    M    M    F    F    F    F   \n",
      " [2829] F    <NA> F    M    F    F    F    M    F    F    F    M    F    F   \n",
      " [2843] F    M    F    F    <NA> F    F    M    F    M    M    F    M    M   \n",
      " [2857] M    M    F    M    F    M    <NA> F    M    M    M    F    M    M   \n",
      " [2871] M    F    M    F    M    M    M    M    F    F    M    M    F    M   \n",
      " [2885] F    M    F    F    F    M    M    F    F    F    F    M    M    F   \n",
      " [2899] F    M    F    M    M    M    M    M    F    F    F    F    M    F   \n",
      " [2913] M    M    F    M    F    F    F    F    F    M    M    F    M    M   \n",
      " [2927] F    F    F    M    F    M    F    F    F    M    M    M    M    M   \n",
      " [2941] M    M    M    M    F    M    F    <NA> F    F    M    F    F    F   \n",
      " [2955] F    F    M    M    F    F    M    M    F    M    F    M    F    F   \n",
      " [2969] F    F    M    M    F    M    F    M    F    <NA> M    M    M    F   \n",
      " [2983] F    F    F    F    F    F    F    F    F    F    M    F    F    F   \n",
      " [2997] F    F    M    F    F    F    M    M    F    M    F    M    M    F   \n",
      " [3011] M    F    F    F    <NA> M    F    F    M    F    M    F    F    M   \n",
      " [3025] F    M    F    M    F    F    F    M    F    F    M    M    M    F   \n",
      " [3039] M    M    M    M    F    M    M    F    F    M    F    M    M    M   \n",
      " [3053] M    M    F    M    F    M    M    F    F    M    M    M    F    F   \n",
      " [3067] M    M    F    M    M    F    F    M    F    M    M    F    M    M   \n",
      " [3081] F    F    F    F    F    M    F    M    F    F    M    F    M    M   \n",
      " [3095] M    M    M    M    M    M    F    M    M    F    F    M    F    F   \n",
      " [3109] M    M    F    F    M    F    F    F    F    M    F    F    M    F   \n",
      " [3123] F    M    M    M    M    M    F    F    M    M    M    M    F    F   \n",
      " [3137] M    F    M    M    M    M    M    F    M    M    M    F    F    F   \n",
      " [3151] M    M    M    M    F    M    M    F    M    M    F    M    F    M   \n",
      " [3165] M    F    F    F    F    F    F    M    <NA> F    M    F    F    M   \n",
      " [3179] F    F    F    F    F    F    M    F    M    F    F    M    F    F   \n",
      " [3193] F    F    F    F    F    F    F    F    F    F    F    M    M    F   \n",
      " [3207] F    M    F    F    F    M    F    M    F    M    M    M    F    M   \n",
      " [3221] M    M    M    M    M    M    M    M    M    M    M    M    M    M   \n",
      " [3235] M    F    F    F    F    M    F    M    M    M    M    F    F    M   \n",
      " [3249] M    M    F    F    <NA> <NA> <NA> <NA> <NA> <NA> <NA> <NA> <NA> <NA>\n",
      " [3263] <NA> <NA> <NA> <NA> <NA> <NA> <NA> <NA> F    F    M    M    F    F   \n",
      " [3277] M    M    M    F    M    M    F    F    M    F    M    F    M    M   \n",
      " [3291] M    F    F    M    F    M    M    M    F    F    M    F    M    F   \n",
      " [3305] F    F    F    F    F    M    F    M    F    F    M    M    F    F   \n",
      " [3319] F    F    F    F    M    F    F    F    F    F    F    F    F    M   \n",
      " [3333] M    M    M    M    M    F    M    M    M    F    F    F    F    F   \n",
      " [3347] F    F    F    F    M    F    M    M    F    F    F    M    F    M   \n",
      " [3361] M    M    F    M    F    F    F    M    M    M    M    F    M    F   \n",
      " [3375] M    F    M    F    F    F    M    F    F    M    M    M    F    F   \n",
      " [3389] M    M    F    M    F    F    M    M    F    F    F    M    M    M   \n",
      " [3403] M    F    <NA> F    M    M    M    F    F    M    M    M    F    F   \n",
      " [3417] M    M    F    M    M    F    M    M    M    M    F    M    M    F   \n",
      " [3431] M    M    M    F    M    M    F    M    F    M    F    M    F    F   \n",
      " [3445] M    F    M    F    F    M    M    F    M    F    F    M    M    F   \n",
      " [3459] F    F    F    F    M    M    F    F    F    F    F    F    M    F   \n",
      " [3473] F    F    F    M    F    F    M    F    F    M    F    M    F    F   \n",
      " [3487] M    M    F    M    F    M    M    F    M    M    M    M    M    M   \n",
      " [3501] F    M    M    M    F    M    F    F    M    M    M    M    F    F   \n",
      " [3515] F    F    F    M    F    M    M    F    M    F    M    F    F    F   \n",
      " [3529] F    F    M    M    F    M    M    M    M    F    F    M    <NA> <NA>\n",
      " [3543] <NA> <NA> <NA> M    M    M    M    F    M    <NA> F    F    F    M   \n",
      " [3557] F    M    F    M    F    M    M    M    M    F    F    M    F    F   \n",
      " [3571] M    F    M    F    M    M    M    M    M    M    M    M    M    M   \n",
      " [3585] M    <NA> <NA> <NA> <NA> <NA> <NA> <NA> <NA> <NA> <NA> <NA> <NA> <NA>\n",
      " [3599] <NA> <NA> <NA> <NA> M    F    F    F    F    <NA> <NA> F    F    M   \n",
      " [3613] M    F    F    F    F    F    F    F    F    F    F    F    <NA> F   \n",
      " [3627] F    M    M    M    <NA> F    F    F    F    F    M    F    F    F   \n",
      " [3641] M    F    F    M    F    M    F    F    M    F    F    M    F    F   \n",
      " [3655] F    <NA> M    M    M    F    F    F    F    F    M    F    M    F   \n",
      " [3669] F    F    F    M    M    F    F    M    M    F    F    F    F    M   \n",
      " [3683] F    F    M    F    M    F    F    F    M    M    F    M    F    M   \n",
      " [3697] F    M    F    F    F    F    F    F    F    M    M    M    F    M   \n",
      " [3711] M    M    F    F    M    M    F    F    M    M    M    M    F    F   \n",
      " [3725] M    M    M    F    M    M    F    M    F    M    F    M    F    F   \n",
      " [3739] M    M    F    F    F    M    M    F    F    F    F    M    F    M   \n",
      " [3753] F    F    M    M    F    M    M    F    M    F    F    F    M    F   \n",
      " [3767] F    F    M    M    F    M    F    F    F    F    M    F    F    M   \n",
      " [3781] F    F    F    M    F    M    F    F    F    M    F    M    M    M   \n",
      " [3795] F    F    M    F    M    F    F    M    F    M    F    F    M    M   \n",
      " [3809] F    M    F    F    F    F    F    M    F    M    F    M    F    M   \n",
      " [3823] F    M    F    F    M    F    F    M    M    M    M    M    M    F   \n",
      " [3837] F    F    M    M    M    M    F    M    F    F    M    F    F    F   \n",
      " [3851] F    F    M    M    F    F    M    F    M    M    M    M    F    M   \n",
      " [3865] M    M    M    <NA> F    M    M    M    F    M    M    M    F    M   \n",
      " [3879] F    M    M    M    M    M    F    M    M    M    F    F    M    M   \n",
      " [3893] M    M    F    M    M    F    M    F    M    M    M    F    F    F   \n",
      " [3907] F    M    M    M    F    M    F    F    M    M    F    F    F    M   \n",
      " [3921] M    F    F    M    M    F    F    F    F    F    M    M    M    F   \n",
      " [3935] M    F    M    F    F    F    F    F    M    F    F    M    M    F   \n",
      " [3949] M    M    F    F    F    M    F    F    M    M    F    M    M    M   \n",
      " [3963] F    F    F    F    F    M    M    F    F    M    F    F    F    F   \n",
      " [3977] F    M    M    M    F    F    F    F    F    M    F    F    M    F   \n",
      " [3991] F    M    M    F    F    M    M    M    <NA> F    <NA> F    M    M   \n",
      " [4005] M    M    M    F    M    F    M    F    F    F    F    M    F    F   \n",
      " [4019] M    M    F    M    F    F    F    M    F    F    F    F    M    M   \n",
      " [4033] F    M    F    M    F    F    M    M    F    F    F    F    F    M   \n",
      " [4047] F    M    M    F    F    M    M    F    M    <NA> <NA> <NA> M    M   \n",
      " [4061] M    F    M    F    M    M    M    M    M    M    F    F    F    M   \n",
      " [4075] F    M    F    M    M    M    M    F    F    F    F    F    F    M   \n",
      " [4089] M    M    M    F    F    F    F    M    F    M    F    M    F    M   \n",
      " [4103] F    F    M    M    M    M    M    M    M    F    F    F    M    F   \n",
      " [4117] F    M    M    F    M    F    <NA> F    F    M    M    M    M    F   \n",
      " [4131] M    F    F    M    F    F    F    F    F    M    M    M    M    M   \n",
      " [4145] F    M    F    M    F    F    M    F    <NA> M    M    F    M    F   \n",
      " [4159] M    F    M    M    M    M    M    M    M    M    M    M    M    M   \n",
      " [4173] M    M    M    M    M    F    M    F    F    F    F    F    F    F   \n",
      " [4187] M    F    M    F    M    M    M    M    F    M    F    F    M    M   \n",
      " [4201] F    M    F    M    F    F    M    F    M    M    F    M    M    F   \n",
      " [4215] F    M    F    F    F    M    F    F    M    F    F    F    F    F   \n",
      " [4229] F    F    F    F    F    F    F    M    F    F    M    F    M    M   \n",
      " [4243] M    F    M    F    M    F    M    F    F    F    F    M    F    F   \n",
      " [4257] F    M    M    M    F    F    F    F    M    M    F    M    M    M   \n",
      " [4271] M    F    M    M    M    F    M    M    M    F    F    M    <NA> M   \n",
      " [4285] F    F    F    F    M    M    F    M    F    F    F    F    M    M   \n",
      " [4299] M    F    M    F    F    M    M    F    F    M    F    F    F    F   \n",
      " [4313] F    F    M    F    F    M    M    M    F    M    M    F    F    M   \n",
      " [4327] <NA> F    F    F    F    F    F    F    F    F    F    M    F    F   \n",
      " [4341] F    F    F    F    F    F    F    F    F    F    M    F    M    M   \n",
      " [4355] M    F    F    F    F    F    M    F    M    M    M    F    F    F   \n",
      " [4369] M    M    M    M    M    F    F    F    M    F    M    F    M    M   \n",
      " [4383] F    M    F    F    M    M    F    F    M    M    F    F    F    F   \n",
      " [4397] F    F    M    M    F    F    M    M    F    F    F    M    M    F   \n",
      " [4411] F    F    F    F    M    F    M    F    F    M    F    F    M    F   \n",
      " [4425] M    F    M    M    F    F    F    F    F    F    F    F    F    F   \n",
      " [4439] F    F    F    F    F    M    F    F    F    F    F    F    M    M   \n",
      " [4453] M    F    M    M    F    F    M    F    M    F    F    F    F    M   \n",
      " [4467] M    F    M    M    F    F    F    M    F    F    M    F    M    F   \n",
      " [4481] F    M    M    M    F    M    M    M    M    F    F    F    M    F   \n",
      " [4495] M    F    F    F    <NA> F    F    F    F    M    F    M    F    M   \n",
      " [4509] M    F    F    M    F    M    F    F    F    M    F    M    F    M   \n",
      " [4523] M    M    F    F    M    F    M    F    F    M    M    M    M    M   \n",
      " [4537] M    M    F    F    F    M    F    M    F    F    F    F    M    F   \n",
      " [4551] M    F    M    F    M    F    M    F    F    F    M    M    F    M   \n",
      " [4565] M    M    M    F    F    M    M    M    F    M    F    M    F    F   \n",
      " [4579] M    M    F    F    M    M    F    M    M    M    F    M    F    F   \n",
      " [4593] F    M    F    F    F    M    M    F    M    F    F    M    F    F   \n",
      " [4607] F    M    M    F    F    M    F    M    M    M    F    F    F    F   \n",
      " [4621] <NA> <NA> <NA> <NA> <NA> <NA> F    F    M    M    M    M    M    M   \n",
      " [4635] M    M    F    F    M    M    F    M    F    M    F    F    F    M   \n",
      " [4649] M    M    F    M    M    M    F    M    M    M    M    M    F    M   \n",
      " [4663] F    F    M    F    M    M    F    M    F    M    F    M    F    F   \n",
      " [4677] F    M    M    M    M    F    F    F    M    F    F    M    M    F   \n",
      " [4691] F    M    F    F    F    M    F    F    M    M    M    F    M    F   \n",
      " [4705] M    F    F    M    F    F    M    M    M    F    F    <NA> F    F   \n",
      " [4719] F    F    M    F    M    F    F    M    F    M    M    F    M    M   \n",
      " [4733] M    M    F    F    F    M    M    M    M    F    M    M    F    F   \n",
      " [4747] M    M    M    M    F    M    M    M    M    F    M    M    M    F   \n",
      " [4761] F    F    <NA> <NA> <NA> F    M    M    F    F    F    M    F    M   \n",
      " [4775] F    F    M    M    M    M    M    M    F    M    M    F    M    M   \n",
      " [4789] M    M    F    M    M    F    M    M    F    F    F    F    F    F   \n",
      " [4803] F    F    F    M    F    M    M    F    M    M    F    F    M    M   \n",
      " [4817] M    F    <NA> <NA> <NA> <NA> <NA> <NA> <NA> <NA> <NA> <NA> <NA> <NA>\n",
      " [4831] <NA> <NA> <NA> <NA> <NA> <NA> <NA> <NA> <NA> <NA> <NA> <NA> <NA> <NA>\n",
      " [4845] <NA> <NA> <NA> <NA> <NA> <NA> <NA> <NA> <NA> <NA> <NA> <NA> <NA> <NA>\n",
      " [4859] <NA> <NA> <NA> <NA> <NA> <NA> <NA> <NA> <NA> <NA> <NA> <NA> <NA> <NA>\n",
      " [4873] <NA> <NA> <NA> <NA> <NA> <NA> <NA> <NA> <NA> <NA> <NA> <NA> <NA> <NA>\n",
      " [4887] <NA> <NA> <NA> <NA> <NA> <NA> <NA> <NA> <NA> <NA> <NA> <NA> <NA> <NA>\n",
      " [4901] <NA> <NA> <NA> <NA> <NA> <NA> <NA> <NA> <NA> <NA> <NA> <NA> <NA> <NA>\n",
      " [4915] <NA> <NA> <NA> <NA> <NA> <NA> <NA> <NA> <NA> <NA> <NA> <NA> M    <NA>\n",
      " [4929] <NA> <NA> <NA> <NA> <NA> F    M    M    F    F    F    F    M    F   \n",
      " [4943] F    F    M    M    M    M    M    F    M    M    F    F    M    M   \n",
      " [4957] M    F    F    F    M    M    F    F    M    F    M    F    M    F   \n",
      " [4971] M    F    F    F    M    M    M    F    F    F    F    F    F    F   \n",
      " [4985] F    M    M    F    F    M    F    F    F    F    F    F    F    M   \n",
      " [4999] F    F    F    F    F    F    M    F    F    M    F    M    F    F   \n",
      " [5013] F    F    F    F    F    F    F    M    M    M    <NA> M    <NA> <NA>\n",
      " [5027] F    F    F    M    M    M    M    F    F    F    F    F    F    F   \n",
      " [5041] F    F    F    F    M    M    F    F    F    F    M    M    M    M   \n",
      " [5055] M    F    F    F    F    F    F    <NA> F    M    F    F    M    M   \n",
      " [5069] M    M    F    F    F    F    F    F    F    F    F    F    F    F   \n",
      " [5083] F    F    M    F    F    F    F    F    F    F    M    F    F    F   \n",
      " [5097] F    F    F    F    F    F    M    F    F    F    M    M    F    M   \n",
      " [5111] M    F    F    F    M    M    M    F    M    M    M    M    F    F   \n",
      " [5125] F    F    M    M    M    <NA> M    M    F    M    F    F    F    M   \n",
      " [5139] M    F    M    F    F    M    F    M    F    M    F    M    F    F   \n",
      " [5153] F    M    <NA> M    F    M    M    F    F    M    M    F    M    F   \n",
      " [5167] M    F    M    F    M    M    M    F    F    M    M    F    M    M   \n",
      " [5181] M    F    F    F    M    F    M    F    F    F    F    F    F    M   \n",
      " [5195] M    M    M    M    F    M    M    M    M    M    M    M    M    M   \n",
      " [5209] M    <NA> M    F    F    M    M    F    M    F    F    F    M    M   \n",
      " [5223] <NA> F    M    F    F    M    F    F    F    F    M    F    M    F   \n",
      " [5237] M    F    M    F    M    F    F    M    F    F    M    M    M    M   \n",
      " [5251] M    F    F    M    F    F    F    F    F    F    F    F    F    F   \n",
      " [5265] F    M    F    F    M    F    F    M    F    M    F    F    M    F   \n",
      " [5279] F    F    F    M    F    F    F    F    M    M    F    F    M    M   \n",
      " [5293] M    F    M    M    F    M    F    F    F    F    F    M    F    M   \n",
      " [5307] F    M    F    F    M    M    M    M    M    M    F    M    M    M   \n",
      " [5321] M    M    <NA> M    F    F    F    M    F    F    F    F    F    M   \n",
      " [5335] F    F    M    M    F    F    M    M    M    M    F    M    M    M   \n",
      " [5349] M    F    M    M    M    M    M    M    M    M    F    F    F    M   \n",
      " [5363] M    M    M    F    F    F    F    F    M    M    F    M    F    F   \n",
      " [5377] M    F    F    F    F    F    F    F    M    F    F    M    M    F   \n",
      " [5391] M    M    F    F    M    F    M    F    M    F    M    F    M    M   \n",
      " [5405] M    M    M    M    F    M    M    M    M    M    F    M    M    M   \n",
      " [5419] M    F    M    M    M    M    M    M    M    M    M    F    M    M   \n",
      " [5433] M    M    M    M    M    M    M    <NA> M    M    M    M    M    M   \n",
      " [5447] F    M    M    F    F    M    M    M    M    F    F    M    M    M   \n",
      " [5461] M    M    M    M    M    M    M    M    M    M    M    M    M    M   \n",
      " [5475] M    M    M    M    M    M    F    M    M    F    M    F    M    M   \n",
      " [5489] M    F    M    M    M    M    F    M    M    F    F    M    M    F   \n",
      " [5503] M    M    F    M    M    F    M    M    F    F    M    F    M    M   \n",
      " [5517] M    M    M    M    M    F    M    M    M    F    M    M    M    F   \n",
      " [5531] F    F    M    F    F    M    F    M    F    M    M    M    F    F   \n",
      " [5545] M    M    M    F    M    M    M    F    M    F    M    F    M    M   \n",
      " [5559] F    F    F    M    F    F    M    M    M    F    M    M    M    M   \n",
      " [5573] F    F    M    M    F    M    F    M    F    M    M    M    M    F   \n",
      " [5587] M    M    F    M    F    M    M    M    F    M    M    M    M    M   \n",
      " [5601] M    M    M    M    M    F    M    M    M    M    F    M    M    F   \n",
      " [5615] M    M    F    M    M    M    F    M    M    M    M    M    M    F   \n",
      " [5629] M    F    M    M    F    M    M    F    M    M    F    M    M    M   \n",
      " [5643] F    M    M    M    M    F    M    F    M    M    M    M    M    M   \n",
      " [5657] M    M    F    M    M    F    M    M    F    M    M    F    M    M   \n",
      " [5671] M    M    M    M    F    F    M    M    M    M    F    M    M    M   \n",
      " [5685] M    F    M    F    F    M    F    F    F    M    M    M    M    M   \n",
      " [5699] F    F    F    F    M    M    M    F    F    F    F    M    M    F   \n",
      " [5713] F    M    F    F    F    F    F    F    F    M    M    M    F    F   \n",
      " [5727] F    F    F    M    F    M    F    F    <NA> M    F    F    M    F   \n",
      " [5741] F    M    F    F    M    F    M    M    M    F    F    F    F    M   \n",
      " [5755] F    M    F    M    F    F    F    M    F    M    F    F    M    M   \n",
      " [5769] F    F    F    M    M    M    M    F    F    M    F    M    F    M   \n",
      " [5783] F    M    F    F    M    F    M    F    F    F    M    M    M    F   \n",
      " [5797] M    F    F    M    F    M    F    M    M    F    F    F    M    F   \n",
      " [5811] F    M    M    F    M    F    M    F    F    F    F    F    M    F   \n",
      " [5825] F    M    M    M    M    M    M    M    F    F    M    F    F    M   \n",
      " [5839] M    M    M    F    M    F    M    F    F    M    F    M    F    M   \n",
      " [5853] F    F    M    M    F    M    M    F    F    F    M    F    F    M   \n",
      " [5867] M    M    M    M    F    F    F    M    M    F    F    M    M    M   \n",
      " [5881] M    M    F    F    F    M    F    F    F    F    M    F    M    M   \n",
      " [5895] F    F    F    M    M    M    F    M    M    M    M    M    M    F   \n",
      " [5909] M    F    M    M    F    M    M    M    F    M    M    M    F    M   \n",
      " [5923] F    M    F    M    M    F    M    F    M    F    M    <NA> F    F   \n",
      " [5937] <NA> F    M    F    M    F    M    F    M    M    F    F    M    F   \n",
      " [5951] M    F    M    M    M    F    M    M    F    M    M    M    F    F   \n",
      " [5965] M    M    F    M    F    M    M    F    F    M    F    M    F    M   \n",
      " [5979] F    F    M    M    M    F    F    M    M    M    M    M    M    F   \n",
      " [5993] F    M    F    M    F    M    F    M    F    F    F    M    M    M   \n",
      " [6007] M    F    M    F    M    M    M    M    M    F    F    F    F    F   \n",
      " [6021] F    M    M    F    F    F    M    M    F    F    M    M    M    F   \n",
      " [6035] M    M    F    M    M    M    F    M    M    M    M    M    M    F   \n",
      " [6049] M    F    M    F    F    M    F    M    M    F    M    M    M    M   \n",
      " [6063] M    F    M    F    M    M    F    F    M    F    F    F    F    M   \n",
      " [6077] F    F    M    M    F    F    M    M    F    M    F    F    M    M   \n",
      " [6091] M    M    M    F    F    <NA> F    M    M    F    F    M    M    F   \n",
      " [6105] M    F    F    M    F    M    F    F    M    F    F    M    M    F   \n",
      " [6119] M    F    F    M    M    F    F    M    F    M    M    F    F    M   \n",
      " [6133] F    F    M    F    M    F    F    M    F    M    <NA> M    M    M   \n",
      " [6147] M    M    M    M    M    M    F    M    M    M    M    <NA> M    F   \n",
      " [6161] M    F    M    F    M    M    M    F    F    M    M    F    M    F   \n",
      " [6175] M    F    F    F    M    F    M    F    M    F    F    F    M    M   \n",
      " [6189] F    F    M    M    M    F    F    M    F    M    F    M    F    <NA>\n",
      " [6203] M    M    M    M    M    F    M    M    M    M    M    M    M    M   \n",
      " [6217] M    M    M    M    M    M    M    F    M    M    F    M    M    M   \n",
      " [6231] F    M    M    F    <NA> F    M    M    F    F    F    F    M    F   \n",
      " [6245] F    F    M    M    F    M    M    F    M    F    F    F    M    F   \n",
      " [6259] M    F    M    F    M    M    F    F    M    M    F    M    F    M   \n",
      " [6273] F    M    F    F    <NA> F    M    F    M    F    F    M    F    M   \n",
      " [6287] M    F    M    F    M    M    F    M    F    F    M    F    M    M   \n",
      " [6301] F    F    M    F    F    M    M    M    F    F    F    F    M    F   \n",
      " [6315] M    M    M    F    F    M    F    M    M    M    F    F    F    F   \n",
      " [6329] F    M    F    M    F    M    F    M    F    M    M    M    F    F   \n",
      " [6343] F    F    F    F    F    M    F    F    <NA> M    F    M    M    F   \n",
      " [6357] M    M    M    F    M    F    M    F    F    F    M    F    F    M   \n",
      " [6371] M    M    F    F    M    F    M    F    M    F    F    M    M    M   \n",
      " [6385] F    F    F    F    F    F    M    F    F    F    F    F    F    M   \n",
      " [6399] M    F    F    M    M    F    M    M    M    F    F    M    F    M   \n",
      " [6413] M    M    M    M    M    M    M    F    M    M    M    M    F    M   \n",
      " [6427] F    F    F    M    F    M    M    F    M    F    F    F    F    F   \n",
      " [6441] M    M    F    M    F    M    F    M    F    F    F    M    F    F   \n",
      " [6455] M    M    F    M    M    F    F    M    F    M    F    M    M    F   \n",
      " [6469] M    F    M    M    F    M    F    M    M    F    M    F    M    F   \n",
      " [6483] M    F    F    M    M    M    F    M    F    F    F    F    M    M   \n",
      " [6497] F    M    M    F    M    M    F    F    M    M    F    M    M    M   \n",
      " [6511] F    F    M    M    F    M    F    M    M    F    F    F    M    M   \n",
      " [6525] M    M    F    F    F    F    F    F    M    M    M    M    M    M   \n",
      " [6539] M    M    F    M    F    M    M    M    M    F    F    M    M    M   \n",
      " [6553] F    M    M    M    F    F    F    F    F    F    F    F    F    F   \n",
      " [6567] F    M    F    M    F    F    F    F    F    F    F    F    F    F   \n",
      " [6581] F    F    F    F    F    M    M    M    F    M    F    M    F    M   \n",
      " [6595] M    M    M    F    M    M    M    M    M    M    M    M    M    M   \n",
      " [6609] M    M    M    F    M    F    F    M    F    F    F    M    M    F   \n",
      " [6623] M    F    F    F    F    M    M    F    M    M    M    M    F    M   \n",
      " [6637] M    F    M    M    M    M    M    M    M    M    M    M    M    M   \n",
      " [6651] M    M    M    M    M    M    M    M    M    M    M    M    M    M   \n",
      " [6665] M    M    M    M    M    F    M    M    M    M    M    M    F    M   \n",
      " [6679] M    F    F    M    F    F    F    F    M    M    M    M    F    M   \n",
      " [6693] F    F    M    M    M    M    M    M    F    M    M    F    <NA> F   \n",
      " [6707] M    F    M    M    M    M    M    M    M    F    F    F    F    F   \n",
      " [6721] F    F    F    F    M    F    <NA> M    M    F    F    M    F    F   \n",
      " [6735] F    F    F    F    F    F    F    F    F    F    F    M    M    M   \n",
      " [6749] M    F    F    F    M    M    M    M    F    F    M    M    M    M   \n",
      " [6763] M    M    M    M    M    F    M    F    F    F    M    M    F    M   \n",
      " [6777] F    M    M    M    <NA> <NA> <NA> <NA> <NA> <NA> <NA> <NA> <NA> <NA>\n",
      " [6791] <NA> <NA> <NA> <NA> <NA> <NA> <NA> F    F    <NA> F    F    F    M   \n",
      " [6805] F    M    M    F    F    M    F    M    M    M    F    F    M    F   \n",
      " [6819] M    F    F    F    F    M    M    F    M    F    M    M    M    F   \n",
      " [6833] M    F    F    M    F    F    F    M    F    <NA> F    M    F    M   \n",
      " [6847] F    M    M    M    M    M    M    F    M    F    F    M    <NA> F   \n",
      " [6861] M    F    F    F    M    M    M    F    F    M    F    M    F    M   \n",
      " [6875] F    F    M    F    F    <NA> F    F    M    F    M    M    F    F   \n",
      " [6889] M    M    F    M    F    M    F    M    F    M    M    M    M    M   \n",
      " [6903] F    M    M    M    M    F    F    M    M    M    M    M    M    F   \n",
      " [6917] M    M    M    F    M    M    <NA> <NA> <NA> <NA> <NA> <NA> F    F   \n",
      " [6931] M    M    M    F    M    M    F    M    M    F    F    F    M    F   \n",
      " [6945] F    M    M    M    F    F    <NA> <NA> <NA> <NA> <NA> <NA> <NA> <NA>\n",
      " [6959] <NA> <NA> <NA> <NA> <NA> <NA> <NA> <NA> <NA> <NA> <NA> <NA> <NA> <NA>\n",
      " [6973] <NA> <NA> <NA> <NA> <NA> <NA> <NA> <NA> <NA> <NA> <NA> <NA> <NA> <NA>\n",
      " [6987] <NA> <NA> <NA> <NA> <NA> <NA> <NA> M    F    M    M    M    M    F   \n",
      " [7001] M    M    M    M    F    M    F    M    F    F    M    M    F    M   \n",
      " [7015] F    F    M    M    F    F    F    F    M    M    M    F    M    F   \n",
      " [7029] F    M    F    F    M    F    F    F    M    F    F    <NA> F    F   \n",
      " [7043] F    M    F    M    F    F    F    M    F    F    F    F    F    F   \n",
      " [7057] F    M    F    M    <NA> <NA> <NA> <NA> <NA> M    F    M    <NA> <NA>\n",
      " [7071] M    F    F    M    M    M    F    F    F    F    F    F    M    M   \n",
      " [7085] F    F    F    F    F    F    F    F    M    F    M    F    F    F   \n",
      " [7099] M    M    F    M    F    F    M    M    M    F    M    F    F    F   \n",
      " [7113] F    F    M    M    F    F    M    M    <NA> M    M    M    M    F   \n",
      " [7127] F    F    F    F    F    M    M    F    M    M    M    M    M    M   \n",
      " [7141] M    F    F    M    F    <NA> F    F    M    F    <NA> F    F    F   \n",
      " [7155] F    F    F    F    M    M    M    M    M    M    M    M    M    M   \n",
      " [7169] M    M    M    M    M    F    M    M    M    F    F    M    F    F   \n",
      " [7183] M    M    F    F    F    M    F    M    F    M    F    F    F    F   \n",
      " [7197] F    F    F    F    F    F    F    F    F    <NA> F    F    F    <NA>\n",
      " [7211] <NA> F    F    F    F    F    F    F    F    M    F    F    F    F   \n",
      " [7225] F    F    F    M    M    F    M    M    M    M    F    M    F    F   \n",
      " [7239] M    F    M    F    M    F    M    F    F    M    F    F    M    M   \n",
      " [7253] F    M    M    M    F    F    M    M    F    M    M    F    M    M   \n",
      " [7267] M    M    M    M    M    M    M    M    F    F    F    M    M    M   \n",
      " [7281] F    M    F    M    M    F    M    F    F    F    F    M    F    M   \n",
      " [7295] F    M    F    M    F    F    F    F    M    M    F    M    F    M   \n",
      " [7309] F    F    F    M    M    M    F    F    F    M    M    F    M    F   \n",
      " [7323] M    F    M    F    F    M    M    M    F    F    M    M    M    M   \n",
      " [7337] M    M    M    F    F    M    M    M    F    M    F    M    M    <NA>\n",
      " [7351] F    M    M    M    M    F    F    F    F    M    F    M    F    M   \n",
      " [7365] M    F    F    F    M    M    M    M    M    F    F    F    M    F   \n",
      " [7379] M    M    F    M    F    F    M    F    M    M    M    M    F    M   \n",
      " [7393] F    M    M    M    M    M    F    M    M    M    M    F    F    M   \n",
      " [7407] M    M    F    M    M    M    M    F    M    M    M    F    M    M   \n",
      " [7421] M    <NA> F    M    M    M    F    F    M    M    M    F    F    F   \n",
      " [7435] M    M    M    F    M    F    F    M    F    F    F    M    F    F   \n",
      " [7449] M    F    F    F    M    F    F    M    F    M    F    M    F    F   \n",
      " [7463] M    M    F    F    M    F    M    F    M    M    F    F    M    M   \n",
      " [7477] M    F    F    M    F    F    F    F    M    M    M    F    F    M   \n",
      " [7491] M    F    M    F    M    F    M    F    M    M    F    F    M    M   \n",
      " [7505] M    F    M    M    M    F    F    M    F    F    F    F    F    F   \n",
      " [7519] F    F    F    F    F    F    F    F    F    F    F    M    F    M   \n",
      " [7533] F    F    F    F    F    M    F    M    M    F    F    F    F    F   \n",
      " [7547] F    M    F    F    F    F    F    F    M    F    F    F    F    M   \n",
      " [7561] F    F    F    F    F    M    F    F    F    M    F    F    M    M   \n",
      " [7575] F    F    M    F    F    M    M    M    F    F    F    F    M    M   \n",
      " [7589] M    M    F    F    F    M    F    F    M    F    M    F    F    F   \n",
      " [7603] M    F    F    M    F    M    F    F    F    F    M    F    M    M   \n",
      " [7617] M    F    F    F    F    M    F    F    M    <NA> F    F    M    F   \n",
      " [7631] F    M    M    M    F    F    M    M    F    F    M    M    F    F   \n",
      " [7645] F    M    M    F    M    M    F    F    F    F    F    F    F    M   \n",
      " [7659] F    M    M    F    M    F    M    M    F    M    M    F    M    F   \n",
      " [7673] M    F    F    F    F    F    M    M    M    M    F    F    M    M   \n",
      " [7687] M    F    F    M    M    M    F    M    F    M    M    F    M    M   \n",
      " [7701] M    M    F    M    M    M    M    M    M    M    M    M    M    M   \n",
      " [7715] M    M    M    M    M    M    M    <NA> F    M    F    F    F    F   \n",
      " [7729] M    F    M    F    F    F    M    F    F    F    M    F    F    M   \n",
      " [7743] M    M    M    M    M    F    M    M    M    M    F    M    M    F   \n",
      " [7757] M    F    M    F    M    M    F    M    F    M    M    M    F    M   \n",
      " [7771] M    F    M    M    F    F    M    M    F    F    M    F    M    F   \n",
      " [7785] M    M    F    F    F    F    M    M    F    F    M    M    M    M   \n",
      " [7799] M    F    M    M    F    F    M    M    M    M    M    F    M    M   \n",
      " [7813] F    F    F    M    M    M    F    F    M    F    F    F    F    M   \n",
      " [7827] F    M    F    F    F    F    M    M    F    F    F    M    F    F   \n",
      " [7841] F    M    F    F    M    M    M    F    M    F    F    M    F    M   \n",
      " [7855] F    F    F    F    F    F    F    F    F    M    M    F    F    F   \n",
      " [7869] F    F    F    M    F    M    F    M    M    F    F    M    M    F   \n",
      " [7883] M    M    F    M    F    F    M    M    M    F    F    F    M    M   \n",
      " [7897] F    F    M    F    M    F    M    F    M    M    F    M    M    F   \n",
      " [7911] M    M    F    M    <NA> F    F    M    M    M    F    F    M    M   \n",
      " [7925] M    F    M    F    M    M    M    M    M    F    F    M    M    M   \n",
      " [7939] F    M    F    F    M    M    F    M    F    M    F    M    F    F   \n",
      " [7953] F    F    M    F    M    F    F    F    F    F    M    F    M    F   \n",
      " [7967] M    M    M    F    M    M    M    M    F    M    M    F    M    M   \n",
      " [7981] M    M    M    M    M    M    M    F    F    M    M    M    M    M   \n",
      " [7995] F    M    M    F    M    F    F    M    F    M    F    M    F    M   \n",
      " [8009] F    F    M    M    M    F    M    F    F    F    M    F    M    F   \n",
      " [8023] F    M    F    M    M    M    F    M    M    M    M    F    M    M   \n",
      " [8037] M    F    F    M    M    F    M    M    M    F    M    F    M    F   \n",
      " [8051] M    F    M    F    M    F    M    F    M    F    F    F    M    M   \n",
      " [8065] M    M    M    M    F    M    F    M    M    F    M    F    M    F   \n",
      " [8079] F    M    F    M    M    M    M    F    M    M    F    F    M    M   \n",
      " [8093] F    F    M    M    F    F    M    M    M    M    M    F    F    F   \n",
      " [8107] M    F    M    F    M    M    F    M    M    F    F    M    F    M   \n",
      " [8121] M    M    F    F    F    F    M    M    M    M    M    M    M    M   \n",
      " [8135] M    F    F    F    M    M    M    F    F    M    F    M    M    M   \n",
      " [8149] F    M    F    M    F    M    M    M    F    F    M    M    F    M   \n",
      " [8163] F    M    M    M    M    M    M    F    M    M    F    F    M    F   \n",
      " [8177] F    F    F    F    M    M    M    F    M    M    F    M    F    F   \n",
      " [8191] F    F    M    F    F    M    M    M    M    M    F    F    M    M   \n",
      " [8205] F    F    M    M    M    F    M    F    F    M    F    M    F    F   \n",
      " [8219] M    F    M    M    F    F    M    F    M    F    F    M    M    M   \n",
      " [8233] M    F    F    M    F    F    F    M    F    F    M    F    F    M   \n",
      " [8247] M    F    M    M    F    F    F    F    F    F    M    F    M    M   \n",
      " [8261] F    M    M    F    M    M    M    M    F    F    M    M    M    M   \n",
      " [8275] F    M    M    M    M    M    M    M    M    F    F    F    M    M   \n",
      " [8289] M    F    M    M    M    F    M    M    F    M    F    F    F    M   \n",
      " [8303] M    M    M    M    F    M    M    M    F    M    F    M    F    F   \n",
      " [8317] M    F    M    F    M    M    F    <NA> F    M    F    F    F    F   \n",
      " [8331] M    F    F    F    F    M    F    M    F    F    M    M    F    F   \n",
      " [8345] F    F    F    F    M    F    M    F    F    M    M    M    M    M   \n",
      " [8359] F    <NA> M    M    F    M    M    M    M    M    M    M    M    M   \n",
      " [8373] F    M    F    M    M    M    M    F    M    M    M    M    M    M   \n",
      " [8387] M    M    M    M    F    F    M    M    M    M    M    M    <NA> M   \n",
      " [8401] M    M    M    F    M    M    F    M    F    M    M    F    M    F   \n",
      " [8415] M    M    M    M    M    M    M    F    M    F    M    F    M    F   \n",
      " [8429] M    <NA> M    M    M    M    M    M    M    M    M    M    F    F   \n",
      " [8443] F    M    M    F    F    F    F    F    F    M    F    F    F    F   \n",
      " [8457] F    M    F    F    F    F    F    F    M    F    F    F    F    M   \n",
      " [8471] M    F    M    M    M    F    M    M    F    M    F    M    M    <NA>\n",
      " [8485] M    M    F    M    F    F    F    M    F    F    M    M    M    F   \n",
      " [8499] F    M    F    F    F    F    M    M    M    M    M    M    F    F   \n",
      " [8513] F    M    M    M    M    F    M    F    M    F    M    F    M    F   \n",
      " [8527] F    M    F    F    F    F    F    F    M    M    M    F    F    M   \n",
      " [8541] M    F    M    M    M    M    F    M    F    F    M    F    F    M   \n",
      " [8555] F    F    M    M    M    M    M    M    M    M    M    M    M    M   \n",
      " [8569] F    F    M    M    M    F    F    F    F    M    F    M    M    F   \n",
      " [8583] M    F    M    F    M    F    F    F    F    M    M    F    F    M   \n",
      " [8597] F    M    F    F    F    F    M    F    F    F    M    M    F    M   \n",
      " [8611] F    F    F    M    M    F    F    F    F    M    F    F    M    M   \n",
      " [8625] M    M    F    M    F    F    F    F    F    M    M    F    F    M   \n",
      " [8639] F    M    M    M    F    M    M    M    M    M    F    F    F    M   \n",
      " [8653] F    M    F    M    M    F    F    M    M    M    F    F    M    F   \n",
      " [8667] F    F    M    M    F    F    M    F    M    F    M    M    F    M   \n",
      " [8681] M    M    F    M    M    M    M    F    M    F    F    F    M    F   \n",
      " [8695] M    F    F    M    M    M    M    M    M    F    M    F    M    <NA>\n",
      " [8709] M    M    M    F    M    M    F    M    M    M    F    M    M    M   \n",
      " [8723] M    F    M    M    M    F    M    F    M    F    F    M    M    F   \n",
      " [8737] F    M    <NA> F    F    M    M    M    M    F    M    F    M    M   \n",
      " [8751] F    F    F    M    F    M    M    F    F    F    F    M    F    M   \n",
      " [8765] F    F    M    M    M    F    M    M    M    M    F    M    F    M   \n",
      " [8779] M    F    M    F    F    M    F    M    F    F    M    M    M    F   \n",
      " [8793] M    M    F    M    F    M    M    M    M    M    F    F    M    F   \n",
      " [8807] F    F    M    F    F    F    F    M    F    M    F    M    M    F   \n",
      " [8821] F    M    M    M    M    M    F    F    M    F    F    M    M    M   \n",
      " [8835] M    M    F    M    M    M    F    M    M    M    F    M    M    M   \n",
      " [8849] M    M    F    F    F    M    F    F    F    F    M    F    M    F   \n",
      " [8863] M    M    F    M    M    M    M    M    M    F    M    F    M    M   \n",
      " [8877] F    F    M    F    M    F    M    F    M    M    M    F    F    M   \n",
      " [8891] M    M    M    M    M    <NA> M    M    F    M    F    M    F    M   \n",
      " [8905] M    M    F    F    M    F    M    F    F    F    F    F    F    F   \n",
      " [8919] M    F    F    M    F    F    F    M    F    M    M    M    F    F   \n",
      " [8933] M    F    M    F    M    F    F    M    M    M    M    F    F    M   \n",
      " [8947] F    F    M    F    F    M    F    M    F    F    M    F    F    M   \n",
      " [8961] M    F    F    F    F    F    F    M    F    M    F    F    M    <NA>\n",
      " [8975] M    F    F    M    M    M    M    M    F    M    F    M    F    F   \n",
      " [8989] M    F    M    F    F    F    M    F    F    F    F    M    M    M   \n",
      " [9003] M    M    F    F    F    M    M    M    M    M    M    M    M    F   \n",
      " [9017] M    F    M    M    F    F    M    M    F    M    M    F    M    M   \n",
      " [9031] M    M    M    F    F    M    M    M    M    F    M    M    M    M   \n",
      " [9045] M    M    M    M    M    M    M    M    M    F    M    F    M    F   \n",
      " [9059] M    M    M    M    M    M    F    F    M    M    F    M    M    M   \n",
      " [9073] F    F    M    F    M    M    F    M    F    M    M    M    M    M   \n",
      " [9087] F    M    F    M    M    M    M    <NA> M    F    F    F    F    M   \n",
      " [9101] F    M    M    F    M    F    M    <NA> <NA> <NA> <NA> <NA> <NA> <NA>\n",
      " [9115] <NA> M    F    M    M    M    F    M    F    M    F    F    M    F   \n",
      " [9129] F    F    M    F    M    F    F    M    M    M    F    F    F    F   \n",
      " [9143] M    M    F    M    F    M    F    F    F    F    F    F    M    F   \n",
      " [9157] M    F    F    M    F    M    F    F    M    F    F    M    M    M   \n",
      " [9171] F    M    M    F    M    F    M    M    F    M    F    <NA> F    F   \n",
      " [9185] M    M    F    F    F    M    M    F    M    F    M    M    M    F   \n",
      " [9199] M    F    M    F    M    F    M    M    M    F    M    F    F    M   \n",
      " [9213] M    F    F    M    M    F    M    M    M    M    M    F    F    M   \n",
      " [9227] F    M    F    F    M    F    M    M    M    M    F    M    M    M   \n",
      " [9241] M    F    F    M    M    <NA> M    F    M    M    M    M    F    M   \n",
      " [9255] M    M    F    M    M    M    M    F    F    M    M    F    F    F   \n",
      " [9269] M    F    F    F    M    M    M    M    F    M    M    F    M    F   \n",
      " [9283] M    M    F    M    <NA> <NA> <NA> <NA> <NA> <NA> <NA> <NA> F    M   \n",
      " [9297] F    M    F    M    M    M    M    M    M    F    M    <NA> <NA> <NA>\n",
      " [9311] <NA> <NA> <NA> <NA> <NA> <NA> <NA> <NA> <NA> <NA> <NA> <NA> <NA> <NA>\n",
      " [9325] <NA> <NA> <NA> <NA> <NA> <NA> <NA> <NA> <NA> <NA> <NA> <NA> <NA> <NA>\n",
      " [9339] <NA> <NA> <NA> <NA> <NA> <NA> <NA> <NA> <NA> <NA> <NA> <NA> <NA> <NA>\n",
      " [9353] <NA> <NA> <NA> <NA> <NA> <NA> <NA> <NA> F    F    F    F    F    M   \n",
      " [9367] F    F    F    <NA> <NA> F    M    M    F    M    F    M    M    M   \n",
      " [9381] M    <NA> M    <NA> M    M    M    M    M    M    M    M    F    F   \n",
      " [9395] F    M    M    F    F    M    M    M    M    F    F    F    M    F   \n",
      " [9409] F    F    F    F    M    F    M    F    M    F    M    F    F    M   \n",
      " [9423] F    <NA> <NA> <NA> M    M    M    F    F    M    F    F    M    F   \n",
      " [9437] F    M    F    F    F    M    F    M    M    M    <NA> M    F    F   \n",
      " [9451] <NA> M    M    M    M    M    F    M    M    M    M    M    M    M   \n",
      " [9465] F    M    F    F    M    M    M    M    F    F    F    F    F    F   \n",
      " [9479] F    F    F    F    F    F    F    F    M    F    M    F    F    M   \n",
      " [9493] <NA> F    M    F    M    M    F    M    M    M    F    F    M    F   \n",
      " [9507] F    M    F    M    M    M    F    F    M    F    M    M    F    F   \n",
      " [9521] F    <NA> M    F    F    F    F    F    F    M    F    F    F    F   \n",
      " [9535] F    M    M    F    M    F    M    F    F    F    F    M    M    F   \n",
      " [9549] M    M    F    M    M    F    F    F    F    F    F    M    M    M   \n",
      " [9563] M    M    F    M    M    M    F    M    M    M    F    F    F    M   \n",
      " [9577] F    M    F    F    M    F    F    M    F    M    F    F    M    M   \n",
      " [9591] F    F    F    F    F    F    F    M    M    M    M    F    M    F   \n",
      " [9605] F    M    M    F    F    F    F    F    F    M    M    F    F    M   \n",
      " [9619] F    M    F    F    M    M    M    F    F    F    M    M    M    M   \n",
      " [9633] F    M    F    M    F    M    M    F    M    M    F    F    F    F   \n",
      " [9647] M    F    M    M    M    F    M    F    M    F    F    M    M    M   \n",
      " [9661] M    F    M    F    M    M    M    F    M    F    F    F    M    F   \n",
      " [9675] F    F    M    F    M    F    M    F    F    F    M    F    F    F   \n",
      " [9689] M    F    M    M    <NA> M    M    M    M    M    M    M    M    F   \n",
      " [9703] M    M    F    M    M    F    F    F    M    F    F    M    F    M   \n",
      " [9717] F    M    F    M    M    <NA> F    F    F    M    F    F    F    M   \n",
      " [9731] F    M    M    M    M    F    F    M    F    M    F    M    F    F   \n",
      " [9745] F    M    M    M    F    F    F    F    M    F    F    M    F    M   \n",
      " [9759] M    F    M    F    F    M    M    M    F    M    F    M    M    F   \n",
      " [9773] M    F    M    F    M    M    M    F    M    M    F    F    M    F   \n",
      " [9787] F    M    M    M    F    F    F    M    F    M    F    M    M    F   \n",
      " [9801] F    F    M    F    M    F    F    M    M    F    M    M    F    M   \n",
      " [9815] <NA> M    M    F    M    M    F    <NA> M    F    M    F    M    F   \n",
      " [9829] F    F    M    F    M    M    F    M    M    F    F    F    M    F   \n",
      " [9843] F    M    F    F    F    F    F    F    F    M    F    F    M    F   \n",
      " [9857] F    F    F    F    F    F    F    F    F    F    F    F    F    F   \n",
      " [9871] F    F    F    F    M    F    F    M    F    F    M    M    F    F   \n",
      " [9885] M    M    F    M    M    M    M    M    F    F    F    M    F    M   \n",
      " [9899] M    F    F    F    M    F    F    M    M    M    M    M    F    F   \n",
      " [9913] M    M    M    M    M    M    F    M    F    M    F    M    F    M   \n",
      " [9927] F    F    M    M    M    M    F    M    F    M    M    F    F    M   \n",
      " [9941] M    M    F    M    M    M    F    F    F    F    F    M    M    M   \n",
      " [9955] F    M    M    F    F    F    M    F    M    M    M    M    M    M   \n",
      " [9969] M    F    M    <NA> F    M    M    M    F    M    M    F    F    F   \n",
      " [9983] F    F    M    F    <NA> F    M    M    F    M    M    F    M    F   \n",
      " [9997] M    M    F    M    F    M    F    M    F    M    F    M    M    M   \n",
      "[10011] M    F    M    M    M    F    F    M    M    M    F    F    M    F   \n",
      "[10025] M    F    M    M    F    F    F    M    F    M    M    M    F    M   \n",
      "[10039] M    M    M    M    M    M    F    M    M    M    F    M    M    M   \n",
      "[10053] F    M    F    F    M    M    F    M    M    F    F    F    F    M   \n",
      "[10067] F    M    M    F    F    M    M    M    F    M    F    M    M    M   \n",
      "[10081] F    M    M    F    <NA> F    F    F    F    F    M    M    M    F   \n",
      "[10095] F    M    M    M    <NA> F    F    F    M    F    F    M    F    M   \n",
      "[10109] F    F    F    F    F    M    F    F    F    F    F    M    F    F   \n",
      "[10123] M    M    M    M    F    M    M    F    M    F    F    F    F    F   \n",
      "[10137] M    F    M    M    <NA> F    F    M    F    F    F    F    F    F   \n",
      "[10151] F    M    M    F    F    <NA> M    F    M    M    M    M    M    M   \n",
      "[10165] F    F    M    F    F    F    M    F    M    M    F    M    F    M   \n",
      "[10179] M    M    M    F    M    F    F    M    F    F    F    M    F    F   \n",
      "[10193] F    F    M    F    F    F    F    F    F    M    M    F    M    M   \n",
      "[10207] F    F    F    F    F    F    F    M    M    M    F    M    M    M   \n",
      "[10221] F    F    M    F    M    F    M    F    M    M    F    F    M    F   \n",
      "[10235] F    F    F    M    F    M    M    M    F    F    M    M    M    M   \n",
      "[10249] F    M    F    M    M    F    F    F    M    F    F    M    F    M   \n",
      "[10263] M    M    F    F    M    M    F    M    F    M    M    F    F    F   \n",
      "[10277] F    M    F    M    F    F    F    M    F    M    F    M    F    M   \n",
      "[10291] F    F    F    M    M    M    M    M    <NA> F    M    F    F    F   \n",
      "[10305] M    F    F    F    M    F    M    F    F    F    M    M    M    M   \n",
      "[10319] F    M    M    M    M    F    M    M    F    F    M    F    F    F   \n",
      "[10333] M    M    M    M    M    M    M    M    F    F    F    M    M    <NA>\n",
      "[10347] <NA> <NA> <NA> <NA> M    M    M    F    M    F    M    M    F    F   \n",
      "[10361] M    F    M    M    F    M    F    M    F    M    M    F    M    M   \n",
      "[10375] M    M    F    F    M    F    F    M    M    F    F    F    F    F   \n",
      "[10389] F    M    M    M    M    F    M    M    F    M    F    F    M    F   \n",
      "[10403] M    F    F    M    F    F    F    F    M    F    F    F    F    M   \n",
      "[10417] F    M    F    F    F    F    F    M    F    F    F    F    M    M   \n",
      "[10431] F    M    M    M    F    F    F    F    F    F    M    F    F    F   \n",
      "[10445] M    M    M    M    F    F    M    F    M    F    F    M    F    F   \n",
      "[10459] M    M    F    F    F    F    M    M    F    M    F    M    M    F   \n",
      "[10473] F    M    M    M    M    M    M    F    M    M    F    M    M    F   \n",
      "[10487] F    M    M    F    M    M    M    M    M    F    M    M    F    M   \n",
      "[10501] M    M    F    M    M    F    F    M    F    F    M    <NA> F    M   \n",
      "[10515] F    F    M    M    M    F    M    F    M    F    M    M    M    F   \n",
      "[10529] F    F    M    M    M    F    M    M    M    M    M    M    M    F   \n",
      "[10543] M    F    F    F    F    F    F    F    M    F    F    F    F    F   \n",
      "[10557] M    F    F    M    M    F    M    M    F    F    F    M    M    M   \n",
      "[10571] M    F    F    <NA> <NA> <NA> <NA> <NA> <NA> <NA> <NA> <NA> <NA> <NA>\n",
      "[10585] <NA> <NA> <NA> <NA> <NA> <NA> <NA> <NA> <NA> <NA> <NA> <NA> <NA> <NA>\n",
      "[10599] M    F    <NA> M    <NA> <NA> F    F    M    M    M    F    F    F   \n",
      "[10613] F    F    M    F    F    F    F    F    F    F    F    F    F    F   \n",
      "[10627] M    M    F    M    M    F    F    M    M    M    F    M    F    M   \n",
      "[10641] M    F    F    F    F    <NA> F    <NA> M    F    M    M    F    F   \n",
      "[10655] F    F    F    M    F    F    M    F    F    M    F    F    F    F   \n",
      "[10669] M    M    F    M    F    F    M    F    F    M    F    M    F    <NA>\n",
      "[10683] M    M    F    M    F    F    F    M    F    M    M    F    F    F   \n",
      "[10697] <NA> F    M    M    F    M    M    M    F    F    M    F    F    F   \n",
      "[10711] M    F    M    F    M    F    M    M    M    F    F    M    M    F   \n",
      "[10725] M    F    M    F    F    F    M    F    M    F    F    F    F    M   \n",
      "[10739] F    M    F    M    F    F    F    F    F    F    F    F    F    F   \n",
      "[10753] F    M    F    F    F    F    M    F    M    F    F    M    F    F   \n",
      "[10767] F    F    M    M    F    F    F    M    F    F    <NA> F    F    F   \n",
      "[10781] F    F    F    F    F    M    M    F    M    F    F    M    M    F   \n",
      "[10795] M    F    F    F    F    F    F    F    F    M    M    F    F    M   \n",
      "[10809] F    M    F    F    F    F    M    F    F    F    F    F    F    F   \n",
      "[10823] F    M    F    F    F    F    F    F    F    F    F    F    F    F   \n",
      "[10837] F    F    M    F    F    F    F    F    <NA> F    F    F    F    F   \n",
      "[10851] F    F    F    F    F    F    M    F    F    F    F    F    <NA> <NA>\n",
      "[10865] <NA> <NA> <NA> F    M    M    M    F    M    F    M    F    M    F   \n",
      "[10879] M    M    F    M    M    F    F    <NA> F    M    M    M    M    M   \n",
      "[10893] F    F    F    M    F    F    F    M    F    F    F    F    F    M   \n",
      "[10907] F    F    F    M    F    M    M    F    M    F    M    F    M    F   \n",
      "[10921] M    M    F    M    M    <NA> M    F    M    M    F    M    M    F   \n",
      "[10935] M    F    F    M    F    M    F    F    F    M    M    F    M    M   \n",
      "[10949] F    M    M    F    F    M    M    F    M    M    M    M    M    M   \n",
      "[10963] M    M    M    M    F    M    F    M    M    F    M    F    F    M   \n",
      "[10977] M    F    F    M    M    F    M    M    M    M    M    M    F    F   \n",
      "[10991] M    F    M    F    F    M    M    F    M    F    M    F    M    M   \n",
      "[11005] F    M    M    F    F    M    F    M    F    M    M    M    M    M   \n",
      "[11019] F    M    F    M    F    M    M    M    F    M    F    F    M    F   \n",
      "[11033] M    F    F    F    M    F    F    M    M    M    F    M    F    M   \n",
      "[11047] F    F    M    M    F    M    M    M    F    M    M    M    M    F   \n",
      "[11061] M    M    M    F    M    F    M    M    M    F    M    M    F    M   \n",
      "[11075] F    M    M    F    M    F    F    M    M    M    M    F    M    M   \n",
      "[11089] F    M    M    M    M    M    F    M    M    M    F    M    M    M   \n",
      "[11103] F    M    M    M    M    M    M    M    F    F    M    M    M    M   \n",
      "[11117] M    M    M    M    M    M    M    M    M    F    M    M    F    M   \n",
      "[11131] F    F    F    M    F    F    M    F    F    M    F    F    M    F   \n",
      "[11145] F    M    M    M    F    M    M    F    M    F    M    M    F    M   \n",
      "[11159] F    F    F    M    F    F    M    F    F    M    M    F    M    F   \n",
      "[11173] M    M    M    F    M    M    F    M    F    M    F    F    M    F   \n",
      "[11187] M    F    F    M    F    F    M    F    F    <NA> M    M    M    F   \n",
      "[11201] F    F    M    M    F    F    M    M    F    F    M    M    F    F   \n",
      "[11215] F    F    F    F    F    F    M    F    F    F    F    F    F    F   \n",
      "[11229] F    F    F    F    F    F    F    F    F    M    F    M    M    F   \n",
      "[11243] F    F    M    M    M    M    F    M    F    M    M    F    F    M   \n",
      "[11257] M    M    F    M    M    F    M    M    F    M    F    M    M    F   \n",
      "[11271] M    F    F    F    M    M    F    M    F    F    F    F    M    F   \n",
      "[11285] M    M    F    M    F    M    F    M    M    F    F    M    F    F   \n",
      "[11299] M    F    M    M    F    M    M    F    F    F    M    M    F    M   \n",
      "[11313] M    F    F    M    F    M    F    F    M    M    M    F    M    F   \n",
      "[11327] F    M    F    F    M    M    M    M    F    F    M    M    M    F   \n",
      "[11341] M    M    F    M    M    M    F    M    M    F    M    F    M    M   \n",
      "[11355] M    M    F    M    M    M    M    F    M    M    M    F    M    M   \n",
      "[11369] F    M    F    M    M    F    M    F    M    M    F    M    F    M   \n",
      "[11383] M    F    F    F    M    M    F    M    F    M    M    F    F    M   \n",
      "[11397] M    F    F    F    M    M    F    F    M    M    F    F    M    M   \n",
      "[11411] F    F    F    M    M    F    F    F    M    F    F    M    F    F   \n",
      "[11425] F    M    M    M    M    F    F    M    M    M    M    M    F    F   \n",
      "[11439] M    M    F    M    M    F    M    F    <NA> F    M    F    M    M   \n",
      "[11453] F    M    F    F    F    F    M    M    M    M    M    M    F    M   \n",
      "[11467] M    F    F    M    M    F    F    F    F    F    M    M    F    F   \n",
      "[11481] F    M    M    M    M    M    M    F    M    M    F    F    M    M   \n",
      "[11495] F    F    M    F    M    F    M    F    M    F    F    M    M    F   \n",
      "[11509] M    M    F    M    M    F    M    M    M    F    F    M    M    F   \n",
      "[11523] M    M    F    F    F    M    M    F    M    F    M    M    M    M   \n",
      "[11537] M    F    F    M    F    M    F    F    M    M    F    M    F    M   \n",
      "[11551] F    M    M    M    M    M    M    M    M    F    M    M    M    M   \n",
      "[11565] F    M    F    M    M    F    F    M    M    M    F    F    M    M   \n",
      "[11579] M    F    F    F    M    F    F    F    F    M    F    M    F    M   \n",
      "[11593] M    M    F    M    F    M    M    F    M    M    M    M    F    M   \n",
      "[11607] M    M    F    M    M    F    M    M    F    M    M    M    F    M   \n",
      "[11621] F    M    M    M    M    M    F    M    M    F    M    M    F    M   \n",
      "[11635] F    M    F    F    M    F    M    M    F    M    F    F    M    M   \n",
      "[11649] M    M    F    F    M    F    F    M    F    F    M    F    F    F   \n",
      "[11663] M    M    F    F    M    M    F    F    M    F    F    F    F    M   \n",
      "[11677] F    M    M    M    M    F    F    F    M    F    F    F    M    F   \n",
      "[11691] F    F    F    M    F    F    M    F    M    F    F    M    M    M   \n",
      "[11705] M    M    M    F    F    F    M    F    M    M    M    F    M    M   \n",
      "[11719] F    M    M    M    F    M    F    M    F    F    M    F    M    F   \n",
      "[11733] F    F    M    M    M    M    M    M    F    M    M    M    M    M   \n",
      "[11747] F    F    M    M    M    F    M    M    M    M    M    M    F    F   \n",
      "[11761] F    F    M    M    M    M    F    M    M    F    M    F    F    M   \n",
      "[11775] F    M    F    F    M    F    M    M    F    M    M    F    M    F   \n",
      "[11789] F    M    M    F    F    M    M    M    M    F    M    F    M    M   \n",
      "[11803] F    M    F    M    M    M    F    M    M    M    M    F    F    M   \n",
      "[11817] F    M    F    F    F    F    F    M    M    M    F    M    F    M   \n",
      "[11831] M    M    M    F    F    M    F    M    F    F    F    F    M    F   \n",
      "[11845] F    M    M    M    F    M    M    F    F    F    M    M    M    F   \n",
      "[11859] F    F    M    M    M    F    F    M    M    M    M    M    M    M   \n",
      "[11873] F    M    F    M    F    M    F    F    M    F    M    M    F    M   \n",
      "[11887] M    M    M    M    F    F    F    M    F    M    F    M    F    M   \n",
      "[11901] F    F    M    F    <NA> F    F    F    M    M    F    F    M    M   \n",
      "[11915] F    M    F    F    M    F    M    F    M    F    M    F    M    F   \n",
      "[11929] M    F    M    M    M    M    M    M    M    M    F    F    F    M   \n",
      "[11943] M    M    M    M    M    M    M    M    M    M    M    M    M    M   \n",
      "[11957] M    F    M    M    M    M    F    F    F    F    F    M    F    F   \n",
      "[11971] F    F    F    M    M    M    <NA> M    M    F    M    M    F    M   \n",
      "[11985] F    F    F    F    F    F    F    F    F    F    F    M    F    F   \n",
      "[11999] M    F    F    F    F    F    F    F    M    M    F    F    F    M   \n",
      "[12013] F    M    M    M    F    F    F    F    M    M    M    M    F    F   \n",
      "[12027] F    F    F    F    M    M    M    M    M    F    M    F    M    M   \n",
      "[12041] M    F    F    F    F    F    F    M    F    F    F    F    F    F   \n",
      "[12055] M    F    M    M    M    M    M    M    M    M    M    M    F    F   \n",
      "[12069] F    F    M    F    M    M    M    M    F    F    F    M    M    F   \n",
      "[12083] M    M    F    M    M    M    M    M    F    M    M    M    M    F   \n",
      "[12097] M    M    M    M    M    M    M    M    M    M    F    M    F    F   \n",
      "[12111] M    F    F    F    F    M    F    M    M    F    M    M    M    M   \n",
      "[12125] F    M    M    M    F    M    M    F    M    M    F    F    M    M   \n",
      "[12139] M    F    M    F    M    M    M    F    F    M    M    M    M    M   \n",
      "[12153] F    F    M    F    F    F    M    F    M    <NA> F    F    F    F   \n",
      "[12167] F    M    M    F    M    F    M    M    F    F    F    M    M    M   \n",
      "[12181] M    M    M    M    M    M    M    F    F    F    M    M    M    M   \n",
      "[12195] M    M    M    <NA> M    F    F    F    M    F    M    M    M    M   \n",
      "[12209] M    F    F    F    M    F    M    M    M    F    F    M    M    M   \n",
      "[12223] F    M    M    F    F    F    M    M    M    F    M    M    M    M   \n",
      "[12237] F    M    M    M    F    M    M    M    M    M    M    M    M    M   \n",
      "[12251] M    F    M    F    M    F    M    M    F    F    M    M    F    F   \n",
      "[12265] F    F    M    F    F    M    F    M    F    M    M    F    M    F   \n",
      "[12279] F    M    F    F    F    F    M    F    F    M    M    F    M    F   \n",
      "[12293] F    M    M    F    F    F    M    F    M    M    F    M    M    F   \n",
      "[12307] F    M    F    M    F    M    F    F    M    F    M    M    F    F   \n",
      "[12321] F    F    M    M    M    F    M    F    F    F    M    F    M    F   \n",
      "[12335] F    F    M    M    M    M    F    F    M    F    M    F    M    M   \n",
      "[12349] M    M    F    F    M    F    M    F    M    F    M    M    F    M   \n",
      "[12363] F    M    <NA> F    F    M    F    F    F    M    F    F    F    F   \n",
      "[12377] F    M    F    M    M    F    F    M    M    M    M    M    F    M   \n",
      "[12391] F    M    M    F    F    M    M    M    M    M    M    M    M    M   \n",
      "[12405] M    M    M    F    F    M    M    F    <NA> F    F    F    F    F   \n",
      "[12419] F    F    M    F    F    M    M    M    F    F    M    M    F    F   \n",
      "[12433] M    F    M    M    M    M    M    F    M    M    M    M    M    M   \n",
      "[12447] M    F    M    M    M    M    F    F    F    M    M    F    M    F   \n",
      "[12461] F    F    M    F    M    M    M    F    M    M    M    M    M    M   \n",
      "[12475] F    F    M    M    M    M    M    M    M    M    M    M    M    M   \n",
      "[12489] M    F    M    F    M    M    M    F    M    F    M    M    F    M   \n",
      "[12503] M    M    F    F    M    M    F    M    F    M    F    M    M    F   \n",
      "[12517] F    M    F    M    F    F    F    F    M    <NA> <NA> <NA> <NA> <NA>\n",
      "[12531] <NA> <NA> <NA> <NA> <NA> <NA> <NA> <NA> <NA> M    F    M    M    M   \n",
      "[12545] M    M    M    F    M    F    F    F    F    M    M    M    M    M   \n",
      "[12559] F    M    M    M    M    M    M    F    M    M    F    M    F    F   \n",
      "[12573] F    F    M    F    F    F    M    F    M    M    M    F    M    M   \n",
      "[12587] M    M    M    M    M    F    F    F    F    F    F    F    M    M   \n",
      "[12601] M    M    M    M    M    F    F    F    M    F    M    M    F    F   \n",
      "[12615] M    M    F    M    M    M    M    F    M    F    M    M    M    F   \n",
      "[12629] M    F    F    F    F    M    M    M    M    M    F    F    M    F   \n",
      "[12643] M    M    F    F    M    F    M    M    F    F    M    M    F    M   \n",
      "[12657] F    F    M    M    F    M    <NA> <NA> <NA> <NA> <NA> M    M    M   \n",
      "[12671] F    F    M    M    M    F    M    M    M    F    M    M    F    M   \n",
      "[12685] <NA> <NA> <NA> <NA> <NA> <NA> <NA> <NA> <NA> <NA> <NA> <NA> <NA> <NA>\n",
      "[12699] <NA> M    <NA> <NA> <NA> <NA> <NA> M    <NA> <NA> <NA> <NA> F    F   \n",
      "[12713] M    M    F    F    F    <NA> M    M    M    M    M    F    M    F   \n",
      "[12727] F    M    F    F    F    F    M    F    F    M    F    M    F    F   \n",
      "[12741] F    M    F    M    M    F    F    M    M    F    F    M    F    M   \n",
      "[12755] F    F    F    M    M    M    F    M    F    F    F    F    F    F   \n",
      "[12769] F    F    M    F    <NA> <NA> <NA> <NA> F    F    F    <NA> F    M   \n",
      "[12783] F    F    F    F    M    M    M    M    M    M    M    M    M    M   \n",
      "[12797] M    M    M    F    F    F    F    F    F    M    F    F    F    F   \n",
      "[12811] F    F    M    F    F    F    F    F    F    F    F    F    F    F   \n",
      "[12825] M    M    F    F    <NA> M    F    F    F    F    F    F    F    F   \n",
      "[12839] F    F    F    M    M    F    M    F    F    F    F    M    F    F   \n",
      "[12853] F    M    F    F    F    F    F    F    <NA> F    F    F    F    F   \n",
      "[12867] M    M    M    M    M    F    F    M    F    M    F    F    <NA> F   \n",
      "[12881] F    F    F    F    F    F    F    F    F    F    F    F    M    F   \n",
      "[12895] M    F    F    F    F    F    F    F    F    F    F    F    F    F   \n",
      "[12909] M    F    M    M    M    F    F    M    M    F    M    M    F    M   \n",
      "[12923] F    F    F    F    F    <NA> F    F    M    F    F    M    F    M   \n",
      "[12937] F    M    M    M    F    F    F    F    F    F    F    M    F    F   \n",
      "[12951] M    F    M    F    M    M    F    M    M    F    M    M    F    M   \n",
      "[12965] <NA> M    M    M    M    M    M    F    M    M    M    F    M    F   \n",
      "[12979] F    F    F    M    M    M    M    M    F    F    M    F    F    M   \n",
      "[12993] F    M    F    M    F    M    M    M    F    F    F    M    F    M   \n",
      "[13007] F    F    M    F    M    F    F    M    F    M    M    F    M    F   \n",
      "[13021] F    M    F    F    F    F    M    F    M    F    F    M    M    F   \n",
      "[13035] M    F    F    F    M    F    M    F    F    M    F    M    M    F   \n",
      "[13049] M    F    F    F    M    F    F    M    F    F    F    F    M    M   \n",
      "[13063] F    F    F    M    F    M    M    M    M    M    M    M    M    M   \n",
      "[13077] M    M    M    M    M    M    M    M    M    M    F    M    F    F   \n",
      "[13091] M    M    M    F    M    M    M    M    M    M    F    M    M    F   \n",
      "[13105] M    M    F    M    M    M    F    M    F    F    M    F    M    M   \n",
      "[13119] M    M    M    M    F    M    M    M    M    F    M    F    M    M   \n",
      "[13133] M    M    M    F    M    F    M    M    F    F    F    M    M    M   \n",
      "[13147] F    F    M    M    M    F    F    F    F    M    F    F    M    M   \n",
      "[13161] M    M    M    F    M    M    M    F    M    F    M    M    M    M   \n",
      "[13175] F    M    M    M    M    M    M    M    M    F    <NA> M    M    F   \n",
      "[13189] F    M    F    M    F    F    M    M    M    M    M    M    F    M   \n",
      "[13203] F    F    F    F    M    M    F    F    M    M    M    M    F    M   \n",
      "[13217] F    F    M    M    F    F    M    F    F    M    F    F    M    M   \n",
      "[13231] F    F    F    M    F    M    F    F    M    F    M    M    M    F   \n",
      "[13245] F    M    F    F    M    F    F    F    F    M    M    F    F    F   \n",
      "[13259] F    F    M    M    F    F    M    F    M    F    F    M    F    F   \n",
      "[13273] F    M    F    F    F    F    F    F    M    F    M    M    F    F   \n",
      "[13287] M    M    F    F    F    F    F    M    M    F    M    M    F    M   \n",
      "[13301] M    F    M    M    M    F    M    M    M    F    F    F    M    F   \n",
      "[13315] F    M    F    F    M    M    M    M    M    F    F    F    F    M   \n",
      "[13329] F    M    M    M    M    M    F    M    M    F    M    F    M    M   \n",
      "[13343] M    M    M    M    F    F    M    F    M    M    M    F    M    F   \n",
      "[13357] <NA> M    M    M    M    M    M    M    M    M    M    M    M    M   \n",
      "[13371] M    F    M    F    M    M    F    F    M    F    F    F    F    F   \n",
      "[13385] F    M    M    F    M    F    F    M    F    M    M    F    M    M   \n",
      "[13399] M    F    F    F    M    M    F    F    F    F    F    M    M    M   \n",
      "[13413] M    M    F    M    F    M    M    M    M    F    F    F    F    F   \n",
      "[13427] F    M    F    M    M    <NA> M    M    M    M    M    M    M    M   \n",
      "[13441] F    M    M    M    M    F    M    M    F    M    F    M    F    M   \n",
      "[13455] M    F    <NA> F    M    F    M    F    F    M    M    <NA> F    M   \n",
      "[13469] F    F    M    F    F    M    F    F    F    F    F    M    F    F   \n",
      "[13483] M    <NA> M    F    F    F    M    F    M    M    M    M    M    M   \n",
      "[13497] F    M    F    F    F    F    F    M    M    M    F    M    M    M   \n",
      "[13511] F    M    M    F    F    M    M    M    F    M    F    F    M    F   \n",
      "[13525] F    M    F    M    F    M    M    M    M    M    F    M    F    F   \n",
      "[13539] M    F    F    F    F    F    M    F    F    F    F    F    F    F   \n",
      "[13553] F    F    M    M    M    F    M    M    M    M    M    M    M    M   \n",
      "[13567] F    F    M    M    F    <NA> F    F    F    F    F    F    F    M   \n",
      "[13581] F    F    F    M    M    M    F    M    F    M    F    F    F    F   \n",
      "[13595] F    M    M    F    F    F    F    F    M    M    F    F    M    M   \n",
      "[13609] F    M    F    F    M    M    M    M    M    F    M    F    F    M   \n",
      "[13623] M    F    M    F    M    F    F    M    F    F    F    F    M    M   \n",
      "[13637] F    F    F    F    M    F    M    F    F    M    F    M    F    M   \n",
      "[13651] F    F    F    F    M    F    F    M    M    F    F    F    F    M   \n",
      "[13665] F    F    M    M    M    M    F    M    M    M    M    M    F    M   \n",
      "[13679] F    M    M    F    F    M    M    F    M    M    M    F    F    F   \n",
      "[13693] F    F    M    F    M    M    M    M    M    F    M    M    F    M   \n",
      "[13707] M    M    M    F    F    M    M    M    M    M    M    M    M    M   \n",
      "[13721] F    F    F    F    M    M    M    F    M    M    F    M    M    F   \n",
      "[13735] M    F    F    F    M    F    F    <NA> <NA> <NA> <NA> <NA> M    F   \n",
      "[13749] F    F    M    F    M    F    F    F    F    M    F    F    F    M   \n",
      "[13763] F    F    M    M    F    M    F    F    M    F    F    F    F    F   \n",
      "[13777] M    M    F    <NA> M    F    F    M    F    M    M    M    M    M   \n",
      "[13791] M    M    M    M    M    M    M    M    M    M    F    M    M    F   \n",
      "[13805] F    F    F    M    M    F    F    F    F    F    M    M    F    M   \n",
      "[13819] F    M    F    M    F    M    F    M    M    F    F    M    M    M   \n",
      "[13833] F    F    M    M    F    F    F    M    F    F    M    F    F    F   \n",
      "[13847] F    M    F    F    F    F    M    M    M    M    F    F    M    F   \n",
      "[13861] F    M    M    M    F    M    M    F    F    F    M    M    M    M   \n",
      "[13875] M    F    M    M    M    F    M    M    F    F    M    F    M    F   \n",
      "[13889] M    M    M    M    M    F    M    M    F    M    F    F    F    F   \n",
      "[13903] M    M    M    M    F    F    F    F    <NA> <NA> <NA> <NA> <NA> <NA>\n",
      "[13917] <NA> <NA> <NA> <NA> <NA> <NA> <NA> <NA> <NA> <NA> <NA> <NA> <NA> <NA>\n",
      "[13931] <NA> <NA> <NA> <NA> <NA> <NA> <NA> <NA> <NA> <NA> <NA> <NA> <NA> <NA>\n",
      "[13945] <NA> <NA> <NA> <NA> <NA> <NA> <NA> <NA> <NA> <NA> <NA> <NA> <NA> <NA>\n",
      "[13959] <NA> <NA> <NA> <NA> <NA> <NA> <NA> <NA> <NA> <NA> <NA> <NA> <NA> <NA>\n",
      "[13973] <NA> <NA> <NA> <NA> <NA> <NA> <NA> <NA> <NA> <NA> <NA> <NA> <NA> <NA>\n",
      "[13987] <NA> <NA> <NA> F    F    F    F    F    F    F    F    F    F    <NA>\n",
      "[14001] <NA> <NA> <NA> <NA> <NA> <NA> F    F    M    F    F    F    F    <NA>\n",
      "[14015] <NA> <NA> M    M    M    M    F    M    M    M    M    M    M    M   \n",
      "[14029] M    M    F    M    M    F    F    M    F    M    F    F    F    M   \n",
      "[14043] F    F    F    F    F    M    F    M    F    M    F    M    F    M   \n",
      "[14057] M    F    F    F    M    M    M    F    F    M    F    F    M    F   \n",
      "[14071] M    F    M    F    F    F    F    F    M    F    M    F    M    F   \n",
      "[14085] F    F    F    F    M    F    M    F    F    F    M    F    F    F   \n",
      "[14099] M    M    F    M    F    F    M    M    F    M    M    F    F    F   \n",
      "[14113] M    M    F    M    F    F    F    <NA> M    M    F    F    M    M   \n",
      "[14127] F    M    F    F    F    M    M    F    F    M    F    F    M    F   \n",
      "[14141] M    F    M    M    F    F    M    F    <NA> M    F    F    F    <NA>\n",
      "[14155] M    M    F    F    M    M    M    M    M    M    M    M    M    M   \n",
      "[14169] <NA> F    M    M    F    M    M    F    F    F    F    F    M    M   \n",
      "[14183] F    F    F    M    M    M    F    M    F    M    M    M    M    F   \n",
      "[14197] M    M    M    F    F    F    F    M    F    M    F    M    M    F   \n",
      "[14211] M    F    M    M    M    F    F    F    F    <NA> M    M    M    M   \n",
      "[14225] M    F    M    M    M    M    M    M    M    M    M    M    M    M   \n",
      "[14239] M    F    F    F    M    M    M    M    F    F    F    F    F    F   \n",
      "[14253] M    F    M    F    M    M    M    M    F    M    F    M    M    F   \n",
      "[14267] M    M    F    M    F    F    M    F    M    F    F    M    M    F   \n",
      "[14281] F    F    M    F    F    M    M    F    M    F    F    M    F    M   \n",
      "[14295] F    F    F    M    M    F    M    F    F    F    F    M    F    M   \n",
      "[14309] M    M    M    F    M    F    M    F    M    F    F    F    F    M   \n",
      "[14323] F    M    F    F    M    M    M    M    M    M    F    F    M    M   \n",
      "[14337] F    M    M    M    F    F    M    F    F    F    M    F    F    F   \n",
      "[14351] F    F    F    M    M    M    M    F    M    M    M    F    M    F   \n",
      "[14365] M    M    F    M    M    M    M    M    M    M    M    F    M    F   \n",
      "[14379] M    M    M    M    F    M    F    M    M    M    M    M    F    M   \n",
      "[14393] M    F    F    M    M    M    F    M    M    M    F    F    F    M   \n",
      "[14407] F    F    F    F    F    M    M    F    M    M    M    M    M    M   \n",
      "[14421] F    M    M    F    M    F    M    F    M    F    F    F    M    F   \n",
      "[14435] F    F    F    F    M    M    M    F    F    F    F    F    F    F   \n",
      "[14449] F    F    M    F    M    F    F    M    F    F    M    M    M    F   \n",
      "[14463] M    F    F    F    F    F    F    F    F    M    M    M    M    M   \n",
      "[14477] M    M    M    F    M    F    F    M    F    M    F    F    M    F   \n",
      "[14491] M    M    F    F    M    M    F    M    F    F    M    F    F    M   \n",
      "[14505] F    F    F    F    M    F    F    F    F    F    M    F    M    F   \n",
      "[14519] M    F    F    F    M    F    F    F    M    F    F    M    M    F   \n",
      "[14533] F    F    F    M    F    M    M    F    M    M    F    M    M    F   \n",
      "[14547] M    F    F    F    M    F    F    M    M    M    F    M    F    F   \n",
      "[14561] M    M    M    F    F    M    M    M    F    M    F    F    M    F   \n",
      "[14575] F    M    M    F    M    F    M    F    F    M    F    F    F    F   \n",
      "[14589] F    M    M    F    M    F    M    F    M    M    F    F    M    F   \n",
      "[14603] M    M    F    M    M    F    M    M    F    F    M    M    M    F   \n",
      "[14617] M    F    M    F    M    M    F    M    M    F    M    M    M    F   \n",
      "[14631] F    F    M    M    F    F    M    M    M    M    F    M    M    F   \n",
      "[14645] M    F    F    M    M    M    M    F    M    M    M    M    F    F   \n",
      "[14659] M    F    M    M    M    M    M    M    F    F    M    M    M    M   \n",
      "[14673] M    M    M    M    M    M    F    F    F    M    F    M    M    M   \n",
      "[14687] M    M    F    M    F    F    F    F    F    F    F    M    F    F   \n",
      "[14701] M    F    M    F    M    F    M    M    M    M    M    M    M    F   \n",
      "[14715] M    M    M    F    M    F    F    F    M    F    M    M    M    M   \n",
      "[14729] F    F    F    M    F    M    F    M    M    M    M    M    M    M   \n",
      "[14743] M    F    M    F    M    F    M    F    M    F    M    F    M    F   \n",
      "[14757] F    F    F    M    F    F    F    M    M    F    M    F    F    F   \n",
      "[14771] F    F    F    F    F    F    F    F    F    F    F    F    F    F   \n",
      "[14785] F    F    F    F    F    F    F    F    M    M    M    F    F    M   \n",
      "[14799] F    M    M    M    M    F    M    M    M    M    F    M    M    M   \n",
      "[14813] M    M    F    M    M    M    F    M    F    M    F    M    M    F   \n",
      "[14827] M    F    F    M    F    F    F    F    F    F    M    M    F    M   \n",
      "[14841] M    F    F    F    M    M    F    F    M    F    M    M    M    M   \n",
      "[14855] M    M    F    F    F    M    F    F    M    M    F    M    M    M   \n",
      "[14869] M    M    F    M    F    F    F    M    M    F    F    M    M    F   \n",
      "[14883] M    M    M    M    M    F    F    M    M    M    F    M    F    M   \n",
      "[14897] F    M    M    M    M    F    F    M    F    M    F    F    F    M   \n",
      "[14911] M    F    M    M    M    M    M    M    F    M    M    F    M    M   \n",
      "[14925] F    M    M    F    F    M    M    M    M    M    M    F    M    F   \n",
      "[14939] M    M    F    F    F    M    M    M    F    F    M    F    M    M   \n",
      "[14953] M    F    F    F    F    F    F    F    F    F    F    F    M    M   \n",
      "[14967] F    M    M    M    M    F    M    M    <NA> M    F    F    F    F   \n",
      "[14981] F    F    F    F    M    F    M    F    F    F    F    M    M    F   \n",
      "[14995] M    F    M    F    M    F    M    F    M    F    M    F    M    F   \n",
      "[15009] M    F    F    F    F    F    F    M    M    F    F    F    F    F   \n",
      "[15023] F    F    F    <NA> F    F    F    F    F    F    F    <NA> F    F   \n",
      "[15037] F    F    F    F    F    F    F    F    F    F    F    F    M    F   \n",
      "[15051] F    M    M    F    F    F    M    M    M    M    M    F    M    F   \n",
      "[15065] F    <NA> M    M    M    M    <NA> M    F    M    F    M    M    F   \n",
      "[15079] F    F    M    F    F    F    M    M    F    F    M    M    F    M   \n",
      "[15093] M    M    M    F    F    F    M    F    M    M    <NA> M    F    M   \n",
      "[15107] M    M    M    M    M    F    M    M    M    M    M    M    F    M   \n",
      "[15121] M    F    F    M    F    M    F    F    M    M    M    M    F    M   \n",
      "[15135] F    F    M    F    F    M    M    F    M    M    F    M    F    M   \n",
      "[15149] M    F    M    M    F    F    M    F    F    M    F    F    F    F   \n",
      "[15163] F    M    M    M    M    M    F    M    F    M    M    M    F    M   \n",
      "[15177] F    M    F    M    F    F    M    F    F    F    M    F    M    F   \n",
      "[15191] <NA> M    F    F    M    M    M    F    <NA> <NA> <NA> <NA> <NA> <NA>\n",
      "[15205] M    M    F    M    M    F    M    M    M    F    M    M    M    F   \n",
      "[15219] M    M    F    M    F    M    F    M    M    F    F    F    M    M   \n",
      "[15233] F    M    F    M    M    F    F    <NA> M    <NA> <NA> M    F    F   \n",
      "[15247] M    <NA> <NA> <NA> <NA> <NA> <NA> <NA> <NA> <NA> <NA> <NA> <NA> <NA>\n",
      "[15261] <NA> <NA> <NA> <NA> <NA> <NA> <NA> F    F    F    F    F    F    F   \n",
      "[15275] F    F    <NA> M    <NA> M    M    M    M    M    M    M    F    M   \n",
      "[15289] F    M    F    M    M    M    M    M    F    M    M    M    M    F   \n",
      "[15303] M    M    F    F    M    F    M    F    F    M    F    F    F    F   \n",
      "[15317] F    F    <NA> F    F    F    F    M    F    M    M    M    F    M   \n",
      "[15331] F    F    F    F    F    F    F    F    M    F    M    F    M    F   \n",
      "[15345] M    F    M    F    F    F    F    F    M    F    F    F    F    M   \n",
      "[15359] F    M    M    M    F    M    F    M    F    M    M    F    F    F   \n",
      "[15373] M    M    M    M    M    M    F    M    F    F    F    F    F    M   \n",
      "[15387] F    M    F    F    M    F    F    F    F    F    F    M    F    F   \n",
      "[15401] F    F    F    F    F    M    F    M    M    M    F    M    F    F   \n",
      "[15415] F    M    M    M    M    F    F    M    M    M    F    M    M    M   \n",
      "[15429] F    F    F    M    F    M    F    M    M    F    M    F    F    M   \n",
      "[15443] F    M    F    M    M    F    F    F    M    F    F    F    F    M   \n",
      "[15457] F    F    F    M    F    F    M    F    M    F    M    F    F    M   \n",
      "[15471] F    F    F    M    F    F    F    M    M    M    F    M    F    F   \n",
      "[15485] F    M    F    M    F    M    M    M    M    F    M    F    F    F   \n",
      "[15499] M    M    M    F    F    M    F    F    F    F    F    M    M    F   \n",
      "[15513] M    F    M    F    F    M    F    F    M    M    F    M    F    M   \n",
      "[15527] M    M    M    M    F    M    M    M    F    <NA> <NA> <NA> <NA> <NA>\n",
      "[15541] M    M    <NA> M    M    M    F    F    F    F    M    F    M    M   \n",
      "[15555] M    F    <NA> F    F    M    M    M    F    M    M    F    F    F   \n",
      "[15569] F    F    F    F    F    F    F    M    F    F    F    F    F    F   \n",
      "[15583] M    M    F    M    M    M    M    M    F    M    M    M    <NA> M   \n",
      "[15597] M    F    M    M    F    M    M    M    M    F    F    M    F    M   \n",
      "[15611] M    M    F    M    F    M    F    M    F    <NA> F    F    M    F   \n",
      "[15625] M    M    F    F    M    F    F    M    F    F    M    M    F    M   \n",
      "[15639] F    F    M    F    M    F    M    F    F    M    M    F    F    M   \n",
      "[15653] M    F    M    F    F    M    M    F    M    M    M    F    M    M   \n",
      "[15667] M    F    F    M    F    F    F    M    M    M    F    M    F    M   \n",
      "[15681] M    F    M    F    F    M    F    M    F    M    F    F    M    F   \n",
      "[15695] M    F    M    F    M    M    F    F    M    F    M    F    F    M   \n",
      "[15709] F    M    F    M    F    F    M    F    F    F    M    M    F    F   \n",
      "[15723] F    F    M    F    M    M    F    M    M    M    M    M    F    F   \n",
      "[15737] M    F    M    F    M    F    F    M    F    F    M    M    F    M   \n",
      "[15751] F    F    M    <NA> M    M    M    M    M    F    M    M    F    M   \n",
      "[15765] M    F    F    M    F    M    M    M    F    M    M    F    M    M   \n",
      "[15779] F    F    M    F    M    M    F    M    F    M    M    F    M    F   \n",
      "[15793] M    M    M    F    F    M    M    M    F    M    M    M    F    F   \n",
      "[15807] F    M    M    M    F    F    M    F    M    M    M    M    M    F   \n",
      "[15821] F    F    F    M    F    F    F    M    F    F    M    F    M    F   \n",
      "[15835] M    F    M    F    M    F    M    M    F    F    M    M    M    M   \n",
      "[15849] F    M    F    M    F    F    M    M    M    M    F    F    M    F   \n",
      "[15863] M    M    M    F    M    F    M    M    M    F    M    M    F    M   \n",
      "[15877] M    M    M    M    M    F    M    M    M    M    F    M    M    F   \n",
      "[15891] F    M    M    M    M    M    M    M    M    M    M    M    M    M   \n",
      "[15905] M    M    M    M    M    M    M    F    M    M    M    F    F    M   \n",
      "[15919] F    F    M    M    F    F    M    F    F    F    M    M    F    F   \n",
      "[15933] M    F    M    F    M    F    F    M    F    M    F    F    M    F   \n",
      "[15947] F    M    M    F    F    M    M    M    M    F    F    F    M    F   \n",
      "[15961] M    M    F    M    M    F    F    M    F    M    F    M    F    M   \n",
      "[15975] F    F    M    M    M    F    M    F    M    F    F    M    M    F   \n",
      "[15989] F    M    M    M    M    F    M    F    M    M    F    M    F    M   \n",
      "[16003] M    M    M    M    M    F    M    F    M    F    F    M    F    F   \n",
      "[16017] M    F    F    M    F    M    M    M    F    F    M    M    F    M   \n",
      "[16031] M    F    F    M    F    M    M    M    M    M    F    M    M    M   \n",
      "[16045] M    M    F    M    M    M    M    M    F    M    M    M    M    M   \n",
      "[16059] M    M    F    M    M    F    M    F    M    M    F    M    M    F   \n",
      "[16073] M    M    M    M    M    M    M    M    M    F    M    M    F    M   \n",
      "[16087] M    M    M    F    F    <NA> M    F    M    F    F    M    M    M   \n",
      "[16101] F    M    F    F    M    F    M    M    M    F    M    M    M    F   \n",
      "[16115] F    F    M    M    M    M    M    F    F    M    M    M    M    F   \n",
      "[16129] M    M    M    <NA> F    M    F    M    M    F    F    M    F    M   \n",
      "[16143] M    M    F    M    M    M    M    M    F    <NA> F    F    M    M   \n",
      "[16157] <NA> M    F    M    F    F    M    M    F    F    M    M    F    M   \n",
      "[16171] F    M    M    F    M    M    F    F    M    M    M    F    F    M   \n",
      "[16185] M    F    M    F    M    M    F    M    M    F    M    F    M    F   \n",
      "[16199] M    M    F    F    F    M    F    F    F    M    F    M    F    F   \n",
      "[16213] M    M    M    F    M    F    M    F    M    F    M    M    M    F   \n",
      "[16227] F    M    M    M    M    F    M    M    F    M    F    F    F    M   \n",
      "[16241] M    M    M    F    M    M    F    M    M    M    M    M    M    F   \n",
      "[16255] F    F    M    M    M    M    F    M    M    M    M    F    M    M   \n",
      "[16269] M    F    M    M    M    M    M    M    M    M    M    M    M    M   \n",
      "[16283] M    M    M    M    M    M    M    M    M    M    M    M    M    M   \n",
      "[16297] M    M    M    M    M    M    M    M    M    M    M    M    M    M   \n",
      "[16311] M    M    M    M    M    M    M    M    M    M    M    F    M    F   \n",
      "[16325] F    M    F    M    M    F    F    F    M    M    F    M    M    F   \n",
      "[16339] F    M    M    M    F    M    M    M    M    M    M    F    M    M   \n",
      "[16353] M    F    M    M    F    M    F    M    M    F    M    M    F    M   \n",
      "[16367] M    F    M    M    M    F    M    M    M    M    F    M    M    F   \n",
      "[16381] M    M    F    M    F    M    F    M    F    M    M    M    M    M   \n",
      "[16395] M    M    F    M    F    M    M    F    M    F    M    F    M    <NA>\n",
      "[16409] F    F    M    F    M    F    M    M    F    F    F    M    M    M   \n",
      "[16423] M    M    F    F    M    M    M    F    F    M    M    M    F    M   \n",
      "[16437] F    M    M    F    M    M    M    M    M    F    M    M    F    F   \n",
      "[16451] M    M    M    M    M    F    F    M    M    M    M    M    M    F   \n",
      "[16465] M    M    M    M    M    M    M    M    M    F    F    M    M    F   \n",
      "[16479] M    M    M    F    M    M    F    F    M    F    M    M    F    F   \n",
      "[16493] M    M    F    M    M    F    M    M    F    F    M    M    M    F   \n",
      "[16507] M    M    M    F    F    F    M    M    F    M    M    M    M    M   \n",
      "[16521] F    M    M    F    M    F    M    M    F    M    M    M    M    F   \n",
      "[16535] M    M    M    M    M    F    M    M    F    F    M    M    M    F   \n",
      "[16549] M    M    F    M    F    M    F    M    M    M    M    M    F    F   \n",
      "[16563] M    M    F    M    M    F    M    F    F    F    M    M    M    M   \n",
      "[16577] F    M    F    <NA> F    M    M    M    M    M    M    F    F    F   \n",
      "[16591] F    F    M    M    F    F    F    M    M    F    F    F    M    M   \n",
      "[16605] F    F    M    F    M    F    F    F    F    M    M    F    M    M   \n",
      "[16619] M    F    F    F    F    F    F    M    F    M    F    F    F    M   \n",
      "[16633] M    M    M    M    M    M    M    M    F    M    M    M    M    M   \n",
      "[16647] M    M    M    F    F    M    F    M    M    M    M    M    M    F   \n",
      "[16661] M    M    F    M    F    M    M    M    F    F    F    F    M    M   \n",
      "[16675] M    F    M    F    F    M    F    F    F    M    F    F    M    M   \n",
      "[16689] M    F    F    M    M    F    M    F    M    M    M    F    F    M   \n",
      "[16703] F    F    F    F    M    M    F    F    F    M    F    F    F    F   \n",
      "[16717] M    F    M    M    F    F    M    F    M    F    M    F    F    M   \n",
      "[16731] M    F    M    M    F    F    F    F    F    F    M    M    F    F   \n",
      "[16745] F    F    F    M    F    M    M    F    F    M    M    F    M    M   \n",
      "[16759] M    M    M    M    F    M    M    F    F    M    M    M    F    M   \n",
      "[16773] F    M    M    M    F    M    F    F    M    M    F    M    M    M   \n",
      "[16787] M    M    M    F    F    F    F    M    M    F    M    M    F    F   \n",
      "[16801] F    M    M    F    F    M    F    F    M    M    F    F    M    F   \n",
      "[16815] F    M    M    M    M    M    F    M    M    M    F    F    M    M   \n",
      "[16829] F    M    M    F    M    F    M    M    F    M    M    M    M    M   \n",
      "[16843] F    F    F    M    M    M    F    M    M    M    M    M    M    M   \n",
      "[16857] M    F    M    M    M    F    M    M    M    M    F    F    F    F   \n",
      "[16871] F    F    F    F    F    F    F    F    F    F    F    F    F    F   \n",
      "[16885] F    F    F    F    F    M    M    <NA> F    M    F    F    M    F   \n",
      "[16899] F    M    F    F    F    F    F    F    F    M    F    M    F    F   \n",
      "[16913] F    M    F    M    M    M    M    M    M    M    M    M    <NA> M   \n",
      "[16927] M    M    M    M    M    M    M    M    M    M    M    M    M    M   \n",
      "[16941] M    M    M    M    M    F    M    M    M    M    M    M    M    M   \n",
      "[16955] M    M    M    M    F    F    M    M    M    F    M    F    M    F   \n",
      "[16969] F    M    M    F    F    F    M    M    M    F    F    <NA> F    M   \n",
      "[16983] M    M    M    F    F    M    M    M    M    F    F    F    M    M   \n",
      "[16997] M    M    F    M    M    M    F    M    F    M    F    F    M    M   \n",
      "[17011] M    M    F    M    M    M    M    M    F    F    M    M    M    M   \n",
      "[17025] M    M    F    M    M    M    M    M    M    M    M    <NA> M    F   \n",
      "[17039] M    F    M    M    M    M    M    M    M    M    M    M    M    M   \n",
      "[17053] M    F    M    M    M    F    M    M    M    M    M    F    M    M   \n",
      "[17067] M    M    F    F    M    F    F    F    F    F    F    M    F    M   \n",
      "[17081] F    M    F    F    M    M    M    M    M    F    F    F    M    F   \n",
      "[17095] F    M    F    M    M    F    F    F    M    F    F    M    F    F   \n",
      "[17109] F    F    F    F    F    F    F    M    M    M    F    M    M    F   \n",
      "[17123] F    F    F    F    F    F    F    F    F    F    F    F    F    F   \n",
      "[17137] F    M    F    M    F    M    M    F    F    F    F    M    F    F   \n",
      "[17151] F    F    F    M    M    F    M    M    F    M    M    M    M    M   \n",
      "[17165] M    M    M    M    M    M    M    M    M    M    M    M    F    M   \n",
      "[17179] M    M    M    <NA> <NA> <NA> <NA> <NA> <NA> <NA> <NA> <NA> <NA> <NA>\n",
      "[17193] <NA> <NA> <NA> <NA> <NA> M    F    M    F    <NA> F    M    F    M   \n",
      "[17207] M    F    M    F    M    M    M    M    M    F    M    F    M    M   \n",
      "[17221] M    F    M    F    M    M    M    M    M    F    M    M    M    M   \n",
      "[17235] F    F    M    F    M    F    F    M    F    M    F    M    F    M   \n",
      "[17249] F    F    M    M    F    F    F    M    M    F    F    M    M    M   \n",
      "[17263] M    F    M    F    F    F    M    M    M    M    F    M    M    M   \n",
      "[17277] F    M    F    F    M    F    M    M    M    F    M    M    F    M   \n",
      "[17291] M    F    M    M    F    M    F    M    F    M    M    M    M    M   \n",
      "[17305] M    M    <NA> F    F    M    M    M    F    M    M    M    M    F   \n",
      "[17319] F    F    F    M    M    F    <NA> M    M    M    F    M    <NA> <NA>\n",
      "[17333] <NA> <NA> M    F    M    M    M    F    M    M    M    M    F    M   \n",
      "[17347] F    F    M    F    F    <NA> <NA> <NA> <NA> <NA> <NA> <NA> <NA> <NA>\n",
      "[17361] <NA> <NA> <NA> <NA> <NA> <NA> <NA> <NA> <NA> <NA> <NA> <NA> <NA> <NA>\n",
      "[17375] <NA> <NA> <NA> <NA> <NA> <NA> <NA> <NA> <NA> <NA> <NA> <NA> <NA> <NA>\n",
      "[17389] <NA> <NA> <NA> <NA> <NA> <NA> <NA> <NA> <NA> <NA> <NA> <NA> <NA> <NA>\n",
      "[17403] <NA> <NA> <NA> <NA> <NA> <NA> <NA> M    F    M    M    M    M    <NA>\n",
      "[17417] F    M    F    F    F    F    F    F    M    F    F    F    F    F   \n",
      "[17431] F    <NA> F    F    F    M    F    F    F    M    M    M    F    M   \n",
      "[17445] F    M    M    F    M    F    M    F    F    F    F    F    F    F   \n",
      "[17459] M    M    M    <NA> M    M    M    M    F    F    F    F    F    F   \n",
      "[17473] F    F    M    F    M    M    F    M    F    F    F    M    M    M   \n",
      "[17487] M    F    M    F    M    F    M    F    M    F    F    M    F    F   \n",
      "[17501] F    M    F    F    F    M    F    M    F    F    F    F    M    F   \n",
      "[17515] M    F    F    M    M    M    F    M    M    F    F    M    M    M   \n",
      "[17529] M    M    M    F    M    M    M    F    M    M    M    M    F    F   \n",
      "[17543] F    M    M    F    M    M    M    F    F    M    F    M    <NA> F   \n",
      "[17557] M    F    F    M    M    F    M    F    F    M    F    M    M    M   \n",
      "[17571] F    M    M    M    M    F    F    M    F    M    F    F    M    M   \n",
      "[17585] M    M    F    M    F    M    F    F    M    M    F    F    F    F   \n",
      "[17599] M    M    F    M    F    M    F    M    F    M    M    M    F    F   \n",
      "[17613] M    M    F    M    M    F    F    M    F    F    M    M    M    F   \n",
      "[17627] M    M    F    M    M    M    F    F    M    M    M    F    M    F   \n",
      "[17641] M    M    F    M    F    M    M    M    M    F    M    M    F    M   \n",
      "[17655] F    M    F    F    M    M    M    M    M    F    M    M    M    M   \n",
      "[17669] M    M    F    M    F    M    M    M    M    F    M    F    M    F   \n",
      "[17683] M    M    M    F    M    F    F    F    M    M    M    F    M    F   \n",
      "[17697] M    F    M    F    M    M    M    F    M    M    F    F    M    M   \n",
      "[17711] F    M    M    M    M    M    F    M    M    F    M    M    M    F   \n",
      "[17725] M    F    M    F    M    F    F    F    M    M    F    F    F    M   \n",
      "[17739] F    F    M    F    M    F    F    M    F    M    F    F    F    F   \n",
      "[17753] F    M    M    F    F    F    F    M    M    M    F    F    F    M   \n",
      "[17767] F    M    M    M    F    M    F    M    F    M    M    F    F    F   \n",
      "[17781] M    F    M    F    F    F    M    F    F    M    <NA> F    F    M   \n",
      "[17795] M    F    F    M    F    F    F    F    F    M    M    F    M    F   \n",
      "[17809] F    F    M    F    F    M    F    F    M    F    F    F    M    F   \n",
      "[17823] M    F    F    F    F    F    M    F    M    M    M    F    M    F   \n",
      "[17837] F    F    F    M    F    M    M    M    F    F    F    M    F    M   \n",
      "[17851] M    M    F    M    F    F    F    M    F    F    F    F    M    M   \n",
      "[17865] F    F    F    M    F    F    M    M    M    M    M    M    M    M   \n",
      "[17879] F    M    M    M    F    M    M    M    F    F    M    M    F    M   \n",
      "[17893] F    F    M    F    M    M    M    M    F    F    M    M    F    M   \n",
      "[17907] F    F    F    F    F    M    M    M    M    M    M    M    M    F   \n",
      "[17921] M    F    F    F    M    M    M    M    M    F    F    F    F    M   \n",
      "[17935] F    M    F    F    M    M    F    M    F    <NA> M    F    M    F   \n",
      "[17949] F    F    F    F    F    F    F    M    M    M    M    F    F    F   \n",
      "[17963] M    F    M    M    F    M    M    M    M    F    M    F    M    F   \n",
      "[17977] F    F    F    M    M    M    F    M    M    M    F    M    F    M   \n",
      "[17991] F    F    M    M    M    M    M    M    M    F    M    F    M    F   \n",
      "[18005] M    F    M    M    F    F    F    F    M    F    M    M    F    F   \n",
      "[18019] F    <NA> F    F    M    M    M    M    M    M    M    M    F    M   \n",
      "[18033] F    F    F    F    F    M    F    M    M    F    M    M    M    M   \n",
      "[18047] M    M    M    M    M    M    F    F    F    F    F    F    F    M   \n",
      "[18061] F    F    M    M    M    M    M    M    M    M    F    M    M    M   \n",
      "[18075] F    M    M    F    F    M    F    M    M    F    M    F    M    F   \n",
      "[18089] M    M    M    F    <NA> <NA> <NA> F    M    M    F    M    F    M   \n",
      "[18103] M    F    M    F    F    M    F    F    M    F    M    M    F    F   \n",
      "[18117] M    M    F    F    M    M    M    F    M    M    M    F    M    F   \n",
      "[18131] F    F    F    F    M    M    M    F    F    F    F    M    F    M   \n",
      "[18145] F    F    M    F    M    M    F    F    F    <NA> M    M    M    F   \n",
      "[18159] M    M    F    M    M    M    F    M    M    M    M    M    F    M   \n",
      "[18173] F    M    F    F    F    F    M    F    F    F    F    F    F    M   \n",
      "[18187] M    M    M    F    M    F    M    M    M    F    F    M    F    F   \n",
      "[18201] F    F    F    F    F    F    F    F    M    F    F    M    F    M   \n",
      "[18215] M    M    M    M    F    M    F    M    F    M    F    F    M    F   \n",
      "[18229] M    F    M    M    F    M    M    M    M    M    M    M    F    M   \n",
      "[18243] F    M    M    F    F    M    M    F    F    F    M    F    M    M   \n",
      "[18257] M    F    M    M    F    M    M    M    M    M    F    M    M    M   \n",
      "[18271] M    M    M    F    M    F    M    M    M    F    F    M    M    F   \n",
      "[18285] M    M    F    M    F    F    F    M    M    F    F    F    F    M   \n",
      "[18299] F    F    <NA> <NA> <NA> <NA> <NA> <NA> <NA> <NA> <NA> <NA> <NA> <NA>\n",
      "[18313] F    F    F    F    F    M    M    M    F    F    M    M    F    F   \n",
      "[18327] F    M    F    M    F    M    M    M    F    F    M    M    M    <NA>\n",
      "[18341] M    M    F    F    M    M    F    F    M    F    M    M    M    M   \n",
      "[18355] M    F    M    F    F    M    M    M    F    F    M    M    M    M   \n",
      "[18369] M    F    M    F    M    M    M    M    F    M    M    F    M    M   \n",
      "[18383] M    F    F    F    F    M    F    F    F    M    F    M    M    M   \n",
      "[18397] F    F    F    M    F    M    M    M    M    F    M    F    F    F   \n",
      "[18411] F    F    M    F    M    M    M    F    F    F    F    F    M    F   \n",
      "[18425] M    M    F    M    F    M    M    F    M    M    M    F    M    M   \n",
      "[18439] M    F    M    M    F    M    M    M    M    M    F    M    M    F   \n",
      "[18453] M    M    M    F    F    M    M    M    F    <NA> F    M    F    F   \n",
      "[18467] M    F    M    F    F    M    <NA> F    M    F    F    <NA> F    F   \n",
      "[18481] M    F    F    F    M    F    M    F    M    M    F    M    <NA> M   \n",
      "[18495] F    F    M    M    F    M    M    F    M    F    F    F    M    M   \n",
      "[18509] F    M    M    M    M    M    M    M    M    F    M    F    F    M   \n",
      "[18523] F    F    F    M    M    F    F    M    F    M    M    F    M    M   \n",
      "[18537] M    M    M    M    F    M    M    <NA> <NA> <NA> <NA> <NA> <NA> <NA>\n",
      "[18551] <NA> <NA> M    F    F    M    F    M    F    M    F    F    M    M   \n",
      "[18565] M    M    M    <NA> M    F    F    F    F    F    F    M    M    M   \n",
      "[18579] M    F    F    <NA> F    F    M    M    F    M    M    F    M    M   \n",
      "[18593] M    M    F    M    M    M    F    M    M    M    M    M    M    M   \n",
      "[18607] F    M    F    M    M    M    M    F    F    M    M    M    M    M   \n",
      "[18621] F    F    F    F    M    M    M    F    M    F    M    M    F    F   \n",
      "[18635] M    M    M    M    M    M    M    F    F    M    F    F    M    F   \n",
      "[18649] F    M    M    M    M    F    F    M    M    M    M    F    F    M   \n",
      "[18663] M    M    F    M    M    M    F    F    F    M    M    F    M    F   \n",
      "[18677] F    M    F    F    M    F    M    F    M    F    M    F    M    M   \n",
      "[18691] F    M    M    F    F    M    M    F    F    M    M    M    F    M   \n",
      "[18705] M    M    M    M    M    M    M    M    M    M    F    F    F    F   \n",
      "[18719] F    F    F    M    F    F    F    M    M    F    F    F    F    M   \n",
      "[18733] M    M    F    M    F    M    F    M    F    F    F    F    F    F   \n",
      "[18747] M    F    M    F    M    F    M    F    F    F    M    M    M    M   \n",
      "[18761] F    F    M    M    M    F    F    M    F    F    M    M    M    F   \n",
      "[18775] F    <NA> F    M    M    F    M    F    M    F    F    M    M    M   \n",
      "[18789] M    <NA> M    M    F    M    M    M    M    M    M    M    F    M   \n",
      "[18803] F    M    F    F    M    <NA> M    M    M    F    M    M    F    M   \n",
      "[18817] M    M    F    M    F    F    F    F    M    M    M    F    M    M   \n",
      "[18831] M    M    M    M    F    M    F    M    M    F    M    M    M    M   \n",
      "[18845] F    F    F    F    F    F    F    F    F    F    M    M    M    M   \n",
      "[18859] F    F    F    F    F    F    F    F    F    M    F    F    F    M   \n",
      "[18873] M    M    M    F    M    M    M    M    F    M    F    F    M    M   \n",
      "[18887] F    F    M    M    M    M    F    F    M    F    F    F    F    F   \n",
      "[18901] F    M    M    F    F    M    M    M    M    M    F    M    F    M   \n",
      "[18915] M    M    M    F    M    F    F    F    F    M    F    M    M    M   \n",
      "[18929] M    M    M    F    M    F    F    M    F    M    M    F    M    M   \n",
      "[18943] F    M    F    M    F    F    M    M    M    M    F    M    M    M   \n",
      "[18957] F    M    F    M    F    F    <NA> M    M    M    F    F    M    F   \n",
      "[18971] M    F    M    M    M    M    M    F    M    M    F    M    F    F   \n",
      "[18985] F    F    F    F    M    F    F    F    F    F    F    F    F    F   \n",
      "[18999] F    F    F    F    F    F    F    F    M    M    F    M    M    M   \n",
      "[19013] M    F    F    F    F    M    F    M    M    M    F    F    M    F   \n",
      "[19027] M    F    M    M    M    F    M    F    M    M    F    M    F    F   \n",
      "[19041] M    F    F    M    F    F    M    F    M    M    F    F    M    M   \n",
      "[19055] F    F    F    M    M    F    M    M    M    M    M    F    F    F   \n",
      "[19069] M    F    M    F    F    F    F    F    M    F    M    F    M    F   \n",
      "[19083] M    M    M    M    M    M    M    M    F    M    M    F    F    F   \n",
      "[19097] F    F    F    M    M    F    F    F    F    F    F    F    F    M   \n",
      "[19111] F    F    M    M    F    F    F    M    F    M    F    F    M    F   \n",
      "[19125] M    F    M    M    F    F    M    M    M    M    F    M    M    F   \n",
      "[19139] F    M    F    F    F    M    F    F    F    F    F    F    F    F   \n",
      "[19153] F    M    M    M    M    M    M    M    F    M    F    M    M    M   \n",
      "[19167] F    <NA> F    F    M    M    <NA> M    F    M    F    M    F    F   \n",
      "[19181] M    M    M    <NA> M    M    M    F    F    M    F    F    M    M   \n",
      "[19195] F    M    F    M    M    M    M    M    M    M    M    M    M    M   \n",
      "[19209] M    M    F    F    F    F    F    M    M    M    M    M    M    M   \n",
      "[19223] M    M    M    M    F    M    M    M    M    F    F    M    M    F   \n",
      "[19237] M    F    M    M    F    F    M    F    F    M    M    F    F    F   \n",
      "[19251] M    F    M    F    M    F    M    F    F    F    F    F    F    F   \n",
      "[19265] F    F    F    F    F    M    M    F    M    F    M    M    F    F   \n",
      "[19279] F    M    F    F    F    M    M    F    F    F    M    F    M    M   \n",
      "[19293] M    M    F    M    F    F    F    M    M    F    F    F    F    F   \n",
      "[19307] F    M    M    M    M    M    F    M    F    M    F    F    F    M   \n",
      "[19321] M    F    F    F    M    F    M    F    M    M    M    M    F    F   \n",
      "[19335] F    F    M    F    M    M    F    M    F    F    M    M    F    F   \n",
      "[19349] F    M    F    F    M    M    F    F    F    F    F    F    M    F   \n",
      "[19363] M    M    M    M    F    M    F    M    M    F    M    M    M    F   \n",
      "[19377] F    F    M    F    M    F    M    F    M    M    F    M    M    M   \n",
      "[19391] F    F    M    M    F    M    F    M    F    F    F    M    F    F   \n",
      "[19405] M    F    F    F    F    M    M    F    M    F    M    F    F    F   \n",
      "[19419] M    M    M    M    F    M    M    F    F    F    M    M    F    M   \n",
      "[19433] F    M    F    M    F    F    M    M    M    M    F    F    M    M   \n",
      "[19447] F    F    M    M    F    F    M    F    M    M    F    F    F    F   \n",
      "[19461] M    M    F    F    F    M    F    F    M    F    M    M    F    F   \n",
      "[19475] M    M    F    M    F    M    M    M    M    F    F    M    F    M   \n",
      "[19489] M    F    F    F    M    F    F    F    M    M    F    M    F    M   \n",
      "[19503] F    F    M    M    M    F    M    F    F    F    M    M    F    F   \n",
      "[19517] M    M    M    M    M    M    M    M    M    F    M    M    M    M   \n",
      "[19531] M    M    M    M    M    M    M    M    F    M    F    M    M    F   \n",
      "[19545] F    M    F    F    M    F    F    F    M    F    M    F    M    M   \n",
      "[19559] M    M    F    M    F    F    M    M    M    F    M    M    M    F   \n",
      "[19573] M    M    F    M    M    F    M    M    M    F    M    M    M    M   \n",
      "[19587] F    F    F    M    F    M    M    F    F    M    M    M    F    F   \n",
      "[19601] M    M    M    M    M    F    M    F    M    M    M    M    M    F   \n",
      "[19615] M    M    M    F    M    <NA> M    F    F    F    F    M    M    F   \n",
      "[19629] M    M    M    M    M    F    M    M    F    F    M    F    F    F   \n",
      "[19643] M    F    M    F    M    F    M    F    F    M    F    F    M    F   \n",
      "[19657] M    M    M    M    F    M    F    F    M    M    M    F    M    M   \n",
      "[19671] F    F    M    F    M    M    <NA> <NA> <NA> <NA> <NA> <NA> <NA> <NA>\n",
      "[19685] <NA> <NA> <NA> <NA> <NA> <NA> <NA> <NA> M    F    M    F    F    F   \n",
      "[19699] M    M    F    F    M    M    F    F    M    F    M    F    M    M   \n",
      "[19713] F    F    M    M    F    M    M    F    M    M    F    M    M    M   \n",
      "[19727] F    M    F    M    F    F    F    M    M    M    M    M    M    M   \n",
      "[19741] M    M    F    M    F    F    F    F    M    F    F    F    F    M   \n",
      "[19755] M    F    M    F    M    F    F    F    M    M    F    M    F    F   \n",
      "[19769] M    M    M    F    F    F    M    F    F    M    M    M    F    F   \n",
      "[19783] <NA> M    M    F    M    F    M    M    F    F    M    M    M    M   \n",
      "[19797] F    M    M    F    M    M    M    M    F    F    F    M    M    F   \n",
      "[19811] M    M    M    F    M    M    M    M    F    M    M    F    F    M   \n",
      "[19825] M    M    M    M    M    M    M    M    M    F    M    M    M    F   \n",
      "[19839] M    M    M    M    M    F    F    <NA> <NA> <NA> <NA> <NA> <NA> <NA>\n",
      "[19853] <NA> <NA> <NA> <NA> <NA> <NA> <NA> <NA> <NA> <NA> <NA> <NA> <NA> <NA>\n",
      "[19867] <NA> <NA> <NA> M    M    M    F    F    F    F    F    <NA> <NA> <NA>\n",
      "[19881] M    F    F    F    F    M    M    M    F    F    F    M    M    F   \n",
      "[19895] M    F    F    M    M    F    F    F    M    M    F    F    M    M   \n",
      "[19909] F    F    F    F    F    F    M    F    M    F    F    F    <NA> M   \n",
      "[19923] M    F    M    M    M    M    M    M    M    M    M    M    <NA> M   \n",
      "[19937] F    F    F    F    M    M    F    F    F    M    F    F    M    F   \n",
      "[19951] M    F    F    F    F    M    F    M    F    M    F    F    F    F   \n",
      "[19965] M    F    F    F    F    F    F    M    F    F    F    M    F    M   \n",
      "[19979] M    M    F    F    M    M    F    F    F    F    M    F    F    F   \n",
      "[19993] F    F    F    F    M    F    F    M    F    M    M    F    M    M   \n",
      "[20007] F    F    F    M    F    F    F    M    F    F    F    M    F    F   \n",
      "[20021] M    F    F    F    M    F    <NA> M    F    F    <NA> M    F    F   \n",
      "[20035] F    F    F    M    F    M    M    F    M    F    M    F    F    F   \n",
      "[20049] F    M    M    F    F    F    M    M    F    F    M    M    F    F   \n",
      "[20063] F    F    M    M    F    F    F    M    F    F    M    F    <NA> M   \n",
      "[20077] M    F    <NA> F    F    F    F    F    F    F    F    F    M    F   \n",
      "[20091] F    F    F    M    F    F    M    F    M    F    M    M    F    F   \n",
      "[20105] F    F    F    M    F    F    F    F    M    F    F    F    F    F   \n",
      "[20119] M    M    F    F    F    F    M    F    <NA> M    F    M    F    M   \n",
      "[20133] M    F    F    F    F    F    M    F    M    M    M    M    M    M   \n",
      "[20147] F    F    F    F    F    F    F    M    F    F    M    M    F    F   \n",
      "[20161] F    F    F    F    F    F    M    M    M    M    F    F    F    F   \n",
      "[20175] M    F    M    F    M    M    F    M    M    M    F    M    F    M   \n",
      "[20189] M    F    F    F    M    M    M    F    M    F    M    F    M    M   \n",
      "[20203] M    F    M    F    M    M    F    M    M    M    M    F    F    F   \n",
      "[20217] M    F    M    F    F    F    M    F    M    M    M    M    M    F   \n",
      "[20231] F    M    F    M    F    <NA> F    M    M    F    M    F    M    M   \n",
      "[20245] M    M    M    M    F    M    M    M    M    M    F    M    F    M   \n",
      "[20259] M    M    M    M    M    F    M    F    M    M    F    M    F    F   \n",
      "[20273] F    M    M    F    M    M    F    F    F    F    M    F    M    F   \n",
      "[20287] M    F    F    F    F    F    M    F    M    F    F    M    F    M   \n",
      "[20301] M    M    F    M    M    F    F    M    F    M    F    M    F    M   \n",
      "[20315] F    F    M    F    F    F    M    M    F    F    F    F    M    M   \n",
      "[20329] F    M    M    F    F    M    F    M    F    M    F    F    M    F   \n",
      "[20343] M    F    F    F    M    F    F    M    F    F    M    F    M    F   \n",
      "[20357] M    F    M    M    F    F    F    F    F    F    F    M    F    M   \n",
      "[20371] M    M    F    F    M    F    M    M    F    M    M    F    M    M   \n",
      "[20385] M    M    M    M    M    M    M    M    M    M    M    M    M    M   \n",
      "[20399] M    M    M    M    M    M    M    M    M    M    M    M    M    M   \n",
      "[20413] F    M    M    F    F    M    F    M    M    M    F    M    M    F   \n",
      "[20427] M    F    F    F    M    F    M    F    M    M    M    F    M    F   \n",
      "[20441] F    M    M    F    M    F    M    M    F    M    M    F    M    M   \n",
      "[20455] M    M    M    M    F    M    F    M    F    M    F    M    M    M   \n",
      "[20469] M    F    F    M    F    M    M    M    M    F    M    M    F    F   \n",
      "[20483] M    F    F    F    <NA> M    M    M    M    F    F    F    M    M   \n",
      "[20497] M    F    M    F    M    F    M    F    M    M    F    F    M    M   \n",
      "[20511] F    F    M    F    M    F    M    F    F    F    F    M    F    M   \n",
      "[20525] F    F    M    F    M    F    F    F    F    M    F    F    M    M   \n",
      "[20539] M    F    F    M    F    F    F    M    M    F    F    F    F    M   \n",
      "[20553] F    F    F    F    M    M    F    M    F    M    M    M    M    M   \n",
      "[20567] F    M    M    F    M    F    F    F    M    M    F    M    F    F   \n",
      "[20581] M    F    M    M    F    M    F    M    F    F    F    M    M    M   \n",
      "[20595] M    F    M    M    F    M    F    M    F    F    M    M    F    F   \n",
      "[20609] M    M    M    M    F    F    M    F    M    M    M    F    M    M   \n",
      "[20623] M    M    M    F    F    F    M    F    F    F    M    F    M    M   \n",
      "[20637] F    F    F    F    M    F    M    F    M    M    F    M    M    F   \n",
      "[20651] F    F    M    F    M    M    M    F    F    F    F    <NA> M    M   \n",
      "[20665] F    F    M    M    M    M    F    F    F    M    M    M    M    F   \n",
      "[20679] F    F    M    M    M    M    F    M    M    F    M    M    F    M   \n",
      "[20693] M    F    <NA> M    M    M    F    M    M    <NA> M    M    F    M   \n",
      "[20707] M    M    F    M    M    F    M    M    F    M    M    M    M    M   \n",
      "[20721] M    M    F    M    M    M    M    M    F    M    F    M    M    F   \n",
      "[20735] M    F    M    M    F    M    M    F    F    F    M    M    F    M   \n",
      "[20749] M    F    M    M    M    F    M    M    M    F    M    M    <NA> M   \n",
      "[20763] F    M    F    M    M    F    M    M    M    F    F    M    F    <NA>\n",
      "[20777] F    F    M    F    F    F    M    M    M    F    F    M    F    M   \n",
      "[20791] M    M    M    F    M    F    M    F    F    M    F    F    M    M   \n",
      "[20805] F    F    M    M    M    F    M    M    F    M    M    F    F    M   \n",
      "[20819] F    M    F    M    F    M    M    F    M    F    M    F    M    F   \n",
      "[20833] F    M    F    F    M    M    F    F    F    F    F    F    F    F   \n",
      "[20847] M    M    F    M    F    F    M    M    M    M    F    M    F    M   \n",
      "[20861] F    M    M    M    F    M    F    M    M    M    F    F    F    M   \n",
      "[20875] M    F    M    F    M    F    M    F    F    M    M    F    M    M   \n",
      "[20889] F    <NA> M    M    F    F    M    M    M    M    F    F    M    F   \n",
      "[20903] M    M    M    M    M    F    M    M    F    M    F    M    M    F   \n",
      "[20917] F    M    M    F    M    M    M    M    M    M    M    M    M    M   \n",
      "[20931] M    M    M    M    M    M    M    M    M    M    F    M    M    M   \n",
      "[20945] F    M    M    F    M    M    M    F    M    F    M    M    M    M   \n",
      "[20959] F    M    M    M    M    F    F    M    M    M    M    F    M    M   \n",
      "[20973] M    F    M    M    F    F    M    M    M    M    F    M    F    M   \n",
      "[20987] F    M    M    M    F    M    M    M    F    F    M    M    F    M   \n",
      "[21001] M    F    M    M    M    F    F    M    F    M    M    M    M    M   \n",
      "[21015] M    F    M    F    F    M    M    M    M    F    F    M    M    M   \n",
      "[21029] M    F    F    M    M    F    M    M    M    M    F    F    M    M   \n",
      "[21043] F    F    M    M    M    F    F    F    M    M    M    F    M    F   \n",
      "[21057] F    M    F    F    M    F    F    F    M    F    F    M    M    M   \n",
      "[21071] F    F    M    M    M    F    M    F    M    M    F    M    M    M   \n",
      "[21085] F    F    M    M    M    M    M    F    M    M    F    M    M    F   \n",
      "[21099] F    M    M    F    F    M    M    M    M    M    F    F    F    M   \n",
      "[21113] F    M    F    M    F    M    M    F    M    M    M    F    M    F   \n",
      "[21127] F    M    M    M    F    M    F    F    M    M    M    F    M    F   \n",
      "[21141] F    F    M    M    F    M    M    M    M    M    M    M    M    M   \n",
      "[21155] M    F    M    F    M    M    M    M    M    F    M    M    M    F   \n",
      "[21169] F    M    F    F    F    F    F    F    F    F    M    F    M    M   \n",
      "[21183] F    M    F    F    M    F    M    M    F    M    F    M    F    F   \n",
      "[21197] F    M    F    M    F    F    F    M    F    F    F    F    <NA> F   \n",
      "[21211] F    M    <NA> <NA> F    F    F    M    F    M    M    F    F    F   \n",
      "[21225] <NA> F    M    M    F    F    M    M    F    M    M    M    F    M   \n",
      "[21239] M    M    M    M    M    F    F    M    F    F    F    F    F    F   \n",
      "[21253] F    F    F    M    F    F    M    M    M    M    F    M    F    F   \n",
      "[21267] F    F    F    F    F    F    M    M    M    F    F    M    M    M   \n",
      "[21281] F    M    F    M    F    F    M    M    F    F    M    F    M    M   \n",
      "[21295] M    M    F    F    F    F    F    F    <NA> M    F    M    M    M   \n",
      "[21309] M    M    F    M    M    M    M    F    M    F    F    F    M    F   \n",
      "[21323] M    M    M    M    M    F    F    F    F    F    F    M    M    F   \n",
      "[21337] M    F    F    M    M    F    F    M    F    M    F    F    F    F   \n",
      "[21351] F    M    F    F    M    F    F    <NA> F    M    F    F    F    M   \n",
      "[21365] F    F    M    F    F    M    M    F    F    M    M    F    F    F   \n",
      "[21379] M    M    F    F    F    M    F    F    M    F    M    M    M    M   \n",
      "[21393] M    F    F    M    F    M    F    M    F    M    F    F    F    M   \n",
      "[21407] F    F    <NA> F    M    M    F    M    M    F    M    M    F    M   \n",
      "[21421] M    M    F    M    M    M    M    F    M    M    M    F    F    M   \n",
      "[21435] M    F    M    M    M    F    M    M    M    F    M    M    F    M   \n",
      "[21449] F    M    M    M    F    F    M    F    F    F    M    F    F    F   \n",
      "[21463] F    F    F    M    F    F    F    M    F    M    F    M    M    M   \n",
      "[21477] M    M    M    M    M    F    F    F    M    F    F    M    F    <NA>\n",
      "[21491] F    M    M    F    F    F    M    M    M    F    F    M    F    F   \n",
      "[21505] F    <NA> M    M    M    F    F    F    F    F    F    F    F    M   \n",
      "[21519] F    M    F    M    F    F    M    F    M    F    F    M    F    M   \n",
      "[21533] F    M    F    M    M    F    <NA> F    M    F    F    F    F    F   \n",
      "[21547] F    F    M    F    F    M    <NA> F    M    F    F    F    F    F   \n",
      "[21561] F    F    F    M    <NA> F    F    F    F    M    F    F    M    F   \n",
      "[21575] M    F    M    F    M    F    M    M    F    M    F    M    F    M   \n",
      "[21589] F    M    M    M    M    M    M    M    F    M    F    M    F    M   \n",
      "[21603] F    F    F    M    M    M    M    M    M    M    <NA> M    M    M   \n",
      "[21617] M    M    M    M    M    M    F    M    F    F    M    F    M    M   \n",
      "[21631] F    M    M    M    M    <NA> F    F    F    F    F    F    F    F   \n",
      "[21645] M    M    F    M    F    F    F    F    F    M    F    M    M    F   \n",
      "[21659] F    M    M    M    F    F    F    M    M    M    F    F    F    F   \n",
      "[21673] M    F    M    M    M    M    M    M    M    M    F    M    F    F   \n",
      "[21687] <NA> M    M    F    F    F    M    F    M    M    F    F    M    M   \n",
      "[21701] M    F    M    F    F    M    F    M    F    M    M    F    M    M   \n",
      "[21715] F    F    F    F    F    F    F    M    F    F    F    F    M    F   \n",
      "[21729] M    F    M    M    M    M    M    M    M    M    M    <NA> F    M   \n",
      "[21743] M    F    M    M    F    F    M    M    M    M    M    F    M    M   \n",
      "[21757] F    M    M    F    M    F    M    F    M    F    F    M    F    F   \n",
      "[21771] F    F    F    F    M    M    F    F    M    M    F    M    F    M   \n",
      "[21785] F    M    F    M    M    M    M    F    M    M    F    M    F    F   \n",
      "[21799] F    M    F    M    M    F    M    M    F    F    F    F    M    F   \n",
      "[21813] M    M    F    F    M    M    M    M    F    M    M    M    M    M   \n",
      "[21827] M    M    M    M    M    M    M    M    M    F    F    F    F    F   \n",
      "[21841] F    F    F    M    M    F    M    F    M    M    M    F    F    F   \n",
      "[21855] M    F    M    F    M    M    M    M    F    M    F    M    M    M   \n",
      "[21869] F    M    M    M    M    F    F    M    M    <NA> <NA> <NA> <NA> <NA>\n",
      "[21883] <NA> <NA> <NA> <NA> <NA> <NA> <NA> <NA> <NA> <NA> <NA> <NA> <NA> <NA>\n",
      "[21897] <NA> <NA> <NA> F    M    F    F    M    F    F    M    F    M    F   \n",
      "[21911] F    F    M    M    F    M    F    F    F    F    F    F    M    M   \n",
      "[21925] M    M    M    F    M    F    M    M    F    M    M    F    M    F   \n",
      "[21939] M    M    F    M    M    F    M    F    F    F    M    F    M    M   \n",
      "[21953] F    M    M    M    M    M    M    F    F    F    F    M    F    F   \n",
      "[21967] F    F    F    F    F    F    F    F    F    M    M    F    M    <NA>\n",
      "[21981] <NA> <NA> <NA> <NA> <NA> <NA> <NA> <NA> <NA> M    M    F    M    M   \n",
      "[21995] M    M    M    M    M    F    F    M    M    F    M    M    F    M   \n",
      "[22009] F    M    F    F    M    F    F    F    F    M    M    F    M    F   \n",
      "[22023] F    M    M    F    M    F    F    F    M    M    M    M    M    M   \n",
      "[22037] M    M    M    M    M    M    M    M    M    M    M    M    F    F   \n",
      "[22051] M    F    M    M    F    <NA> M    F    F    F    M    F    F    M   \n",
      "[22065] M    M    M    F    M    M    F    M    M    F    M    F    F    F   \n",
      "[22079] M    F    F    M    F    F    <NA> F    F    F    M    F    F    F   \n",
      "[22093] F    M    M    F    F    F    M    F    M    F    F    F    F    F   \n",
      "[22107] M    M    F    F    M    M    M    F    M    F    F    M    M    M   \n",
      "[22121] <NA> F    F    F    M    M    M    F    F    F    F    M    M    M   \n",
      "[22135] M    F    M    M    M    M    M    F    M    M    M    M    M    M   \n",
      "[22149] M    M    M    F    M    F    F    F    <NA> F    F    F    F    F   \n",
      "[22163] F    F    F    F    F    F    M    F    F    M    F    M    M    F   \n",
      "[22177] M    M    M    M    M    F    M    M    M    F    M    M    M    <NA>\n",
      "[22191] F    M    M    M    M    M    M    M    M    F    M    M    M    M   \n",
      "[22205] M    F    M    M    M    M    M    M    M    M    M    F    M    M   \n",
      "[22219] M    M    F    M    M    F    M    F    F    F    M    M    F    F   \n",
      "[22233] M    M    M    F    M    F    M    F    M    F    M    F    M    F   \n",
      "[22247] M    M    M    F    M    M    M    M    M    M    M    M    M    M   \n",
      "[22261] F    M    F    M    M    F    M    M    M    F    M    F    M    M   \n",
      "[22275] F    M    M    F    M    M    M    F    M    F    M    M    F    M   \n",
      "[22289] F    M    M    F    M    F    M    M    M    F    F    M    F    M   \n",
      "[22303] M    F    F    F    F    F    F    F    F    F    F    M    F    F   \n",
      "[22317] F    F    F    F    F    F    F    M    M    M    F    M    F    M   \n",
      "[22331] M    F    M    M    F    M    M    F    F    M    M    M    F    M   \n",
      "[22345] F    M    M    F    F    F    M    M    F    M    F    M    M    M   \n",
      "[22359] F    M    M    M    M    F    M    M    M    M    M    M    M    M   \n",
      "[22373] M    F    M    M    M    M    M    F    M    M    M    M    F    M   \n",
      "[22387] M    M    M    M    M    M    M    M    M    M    M    M    M    M   \n",
      "[22401] M    F    M    F    F    M    F    M    F    M    F    M    F    F   \n",
      "[22415] M    F    F    M    F    F    M    M    F    M    F    F    M    M   \n",
      "[22429] M    M    F    M    M    M    M    M    M    F    M    M    F    F   \n",
      "[22443] F    F    M    M    M    M    M    M    F    M    M    F    F    M   \n",
      "[22457] F    F    M    F    F    F    F    F    M    F    M    M    M    M   \n",
      "[22471] M    M    M    F    F    F    F    F    M    M    M    F    M    F   \n",
      "[22485] M    F    M    F    F    F    F    F    M    F    F    F    M    M   \n",
      "[22499] F    M    F    F    F    F    F    M    F    M    F    M    M    F   \n",
      "[22513] M    M    F    <NA> F    F    F    M    F    F    F    F    M    M   \n",
      "[22527] M    F    F    F    F    F    M    M    M    M    F    F    F    F   \n",
      "[22541] F    M    F    M    M    M    F    F    F    F    M    M    F    F   \n",
      "[22555] F    F    F    M    F    M    F    F    F    M    F    M    F    F   \n",
      "[22569] M    F    F    M    <NA> M    M    F    M    F    F    M    M    M   \n",
      "[22583] F    F    M    M    M    M    M    M    M    M    M    M    M    F   \n",
      "[22597] F    M    F    M    F    M    M    F    M    F    M    F    M    M   \n",
      "[22611] M    F    F    F    M    M    F    M    M    F    F    M    M    F   \n",
      "[22625] M    M    M    F    F    M    M    M    M    M    F    F    F    M   \n",
      "[22639] M    F    F    M    <NA> <NA> M    M    M    M    F    F    F    F   \n",
      "[22653] F    F    F    M    F    F    M    F    F    M    M    M    M    M   \n",
      "[22667] M    M    M    M    M    M    M    M    M    M    M    F    F    F   \n",
      "[22681] M    F    F    F    F    F    F    F    M    F    M    F    M    F   \n",
      "[22695] M    M    F    M    M    M    F    F    M    M    F    M    M    M   \n",
      "[22709] M    M    M    F    M    M    M    M    F    F    M    F    F    F   \n",
      "[22723] M    F    F    M    F    M    M    F    M    F    F    M    M    F   \n",
      "[22737] M    M    M    M    M    M    <NA> M    F    F    M    M    M    M   \n",
      "[22751] F    F    F    F    M    M    M    F    F    M    M    M    M    M   \n",
      "[22765] M    F    M    M    M    F    F    F    F    F    M    F    F    F   \n",
      "[22779] M    <NA> M    M    M    F    F    M    M    F    F    F    F    F   \n",
      "[22793] M    F    M    M    F    M    M    F    F    M    M    M    M    F   \n",
      "[22807] M    M    F    M    M    M    M    M    M    M    M    M    M    M   \n",
      "[22821] M    M    M    M    M    M    M    M    M    M    M    M    M    M   \n",
      "[22835] F    M    F    M    M    F    F    F    M    F    F    F    M    F   \n",
      "[22849] F    M    F    M    F    M    M    M    F    M    M    F    F    M   \n",
      "[22863] F    M    M    M    M    M    M    M    M    M    M    F    M    M   \n",
      "[22877] M    M    F    F    F    F    M    F    M    F    M    F    F    F   \n",
      "[22891] M    M    F    M    F    M    M    M    M    F    M    M    F    M   \n",
      "[22905] F    M    M    F    M    F    M    M    M    M    M    F    F    M   \n",
      "[22919] F    F    F    M    F    M    F    M    M    F    F    M    M    F   \n",
      "[22933] M    F    M    F    M    F    M    F    M    M    M    F    M    M   \n",
      "[22947] M    M    F    F    F    F    F    M    F    F    F    F    M    M   \n",
      "[22961] F    M    F    F    M    F    M    M    F    F    M    F    F    M   \n",
      "[22975] F    F    F    F    M    F    F    F    F    M    M    F    F    F   \n",
      "[22989] F    F    F    M    M    F    F    M    M    M    M    M    M    F   \n",
      "[23003] F    M    M    M    F    M    F    <NA> M    F    M    F    F    F   \n",
      "[23017] M    F    M    F    M    F    F    F    M    M    F    M    M    F   \n",
      "[23031] M    F    F    F    M    F    M    F    F    M    M    F    F    F   \n",
      "[23045] F    F    M    M    F    F    M    F    M    M    M    M    F    F   \n",
      "[23059] F    M    M    M    M    M    M    F    F    M    M    M    F    F   \n",
      "[23073] F    M    F    M    F    M    F    F    <NA> <NA> <NA> <NA> <NA> <NA>\n",
      "[23087] <NA> <NA> <NA> <NA> <NA> <NA> <NA> <NA> <NA> <NA> <NA> M    M    <NA>\n",
      "[23101] M    F    M    M    F    M    F    M    F    F    F    M    M    F   \n",
      "[23115] F    F    F    F    F    F    F    M    M    M    M    M    F    F   \n",
      "[23129] F    M    M    M    F    M    F    M    F    M    F    F    M    M   \n",
      "[23143] M    M    M    M    M    M    <NA> <NA> M    F    M    F    F    M   \n",
      "[23157] M    F    M    M    M    F    M    M    M    F    M    M    M    F   \n",
      "[23171] M    F    M    F    M    F    M    M    M    F    M    F    M    F   \n",
      "[23185] M    M    M    M    M    M    M    F    F    F    M    M    F    M   \n",
      "[23199] M    M    F    F    M    M    F    M    <NA> M    M    M    M    M   \n",
      "[23213] M    M    M    M    M    M    F    F    M    F    F    M    M    M   \n",
      "[23227] M    M    F    F    M    M    F    M    F    M    M    M    M    M   \n",
      "[23241] M    M    F    M    M    M    M    F    M    M    M    M    F    M   \n",
      "[23255] F    F    M    M    <NA> M    M    M    M    M    M    M    M    M   \n",
      "[23269] F    M    F    F    M    F    M    M    F    M    M    F    M    M   \n",
      "[23283] F    M    F    M    M    M    F    <NA> F    <NA> <NA> <NA> <NA> <NA>\n",
      "[23297] <NA> <NA> <NA> <NA> <NA> <NA> <NA> <NA> <NA> <NA> <NA> <NA> <NA> <NA>\n",
      "[23311] <NA> <NA> <NA> <NA> <NA> <NA> <NA> <NA> <NA> <NA> <NA> <NA> <NA> <NA>\n",
      "[23325] <NA> <NA> <NA> <NA> <NA> <NA> <NA> <NA> <NA> <NA> <NA> <NA> <NA> <NA>\n",
      "[23339] <NA> <NA> <NA> <NA> <NA> <NA> <NA> <NA> <NA> <NA> <NA> <NA> <NA> <NA>\n",
      "[23353] <NA> <NA> <NA> <NA> <NA> <NA> <NA> <NA> <NA> <NA> <NA> <NA> <NA> F   \n",
      "[23367] F    F    F    F    F    <NA> <NA> <NA> <NA> <NA> <NA> <NA> <NA> F   \n",
      "[23381] F    F    M    M    <NA> F    F    M    F    F    F    M    M    F   \n",
      "[23395] M    M    M    F    F    F    M    M    M    M    M    F    M    M   \n",
      "[23409] F    M    F    F    M    M    F    M    M    F    M    F    M    F   \n",
      "[23423] M    M    F    F    M    F    F    F    F    F    F    F    F    F   \n",
      "[23437] F    F    M    F    <NA> M    F    F    M    F    F    F    M    F   \n",
      "[23451] F    F    M    M    F    F    F    F    F    F    F    F    F    F   \n",
      "[23465] F    F    F    F    F    F    F    F    F    M    M    F    F    M   \n",
      "[23479] F    F    F    M    M    F    M    M    M    F    F    F    M    F   \n",
      "[23493] M    F    F    M    F    M    M    F    M    F    F    F    F    F   \n",
      "[23507] M    M    M    F    F    F    M    M    F    F    F    F    F    F   \n",
      "[23521] F    F    F    F    F    M    M    M    F    M    M    M    M    M   \n",
      "[23535] F    F    F    F    M    M    F    M    F    M    M    M    F    M   \n",
      "[23549] M    M    M    <NA> M    M    M    M    F    M    M    M    M    M   \n",
      "[23563] M    M    M    M    M    M    M    M    M    F    F    M    M    M   \n",
      "[23577] F    F    M    F    F    M    M    M    M    M    F    M    F    F   \n",
      "[23591] M    M    F    M    F    F    M    M    F    F    M    M    M    F   \n",
      "[23605] M    F    F    M    M    F    M    M    F    F    F    <NA> M    <NA>\n",
      "[23619] F    F    M    M    M    M    F    M    M    F    M    F    M    M   \n",
      "[23633] M    M    M    F    M    M    F    M    F    F    M    F    M    M   \n",
      "[23647] F    M    M    M    M    M    M    M    M    M    M    M    M    M   \n",
      "[23661] M    M    M    F    M    M    M    M    M    M    F    M    M    M   \n",
      "[23675] M    M    M    M    M    M    F    M    M    M    F    M    M    M   \n",
      "[23689] M    M    M    M    M    F    F    M    F    F    F    F    F    F   \n",
      "[23703] F    F    F    F    F    M    <NA> F    F    F    F    F    F    M   \n",
      "[23717] M    M    M    M    F    M    M    F    F    F    F    M    F    F   \n",
      "[23731] F    M    M    M    M    M    M    F    M    F    F    M    F    M   \n",
      "[23745] F    M    F    M    F    M    F    F    F    M    F    F    M    M   \n",
      "[23759] F    M    M    M    M    M    M    M    M    M    F    M    F    M   \n",
      "[23773] F    M    M    F    F    M    M    F    M    M    M    F    F    M   \n",
      "[23787] F    F    M    F    F    M    F    <NA> F    M    M    F    M    F   \n",
      "[23801] M    F    M    F    M    F    M    F    F    M    M    M    F    F   \n",
      "[23815] M    M    M    F    M    M    F    M    M    F    M    M    M    F   \n",
      "[23829] M    F    M    M    M    F    M    F    M    F    M    F    M    M   \n",
      "[23843] F    M    M    M    F    M    F    F    <NA> F    F    F    M    M   \n",
      "[23857] <NA> F    M    M    F    F    F    M    F    M    F    M    M    M   \n",
      "[23871] M    M    F    F    <NA> F    F    F    F    <NA> F    M    M    M   \n",
      "[23885] M    M    M    M    M    M    M    M    F    F    M    F    F    <NA>\n",
      "[23899] F    M    M    F    F    F    M    F    F    F    F    F    F    M   \n",
      "[23913] M    F    M    M    F    F    F    F    F    F    M    F    M    M   \n",
      "[23927] M    M    M    M    F    M    M    M    F    F    M    F    M    M   \n",
      "[23941] M    M    F    F    M    M    F    F    M    M    M    M    F    F   \n",
      "[23955] M    F    M    F    M    F    M    F    F    M    F    M    F    F   \n",
      "[23969] M    M    F    F    M    F    M    M    M    M    F    M    F    F   \n",
      "[23983] M    M    M    M    M    M    F    F    F    M    M    F    F    F   \n",
      "[23997] F    M    M    F    F    F    M    F    M    F    M    M    M    M   \n",
      "[24011] F    M    F    F    M    M    F    M    M    F    M    M    M    F   \n",
      "[24025] M    M    F    M    F    F    M    F    F    M    M    F    F    M   \n",
      "[24039] M    M    M    F    M    F    M    F    F    M    M    F    F    F   \n",
      "[24053] F    F    F    F    F    M    M    M    F    F    M    M    F    M   \n",
      "[24067] F    M    M    M    F    F    F    F    M    F    M    M    F    M   \n",
      "[24081] M    F    F    M    F    F    M    M    M    F    M    M    M    M   \n",
      "[24095] M    M    M    M    F    M    F    M    M    F    M    F    M    F   \n",
      "[24109] M    F    F    F    M    M    F    F    M    F    M    <NA> F    F   \n",
      "[24123] F    F    M    <NA> M    <NA> <NA> M    M    F    M    M    F    F   \n",
      "[24137] M    F    M    M    F    F    F    M    M    M    M    F    F    F   \n",
      "[24151] M    M    M    M    F    F    M    M    M    M    M    F    M    M   \n",
      "[24165] F    F    M    M    M    M    M    M    M    M    M    F    M    F   \n",
      "[24179] F    F    M    F    M    F    M    M    F    M    F    F    M    M   \n",
      "[24193] F    M    F    M    F    F    M    F    M    M    M    M    F    F   \n",
      "[24207] F    M    F    F    M    F    M    M    F    M    F    F    F    M   \n",
      "[24221] F    M    F    F    M    M    M    F    M    M    F    M    F    M   \n",
      "[24235] M    F    M    F    F    <NA> F    M    F    M    F    M    F    F   \n",
      "[24249] F    M    F    F    F    F    F    F    M    F    M    F    F    M   \n",
      "[24263] F    F    F    F    F    F    M    F    M    F    F    M    M    F   \n",
      "[24277] F    F    M    M    F    M    F    F    M    M    M    M    M    <NA>\n",
      "[24291] M    F    M    F    <NA> M    F    M    F    M    M    M    M    F   \n",
      "[24305] M    F    M    F    F    M    F    F    M    M    M    M    M    M   \n",
      "[24319] M    F    M    M    F    F    M    M    F    M    M    M    M    M   \n",
      "[24333] M    F    M    <NA> <NA> <NA> <NA> <NA> <NA> <NA> <NA> F    M    F   \n",
      "[24347] F    M    M    M    F    F    M    M    M    M    M    M    M    M   \n",
      "[24361] M    M    F    M    F    M    F    F    M    M    M    M    M    F   \n",
      "[24375] M    M    M    M    F    M    M    M    M    M    M    F    F    M   \n",
      "[24389] F    F    F    M    F    F    M    F    F    M    M    F    F    F   \n",
      "[24403] M    F    M    F    M    F    M    M    M    M    F    M    M    F   \n",
      "[24417] M    F    M    M    F    F    M    M    M    M    M    F    F    F   \n",
      "[24431] F    M    F    M    F    F    M    F    F    F    F    M    F    M   \n",
      "[24445] M    M    F    F    F    F    M    F    M    M    M    M    <NA> <NA>\n",
      "[24459] <NA> <NA> <NA> <NA> <NA> <NA> <NA> <NA> <NA> <NA> <NA> <NA> <NA> <NA>\n",
      "[24473] <NA> <NA> <NA> <NA> <NA> F    F    <NA> <NA> F    F    F    F    F   \n",
      "[24487] F    F    M    F    M    F    M    F    F    F    M    M    M    M   \n",
      "[24501] F    M    M    M    <NA> F    F    M    F    F    M    M    M    M   \n",
      "[24515] M    M    M    M    F    M    M    F    M    M    M    M    M    F   \n",
      "[24529] M    M    M    M    <NA> M    M    M    F    F    M    M    M    F   \n",
      "[24543] M    M    M    F    F    M    M    M    F    F    F    M    F    M   \n",
      "[24557] F    F    M    F    M    M    F    F    F    F    M    F    M    M   \n",
      "[24571] M    M    M    F    M    <NA> M    M    M    M    M    F    F    F   \n",
      "[24585] F    F    M    F    F    F    F    F    F    F    F    F    F    F   \n",
      "[24599] F    F    F    F    F    F    F    F    F    F    F    F    F    F   \n",
      "[24613] F    F    F    F    F    F    F    F    F    M    M    F    F    F   \n",
      "[24627] F    F    F    F    M    F    F    F    F    F    F    F    M    F   \n",
      "[24641] F    F    F    F    F    F    F    F    F    F    F    F    M    M   \n",
      "[24655] F    F    M    F    M    M    M    F    M    M    M    M    M    M   \n",
      "[24669] M    M    M    M    M    M    M    M    M    M    M    M    M    M   \n",
      "[24683] M    F    M    M    F    F    F    F    F    F    M    M    F    F   \n",
      "[24697] F    M    M    F    M    F    F    M    F    M    F    F    F    M   \n",
      "[24711] M    F    F    M    F    F    F    M    M    M    F    F    M    F   \n",
      "[24725] M    M    F    M    M    F    F    F    F    F    M    F    F    M   \n",
      "[24739] M    M    F    F    M    F    F    M    F    F    F    F    M    M   \n",
      "[24753] F    M    F    F    F    M    F    F    M    M    M    F    F    M   \n",
      "[24767] F    F    M    F    M    F    F    F    F    F    F    F    F    F   \n",
      "[24781] F    M    M    M    F    F    M    M    F    M    F    M    M    F   \n",
      "[24795] F    <NA> F    F    F    F    F    F    F    F    F    M    F    F   \n",
      "[24809] F    F    F    F    F    M    M    F    M    F    F    F    F    M   \n",
      "[24823] F    M    M    F    F    F    F    M    M    F    M    F    M    F   \n",
      "[24837] F    F    F    F    M    F    F    F    M    F    F    F    F    M   \n",
      "[24851] M    M    F    F    M    F    M    M    M    M    M    M    M    F   \n",
      "[24865] <NA> M    M    M    F    F    F    M    F    M    M    M    F    M   \n",
      "[24879] M    M    F    M    M    M    F    M    M    F    F    F    M    M   \n",
      "[24893] M    F    M    F    F    M    F    F    M    F    M    F    M    M   \n",
      "[24907] F    F    F    F    M    F    F    M    F    M    M    M    F    M   \n",
      "[24921] M    F    F    M    M    F    M    F    M    M    M    F    M    M   \n",
      "[24935] F    F    F    F    M    F    M    M    M    F    M    M    F    M   \n",
      "[24949] M    M    M    F    M    F    M    F    F    F    M    M    M    F   \n",
      "[24963] F    F    M    M    F    F    M    M    F    F    M    F    F    F   \n",
      "[24977] M    F    F    F    F    F    F    F    F    F    F    F    F    F   \n",
      "[24991] F    F    F    F    F    F    F    F    F    M    F    M    M    F   \n",
      "[25005] M    M    F    M    F    M    F    M    F    M    M    F    M    F   \n",
      "[25019] M    M    M    M    M    M    F    M    M    F    M    <NA> M    F   \n",
      "[25033] M    M    F    F    M    M    M    M    M    F    M    F    M    F   \n",
      "[25047] F    F    F    M    M    F    M    F    M    M    M    F    M    M   \n",
      "[25061] F    M    F    M    M    F    M    M    F    F    M    F    M    F   \n",
      "[25075] M    F    F    M    F    M    F    M    M    F    M    F    F    M   \n",
      "[25089] M    F    F    M    M    M    F    M    M    F    M    M    M    F   \n",
      "[25103] M    M    M    F    M    M    F    <NA> M    F    M    F    M    F   \n",
      "[25117] F    M    M    F    F    F    M    F    F    M    F    F    M    F   \n",
      "[25131] F    M    F    F    M    F    M    F    F    M    F    M    F    M   \n",
      "[25145] <NA> F    F    F    M    M    M    F    M    M    F    F    F    M   \n",
      "[25159] M    F    F    M    M    F    F    M    F    F    M    F    M    M   \n",
      "[25173] F    F    M    F    M    F    F    M    M    M    F    M    M    F   \n",
      "[25187] M    F    M    F    M    F    F    M    M    F    M    M    F    F   \n",
      "[25201] F    M    M    F    M    F    M    M    F    F    F    M    M    M   \n",
      "[25215] F    F    F    M    M    M    M    F    M    F    <NA> M    F    F   \n",
      "[25229] F    F    M    M    F    M    F    F    M    F    M    M    F    F   \n",
      "[25243] F    M    M    M    F    M    F    M    F    F    F    F    F    M   \n",
      "[25257] M    F    F    M    F    F    F    F    M    M    M    F    F    M   \n",
      "[25271] F    M    F    M    F    M    M    F    M    F    M    M    F    M   \n",
      "[25285] M    F    F    M    F    F    F    F    F    F    M    F    F    M   \n",
      "[25299] M    F    M    F    F    M    F    F    M    M    M    F    F    F   \n",
      "[25313] M    M    F    M    M    M    F    M    M    M    F    M    M    M   \n",
      "[25327] M    M    M    F    M    F    F    M    M    F    F    F    F    F   \n",
      "[25341] F    F    M    F    M    M    F    M    F    F    F    M    <NA> F   \n",
      "[25355] M    F    M    M    M    M    M    F    M    F    M    F    M    F   \n",
      "[25369] M    M    M    M    F    F    F    F    M    M    F    F    M    F   \n",
      "[25383] M    F    M    M    F    M    M    F    M    F    M    F    F    M   \n",
      "[25397] F    M    F    F    F    F    F    F    F    M    M    M    M    F   \n",
      "[25411] F    M    F    F    F    M    F    M    M    F    F    F    F    F   \n",
      "[25425] F    M    F    M    M    F    F    F    F    M    F    F    M    M   \n",
      "[25439] F    M    M    M    F    M    M    F    M    F    M    M    M    M   \n",
      "[25453] M    M    M    F    F    F    F    F    F    F    M    F    F    F   \n",
      "[25467] M    M    F    M    M    M    F    F    M    M    F    M    F    F   \n",
      "[25481] M    F    M    F    M    <NA> <NA> <NA> <NA> <NA> F    F    M    F   \n",
      "[25495] F    F    M    F    F    M    F    M    F    F    F    M    M    F   \n",
      "[25509] F    M    <NA> M    M    M    F    F    M    F    F    M    F    M   \n",
      "[25523] M    M    F    F    M    F    F    M    M    F    M    M    F    F   \n",
      "[25537] M    F    F    F    M    F    M    M    F    M    M    M    M    M   \n",
      "[25551] F    M    M    M    M    M    M    M    M    M    M    F    F    F   \n",
      "[25565] M    M    F    M    M    F    <NA> F    F    M    M    M    F    M   \n",
      "[25579] M    F    F    <NA> F    F    M    F    F    F    M    F    M    M   \n",
      "[25593] F    M    F    F    M    F    <NA> M    F    F    F    M    M    F   \n",
      "[25607] F    M    M    M    M    F    F    M    M    M    M    M    M    F   \n",
      "[25621] M    F    M    F    M    M    M    M    M    F    M    M    F    F   \n",
      "[25635] M    M    M    F    M    M    M    F    M    F    F    F    M    M   \n",
      "[25649] M    M    F    F    F    F    M    M    M    F    M    M    F    <NA>\n",
      "[25663] <NA> M    M    M    F    M    M    F    F    M    M    M    M    M   \n",
      "[25677] M    F    M    F    M    F    M    F    M    M    M    M    M    M   \n",
      "[25691] F    M    M    M    M    M    M    F    F    M    M    M    M    <NA>\n",
      "[25705] F    F    F    M    M    F    M    F    M    F    M    F    M    F   \n",
      "[25719] M    M    F    F    M    M    F    M    F    M    M    M    M    F   \n",
      "[25733] M    <NA> M    M    <NA> <NA> <NA> <NA> <NA> <NA> <NA> <NA> <NA> <NA>\n",
      "[25747] <NA> <NA> <NA> <NA> <NA> <NA> <NA> <NA> <NA> <NA> <NA> <NA> <NA> <NA>\n",
      "[25761] <NA> <NA> <NA> <NA> <NA> <NA> <NA> <NA> <NA> F    F    F    F    F   \n",
      "[25775] <NA> F    M    M    M    F    F    M    M    M    F    F    F    M   \n",
      "[25789] F    F    M    F    F    M    M    M    M    M    M    M    M    M   \n",
      "[25803] M    M    F    F    F    F    M    M    M    M    F    F    M    F   \n",
      "[25817] F    M    M    F    M    F    F    F    M    M    M    F    M    M   \n",
      "[25831] F    F    M    F    M    F    M    M    M    F    F    M    M    M   \n",
      "[25845] M    M    F    F    M    F    M    F    M    M    F    M    F    M   \n",
      "[25859] F    F    M    F    F    F    M    M    F    F    F    F    F    F   \n",
      "[25873] F    F    F    F    M    M    M    F    M    F    M    F    F    M   \n",
      "[25887] F    M    F    F    F    M    F    M    M    F    F    F    F    F   \n",
      "[25901] M    M    F    M    F    F    <NA> F    M    F    M    F    F    M   \n",
      "[25915] M    M    F    F    M    M    F    M    M    M    M    M    M    M   \n",
      "[25929] M    M    M    F    M    M    M    F    M    M    M    F    M    F   \n",
      "[25943] F    M    F    M    F    M    M    F    F    F    F    F    M    F   \n",
      "[25957] M    M    M    M    M    F    F    F    M    F    M    F    F    M   \n",
      "[25971] F    M    M    M    F    M    F    F    M    M    M    F    F    F   \n",
      "[25985] F    F    M    M    F    F    F    M    F    M    F    F    M    M   \n",
      "[25999] F    F    F    M    M    F    M    M    M    M    M    M    F    M   \n",
      "[26013] M    F    M    F    F    F    M    F    M    F    M    M    F    M   \n",
      "[26027] M    F    F    M    M    F    M    M    F    F    M    F    M    M   \n",
      "[26041] F    F    M    F    F    M    <NA> F    F    F    M    M    F    M   \n",
      "[26055] F    M    M    F    M    F    F    M    M    F    M    F    M    F   \n",
      "[26069] M    M    M    F    M    M    M    M    M    F    M    M    F    M   \n",
      "[26083] M    F    M    F    M    M    M    F    M    M    F    M    M    M   \n",
      "[26097] F    M    F    F    F    M    F    M    F    F    M    M    M    F   \n",
      "[26111] M    M    M    F    F    M    F    M    M    M    M    M    M    M   \n",
      "[26125] M    M    M    M    M    M    M    M    M    F    M    M    M    M   \n",
      "[26139] M    M    M    M    M    M    M    M    F    M    F    M    M    M   \n",
      "[26153] M    F    M    M    M    M    M    F    M    M    M    F    M    M   \n",
      "[26167] M    M    M    M    M    M    M    F    M    M    M    M    M    M   \n",
      "[26181] M    M    M    M    M    M    M    M    F    M    M    F    M    M   \n",
      "[26195] F    M    M    M    M    F    M    M    F    M    M    F    M    M   \n",
      "[26209] M    F    M    M    M    M    F    M    M    M    M    F    F    M   \n",
      "[26223] M    F    M    M    F    M    M    M    M    M    F    M    M    M   \n",
      "[26237] M    F    M    M    <NA> M    M    M    M    M    M    M    M    M   \n",
      "[26251] M    M    M    M    M    M    M    M    M    M    M    M    M    M   \n",
      "[26265] M    M    M    M    M    M    M    M    M    M    M    M    M    M   \n",
      "[26279] F    F    M    M    F    M    M    M    M    F    M    M    M    F   \n",
      "[26293] M    F    F    M    F    M    F    M    M    F    F    M    F    M   \n",
      "[26307] M    M    M    M    M    F    F    F    F    F    F    F    F    F   \n",
      "[26321] F    F    F    M    M    M    M    F    M    M    F    F    M    M   \n",
      "[26335] F    F    M    M    M    F    M    F    M    F    F    F    M    F   \n",
      "[26349] F    F    M    M    M    M    F    M    M    M    M    F    M    M   \n",
      "[26363] M    M    F    F    M    F    M    F    M    F    F    F    F    F   \n",
      "[26377] F    F    F    F    F    M    F    F    F    F    F    M    F    M   \n",
      "[26391] F    M    <NA> M    F    F    M    M    F    F    F    M    F    F   \n",
      "[26405] F    M    F    M    F    F    F    F    F    F    F    F    F    M   \n",
      "[26419] M    F    M    F    M    M    M    M    F    M    M    M    M    M   \n",
      "[26433] M    F    M    M    F    M    M    M    M    M    M    M    M    M   \n",
      "[26447] M    F    M    M    F    M    F    F    M    M    M    M    F    F   \n",
      "[26461] F    F    F    F    M    M    M    F    M    M    M    F    M    M   \n",
      "[26475] M    M    M    F    M    M    F    M    M    F    M    M    F    F   \n",
      "[26489] F    F    F    M    M    M    F    F    F    M    F    M    M    M   \n",
      "[26503] F    F    F    F    F    M    F    F    M    M    M    F    M    M   \n",
      "[26517] M    F    F    M    M    M    F    F    M    <NA> F    F    M    F   \n",
      "[26531] M    F    F    M    F    M    F    M    M    M    M    M    F    F   \n",
      "[26545] M    M    M    M    M    M    M    M    M    M    M    M    M    M   \n",
      "[26559] M    M    <NA> M    M    M    M    M    M    M    M    M    M    M   \n",
      "[26573] M    M    M    M    M    M    M    M    F    M    M    M    M    M   \n",
      "[26587] M    F    M    M    M    M    M    M    M    M    M    M    M    M   \n",
      "[26601] F    M    M    M    M    M    M    M    M    M    M    M    F    F   \n",
      "[26615] M    M    M    F    F    F    F    F    F    M    M    M    F    F   \n",
      "[26629] M    M    M    F    F    M    M    F    F    M    M    M    F    M   \n",
      "[26643] M    F    M    F    F    M    F    F    F    M    F    M    M    F   \n",
      "[26657] F    F    M    M    F    F    M    F    F    F    M    F    F    F   \n",
      "[26671] F    F    M    F    F    M    M    M    M    <NA> F    M    F    F   \n",
      "[26685] M    F    M    M    M    M    M    M    F    M    M    M    M    F   \n",
      "[26699] M    F    M    F    F    M    F    M    F    F    M    M    F    M   \n",
      "[26713] F    M    <NA> F    F    M    F    M    F    M    F    M    M    M   \n",
      "[26727] M    F    F    F    M    F    M    F    F    F    M    F    F    M   \n",
      "[26741] F    F    F    F    F    M    F    F    F    M    M    M    M    F   \n",
      "[26755] F    M    F    M    M    M    F    F    F    F    F    F    F    F   \n",
      "[26769] M    F    M    M    F    F    <NA> F    F    F    M    F    M    M   \n",
      "[26783] F    M    <NA> F    F    F    F    F    F    M    F    F    F    M   \n",
      "[26797] M    M    M    F    M    M    F    M    F    F    M    M    F    M   \n",
      "[26811] M    F    F    M    F    M    F    M    F    F    F    F    M    F   \n",
      "[26825] F    M    F    M    M    M    M    M    F    F    F    F    F    F   \n",
      "[26839] F    F    M    F    F    F    F    F    F    F    M    F    M    F   \n",
      "[26853] F    F    M    F    M    M    F    F    M    F    F    F    F    F   \n",
      "[26867] M    M    M    F    F    F    M    F    M    F    F    F    F    F   \n",
      "[26881] M    F    M    M    F    F    F    F    M    F    F    F    F    F   \n",
      "[26895] M    M    F    F    M    M    M    F    F    M    F    M    M    M   \n",
      "[26909] M    M    F    M    M    M    M    M    F    F    M    F    M    F   \n",
      "[26923] M    F    F    M    M    M    F    F    F    F    F    M    F    F   \n",
      "[26937] F    F    F    F    F    F    F    F    F    F    F    M    F    F   \n",
      "[26951] M    F    F    M    M    F    M    F    F    F    M    F    M    M   \n",
      "[26965] M    F    F    F    M    M    M    M    M    F    F    M    F    F   \n",
      "[26979] M    M    F    F    M    F    M    M    F    F    F    F    F    F   \n",
      "[26993] F    F    F    F    F    F    F    F    M    F    M    F    M    M   \n",
      "[27007] F    M    M    M    M    M    F    F    M    M    F    M    M    M   \n",
      "[27021] M    F    F    F    M    F    M    F    M    M    F    F    F    F   \n",
      "[27035] M    M    F    M    F    M    F    F    M    F    M    F    M    F   \n",
      "[27049] M    F    M    M    F    M    M    F    M    M    M    M    M    M   \n",
      "[27063] M    F    F    M    M    M    M    F    F    M    F    F    M    M   \n",
      "[27077] M    F    F    M    M    M    F    M    F    F    F    F    F    F   \n",
      "[27091] F    F    F    M    M    F    M    F    M    M    F    M    M    M   \n",
      "[27105] F    F    F    M    F    M    F    F    M    F    F    F    F    M   \n",
      "[27119] M    F    M    F    M    F    M    F    M    M    F    M    M    M   \n",
      "[27133] F    F    F    F    F    F    F    F    F    M    M    M    M    F   \n",
      "[27147] M    M    M    F    F    M    M    F    F    M    F    F    F    M   \n",
      "[27161] M    F    M    M    F    M    M    M    M    M    M    M    M    M   \n",
      "[27175] F    M    M    M    F    M    F    M    M    F    M    M    M    F   \n",
      "[27189] F    F    F    F    F    F    F    M    F    M    M    F    F    F   \n",
      "[27203] M    F    M    M    M    M    M    M    M    M    M    M    M    F   \n",
      "[27217] M    M    M    M    F    F    M    M    M    M    M    F    M    M   \n",
      "[27231] F    F    F    M    M    M    M    M    F    F    M    M    M    F   \n",
      "[27245] M    M    M    M    F    M    M    F    M    F    M    F    M    M   \n",
      "[27259] M    M    M    M    M    F    M    M    M    M    M    F    M    F   \n",
      "[27273] M    M    F    M    F    M    F    M    M    M    F    M    M    M   \n",
      "[27287] F    M    M    M    M    F    M    M    F    F    M    F    F    M   \n",
      "[27301] M    F    M    F    M    M    F    M    M    <NA> F    F    M    F   \n",
      "[27315] M    M    M    M    F    M    F    M    M    M    M    M    M    M   \n",
      "[27329] M    F    M    M    M    F    M    F    M    M    M    M    M    M   \n",
      "[27343] F    M    M    F    M    F    M    F    M    F    M    F    F    M   \n",
      "[27357] F    F    M    F    M    M    F    F    F    M    M    F    F    M   \n",
      "[27371] F    M    M    M    F    M    M    F    M    M    F    F    M    M   \n",
      "[27385] M    F    M    M    M    F    M    M    F    F    M    F    M    M   \n",
      "[27399] M    F    F    F    M    F    M    M    F    M    F    M    F    M   \n",
      "[27413] M    M    M    M    F    F    M    F    M    F    F    M    M    F   \n",
      "[27427] M    F    M    F    M    F    F    M    M    F    M    F    M    M   \n",
      "[27441] M    M    M    M    M    F    M    M    F    F    M    M    M    M   \n",
      "[27455] M    F    M    M    M    F    F    F    F    M    F    F    F    M   \n",
      "[27469] M    F    M    M    F    M    M    M    M    F    F    F    M    F   \n",
      "[27483] M    F    M    F    F    M    F    M    M    M    <NA> M    M    M   \n",
      "[27497] F    M    F    F    M    F    F    M    M    M    M    F    M    M   \n",
      "[27511] M    M    M    F    M    M    M    M    F    M    M    F    M    M   \n",
      "[27525] F    M    M    F    F    F    M    M    M    F    M    F    F    M   \n",
      "[27539] M    F    M    F    F    <NA> <NA> <NA> <NA> <NA> <NA> <NA> <NA> <NA>\n",
      "[27553] <NA> <NA> <NA> M    M    F    F    M    F    M    F    M    M    M   \n",
      "[27567] M    F    F    M    M    M    F    M    F    F    M    F    F    F   \n",
      "[27581] F    M    M    F    F    M    M    F    M    M    M    M    F    M   \n",
      "[27595] M    M    M    M    F    M    M    M    F    F    M    M    M    M   \n",
      "[27609] M    F    F    M    F    M    F    F    F    F    M    F    M    M   \n",
      "[27623] M    M    F    F    F    M    F    <NA> <NA> M    F    F    M    M   \n",
      "[27637] M    F    M    M    M    M    M    M    M    M    <NA> <NA> <NA> <NA>\n",
      "[27651] <NA> <NA> <NA> <NA> <NA> <NA> <NA> <NA> <NA> <NA> <NA> <NA> M    F   \n",
      "[27665] F    <NA> <NA> <NA> <NA> M    M    F    F    F    F    F    F    F   \n",
      "[27679] F    F    F    M    F    F    F    F    F    F    F    F    M    M   \n",
      "[27693] M    M    F    M    F    M    F    F    M    M    F    F    M    M   \n",
      "[27707] M    F    F    F    F    F    F    M    F    M    M    F    F    F   \n",
      "[27721] F    M    M    F    F    F    M    F    F    F    M    F    M    M   \n",
      "[27735] F    F    F    M    M    M    F    M    F    M    M    F    M    F   \n",
      "[27749] F    M    F    F    F    F    F    M    F    M    M    M    M    M   \n",
      "[27763] M    F    F    M    F    F    M    M    M    M    M    M    F    F   \n",
      "[27777] F    M    F    M    M    F    M    M    M    F    <NA> F    F    F   \n",
      "[27791] F    <NA> F    M    <NA> F    F    F    F    F    F    M    M    M   \n",
      "[27805] M    F    F    M    M    M    M    M    M    M    M    M    F    F   \n",
      "[27819] F    M    F    M    F    M    M    F    M    M    M    M    M    F   \n",
      "[27833] M    M    F    F    M    M    M    F    M    F    M    F    F    M   \n",
      "[27847] M    M    F    M    F    F    M    M    M    M    M    F    F    M   \n",
      "[27861] M    F    F    M    F    M    M    F    F    M    M    F    F    M   \n",
      "[27875] M    M    F    M    F    M    M    M    F    F    M    M    F    M   \n",
      "[27889] F    M    M    F    M    M    M    M    M    F    M    F    M    M   \n",
      "[27903] F    F    M    F    M    M    M    M    F    M    M    M    F    F   \n",
      "[27917] M    M    F    F    M    M    F    M    F    M    F    F    M    F   \n",
      "[27931] M    M    F    F    M    F    M    M    M    F    F    M    M    F   \n",
      "[27945] F    F    F    <NA> M    F    M    F    M    M    M    M    F    M   \n",
      "[27959] F    F    M    M    F    M    M    M    F    M    M    F    M    M   \n",
      "[27973] M    F    M    F    F    M    M    M    F    F    M    M    M    F   \n",
      "[27987] F    F    M    M    M    M    M    F    M    M    F    M    M    F   \n",
      "[28001] F    M    M    F    F    M    M    F    M    M    F    F    M    F   \n",
      "[28015] M    M    F    F    F    M    F    M    F    M    M    F    M    M   \n",
      "[28029] F    M    F    M    F    F    M    M    F    M    F    F    M    <NA>\n",
      "[28043] F    F    M    F    F    F    F    F    F    F    M    F    F    F   \n",
      "[28057] M    M    F    M    F    M    F    M    F    F    M    F    F    M   \n",
      "[28071] M    M    F    F    M    F    M    F    F    F    M    M    F    M   \n",
      "[28085] M    M    F    F    M    M    F    M    M    M    F    M    F    F   \n",
      "[28099] M    M    M    F    M    F    F    M    M    M    M    M    F    M   \n",
      "[28113] M    M    M    F    M    F    M    M    M    M    M    <NA> F    F   \n",
      "[28127] M    M    M    M    M    M    M    F    F    M    M    M    F    M   \n",
      "[28141] F    M    F    M    M    F    F    M    M    F    M    M    F    M   \n",
      "[28155] F    F    M    F    M    F    F    F    M    M    M    F    F    M   \n",
      "[28169] M    M    M    F    F    M    M    M    F    M    M    F    M    M   \n",
      "[28183] M    F    M    M    F    M    M    M    F    M    M    M    M    M   \n",
      "[28197] M    F    M    M    F    M    F    M    M    F    F    M    M    F   \n",
      "[28211] M    F    F    F    M    M    F    M    F    M    M    M    F    F   \n",
      "[28225] M    F    M    F    F    M    M    M    M    M    M    M    M    M   \n",
      "[28239] F    M    F    M    M    F    M    M    M    F    M    M    M    F   \n",
      "[28253] F    M    M    M    M    F    M    M    F    F    M    M    M    F   \n",
      "[28267] M    M    F    M    M    F    M    M    M    F    M    M    M    F   \n",
      "[28281] M    F    M    M    F    M    M    F    M    M    F    M    M    M   \n",
      "[28295] F    M    M    M    M    F    M    F    M    M    F    M    M    F   \n",
      "[28309] M    F    F    F    M    M    F    F    M    F    M    F    F    M   \n",
      "[28323] M    M    F    M    M    F    M    M    M    M    F    M    M    M   \n",
      "[28337] F    M    M    F    F    F    M    M    M    M    M    M    M    M   \n",
      "[28351] M    F    F    F    M    M    F    M    F    M    M    F    F    F   \n",
      "[28365] F    M    M    <NA> M    M    F    F    M    M    F    M    M    <NA>\n",
      "[28379] M    M    M    M    M    F    M    M    M    F    F    F    F    M   \n",
      "[28393] M    M    M    F    M    F    F    F    F    M    F    M    M    F   \n",
      "[28407] F    F    F    M    M    F    M    M    F    F    M    F    M    M   \n",
      "[28421] M    <NA> F    M    F    F    F    F    F    F    F    F    M    M   \n",
      "[28435] F    F    M    M    F    M    F    F    F    F    F    F    F    F   \n",
      "[28449] F    F    F    F    F    F    F    M    F    F    F    F    F    F   \n",
      "[28463] F    F    F    M    M    M    M    M    M    M    M    M    M    F   \n",
      "[28477] M    M    M    M    M    M    F    F    M    M    M    M    M    M   \n",
      "[28491] M    M    M    F    M    F    M    M    F    M    M    M    M    M   \n",
      "[28505] M    M    M    M    M    M    M    M    M    M    M    F    M    F   \n",
      "[28519] M    M    M    M    M    M    M    F    F    M    M    F    F    F   \n",
      "[28533] F    F    F    F    F    F    F    F    F    F    F    F    F    F   \n",
      "[28547] F    M    M    F    M    F    F    M    F    F    F    F    F    F   \n",
      "[28561] M    M    M    M    M    M    F    F    F    M    M    F    F    F   \n",
      "[28575] F    F    F    M    F    M    F    M    F    M    M    F    M    F   \n",
      "[28589] F    M    F    M    F    M    F    M    F    M    F    M    M    F   \n",
      "[28603] M    F    M    M    F    M    F    M    M    F    M    F    M    F   \n",
      "[28617] M    M    M    M    M    M    F    M    M    M    M    M    M    M   \n",
      "[28631] M    M    M    M    M    M    M    M    M    F    <NA> F    F    M   \n",
      "[28645] M    M    M    F    M    F    F    M    M    M    M    F    <NA> M   \n",
      "[28659] M    M    F    F    M    F    M    F    M    F    F    F    F    M   \n",
      "[28673] M    F    F    F    F    F    F    M    M    F    F    F    F    F   \n",
      "[28687] M    F    F    M    F    F    F    M    M    F    F    F    F    F   \n",
      "[28701] F    M    F    M    F    M    F    M    F    M    M    F    M    F   \n",
      "[28715] F    F    F    F    F    M    F    M    M    M    M    M    F    M   \n",
      "[28729] M    F    F    M    M    M    F    M    F    F    M    F    M    F   \n",
      "[28743] M    M    M    F    F    F    F    F    M    <NA> F    F    F    M   \n",
      "[28757] F    F    F    F    F    M    M    M    F    M    M    F    M    F   \n",
      "[28771] F    F    F    F    F    F    M    F    M    F    M    F    M    M   \n",
      "[28785] M    M    F    M    F    F    M    F    F    F    M    M    M    F   \n",
      "[28799] F    F    M    F    F    M    M    M    M    F    F    M    F    M   \n",
      "[28813] M    M    F    M    F    M    M    M    M    M    M    F    F    M   \n",
      "[28827] M    F    M    M    M    M    M    F    M    F    M    M    M    M   \n",
      "[28841] M    F    F    M    F    F    M    F    M    M    F    F    M    F   \n",
      "[28855] M    F    <NA> M    F    M    F    M    M    F    M    F    M    M   \n",
      "[28869] F    F    M    F    M    M    M    M    M    M    M    F    M    M   \n",
      "[28883] M    M    F    M    F    M    M    M    M    F    F    F    F    F   \n",
      "[28897] F    M    M    F    M    F    F    M    M    M    F    M    F    M   \n",
      "[28911] M    M    M    M    F    M    F    F    F    M    M    M    M    F   \n",
      "[28925] F    M    M    M    F    F    M    M    F    M    <NA> F    F    M   \n",
      "[28939] F    F    M    M    M    F    M    M    M    M    F    F    M    M   \n",
      "[28953] F    F    F    F    F    M    M    F    M    M    M    M    M    F   \n",
      "[28967] M    M    F    F    M    M    F    F    F    F    F    F    F    F   \n",
      "[28981] F    F    M    F    F    F    F    F    M    F    F    F    F    F   \n",
      "[28995] M    M    F    M    M    F    F    F    F    F    F    F    F    F   \n",
      "[29009] M    F    F    M    M    M    M    F    M    F    F    M    F    F   \n",
      "[29023] F    M    F    M    F    M    F    M    F    F    M    M    F    M   \n",
      "[29037] M    M    M    M    M    M    M    M    M    M    M    M    M    M   \n",
      "[29051] F    F    F    F    F    F    M    F    F    M    F    M    F    F   \n",
      "[29065] M    F    F    F    M    F    F    M    M    M    F    M    F    F   \n",
      "[29079] M    F    M    F    M    M    M    F    F    M    M    M    M    F   \n",
      "[29093] F    F    F    F    M    F    M    M    M    M    M    M    M    M   \n",
      "[29107] M    M    M    M    F    F    F    F    F    F    F    F    M    F   \n",
      "[29121] M    F    M    F    F    F    F    M    F    F    F    F    F    F   \n",
      "[29135] M    M    F    F    F    F    F    F    F    F    F    F    M    M   \n",
      "[29149] F    M    M    M    M    F    F    M    M    M    M    M    M    F   \n",
      "[29163] M    M    M    M    F    M    M    M    F    M    F    F    M    F   \n",
      "[29177] M    F    F    M    F    M    F    F    M    F    M    F    M    F   \n",
      "[29191] F    M    M    M    F    M    M    M    F    M    F    M    M    F   \n",
      "[29205] M    M    M    M    F    F    F    M    M    F    M    M    M    F   \n",
      "[29219] M    M    M    M    F    M    M    M    F    M    M    F    M    F   \n",
      "[29233] M    F    F    M    M    F    M    F    M    F    M    F    M    F   \n",
      "[29247] F    M    M    F    M    M    F    M    M    F    M    F    M    M   \n",
      "[29261] M    M    M    F    F    M    M    M    M    F    M    M    F    M   \n",
      "[29275] M    M    F    M    M    F    F    F    M    F    F    M    F    F   \n",
      "[29289] F    M    M    F    M    M    F    F    M    M    M    M    M    M   \n",
      "[29303] F    M    M    M    M    M    M    M    M    F    F    M    F    M   \n",
      "[29317] M    M    M    M    F    M    F    M    M    F    M    M    M    M   \n",
      "[29331] M    M    M    F    M    M    M    F    M    F    M    M    M    M   \n",
      "[29345] M    M    F    M    F    M    F    M    M    F    M    M    M    F   \n",
      "[29359] M    M    F    M    M    M    M    M    M    M    F    M    M    M   \n",
      "[29373] F    F    M    M    F    M    M    F    M    M    M    M    F    F   \n",
      "[29387] M    F    M    M    F    M    M    M    F    F    M    M    F    M   \n",
      "[29401] M    F    F    M    M    M    M    F    F    F    F    M    M    F   \n",
      "[29415] M    M    M    F    M    M    M    M    F    M    F    M    M    M   \n",
      "[29429] F    M    F    M    M    M    M    M    M    M    F    M    M    <NA>\n",
      "[29443] <NA> <NA> <NA> <NA> <NA> <NA> <NA> <NA> <NA> <NA> <NA> <NA> <NA> <NA>\n",
      "[29457] F    F    F    F    M    F    F    M    F    F    M    F    F    M   \n",
      "[29471] M    M    M    F    F    F    M    M    M    F    M    F    M    M   \n",
      "[29485] F    F    F    F    F    F    M    F    M    F    M    F    M    F   \n",
      "[29499] F    M    F    M    F    M    F    F    F    M    M    F    M    F   \n",
      "[29513] M    F    F    M    F    F    M    F    F    F    F    M    <NA> F   \n",
      "[29527] F    M    M    M    F    F    <NA> <NA> <NA> <NA> <NA> <NA> <NA> <NA>\n",
      "[29541] <NA> <NA> <NA> <NA> <NA> <NA> <NA> <NA> <NA> <NA> <NA> <NA> <NA> <NA>\n",
      "[29555] <NA> <NA> <NA> <NA> <NA> M    F    F    F    M    M    M    M    M   \n",
      "[29569] M    F    F    F    M    F    F    M    M    F    F    M    M    F   \n",
      "[29583] M    F    M    M    M    F    F    F    F    F    F    M    F    F   \n",
      "[29597] M    F    M    F    F    M    F    F    F    F    F    <NA> F    M   \n",
      "[29611] M    F    F    M    F    F    F    F    F    F    M    M    F    F   \n",
      "[29625] F    F    F    F    M    F    F    F    F    F    F    F    F    F   \n",
      "[29639] F    F    F    F    F    F    F    F    F    F    F    M    F    F   \n",
      "[29653] M    M    F    F    F    F    F    F    F    F    F    F    M    M   \n",
      "[29667] M    M    M    <NA> M    M    M    M    F    M    F    M    F    M   \n",
      "[29681] M    M    M    M    F    M    <NA> M    M    M    M    M    M    M   \n",
      "[29695] M    M    M    M    M    F    F    M    F    M    F    M    M    M   \n",
      "[29709] M    M    M    M    M    M    F    M    M    F    F    M    F    M   \n",
      "[29723] F    F    M    M    F    F    F    F    M    F    M    F    M    M   \n",
      "[29737] M    M    F    M    F    M    M    M    F    M    M    F    M    F   \n",
      "[29751] F    F    M    F    F    M    F    F    M    F    F    F    M    F   \n",
      "[29765] M    F    F    M    M    M    M    F    F    F    M    F    F    F   \n",
      "[29779] F    F    M    F    F    M    F    F    M    M    F    F    F    F   \n",
      "[29793] F    F    F    M    F    F    F    F    F    F    F    F    F    F   \n",
      "[29807] F    F    F    F    F    F    M    M    F    F    F    M    F    M   \n",
      "[29821] F    F    F    M    F    M    M    M    M    F    M    M    M    M   \n",
      "[29835] M    <NA> M    F    M    F    F    M    M    M    M    F    F    M   \n",
      "[29849] F    M    M    M    M    M    M    F    M    F    M    M    M    M   \n",
      "[29863] F    M    M    M    M    M    F    M    M    M    M    M    F    F   \n",
      "[29877] M    M    M    F    M    M    M    M    F    F    M    M    F    F   \n",
      "[29891] M    M    M    F    M    F    M    F    M    M    M    M    F    M   \n",
      "[29905] M    M    F    M    M    F    M    M    M    F    M    M    F    M   \n",
      "[29919] F    M    M    M    M    M    M    M    F    M    F    M    M    M   \n",
      "[29933] M    M    F    F    M    M    M    F    F    M    F    M    M    F   \n",
      "[29947] M    M    F    M    M    M    M    M    M    M    M    F    M    M   \n",
      "[29961] M    F    M    M    M    M    F    F    M    F    F    M    F    M   \n",
      "[29975] M    F    M    F    M    M    F    M    M    M    F    M    M    M   \n",
      "[29989] F    M    M    M    M    M    M    M    M    M    M    F    M    M   \n",
      "[30003] F    M    M    M    M    F    M    M    M    M    M    M    F    M   \n",
      "[30017] F    M    F    M    M    M    M    F    F    M    M    F    M    M   \n",
      "[30031] M    F    M    F    M    F    F    M    F    M    F    M    F    F   \n",
      "[30045] M    M    F    F    M    F    M    F    F    M    F    F    M    M   \n",
      "[30059] M    F    F    M    M    F    M    M    F    F    M    M    M    M   \n",
      "[30073] M    M    F    M    F    M    F    M    M    M    F    M    F    F   \n",
      "[30087] M    M    M    F    M    M    M    F    F    M    M    F    M    M   \n",
      "[30101] M    F    F    F    M    M    M    F    F    M    F    M    M    M   \n",
      "[30115] M    F    F    M    M    F    F    F    F    F    F    M    F    M   \n",
      "[30129] F    F    M    F    M    F    M    M    M    F    M    F    M    M   \n",
      "[30143] M    M    F    F    F    M    M    M    F    F    M    M    M    F   \n",
      "[30157] F    F    M    M    M    F    F    M    M    M    F    F    F    M   \n",
      "[30171] F    M    M    F    M    M    M    M    F    M    M    F    M    M   \n",
      "[30185] M    M    F    M    F    F    M    M    F    M    F    M    M    F   \n",
      "[30199] F    M    M    F    F    F    F    F    F    M    F    M    F    F   \n",
      "[30213] M    F    F    F    M    F    F    F    M    F    F    F    M    F   \n",
      "[30227] F    M    F    F    M    F    M    M    F    M    F    M    M    F   \n",
      "[30241] M    M    F    F    M    F    F    M    M    F    M    M    F    M   \n",
      "[30255] M    M    M    F    M    M    M    F    M    M    M    M    M    F   \n",
      "[30269] F    M    F    M    F    M    M    F    M    F    M    M    M    M   \n",
      "[30283] F    F    F    F    M    F    M    M    F    M    F    F    M    F   \n",
      "[30297] F    M    M    F    F    F    M    M    F    M    M    F    F    M   \n",
      "[30311] M    M    F    M    F    <NA> F    M    F    M    M    F    M    M   \n",
      "[30325] F    M    M    F    F    F    M    M    M    F    M    M    M    M   \n",
      "[30339] M    M    M    F    F    F    M    M    M    M    M    F    M    M   \n",
      "[30353] M    M    F    M    M    F    M    M    F    M    M    M    F    M   \n",
      "[30367] M    F    M    F    F    M    F    M    F    M    F    M    F    M   \n",
      "[30381] F    M    F    M    M    F    F    M    F    M    F    M    M    F   \n",
      "[30395] F    M    M    F    F    M    F    F    M    <NA> M    F    F    M   \n",
      "[30409] M    F    M    F    F    F    F    M    M    M    M    F    M    F   \n",
      "[30423] M    F    M    M    M    F    M    M    F    M    F    M    F    M   \n",
      "[30437] M    F    F    M    M    M    F    M    F    M    M    F    M    M   \n",
      "[30451] M    F    M    F    M    M    M    F    F    F    F    M    F    F   \n",
      "[30465] M    F    F    M    M    F    M    M    M    M    M    F    M    F   \n",
      "[30479] M    F    M    M    F    M    F    M    M    M    M    M    F    M   \n",
      "[30493] F    M    M    F    M    M    M    M    F    M    M    F    M    M   \n",
      "[30507] F    F    M    M    F    F    M    M    M    M    M    M    M    M   \n",
      "[30521] M    M    F    M    M    M    F    M    M    M    M    F    M    M   \n",
      "[30535] M    F    F    M    F    M    M    F    M    M    M    F    M    F   \n",
      "[30549] M    M    F    M    M    F    M    F    M    M    M    M    F    M   \n",
      "[30563] F    M    M    F    M    M    M    M    F    F    F    M    M    M   \n",
      "[30577] F    M    M    F    F    F    M    M    F    M    M    F    F    F   \n",
      "[30591] F    F    M    F    F    F    M    F    F    F    M    M    F    F   \n",
      "[30605] F    M    M    F    F    M    F    F    F    M    F    F    F    M   \n",
      "[30619] M    F    F    M    F    M    F    F    M    F    M    M    M    F   \n",
      "[30633] M    F    F    M    F    M    F    M    M    F    M    M    M    M   \n",
      "[30647] M    F    M    M    F    M    M    M    M    M    M    M    F    M   \n",
      "[30661] M    M    F    F    F    F    F    M    F    M    M    F    <NA> F   \n",
      "[30675] M    F    M    M    M    M    M    M    M    F    F    F    M    M   \n",
      "[30689] M    M    M    M    M    M    M    M    M    M    M    M    M    F   \n",
      "[30703] F    M    F    F    F    F    M    M    M    M    <NA> F    M    F   \n",
      "[30717] F    M    F    F    F    M    F    F    F    F    F    M    F    F   \n",
      "[30731] F    F    F    F    F    F    F    F    M    F    F    M    F    F   \n",
      "[30745] M    F    F    F    F    F    F    M    F    F    F    F    F    F   \n",
      "[30759] F    F    F    F    F    M    F    F    F    M    F    F    F    F   \n",
      "[30773] F    F    F    F    F    F    M    F    F    M    F    F    F    F   \n",
      "[30787] F    F    M    F    F    M    M    M    M    M    M    M    F    F   \n",
      "[30801] F    F    F    M    F    F    F    F    F    M    F    F    M    F   \n",
      "[30815] F    F    M    F    M    F    M    F    M    F    F    M    F    M   \n",
      "[30829] M    F    F    M    F    F    M    F    M    F    M    F    M    F   \n",
      "[30843] M    F    M    F    M    M    M    F    F    F    F    M    F    M   \n",
      "[30857] F    F    M    M    M    M    M    F    M    M    M    F    M    F   \n",
      "[30871] F    F    F    M    F    M    F    F    M    F    M    F    F    F   \n",
      "[30885] F    F    F    F    F    F    F    F    M    F    M    M    M    F   \n",
      "[30899] M    F    F    M    M    M    F    M    M    F    F    M    M    F   \n",
      "[30913] M    M    M    F    M    M    F    M    M    F    F    M    F    M   \n",
      "[30927] F    F    F    M    F    M    F    M    F    M    M    F    F    F   \n",
      "[30941] F    M    F    F    F    M    F    M    F    F    F    F    F    F   \n",
      "[30955] M    F    F    M    M    F    M    M    F    M    M    <NA> F    M   \n",
      "[30969] F    M    M    F    M    F    M    M    M    M    M    M    M    F   \n",
      "[30983] F    F    F    F    F    M    M    F    F    M    F    M    F    F   \n",
      "[30997] F    F    F    F    M    F    F    F    F    F    M    F    F    F   \n",
      "[31011] M    F    F    F    M    F    F    F    M    F    M    M    M    F   \n",
      "[31025] F    F    M    M    M    M    M    M    M    F    M    F    F    M   \n",
      "[31039] M    M    M    F    M    F    F    M    M    F    F    M    F    M   \n",
      "[31053] M    F    M    F    M    M    M    <NA> M    M    M    M    M    F   \n",
      "[31067] F    F    F    M    F    M    M    F    M    M    M    F    M    M   \n",
      "[31081] M    F    M    F    F    F    M    M    F    F    F    F    F    F   \n",
      "[31095] F    F    F    M    M    M    F    F    F    F    M    M    F    F   \n",
      "[31109] M    <NA> <NA> M    F    F    M    M    F    M    M    F    M    M   \n",
      "[31123] F    M    F    M    F    M    M    F    F    F    F    M    M    F   \n",
      "[31137] F    M    F    M    M    M    M    M    F    M    M    M    M    F   \n",
      "[31151] F    F    M    M    M    F    M    F    M    F    M    M    M    M   \n",
      "[31165] F    M    F    F    M    M    M    M    F    M    M    F    M    F   \n",
      "[31179] F    M    F    M    M    M    M    F    F    F    F    F    M    M   \n",
      "[31193] F    M    M    F    F    F    F    M    M    F    F    F    M    M   \n",
      "[31207] M    M    F    M    M    M    M    M    F    F    F    F    M    F   \n",
      "[31221] M    M    M    F    F    M    M    F    M    M    M    M    M    F   \n",
      "[31235] M    M    M    M    F    M    M    M    M    M    M    M    F    M   \n",
      "[31249] M    M    F    M    F    F    F    M    M    F    F    M    F    F   \n",
      "[31263] M    M    M    F    M    F    F    F    F    F    F    F    F    M   \n",
      "[31277] F    F    M    M    F    F    M    F    M    F    M    F    F    M   \n",
      "[31291] M    M    M    M    M    M    M    M    F    M    F    M    F    M   \n",
      "[31305] F    M    M    F    F    M    M    F    <NA> M    F    M    M    F   \n",
      "[31319] F    F    M    F    M    F    M    F    M    M    M    F    M    M   \n",
      "[31333] M    M    F    M    F    M    M    M    F    F    M    F    M    M   \n",
      "[31347] F    M    F    M    M    M    F    M    M    F    F    M    M    M   \n",
      "[31361] M    M    M    F    M    M    M    M    M    M    M    M    M    M   \n",
      "[31375] F    M    F    M    M    F    F    M    F    F    F    F    M    F   \n",
      "[31389] M    F    M    M    F    F    F    M    M    M    M    M    F    <NA>\n",
      "[31403] <NA> <NA> <NA> <NA> <NA> <NA> <NA> <NA> <NA> <NA> M    <NA> <NA> <NA>\n",
      "[31417] <NA> <NA> <NA> <NA> <NA> <NA> <NA> <NA> <NA> M    F    M    M    F   \n",
      "[31431] M    F    M    M    F    F    M    M    M    F    F    F    F    F   \n",
      "[31445] F    F    M    M    F    M    M    F    F    F    M    F    M    F   \n",
      "[31459] M    M    F    F    F    F    M    F    M    F    F    M    F    F   \n",
      "[31473] M    M    F    F    F    F    M    F    F    F    F    F    M    M   \n",
      "[31487] F    F    F    F    F    F    M    M    M    M    F    M    M    F   \n",
      "[31501] F    F    M    M    F    M    F    F    F    F    M    M    M    F   \n",
      "[31515] F    M    M    F    F    M    F    <NA> F    F    M    F    F    M   \n",
      "[31529] F    F    M    M    F    <NA> <NA> <NA> <NA> <NA> <NA> <NA> <NA> <NA>\n",
      "[31543] <NA> <NA> <NA> <NA> <NA> <NA> <NA> <NA> <NA> <NA> <NA> <NA> <NA> <NA>\n",
      "[31557] <NA> <NA> <NA> <NA> <NA> <NA> <NA> <NA> <NA> <NA> <NA> <NA> <NA> M   \n",
      "[31571] M    M    F    M    F    M    M    M    M    M    M    M    F    M   \n",
      "[31585] M    F    F    F    F    M    F    F    M    F    F    F    F    F   \n",
      "[31599] F    F    F    M    F    M    M    F    M    M    <NA> M    F    M   \n",
      "[31613] F    M    M    M    M    M    F    M    M    F    F    F    M    F   \n",
      "[31627] M    F    F    F    F    M    F    M    F    F    F    M    F    M   \n",
      "[31641] M    M    M    M    M    M    M    M    M    F    F    F    <NA> F   \n",
      "[31655] M    M    M    M    F    F    F    M    M    M    M    F    M    M   \n",
      "[31669] M    M    M    M    F    M    F    <NA> M    F    F    M    F    F   \n",
      "[31683] M    F    F    M    F    M    M    F    M    M    F    M    M    M   \n",
      "[31697] M    M    F    M    F    M    F    M    M    F    F    M    M    M   \n",
      "[31711] M    F    M    F    F    F    F    F    F    F    F    F    F    M   \n",
      "[31725] <NA> M    F    M    M    M    F    F    M    F    M    F    M    F   \n",
      "[31739] M    F    F    F    F    M    M    F    F    F    M    F    F    F   \n",
      "[31753] F    F    M    F    F    F    F    F    M    F    F    F    M    F   \n",
      "[31767] M    F    F    F    F    F    M    M    M    F    F    F    M    F   \n",
      "[31781] F    M    M    M    M    F    F    M    M    F    F    F    F    M   \n",
      "[31795] M    F    M    M    F    M    M    M    M    M    M    F    M    F   \n",
      "[31809] M    M    M    F    M    F    M    F    F    F    F    M    M    F   \n",
      "[31823] F    M    <NA> M    M    F    M    F    F    F    F    F    M    M   \n",
      "[31837] F    F    M    F    M    F    F    M    M    F    F    M    M    F   \n",
      "[31851] M    F    F    M    F    M    F    F    M    F    F    F    F    F   \n",
      "[31865] F    F    F    F    F    F    F    F    F    F    F    F    F    M   \n",
      "[31879] M    F    F    F    M    M    M    M    F    F    M    F    M    M   \n",
      "[31893] F    M    F    F    F    F    F    F    F    F    F    F    F    F   \n",
      "[31907] M    F    F    M    F    M    F    M    F    F    M    F    F    M   \n",
      "[31921] F    F    M    F    F    F    F    F    F    F    F    F    M    M   \n",
      "[31935] M    M    F    F    M    M    F    M    M    M    F    M    M    F   \n",
      "[31949] <NA> <NA> M    F    F    F    F    F    M    M    F    F    F    F   \n",
      "[31963] F    F    M    F    F    M    F    F    F    <NA> <NA> <NA> <NA> <NA>\n",
      "[31977] F    <NA> <NA> M    F    F    M    <NA> F    M    F    F    M    F   \n",
      "[31991] F    M    M    F    F    M    F    M    M    F    F    M    F    F   \n",
      "[32005] M    F    F    M    F    F    F    M    F    F    F    F    M    F   \n",
      "[32019] M    F    F    F    M    M    M    M    M    M    F    M    F    M   \n",
      "[32033] F    M    F    F    M    F    M    M    M    M    F    M    F    M   \n",
      "[32047] <NA> <NA> <NA> <NA> <NA> <NA> <NA> <NA> <NA> <NA> <NA> <NA> <NA> <NA>\n",
      "[32061] F    M    M    M    F    F    M    M    M    M    M    M    M    F   \n",
      "[32075] F    F    F    M    F    F    F    F    F    M    F    M    F    M   \n",
      "[32089] F    M    F    F    M    F    M    F    M    F    F    F    M    F   \n",
      "[32103] M    M    M    M    F    M    M    M    F    M    F    M    M    M   \n",
      "[32117] M    F    F    M    M    F    F    F    F    M    F    M    F    M   \n",
      "[32131] F    M    M    M    F    M    M    F    M    F    F    F    F    F   \n",
      "[32145] M    M    M    F    F    F    M    M    M    F    F    F    M    M   \n",
      "[32159] M    M    F    F    M    F    M    F    M    M    F    M    F    F   \n",
      "[32173] M    F    M    M    M    F    F    M    F    M    F    F    M    F   \n",
      "[32187] F    M    M    F    F    F    M    F    <NA> F    <NA> F    F    F   \n",
      "[32201] M    M    M    <NA> M    M    M    F    F    F    M    M    M    M   \n",
      "[32215] M    F    M    M    F    F    F    M    M    M    F    M    M    F   \n",
      "[32229] F    M    M    M    F    M    F    M    M    F    M    F    F    F   \n",
      "[32243] M    F    M    F    F    M    F    F    F    M    M    M    M    F   \n",
      "[32257] M    F    M    M    F    M    F    M    F    F    M    F    F    M   \n",
      "[32271] M    F    M    F    M    M    <NA> M    M    M    F    F    F    F   \n",
      "[32285] F    F    F    F    M    <NA> M    M    M    M    M    M    F    M   \n",
      "[32299] <NA> M    F    F    M    F    M    M    F    F    M    M    <NA> <NA>\n",
      "[32313] <NA> <NA> <NA> <NA> <NA> <NA> <NA> <NA> <NA> <NA> <NA> <NA> <NA> <NA>\n",
      "[32327] <NA> <NA> <NA> <NA> <NA> <NA> <NA> <NA> <NA> <NA> <NA> <NA> <NA> <NA>\n",
      "[32341] <NA> F    F    <NA> <NA> F    F    F    M    M    M    M    F    F   \n",
      "[32355] M    M    M    M    M    F    F    F    F    F    <NA> M    M    M   \n",
      "[32369] F    F    M    M    F    M    M    M    M    M    F    M    M    F   \n",
      "[32383] M    M    M    M    F    M    M    M    F    M    M    F    M    F   \n",
      "[32397] M    M    M    M    F    M    F    M    <NA> M    F    M    M    M   \n",
      "[32411] F    F    M    F    M    F    F    F    F    F    F    F    F    M   \n",
      "[32425] F    M    F    F    F    M    M    F    M    M    F    F    M    F   \n",
      "[32439] F    M    M    M    M    F    M    F    M    F    F    M    F    M   \n",
      "[32453] F    F    F    F    F    F    F    F    F    F    M    F    F    F   \n",
      "[32467] F    M    M    F    F    F    F    F    F    F    M    F    F    F   \n",
      "[32481] M    M    F    M    M    M    M    M    F    F    F    F    M    F   \n",
      "[32495] M    F    M    M    F    F    F    M    F    M    F    F    F    F   \n",
      "[32509] F    M    F    F    F    F    F    F    F    F    F    F    F    F   \n",
      "[32523] F    F    F    F    F    F    F    F    F    F    F    F    F    F   \n",
      "[32537] M    F    M    F    F    F    F    F    F    F    F    F    F    <NA>\n",
      "[32551] M    F    F    F    M    F    M    M    F    F    F    M    F    F   \n",
      "[32565] M    M    F    F    M    F    F    F    M    F    F    F    F    F   \n",
      "[32579] F    F    F    M    M    F    F    F    M    F    F    M    F    F   \n",
      "[32593] F    M    M    F    F    F    F    F    F    F    M    M    M    F   \n",
      "[32607] F    <NA> M    F    F    F    F    F    M    M    M    F    F    F   \n",
      "[32621] M    F    F    F    M    M    F    F    F    F    M    F    F    M   \n",
      "[32635] F    F    M    F    M    M    F    M    F    F    F    M    F    F   \n",
      "[32649] F    F    F    F    M    F    F    F    F    M    M    M    F    F   \n",
      "[32663] F    F    F    F    M    M    M    F    F    F    F    F    F    F   \n",
      "[32677] F    F    F    M    F    F    <NA> F    M    F    F    F    M    M   \n",
      "[32691] F    F    M    F    F    M    F    F    M    M    M    F    F    F   \n",
      "[32705] M    F    F    M    F    M    F    F    M    F    M    F    F    F   \n",
      "[32719] F    M    F    M    F    M    F    F    F    F    M    M    F    F   \n",
      "[32733] F    M    M    M    M    M    M    M    M    M    M    F    F    M   \n",
      "[32747] F    <NA> M    F    F    M    M    F    F    F    M    F    F    F   \n",
      "[32761] F    M    F    M    M    <NA> <NA> <NA> <NA> <NA> <NA> <NA> F    F   \n",
      "[32775] F    F    F    F    M    M    M    M    M    M    F    M    M    M   \n",
      "[32789] F    M    F    M    F    M    F    M    M    M    M    M    M    M   \n",
      "[32803] F    M    M    M    F    F    M    F    F    F    M    F    F    F   \n",
      "[32817] M    F    M    M    M    F    M    F    M    F    M    F    F    M   \n",
      "[32831] M    M    F    F    M    F    M    M    F    F    F    F    M    F   \n",
      "[32845] F    M    F    F    F    M    M    M    F    F    <NA> F    M    F   \n",
      "[32859] M    F    M    F    M    M    M    F    M    F    M    M    F    F   \n",
      "[32873] F    M    M    M    M    F    M    F    M    M    F    M    M    F   \n",
      "[32887] M    F    F    M    M    M    F    <NA> F    M    M    F    F    F   \n",
      "[32901] <NA> F    M    F    M    F    F    F    F    F    F    M    <NA> <NA>\n",
      "[32915] F    F    M    F    <NA> F    F    F    F    F    F    <NA> <NA> F   \n",
      "[32929] M    M    M    M    M    F    F    M    M    F    M    F    M    M   \n",
      "[32943] M    M    F    M    M    F    M    F    F    F    <NA> <NA> <NA> <NA>\n",
      "[32957] <NA> <NA> <NA> <NA> <NA> <NA> F    M    F    M    F    M    F    F   \n",
      "[32971] F    F    M    M    M    M    M    M    M    F    F    F    F    F   \n",
      "[32985] M    M    M    M    F    F    F    F    F    F    F    F    F    M   \n",
      "[32999] M    M    F    M    F    M    M    M    F    F    F    M    F    M   \n",
      "[33013] M    M    M    M    <NA> <NA> <NA> <NA> <NA> <NA> <NA> <NA> <NA> <NA>\n",
      "[33027] M    M    F    M    F    F    M    M    F    M    F    F    <NA> <NA>\n",
      "[33041] <NA> <NA> F    F    M    <NA> F    M    F    M    F    M    F    F   \n",
      "[33055] F    F    F    M    F    M    F    M    F    M    F    M    M    M   \n",
      "[33069] M    M    M    M    M    F    M    M    M    M    M    F    F    M   \n",
      "[33083] M    M    F    M    F    F    F    F    M    F    M    F    F    M   \n",
      "[33097] M    M    F    M    M    F    M    M    M    F    M    F    F    M   \n",
      "[33111] M    M    F    F    F    M    F    F    M    F    F    M    F    M   \n",
      "[33125] M    M    F    F    M    M    M    F    M    M    F    M    M    F   \n",
      "[33139] <NA> F    M    F    <NA> M    F    M    M    <NA> F    M    F    M   \n",
      "[33153] M    M    M    M    M    M    M    F    F    M    F    F    F    <NA>\n",
      "[33167] F    F    F    M    F    F    M    F    M    M    M    M    F    M   \n",
      "[33181] M    M    M    M    M    F    M    F    F    F    M    M    M    M   \n",
      "[33195] M    F    M    M    F    F    M    M    F    F    M    M    M    M   \n",
      "[33209] F    F    F    M    F    F    F    F    M    M    F    M    M    M   \n",
      "[33223] F    M    M    M    M    F    M    F    M    <NA> <NA> M    M    F   \n",
      "[33237] F    F    M    M    M    M    M    F    F    M    M    M    F    M   \n",
      "[33251] F    F    M    M    M    F    F    M    F    F    M    F    M    F   \n",
      "[33265] F    F    M    M    M    M    F    M    M    M    F    F    M    M   \n",
      "[33279] F    M    F    M    F    M    F    M    F    M    M    F    F    M   \n",
      "[33293] F    M    M    M    F    M    <NA> <NA> <NA> <NA> <NA> <NA> F    M   \n",
      "[33307] F    F    M    M    F    F    M    <NA> F    M    M    M    F    F   \n",
      "[33321] <NA> <NA> <NA> <NA> M    <NA> M    <NA> <NA> M    M    F    M    M   \n",
      "[33335] M    F    F    M    F    M    F    M    M    M    F    M    M    F   \n",
      "[33349] M    F    M    M    M    F    M    F    M    F    F    M    F    F   \n",
      "[33363] M    F    F    F    F    M    F    <NA> M    M    M    M    M    M   \n",
      "[33377] F    M    M    M    F    M    M    F    M    M    M    M    F    M   \n",
      "[33391] F    M    M    F    M    M    F    M    M    F    M    M    F    F   \n",
      "[33405] M    F    M    F    F    F    M    F    M    F    F    M    F    F   \n",
      "[33419] F    M    M    F    M    M    F    M    M    F    M    M    <NA> F   \n",
      "[33433] M    M    F    M    M    F    M    M    M    M    F    M    F    F   \n",
      "[33447] F    F    <NA> F    F    M    F    F    F    F    F    F    F    F   \n",
      "[33461] F    F    M    M    M    M    M    F    F    M    F    M    M    M   \n",
      "[33475] F    M    M    F    F    M    M    <NA> <NA> <NA> F    M    M    M   \n",
      "[33489] M    F    F    M    F    M    F    M    F    M    M    M    F    M   \n",
      "[33503] F    <NA> M    M    M    M    F    F    F    F    M    F    M    F   \n",
      "[33517] M    M    F    M    F    F    F    F    M    F    F    M    F    M   \n",
      "[33531] F    F    F    M    F    M    <NA> F    F    F    F    M    <NA> <NA>\n",
      "[33545] M    <NA> <NA> <NA> <NA> <NA> <NA> <NA> <NA> <NA> <NA> <NA> <NA> <NA>\n",
      "[33559] <NA> <NA> <NA> <NA> <NA> <NA> <NA> <NA> <NA> F    <NA> M    M    M   \n",
      "[33573] <NA> F    M    M    F    M    F    M    M    M    M    F    M    F   \n",
      "[33587] F    M    M    M    M    F    F    M    M    F    F    M    M    F   \n",
      "[33601] F    M    M    F    M    M    F    M    F    M    F    M    M    F   \n",
      "[33615] M    M    F    M    F    F    M    M    M    M    F    F    <NA> F   \n",
      "[33629] M    <NA> M    M    M    M    M    F    M    M    F    F    M    F   \n",
      "[33643] M    F    F    M    F    F    M    M    <NA> M    F    M    M    M   \n",
      "[33657] M    F    F    F    M    F    M    F    M    F    M    M    F    F   \n",
      "[33671] M    M    M    M    M    F    M    M    M    F    M    F    M    M   \n",
      "[33685] M    M    F    M    F    F    F    M    M    <NA> F    F    F    M   \n",
      "[33699] M    M    M    F    M    F    M    F    M    F    F    F    M    F   \n",
      "[33713] F    M    M    F    M    M    M    F    M    M    F    M    F    F   \n",
      "[33727] F    F    F    F    M    F    F    M    M    F    F    <NA> M    F   \n",
      "[33741] M    F    M    F    <NA> M    F    F    F    M    F    M    F    M   \n",
      "[33755] M    M    F    F    M    F    M    M    F    M    F    M    M    M   \n",
      "[33769] F    F    M    F    F    M    <NA> M    F    M    M    F    F    F   \n",
      "[33783] F    <NA> M    F    M    M    M    M    M    M    F    M    F    M   \n",
      "[33797] F    M    F    F    M    F    M    M    M    M    M    M    F    M   \n",
      "[33811] M    M    F    M    F    M    F    M    M    F    M    M    M    M   \n",
      "[33825] F    F    M    F    M    M    M    F    F    F    F    F    M    F   \n",
      "[33839] M    F    F    M    F    M    M    <NA> M    F    M    F    F    M   \n",
      "[33853] F    F    M    M    F    M    M    <NA> <NA> F    M    F    F    M   \n",
      "[33867] F    F    F    M    M    M    M    M    F    F    F    M    M    F   \n",
      "[33881] F    F    M    M    M    M    M    M    M    F    F    M    M    M   \n",
      "[33895] F    F    M    M    M    M    M    M    M    M    M    F    M    M   \n",
      "[33909] F    M    F    M    M    F    F    <NA> <NA> <NA> <NA> <NA> <NA> <NA>\n",
      "[33923] <NA> M    F    M    M    M    F    M    <NA> F    M    F    F    F   \n",
      "[33937] F    F    M    F    M    M    M    F    M    M    M    F    F    M   \n",
      "[33951] F    M    M    M    F    F    F    F    F    M    M    F    M    M   \n",
      "[33965] F    M    M    F    M    F    M    F    F    M    M    M    F    F   \n",
      "[33979] M    <NA> <NA> <NA> <NA> <NA> <NA> <NA> <NA> <NA> <NA> <NA> <NA> <NA>\n",
      "[33993] <NA> <NA> <NA> <NA> <NA> <NA> <NA> <NA> <NA> <NA> <NA> <NA> <NA> <NA>\n",
      "[34007] <NA> <NA> <NA> <NA> <NA> <NA> <NA> <NA> <NA> <NA> <NA> <NA> <NA> <NA>\n",
      "[34021] <NA> <NA> <NA> <NA> <NA> <NA> <NA> <NA> <NA> <NA> <NA> <NA> <NA> <NA>\n",
      "[34035] <NA> <NA> F    F    M    <NA> <NA> <NA> <NA> <NA> <NA> <NA> F    M   \n",
      "[34049] F    M    M    F    F    M    M    M    F    M    F    F    F    M   \n",
      "[34063] M    M    <NA> F    M    M    F    M    M    M    M    F    F    M   \n",
      "[34077] M    F    F    M    F    M    M    F    <NA> F    M    F    F    F   \n",
      "[34091] F    M    F    M    F    M    M    F    F    M    M    F    M    M   \n",
      "[34105] F    M    M    M    F    M    F    F    M    F    M    F    F    F   \n",
      "[34119] F    F    F    F    F    M    F    M    F    M    F    M    M    M   \n",
      "[34133] F    M    F    M    F    M    M    F    M    M    F    F    M    F   \n",
      "[34147] F    M    F    F    F    F    M    M    M    M    F    F    F    F   \n",
      "[34161] F    F    M    M    M    F    M    F    M    M    F    F    M    F   \n",
      "[34175] M    F    M    M    F    M    M    F    <NA> M    F    M    M    M   \n",
      "[34189] M    M    M    F    M    M    F    M    F    M    M    F    F    M   \n",
      "[34203] F    M    F    F    M    M    F    M    F    F    M    F    M    F   \n",
      "[34217] <NA> M    F    M    F    M    F    F    M    M    F    M    F    M   \n",
      "[34231] <NA> F    <NA> M    M    F    F    M    F    F    F    F    F    F   \n",
      "[34245] F    M    F    F    F    F    F    F    M    F    F    F    M    F   \n",
      "[34259] F    F    M    F    F    M    F    M    F    F    <NA> F    M    M   \n",
      "[34273] F    F    F    M    M    F    F    F    M    F    M    F    M    F   \n",
      "[34287] F    F    F    M    F    M    F    F    F    F    M    F    F    F   \n",
      "[34301] F    F    M    <NA> M    M    M    M    M    F    M    F    F    F   \n",
      "[34315] F    F    F    M    F    M    F    M    M    M    F    <NA> F    M   \n",
      "[34329] F    M    M    M    F    M    M    F    F    F    M    F    F    F   \n",
      "[34343] M    F    M    M    M    M    M    F    M    M    M    M    F    M   \n",
      "[34357] F    M    M    <NA> F    M    M    M    F    F    F    M    <NA> M   \n",
      "[34371] <NA> M    F    <NA> M    M    F    F    M    M    M    F    M    F   \n",
      "[34385] F    F    M    M    F    F    F    M    <NA> F    F    F    M    F   \n",
      "[34399] <NA> F    F    F    F    F    <NA> F    F    F    F    M    F    M   \n",
      "[34413] F    M    F    M    M    M    F    M    M    M    F    M    F    F   \n",
      "[34427] F    F    F    M    M    F    M    F    M    F    M    F    F    F   \n",
      "[34441] F    M    M    M    F    M    F    F    M    M    M    M    M    M   \n",
      "[34455] M    F    <NA> M    M    F    M    M    M    F    F    M    M    F   \n",
      "[34469] F    <NA> M    F    F    M    F    M    F    F    M    F    M    F   \n",
      "[34483] M    F    F    F    F    M    F    F    F    M    F    M    F    M   \n",
      "[34497] F    F    M    F    F    F    F    M    M    F    F    F    M    M   \n",
      "[34511] F    F    M    M    F    F    F    M    M    F    F    M    F    F   \n",
      "[34525] M    F    M    M    F    M    F    F    F    F    M    F    F    M   \n",
      "[34539] M    F    F    M    M    F    F    F    F    F    M    M    M    <NA>\n",
      "[34553] F    M    F    F    <NA> F    F    M    F    F    F    M    F    F   \n",
      "[34567] F    M    F    F    M    <NA> F    F    M    F    F    F    M    M   \n",
      "[34581] F    F    M    M    M    M    <NA> M    F    M    M    M    F    M   \n",
      "[34595] M    F    F    M    M    F    M    F    M    F    F    M    M    F   \n",
      "[34609] M    M    M    F    M    M    M    F    M    M    F    M    F    M   \n",
      "[34623] M    F    M    M    M    F    M    F    <NA> <NA> <NA> <NA> <NA> M   \n",
      "[34637] M    M    M    F    M    <NA> F    F    M    M    F    M    F    M   \n",
      "[34651] M    M    M    F    F    M    F    M    M    F    F    F    M    F   \n",
      "[34665] F    F    F    F    F    M    F    F    F    F    F    M    F    F   \n",
      "[34679] M    M    F    M    M    M    M    M    M    M    M    F    M    F   \n",
      "[34693] F    F    F    F    M    M    <NA> <NA> <NA> <NA> <NA> <NA> <NA> <NA>\n",
      "[34707] <NA> <NA> <NA> <NA> <NA> <NA> <NA> <NA> <NA> <NA> <NA> <NA> <NA> <NA>\n",
      "[34721] <NA> <NA> <NA> <NA> <NA> <NA> <NA> <NA> <NA> <NA> <NA> <NA> <NA> <NA>\n",
      "[34735] <NA> <NA> <NA> <NA> <NA> <NA> <NA> <NA> <NA> <NA> <NA> <NA> <NA> <NA>\n",
      "[34749] <NA> <NA> <NA> <NA> M    F    <NA> <NA> <NA> M    F    F    M    M   \n",
      "[34763] M    M    M    M    M    F    F    M    M    M    M    F    M    M   \n",
      "[34777] M    M    M    F    F    M    F    F    <NA> <NA>\n",
      "Levels: F M\n"
     ]
    }
   ],
   "source": [
    "print(surveys$sex)"
   ]
  },
  {
   "cell_type": "code",
   "execution_count": 421,
   "metadata": {},
   "outputs": [
    {
     "data": {
      "text/html": [
       "<style>\n",
       ".dl-inline {width: auto; margin:0; padding: 0}\n",
       ".dl-inline>dt, .dl-inline>dd {float: none; width: auto; display: inline-block}\n",
       ".dl-inline>dt::after {content: \":\\0020\"; padding-right: .5ex}\n",
       ".dl-inline>dt:not(:first-of-type) {padding-left: .5ex}\n",
       "</style><dl class=dl-inline><dt>F</dt><dd>15690</dd><dt>M</dt><dd>17348</dd><dt>NA's</dt><dd>1748</dd></dl>\n"
      ],
      "text/latex": [
       "\\begin{description*}\n",
       "\\item[F] 15690\n",
       "\\item[M] 17348\n",
       "\\item[NA's] 1748\n",
       "\\end{description*}\n"
      ],
      "text/markdown": [
       "F\n",
       ":   15690M\n",
       ":   17348NA's\n",
       ":   1748\n",
       "\n"
      ],
      "text/plain": [
       "    F     M  NA's \n",
       "15690 17348  1748 "
      ]
     },
     "metadata": {},
     "output_type": "display_data"
    }
   ],
   "source": [
    "summary(surveys$sex)"
   ]
  },
  {
   "cell_type": "code",
   "execution_count": 246,
   "metadata": {},
   "outputs": [
    {
     "data": {
      "text/plain": [
       "   Length     Class      Mode \n",
       "    34786 character character "
      ]
     },
     "metadata": {},
     "output_type": "display_data"
    }
   ],
   "source": [
    "# using summary on columns which are not factors results in different output.\n",
    "summary(surveys$genus)"
   ]
  },
  {
   "cell_type": "code",
   "execution_count": 248,
   "metadata": {},
   "outputs": [],
   "source": [
    "# creating a factor out of genus column in the surveys tibble\n",
    "surveys$genus <- factor(surveys$genus)"
   ]
  },
  {
   "cell_type": "code",
   "execution_count": 251,
   "metadata": {},
   "outputs": [
    {
     "name": "stdout",
     "output_type": "stream",
     "text": [
      "      Ammodramus Ammospermophilus       Amphispiza          Baiomys \n",
      "               2              437              303               46 \n",
      "     Calamospiza       Callipepla  Campylorhynchus      Chaetodipus \n",
      "              13               16               50             6029 \n",
      "   Cnemidophorus         Crotalus        Dipodomys           Lizard \n",
      "               2                2            16167                4 \n",
      "         Neotoma        Onychomys      Perognathus       Peromyscus \n",
      "            1252             3267             1629             2234 \n",
      "          Pipilo        Pooecetes  Reithrodontomys           Rodent \n",
      "              52                8             2694               10 \n",
      "      Sceloporus         Sigmodon          Sparrow     Spermophilus \n",
      "               6              233                4              249 \n",
      "      Sylvilagus      Zonotrichia \n",
      "              75                2 \n"
     ]
    }
   ],
   "source": [
    "# expected summary output\n",
    "print(summary(surveys$genus))"
   ]
  },
  {
   "cell_type": "code",
   "execution_count": 422,
   "metadata": {},
   "outputs": [],
   "source": [
    "# To include NAs in a factor we use the function addNA()\n",
    "surveys$sex <- addNA(surveys$sex)"
   ]
  },
  {
   "cell_type": "code",
   "execution_count": 423,
   "metadata": {},
   "outputs": [
    {
     "data": {
      "text/html": [
       "<style>\n",
       ".list-inline {list-style: none; margin:0; padding: 0}\n",
       ".list-inline>li {display: inline-block}\n",
       ".list-inline>li:not(:last-child)::after {content: \"\\00b7\"; padding: 0 .5ex}\n",
       "</style>\n",
       "<ol class=list-inline><li>'F'</li><li>'M'</li><li>NA</li></ol>\n"
      ],
      "text/latex": [
       "\\begin{enumerate*}\n",
       "\\item 'F'\n",
       "\\item 'M'\n",
       "\\item NA\n",
       "\\end{enumerate*}\n"
      ],
      "text/markdown": [
       "1. 'F'\n",
       "2. 'M'\n",
       "3. NA\n",
       "\n",
       "\n"
      ],
      "text/plain": [
       "[1] \"F\" \"M\" NA "
      ]
     },
     "metadata": {},
     "output_type": "display_data"
    }
   ],
   "source": [
    "# returns names of factor in order.\n",
    "# by default the order is alpahbetical\n",
    "levels(surveys$sex)"
   ]
  },
  {
   "cell_type": "code",
   "execution_count": 424,
   "metadata": {},
   "outputs": [
    {
     "data": {
      "text/html": [
       "3"
      ],
      "text/latex": [
       "3"
      ],
      "text/markdown": [
       "3"
      ],
      "text/plain": [
       "[1] 3"
      ]
     },
     "metadata": {},
     "output_type": "display_data"
    }
   ],
   "source": [
    "# returns number of levels in a factor\n",
    "# We have to remember that in R counting starts from 1.\n",
    "nlevels(surveys$sex)\n"
   ]
  },
  {
   "cell_type": "code",
   "execution_count": 285,
   "metadata": {},
   "outputs": [],
   "source": [
    "# changing order in a factor\n",
    "# names of levels must be the same as names of categorical data.\n",
    "surveys$sex <- factor(surveys$sex, levels = c(\"M\", \"F\"))"
   ]
  },
  {
   "cell_type": "code",
   "execution_count": 425,
   "metadata": {},
   "outputs": [
    {
     "data": {
      "text/html": [
       "<style>\n",
       ".dl-inline {width: auto; margin:0; padding: 0}\n",
       ".dl-inline>dt, .dl-inline>dd {float: none; width: auto; display: inline-block}\n",
       ".dl-inline>dt::after {content: \":\\0020\"; padding-right: .5ex}\n",
       ".dl-inline>dt:not(:first-of-type) {padding-left: .5ex}\n",
       "</style><dl class=dl-inline><dt>F</dt><dd>15690</dd><dt>M</dt><dd>17348</dd><dt>3</dt><dd>1748</dd></dl>\n"
      ],
      "text/latex": [
       "\\begin{description*}\n",
       "\\item[F] 15690\n",
       "\\item[M] 17348\n",
       "\\item[3] 1748\n",
       "\\end{description*}\n"
      ],
      "text/markdown": [
       "F\n",
       ":   15690M\n",
       ":   173483\n",
       ":   1748\n",
       "\n"
      ],
      "text/plain": [
       "    F     M  <NA> \n",
       "15690 17348  1748 "
      ]
     },
     "metadata": {},
     "output_type": "display_data"
    }
   ],
   "source": [
    "# just to be sure\n",
    "summary(surveys$sex)"
   ]
  },
  {
   "cell_type": "markdown",
   "metadata": {},
   "source": [
    "- In R's memory, these factors are represented by integers (1,2,3), but are more informative than integers because factors are self describing: `F`, `M` is more descriptive than `1`, `2`."
   ]
  },
  {
   "cell_type": "markdown",
   "metadata": {},
   "source": [
    "### Factor Challenge\n",
    "1. Change the columns `taxa` and `genus` in the `surveys` data frame into a factor."
   ]
  },
  {
   "cell_type": "code",
   "execution_count": 287,
   "metadata": {},
   "outputs": [],
   "source": [
    "surveys$taxa <- factor(surveys$taxa)\n",
    "surveys$genus <- factor(surveys$genus)"
   ]
  },
  {
   "cell_type": "code",
   "execution_count": 295,
   "metadata": {},
   "outputs": [
    {
     "data": {
      "text/html": [
       "'Is surveys$taxa factor: 1 (1 is true, 0 is false)'"
      ],
      "text/latex": [
       "'Is surveys\\$taxa factor: 1 (1 is true, 0 is false)'"
      ],
      "text/markdown": [
       "'Is surveys$taxa factor: 1 (1 is true, 0 is false)'"
      ],
      "text/plain": [
       "[1] \"Is surveys$taxa factor: 1 (1 is true, 0 is false)\""
      ]
     },
     "metadata": {},
     "output_type": "display_data"
    }
   ],
   "source": [
    "sprintf(\"Is surveys$taxa factor: %d (1 is true, 0 is false)\", is.factor(surveys$taxa))"
   ]
  },
  {
   "cell_type": "code",
   "execution_count": 294,
   "metadata": {},
   "outputs": [
    {
     "data": {
      "text/html": [
       "'Is surveys$genus factor: 1 (1 is true, 0 is false)'"
      ],
      "text/latex": [
       "'Is surveys\\$genus factor: 1 (1 is true, 0 is false)'"
      ],
      "text/markdown": [
       "'Is surveys$genus factor: 1 (1 is true, 0 is false)'"
      ],
      "text/plain": [
       "[1] \"Is surveys$genus factor: 1 (1 is true, 0 is false)\""
      ]
     },
     "metadata": {},
     "output_type": "display_data"
    }
   ],
   "source": [
    "sprintf(\"Is surveys$genus factor: %d (1 is true, 0 is false)\", is.factor(surveys$genus))"
   ]
  },
  {
   "cell_type": "markdown",
   "metadata": {},
   "source": [
    "2. Using the functions you learned before, can you find out:\n",
    "    - How many rabbits were observed?\n",
    "    - How many different genera are in the `genus` column?"
   ]
  },
  {
   "cell_type": "code",
   "execution_count": 308,
   "metadata": {},
   "outputs": [
    {
     "data": {
      "text/html": [
       "<strong>Rabbit:</strong> 75"
      ],
      "text/latex": [
       "\\textbf{Rabbit:} 75"
      ],
      "text/markdown": [
       "**Rabbit:** 75"
      ],
      "text/plain": [
       "Rabbit \n",
       "    75 "
      ]
     },
     "metadata": {},
     "output_type": "display_data"
    }
   ],
   "source": [
    "# Number of rabbit observation:\n",
    "summary(surveys$taxa)[\"Rabbit\"]"
   ]
  },
  {
   "cell_type": "code",
   "execution_count": 316,
   "metadata": {},
   "outputs": [
    {
     "data": {
      "text/html": [
       "26"
      ],
      "text/latex": [
       "26"
      ],
      "text/markdown": [
       "26"
      ],
      "text/plain": [
       "[1] 26"
      ]
     },
     "metadata": {},
     "output_type": "display_data"
    }
   ],
   "source": [
    "# Number of genera observation:\n",
    "nlevels(surveys$genus)"
   ]
  },
  {
   "cell_type": "markdown",
   "metadata": {},
   "source": [
    "#### Additional exercises for factors in data frames"
   ]
  },
  {
   "cell_type": "code",
   "execution_count": 318,
   "metadata": {},
   "outputs": [],
   "source": [
    "# Creating vectors for data frame.\n",
    "height <- c(132,151,162,139,166,147,122)\n",
    "weight <- c(48,49,66,53,67,52,40)\n",
    "gender <- c(\"male\",\"male\",\"female\",\"female\",\"male\",\"female\",\"male\")"
   ]
  },
  {
   "cell_type": "code",
   "execution_count": 319,
   "metadata": {},
   "outputs": [],
   "source": [
    "input_data <- data.frame(height, weight, gender)"
   ]
  },
  {
   "cell_type": "code",
   "execution_count": 320,
   "metadata": {},
   "outputs": [
    {
     "name": "stdout",
     "output_type": "stream",
     "text": [
      "  height weight gender\n",
      "1    132     48   male\n",
      "2    151     49   male\n",
      "3    162     66 female\n",
      "4    139     53 female\n",
      "5    166     67   male\n",
      "6    147     52 female\n",
      "7    122     40   male\n"
     ]
    }
   ],
   "source": [
    "print(input_data)"
   ]
  },
  {
   "cell_type": "code",
   "execution_count": 322,
   "metadata": {},
   "outputs": [
    {
     "data": {
      "text/html": [
       "FALSE"
      ],
      "text/latex": [
       "FALSE"
      ],
      "text/markdown": [
       "FALSE"
      ],
      "text/plain": [
       "[1] FALSE"
      ]
     },
     "metadata": {},
     "output_type": "display_data"
    }
   ],
   "source": [
    "# testing if a random column is a factor\n",
    "is.factor(input_data$gender)"
   ]
  },
  {
   "cell_type": "code",
   "execution_count": 324,
   "metadata": {},
   "outputs": [],
   "source": [
    "# converting input_data$gender into a factor:\n",
    "input_data$gender <- factor(input_data$gender)"
   ]
  },
  {
   "cell_type": "code",
   "execution_count": 325,
   "metadata": {},
   "outputs": [
    {
     "data": {
      "text/html": [
       "TRUE"
      ],
      "text/latex": [
       "TRUE"
      ],
      "text/markdown": [
       "TRUE"
      ],
      "text/plain": [
       "[1] TRUE"
      ]
     },
     "metadata": {},
     "output_type": "display_data"
    }
   ],
   "source": [
    "# testing if gender column is a factor:\n",
    "is.factor(input_data$gender)"
   ]
  },
  {
   "cell_type": "code",
   "execution_count": 327,
   "metadata": {},
   "outputs": [
    {
     "data": {
      "text/html": [
       "<style>\n",
       ".list-inline {list-style: none; margin:0; padding: 0}\n",
       ".list-inline>li {display: inline-block}\n",
       ".list-inline>li:not(:last-child)::after {content: \"\\00b7\"; padding: 0 .5ex}\n",
       "</style>\n",
       "<ol class=list-inline><li>'female'</li><li>'male'</li></ol>\n"
      ],
      "text/latex": [
       "\\begin{enumerate*}\n",
       "\\item 'female'\n",
       "\\item 'male'\n",
       "\\end{enumerate*}\n"
      ],
      "text/markdown": [
       "1. 'female'\n",
       "2. 'male'\n",
       "\n",
       "\n"
      ],
      "text/plain": [
       "[1] \"female\" \"male\"  "
      ]
     },
     "metadata": {},
     "output_type": "display_data"
    }
   ],
   "source": [
    "# printing levels of factor input_data$gender\n",
    "levels(input_data$gender)"
   ]
  },
  {
   "cell_type": "code",
   "execution_count": 330,
   "metadata": {},
   "outputs": [
    {
     "name": "stdout",
     "output_type": "stream",
     "text": [
      "[1] male   male   female female male   female male  \n",
      "Levels: female male\n"
     ]
    }
   ],
   "source": [
    "# generic print\n",
    "print(input_data$gender)"
   ]
  },
  {
   "cell_type": "code",
   "execution_count": 333,
   "metadata": {},
   "outputs": [
    {
     "name": "stdout",
     "output_type": "stream",
     "text": [
      "[1] \"male\"   \"female\"\n"
     ]
    }
   ],
   "source": [
    "# changing the order of levels\n",
    "\n",
    "# - The order of the level in a factor can be changed by \n",
    "# applying the factor function again with new order of the levels\n",
    "\n",
    "input_data$gender <- factor(input_data$gender, levels = c(\"male\", \"female\"))\n",
    "print(levels(input_data$gender))"
   ]
  },
  {
   "cell_type": "markdown",
   "metadata": {},
   "source": [
    "- Generating Factor Levels\n",
    "    - We can generate factor levels by using the `gl()` function. It takes two integers as input which indicates how many levels and how many times each level.\n",
    "    - Syntax:\n",
    "        - `gl(n, k, labels)`\n",
    "            - `n` is an integer representing the number of levels.\n",
    "            - `k` is an integer representing the number of replications.\n",
    "            - `labels` is a vector of labels for the resulting factor levels."
   ]
  },
  {
   "cell_type": "code",
   "execution_count": 336,
   "metadata": {},
   "outputs": [
    {
     "name": "stdout",
     "output_type": "stream",
     "text": [
      "[1] One   One   Two   Two   Three Three\n",
      "Levels: One Two Three\n"
     ]
    }
   ],
   "source": [
    "# Example:\n",
    "# gl creates 3 levels with the labels \"One\", \"Two\" and \"Three\" and repeats all of the labels 2 times.\n",
    "generated_factor <- gl(3, 2, labels = c(\"One\", \"Two\", \"Three\"))\n",
    "print(generated_factor)"
   ]
  },
  {
   "cell_type": "markdown",
   "metadata": {},
   "source": [
    "### Converting factors (to characters and to numerics)\n",
    "- If you need to convert a factor to a character vector, you use `as.character(x)`.\n",
    "- In some cases, you may have to convert factors where the levels appear as numbers (such as concentration levels or years) to a numeric vector.\n",
    "    - The conversion from factor to numeric is a little trickier.\n",
    "        - The `as.numeric()` function returns the index values of the factor, not its level, so it will result in an entirely new (and unwanted in this case) set of numbers. \n",
    "            - One method to avoid this is to convert factors to characters, and then to numbers.\n",
    "        - If we try to convert a character into a numeric value we will get NA, and an error.\n",
    "    - The conversion from factor to a character is a lot easier"
   ]
  },
  {
   "cell_type": "code",
   "execution_count": 351,
   "metadata": {},
   "outputs": [
    {
     "name": "stdout",
     "output_type": "stream",
     "text": [
      "[1] 1990 1983 1977 1998 1990\n",
      "Levels: 1977 1983 1990 1998\n"
     ]
    }
   ],
   "source": [
    "# Example of conversion from factor to numeric:\n",
    "year_fct <- factor(c(1990, 1983, 1977, 1998, 1990))\n",
    "print(year_fct)"
   ]
  },
  {
   "cell_type": "code",
   "execution_count": 348,
   "metadata": {},
   "outputs": [
    {
     "name": "stdout",
     "output_type": "stream",
     "text": [
      "[1] \"1977\" \"1983\" \"1990\" \"1998\"\n"
     ]
    }
   ],
   "source": [
    "# Returns character values representing each of the levels in a factor.\n",
    "print(levels(year_fct))"
   ]
  },
  {
   "cell_type": "code",
   "execution_count": 343,
   "metadata": {},
   "outputs": [
    {
     "data": {
      "text/html": [
       "<style>\n",
       ".list-inline {list-style: none; margin:0; padding: 0}\n",
       ".list-inline>li {display: inline-block}\n",
       ".list-inline>li:not(:last-child)::after {content: \"\\00b7\"; padding: 0 .5ex}\n",
       "</style>\n",
       "<ol class=list-inline><li>3</li><li>2</li><li>1</li><li>4</li><li>3</li></ol>\n"
      ],
      "text/latex": [
       "\\begin{enumerate*}\n",
       "\\item 3\n",
       "\\item 2\n",
       "\\item 1\n",
       "\\item 4\n",
       "\\item 3\n",
       "\\end{enumerate*}\n"
      ],
      "text/markdown": [
       "1. 3\n",
       "2. 2\n",
       "3. 1\n",
       "4. 4\n",
       "5. 3\n",
       "\n",
       "\n"
      ],
      "text/plain": [
       "[1] 3 2 1 4 3"
      ]
     },
     "metadata": {},
     "output_type": "display_data"
    }
   ],
   "source": [
    "# Returns levels for each element of year_fct factor\n",
    "as.numeric(year_fct)"
   ]
  },
  {
   "cell_type": "code",
   "execution_count": 357,
   "metadata": {},
   "outputs": [
    {
     "data": {
      "text/html": [
       "<style>\n",
       ".list-inline {list-style: none; margin:0; padding: 0}\n",
       ".list-inline>li {display: inline-block}\n",
       ".list-inline>li:not(:last-child)::after {content: \"\\00b7\"; padding: 0 .5ex}\n",
       "</style>\n",
       "<ol class=list-inline><li>1990</li><li>1983</li><li>1977</li><li>1998</li><li>1990</li></ol>\n"
      ],
      "text/latex": [
       "\\begin{enumerate*}\n",
       "\\item 1990\n",
       "\\item 1983\n",
       "\\item 1977\n",
       "\\item 1998\n",
       "\\item 1990\n",
       "\\end{enumerate*}\n"
      ],
      "text/markdown": [
       "1. 1990\n",
       "2. 1983\n",
       "3. 1977\n",
       "4. 1998\n",
       "5. 1990\n",
       "\n",
       "\n"
      ],
      "text/plain": [
       "[1] 1990 1983 1977 1998 1990"
      ]
     },
     "metadata": {},
     "output_type": "display_data"
    }
   ],
   "source": [
    "# Returns numerical values representing each of the elements in a factor.\n",
    "as.numeric(levels(year_fct))[year_fct]"
   ]
  },
  {
   "cell_type": "code",
   "execution_count": 353,
   "metadata": {},
   "outputs": [
    {
     "name": "stdout",
     "output_type": "stream",
     "text": [
      "[1] yee    yee    yeezys gap   \n",
      "Levels: gap yee yeezys\n"
     ]
    }
   ],
   "source": [
    "# Example of conversion from factor to character:\n",
    "kanye_west <- factor(c(\"yee\", \"yee\", \"yeezys\", \"gap\"))\n",
    "print(kanye_west)"
   ]
  },
  {
   "cell_type": "code",
   "execution_count": 362,
   "metadata": {},
   "outputs": [
    {
     "data": {
      "text/html": [
       "<style>\n",
       ".list-inline {list-style: none; margin:0; padding: 0}\n",
       ".list-inline>li {display: inline-block}\n",
       ".list-inline>li:not(:last-child)::after {content: \"\\00b7\"; padding: 0 .5ex}\n",
       "</style>\n",
       "<ol class=list-inline><li>'yee'</li><li>'yee'</li><li>'yeezys'</li><li>'gap'</li></ol>\n"
      ],
      "text/latex": [
       "\\begin{enumerate*}\n",
       "\\item 'yee'\n",
       "\\item 'yee'\n",
       "\\item 'yeezys'\n",
       "\\item 'gap'\n",
       "\\end{enumerate*}\n"
      ],
      "text/markdown": [
       "1. 'yee'\n",
       "2. 'yee'\n",
       "3. 'yeezys'\n",
       "4. 'gap'\n",
       "\n",
       "\n"
      ],
      "text/plain": [
       "[1] \"yee\"    \"yee\"    \"yeezys\" \"gap\"   "
      ]
     },
     "metadata": {},
     "output_type": "display_data"
    }
   ],
   "source": [
    "as.character(kanye_west)"
   ]
  },
  {
   "cell_type": "markdown",
   "metadata": {},
   "source": [
    "### Renaming factors\n",
    "- When data is stored as a factor, you can use the `plot()` function to get a quick glance at the number of observations represented by each factor level."
   ]
  },
  {
   "cell_type": "code",
   "execution_count": 408,
   "metadata": {},
   "outputs": [
    {
     "data": {
      "image/png": "[encoded data removed]",
      "text/plain": [
       "plot without title"
      ]
     },
     "metadata": {
      "image/png": {
       "height": 420,
       "width": 420
      }
     },
     "output_type": "display_data"
    }
   ],
   "source": [
    "# Example: plotting the number of females and males captured during the experiment\n",
    "plot(surveys$sex)"
   ]
  },
  {
   "cell_type": "markdown",
   "metadata": {},
   "source": [
    "- Notice how NAs are missing. Lets address that:"
   ]
  },
  {
   "cell_type": "code",
   "execution_count": 428,
   "metadata": {},
   "outputs": [
    {
     "data": {
      "text/html": [
       "<style>\n",
       ".list-inline {list-style: none; margin:0; padding: 0}\n",
       ".list-inline>li {display: inline-block}\n",
       ".list-inline>li:not(:last-child)::after {content: \"\\00b7\"; padding: 0 .5ex}\n",
       "</style>\n",
       "<ol class=list-inline><li>'F'</li><li>'M'</li><li>'undetermined'</li></ol>\n"
      ],
      "text/latex": [
       "\\begin{enumerate*}\n",
       "\\item 'F'\n",
       "\\item 'M'\n",
       "\\item 'undetermined'\n",
       "\\end{enumerate*}\n"
      ],
      "text/markdown": [
       "1. 'F'\n",
       "2. 'M'\n",
       "3. 'undetermined'\n",
       "\n",
       "\n"
      ],
      "text/plain": [
       "[1] \"F\"            \"M\"            \"undetermined\""
      ]
     },
     "metadata": {},
     "output_type": "display_data"
    }
   ],
   "source": [
    "levels(surveys$sex)"
   ]
  },
  {
   "cell_type": "code",
   "execution_count": 427,
   "metadata": {},
   "outputs": [],
   "source": [
    "# Adding NA values\n",
    "surveys$sex <- addNA(surveys$sex)\n",
    "\n",
    "#print(levels(surveys$sex))\n",
    "\n",
    "# Changing the name of the NA level:\n",
    "levels(surveys$sex)[3] <- \"undetermined\""
   ]
  },
  {
   "cell_type": "code",
   "execution_count": 429,
   "metadata": {},
   "outputs": [
    {
     "data": {
      "image/png": "[encoded data removed]",
      "text/plain": [
       "plot without title"
      ]
     },
     "metadata": {
      "image/png": {
       "height": 420,
       "width": 420
      }
     },
     "output_type": "display_data"
    }
   ],
   "source": [
    "plot(surveys$sex)"
   ]
  },
  {
   "cell_type": "code",
   "execution_count": 434,
   "metadata": {},
   "outputs": [
    {
     "name": "stdout",
     "output_type": "stream",
     "text": [
      "[1] \"female\"       \"male\"         \"undetermined\"\n"
     ]
    }
   ],
   "source": [
    "print(levels(surveys$sex))"
   ]
  },
  {
   "cell_type": "markdown",
   "metadata": {},
   "source": [
    "### Factors Challenge #2:\n",
    "- Rename \"F\", and \"M\" to \"female\" and \"male\" respectively.\n"
   ]
  },
  {
   "cell_type": "code",
   "execution_count": 432,
   "metadata": {},
   "outputs": [],
   "source": [
    "levels(surveys$sex)[1] <- \"female\""
   ]
  },
  {
   "cell_type": "code",
   "execution_count": 433,
   "metadata": {},
   "outputs": [],
   "source": [
    "levels(surveys$sex)[2] <- \"male\""
   ]
  },
  {
   "cell_type": "markdown",
   "metadata": {},
   "source": [
    "- Now that we have renamed the factor level to \"undetermined\", can you recreate the barplot such that \"undetermined\" is first (in this order: undetermined, females, males)."
   ]
  },
  {
   "cell_type": "code",
   "execution_count": 435,
   "metadata": {},
   "outputs": [
    {
     "data": {
      "image/png": "[encoded data removed]",
      "text/plain": [
       "plot without title"
      ]
     },
     "metadata": {
      "image/png": {
       "height": 420,
       "width": 420
      }
     },
     "output_type": "display_data"
    }
   ],
   "source": [
    "# Answer:\n",
    "surveys$sex <- factor(surveys$sex, c(\"undetermined\", \"female\", \"male\"))\n",
    "plot(surveys$sex)"
   ]
  },
  {
   "cell_type": "markdown",
   "metadata": {},
   "source": [
    "## Formatting dates\n",
    "- We are going to use the `ymd()` function from the package `lubridate` (which belongs to the `tidyverse`). `Lubridate` gets isntalled as part of the tidyverse installation.\n",
    "- When you load the `tidyverse`, the core packages (the packages used in most data analyses) get loaded. `Lubridate` however does not belong to the core `tidyverse`, so you have to load it explicitly with `library(lubridate)`."
   ]
  },
  {
   "cell_type": "code",
   "execution_count": null,
   "metadata": {},
   "outputs": [],
   "source": [
    "library(lubridate)"
   ]
  },
  {
   "cell_type": "code",
   "execution_count": 442,
   "metadata": {},
   "outputs": [
    {
     "name": "stdout",
     "output_type": "stream",
     "text": [
      " Date[1:1], format: \"2022-09-17\"\n"
     ]
    }
   ],
   "source": [
    "# creating a date object:\n",
    "my_date <- ymd(\"2022-09-17\")\n",
    "str(my_date) "
   ]
  },
  {
   "cell_type": "code",
   "execution_count": 441,
   "metadata": {},
   "outputs": [
    {
     "name": "stdout",
     "output_type": "stream",
     "text": [
      " Date[1:1], format: \"2022-09-17\"\n"
     ]
    }
   ],
   "source": [
    "# exact same behavior with ymd() + paste()\n",
    "my_date <- ymd(paste(\"2022\", \"09\", \"17\", sep = \"-\"))\n",
    "str(my_date)"
   ]
  },
  {
   "cell_type": "code",
   "execution_count": 453,
   "metadata": {},
   "outputs": [
    {
     "data": {
      "text/html": [
       "<style>\n",
       ".list-inline {list-style: none; margin:0; padding: 0}\n",
       ".list-inline>li {display: inline-block}\n",
       ".list-inline>li:not(:last-child)::after {content: \"\\00b7\"; padding: 0 .5ex}\n",
       "</style>\n",
       "<ol class=list-inline><li>'1997-9-27'</li><li>'1997-10-25'</li><li>'1997-11-22'</li><li>'1998-5-2'</li><li>'1998-11-21'</li><li>'2000-7-1'</li></ol>\n"
      ],
      "text/latex": [
       "\\begin{enumerate*}\n",
       "\\item '1997-9-27'\n",
       "\\item '1997-10-25'\n",
       "\\item '1997-11-22'\n",
       "\\item '1998-5-2'\n",
       "\\item '1998-11-21'\n",
       "\\item '2000-7-1'\n",
       "\\end{enumerate*}\n"
      ],
      "text/markdown": [
       "1. '1997-9-27'\n",
       "2. '1997-10-25'\n",
       "3. '1997-11-22'\n",
       "4. '1998-5-2'\n",
       "5. '1998-11-21'\n",
       "6. '2000-7-1'\n",
       "\n",
       "\n"
      ],
      "text/plain": [
       "[1] \"1997-9-27\"  \"1997-10-25\" \"1997-11-22\" \"1998-5-2\"   \"1998-11-21\"\n",
       "[6] \"2000-7-1\"  "
      ]
     },
     "metadata": {},
     "output_type": "display_data"
    }
   ],
   "source": [
    "# extracting data from tibble\n",
    "# YYYY-MM-DD\n",
    "date_surveys <- paste(surveys$year, surveys$month, surveys$day, sep = \"-\")\n",
    "tail(date_surveys)"
   ]
  },
  {
   "cell_type": "code",
   "execution_count": 455,
   "metadata": {},
   "outputs": [
    {
     "name": "stderr",
     "output_type": "stream",
     "text": [
      "Warning message:\n",
      "\" 129 failed to parse.\"\n"
     ]
    }
   ],
   "source": [
    "# converting date_surveys elements to actual dates:\n",
    "actual_dates_surveys <- ymd(date_surveys)\n",
    "# remember this warning, it is an important one."
   ]
  },
  {
   "cell_type": "code",
   "execution_count": 463,
   "metadata": {},
   "outputs": [
    {
     "data": {
      "text/html": [
       "<table class=\"dataframe\">\n",
       "<caption>A tibble: 129 × 3</caption>\n",
       "<thead>\n",
       "\t<tr><th scope=col>year</th><th scope=col>month</th><th scope=col>day</th></tr>\n",
       "\t<tr><th scope=col>&lt;dbl&gt;</th><th scope=col>&lt;dbl&gt;</th><th scope=col>&lt;dbl&gt;</th></tr>\n",
       "</thead>\n",
       "<tbody>\n",
       "\t<tr><td>2000</td><td>9</td><td>31</td></tr>\n",
       "\t<tr><td>2000</td><td>4</td><td>31</td></tr>\n",
       "\t<tr><td>2000</td><td>4</td><td>31</td></tr>\n",
       "\t<tr><td>2000</td><td>4</td><td>31</td></tr>\n",
       "\t<tr><td>2000</td><td>4</td><td>31</td></tr>\n",
       "\t<tr><td>2000</td><td>9</td><td>31</td></tr>\n",
       "\t<tr><td>2000</td><td>9</td><td>31</td></tr>\n",
       "\t<tr><td>2000</td><td>9</td><td>31</td></tr>\n",
       "\t<tr><td>2000</td><td>9</td><td>31</td></tr>\n",
       "\t<tr><td>2000</td><td>9</td><td>31</td></tr>\n",
       "\t<tr><td>2000</td><td>4</td><td>31</td></tr>\n",
       "\t<tr><td>2000</td><td>4</td><td>31</td></tr>\n",
       "\t<tr><td>2000</td><td>4</td><td>31</td></tr>\n",
       "\t<tr><td>2000</td><td>4</td><td>31</td></tr>\n",
       "\t<tr><td>2000</td><td>9</td><td>31</td></tr>\n",
       "\t<tr><td>2000</td><td>9</td><td>31</td></tr>\n",
       "\t<tr><td>2000</td><td>4</td><td>31</td></tr>\n",
       "\t<tr><td>2000</td><td>9</td><td>31</td></tr>\n",
       "\t<tr><td>2000</td><td>9</td><td>31</td></tr>\n",
       "\t<tr><td>2000</td><td>4</td><td>31</td></tr>\n",
       "\t<tr><td>2000</td><td>4</td><td>31</td></tr>\n",
       "\t<tr><td>2000</td><td>9</td><td>31</td></tr>\n",
       "\t<tr><td>2000</td><td>4</td><td>31</td></tr>\n",
       "\t<tr><td>2000</td><td>4</td><td>31</td></tr>\n",
       "\t<tr><td>2000</td><td>4</td><td>31</td></tr>\n",
       "\t<tr><td>2000</td><td>4</td><td>31</td></tr>\n",
       "\t<tr><td>2000</td><td>9</td><td>31</td></tr>\n",
       "\t<tr><td>2000</td><td>4</td><td>31</td></tr>\n",
       "\t<tr><td>2000</td><td>4</td><td>31</td></tr>\n",
       "\t<tr><td>2000</td><td>9</td><td>31</td></tr>\n",
       "\t<tr><td>⋮</td><td>⋮</td><td>⋮</td></tr>\n",
       "\t<tr><td>2000</td><td>9</td><td>31</td></tr>\n",
       "\t<tr><td>2000</td><td>9</td><td>31</td></tr>\n",
       "\t<tr><td>2000</td><td>9</td><td>31</td></tr>\n",
       "\t<tr><td>2000</td><td>4</td><td>31</td></tr>\n",
       "\t<tr><td>2000</td><td>4</td><td>31</td></tr>\n",
       "\t<tr><td>2000</td><td>4</td><td>31</td></tr>\n",
       "\t<tr><td>2000</td><td>4</td><td>31</td></tr>\n",
       "\t<tr><td>2000</td><td>4</td><td>31</td></tr>\n",
       "\t<tr><td>2000</td><td>9</td><td>31</td></tr>\n",
       "\t<tr><td>2000</td><td>9</td><td>31</td></tr>\n",
       "\t<tr><td>2000</td><td>4</td><td>31</td></tr>\n",
       "\t<tr><td>2000</td><td>4</td><td>31</td></tr>\n",
       "\t<tr><td>2000</td><td>4</td><td>31</td></tr>\n",
       "\t<tr><td>2000</td><td>4</td><td>31</td></tr>\n",
       "\t<tr><td>2000</td><td>9</td><td>31</td></tr>\n",
       "\t<tr><td>2000</td><td>9</td><td>31</td></tr>\n",
       "\t<tr><td>2000</td><td>9</td><td>31</td></tr>\n",
       "\t<tr><td>2000</td><td>4</td><td>31</td></tr>\n",
       "\t<tr><td>2000</td><td>4</td><td>31</td></tr>\n",
       "\t<tr><td>2000</td><td>4</td><td>31</td></tr>\n",
       "\t<tr><td>2000</td><td>9</td><td>31</td></tr>\n",
       "\t<tr><td>2000</td><td>4</td><td>31</td></tr>\n",
       "\t<tr><td>2000</td><td>9</td><td>31</td></tr>\n",
       "\t<tr><td>2000</td><td>4</td><td>31</td></tr>\n",
       "\t<tr><td>2000</td><td>4</td><td>31</td></tr>\n",
       "\t<tr><td>2000</td><td>4</td><td>31</td></tr>\n",
       "\t<tr><td>2000</td><td>9</td><td>31</td></tr>\n",
       "\t<tr><td>2000</td><td>9</td><td>31</td></tr>\n",
       "\t<tr><td>2000</td><td>9</td><td>31</td></tr>\n",
       "\t<tr><td>2000</td><td>9</td><td>31</td></tr>\n",
       "</tbody>\n",
       "</table>\n"
      ],
      "text/latex": [
       "A tibble: 129 × 3\n",
       "\\begin{tabular}{lll}\n",
       " year & month & day\\\\\n",
       " <dbl> & <dbl> & <dbl>\\\\\n",
       "\\hline\n",
       "\t 2000 & 9 & 31\\\\\n",
       "\t 2000 & 4 & 31\\\\\n",
       "\t 2000 & 4 & 31\\\\\n",
       "\t 2000 & 4 & 31\\\\\n",
       "\t 2000 & 4 & 31\\\\\n",
       "\t 2000 & 9 & 31\\\\\n",
       "\t 2000 & 9 & 31\\\\\n",
       "\t 2000 & 9 & 31\\\\\n",
       "\t 2000 & 9 & 31\\\\\n",
       "\t 2000 & 9 & 31\\\\\n",
       "\t 2000 & 4 & 31\\\\\n",
       "\t 2000 & 4 & 31\\\\\n",
       "\t 2000 & 4 & 31\\\\\n",
       "\t 2000 & 4 & 31\\\\\n",
       "\t 2000 & 9 & 31\\\\\n",
       "\t 2000 & 9 & 31\\\\\n",
       "\t 2000 & 4 & 31\\\\\n",
       "\t 2000 & 9 & 31\\\\\n",
       "\t 2000 & 9 & 31\\\\\n",
       "\t 2000 & 4 & 31\\\\\n",
       "\t 2000 & 4 & 31\\\\\n",
       "\t 2000 & 9 & 31\\\\\n",
       "\t 2000 & 4 & 31\\\\\n",
       "\t 2000 & 4 & 31\\\\\n",
       "\t 2000 & 4 & 31\\\\\n",
       "\t 2000 & 4 & 31\\\\\n",
       "\t 2000 & 9 & 31\\\\\n",
       "\t 2000 & 4 & 31\\\\\n",
       "\t 2000 & 4 & 31\\\\\n",
       "\t 2000 & 9 & 31\\\\\n",
       "\t ⋮ & ⋮ & ⋮\\\\\n",
       "\t 2000 & 9 & 31\\\\\n",
       "\t 2000 & 9 & 31\\\\\n",
       "\t 2000 & 9 & 31\\\\\n",
       "\t 2000 & 4 & 31\\\\\n",
       "\t 2000 & 4 & 31\\\\\n",
       "\t 2000 & 4 & 31\\\\\n",
       "\t 2000 & 4 & 31\\\\\n",
       "\t 2000 & 4 & 31\\\\\n",
       "\t 2000 & 9 & 31\\\\\n",
       "\t 2000 & 9 & 31\\\\\n",
       "\t 2000 & 4 & 31\\\\\n",
       "\t 2000 & 4 & 31\\\\\n",
       "\t 2000 & 4 & 31\\\\\n",
       "\t 2000 & 4 & 31\\\\\n",
       "\t 2000 & 9 & 31\\\\\n",
       "\t 2000 & 9 & 31\\\\\n",
       "\t 2000 & 9 & 31\\\\\n",
       "\t 2000 & 4 & 31\\\\\n",
       "\t 2000 & 4 & 31\\\\\n",
       "\t 2000 & 4 & 31\\\\\n",
       "\t 2000 & 9 & 31\\\\\n",
       "\t 2000 & 4 & 31\\\\\n",
       "\t 2000 & 9 & 31\\\\\n",
       "\t 2000 & 4 & 31\\\\\n",
       "\t 2000 & 4 & 31\\\\\n",
       "\t 2000 & 4 & 31\\\\\n",
       "\t 2000 & 9 & 31\\\\\n",
       "\t 2000 & 9 & 31\\\\\n",
       "\t 2000 & 9 & 31\\\\\n",
       "\t 2000 & 9 & 31\\\\\n",
       "\\end{tabular}\n"
      ],
      "text/markdown": [
       "\n",
       "A tibble: 129 × 3\n",
       "\n",
       "| year &lt;dbl&gt; | month &lt;dbl&gt; | day &lt;dbl&gt; |\n",
       "|---|---|---|\n",
       "| 2000 | 9 | 31 |\n",
       "| 2000 | 4 | 31 |\n",
       "| 2000 | 4 | 31 |\n",
       "| 2000 | 4 | 31 |\n",
       "| 2000 | 4 | 31 |\n",
       "| 2000 | 9 | 31 |\n",
       "| 2000 | 9 | 31 |\n",
       "| 2000 | 9 | 31 |\n",
       "| 2000 | 9 | 31 |\n",
       "| 2000 | 9 | 31 |\n",
       "| 2000 | 4 | 31 |\n",
       "| 2000 | 4 | 31 |\n",
       "| 2000 | 4 | 31 |\n",
       "| 2000 | 4 | 31 |\n",
       "| 2000 | 9 | 31 |\n",
       "| 2000 | 9 | 31 |\n",
       "| 2000 | 4 | 31 |\n",
       "| 2000 | 9 | 31 |\n",
       "| 2000 | 9 | 31 |\n",
       "| 2000 | 4 | 31 |\n",
       "| 2000 | 4 | 31 |\n",
       "| 2000 | 9 | 31 |\n",
       "| 2000 | 4 | 31 |\n",
       "| 2000 | 4 | 31 |\n",
       "| 2000 | 4 | 31 |\n",
       "| 2000 | 4 | 31 |\n",
       "| 2000 | 9 | 31 |\n",
       "| 2000 | 4 | 31 |\n",
       "| 2000 | 4 | 31 |\n",
       "| 2000 | 9 | 31 |\n",
       "| ⋮ | ⋮ | ⋮ |\n",
       "| 2000 | 9 | 31 |\n",
       "| 2000 | 9 | 31 |\n",
       "| 2000 | 9 | 31 |\n",
       "| 2000 | 4 | 31 |\n",
       "| 2000 | 4 | 31 |\n",
       "| 2000 | 4 | 31 |\n",
       "| 2000 | 4 | 31 |\n",
       "| 2000 | 4 | 31 |\n",
       "| 2000 | 9 | 31 |\n",
       "| 2000 | 9 | 31 |\n",
       "| 2000 | 4 | 31 |\n",
       "| 2000 | 4 | 31 |\n",
       "| 2000 | 4 | 31 |\n",
       "| 2000 | 4 | 31 |\n",
       "| 2000 | 9 | 31 |\n",
       "| 2000 | 9 | 31 |\n",
       "| 2000 | 9 | 31 |\n",
       "| 2000 | 4 | 31 |\n",
       "| 2000 | 4 | 31 |\n",
       "| 2000 | 4 | 31 |\n",
       "| 2000 | 9 | 31 |\n",
       "| 2000 | 4 | 31 |\n",
       "| 2000 | 9 | 31 |\n",
       "| 2000 | 4 | 31 |\n",
       "| 2000 | 4 | 31 |\n",
       "| 2000 | 4 | 31 |\n",
       "| 2000 | 9 | 31 |\n",
       "| 2000 | 9 | 31 |\n",
       "| 2000 | 9 | 31 |\n",
       "| 2000 | 9 | 31 |\n",
       "\n"
      ],
      "text/plain": [
       "    year month day\n",
       "1   2000 9     31 \n",
       "2   2000 4     31 \n",
       "3   2000 4     31 \n",
       "4   2000 4     31 \n",
       "5   2000 4     31 \n",
       "6   2000 9     31 \n",
       "7   2000 9     31 \n",
       "8   2000 9     31 \n",
       "9   2000 9     31 \n",
       "10  2000 9     31 \n",
       "11  2000 4     31 \n",
       "12  2000 4     31 \n",
       "13  2000 4     31 \n",
       "14  2000 4     31 \n",
       "15  2000 9     31 \n",
       "16  2000 9     31 \n",
       "17  2000 4     31 \n",
       "18  2000 9     31 \n",
       "19  2000 9     31 \n",
       "20  2000 4     31 \n",
       "21  2000 4     31 \n",
       "22  2000 9     31 \n",
       "23  2000 4     31 \n",
       "24  2000 4     31 \n",
       "25  2000 4     31 \n",
       "26  2000 4     31 \n",
       "27  2000 9     31 \n",
       "28  2000 4     31 \n",
       "29  2000 4     31 \n",
       "30  2000 9     31 \n",
       "⋮   ⋮    ⋮     ⋮  \n",
       "100 2000 9     31 \n",
       "101 2000 9     31 \n",
       "102 2000 9     31 \n",
       "103 2000 4     31 \n",
       "104 2000 4     31 \n",
       "105 2000 4     31 \n",
       "106 2000 4     31 \n",
       "107 2000 4     31 \n",
       "108 2000 9     31 \n",
       "109 2000 9     31 \n",
       "110 2000 4     31 \n",
       "111 2000 4     31 \n",
       "112 2000 4     31 \n",
       "113 2000 4     31 \n",
       "114 2000 9     31 \n",
       "115 2000 9     31 \n",
       "116 2000 9     31 \n",
       "117 2000 4     31 \n",
       "118 2000 4     31 \n",
       "119 2000 4     31 \n",
       "120 2000 9     31 \n",
       "121 2000 4     31 \n",
       "122 2000 9     31 \n",
       "123 2000 4     31 \n",
       "124 2000 4     31 \n",
       "125 2000 4     31 \n",
       "126 2000 9     31 \n",
       "127 2000 9     31 \n",
       "128 2000 9     31 \n",
       "129 2000 9     31 "
      ]
     },
     "metadata": {},
     "output_type": "display_data"
    }
   ],
   "source": [
    "# adding a column in surveys tibble that represents the date:\n",
    "\n",
    "surveys$date <- actual_dates_surveys\n",
    "surveys[is.na(surveys$date), c(\"year\", \"month\", \"day\")]\n",
    "\n",
    "# - The warning that appeared in the previous block of code is caused by non-exitant dates. \n",
    "# The data is incorrect, September has 30 days, not 31, April also has 30 days, not 31.\n",
    "\n",
    "# - As a result of this warning every row that has a non-existant year, month and day combination\n",
    "# has an NA in the date column."
   ]
  },
  {
   "cell_type": "markdown",
   "metadata": {},
   "source": [
    "- There are several ways you can deal with this situation. If you have access to the raw data or supporting information, check them and ensure the electronic database matches the information in the original data source. In you are able to contact the person responsible for collectin data, you could refer to them and ask for clarification. You could also check the rest of the dataset for clues about the correct value for the erroneous dates. If your project has guidelines on how to correct this sort of errors, refer to them and apply any recommendations. If it is not possible to ascert the correct value for these observations, you may want to leave them as missing data.\n",
    "- Regardless of the option you choose, it is important that you document the error and the corrections (if any) taht you apply to your data."
   ]
  },
  {
   "cell_type": "code",
   "execution_count": null,
   "metadata": {},
   "outputs": [],
   "source": []
  }
 ],
 "metadata": {
  "kernelspec": {
   "display_name": "R",
   "language": "R",
   "name": "ir"
  },
  "language_info": {
   "codemirror_mode": "r",
   "file_extension": ".r",
   "mimetype": "text/x-r-source",
   "name": "R",
   "pygments_lexer": "r",
   "version": "4.2.1"
  },
  "vscode": {
   "interpreter": {
    "hash": "e1a1742cee150d6bc6dc333beb0112920bf46a54197eddbeddb0439d4e623b52"
   }
  }
 },
 "nbformat": 4,
 "nbformat_minor": 2
}
